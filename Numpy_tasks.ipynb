{
  "cells": [
    {
      "cell_type": "markdown",
      "metadata": {
        "id": "-Q2Vq3bXbYuj"
      },
      "source": [
        "# Numpy\n",
        "\n"
      ]
    },
    {
      "cell_type": "markdown",
      "metadata": {
        "id": "W5uS0mL7bYun"
      },
      "source": [
        "#### 1. Import the numpy package under the name `np` (★☆☆) \n",
        "(**hint**: import … as …)"
      ]
    },
    {
      "cell_type": "code",
      "execution_count": 45,
      "metadata": {
        "collapsed": true,
        "id": "6h7_HrdubYup"
      },
      "outputs": [],
      "source": [
        "import numpy as np"
      ]
    },
    {
      "cell_type": "markdown",
      "metadata": {
        "id": "LdQn0HZ8bYuq"
      },
      "source": [
        "#### 2. Print the numpy version and the configuration (★☆☆) \n",
        "(**hint**: np.\\_\\_version\\_\\_, np.show\\_config)"
      ]
    },
    {
      "cell_type": "code",
      "execution_count": 46,
      "metadata": {
        "colab": {
          "base_uri": "https://localhost:8080/"
        },
        "id": "RoL8xrGZbYur",
        "outputId": "04b684bd-b5eb-4ad6-a4c5-624e35c2bfe9"
      },
      "outputs": [
        {
          "output_type": "stream",
          "name": "stdout",
          "text": [
            "1.21.6\n",
            "blas_mkl_info:\n",
            "  NOT AVAILABLE\n",
            "blis_info:\n",
            "  NOT AVAILABLE\n",
            "openblas_info:\n",
            "    libraries = ['openblas', 'openblas']\n",
            "    library_dirs = ['/usr/local/lib']\n",
            "    language = c\n",
            "    define_macros = [('HAVE_CBLAS', None)]\n",
            "    runtime_library_dirs = ['/usr/local/lib']\n",
            "blas_opt_info:\n",
            "    libraries = ['openblas', 'openblas']\n",
            "    library_dirs = ['/usr/local/lib']\n",
            "    language = c\n",
            "    define_macros = [('HAVE_CBLAS', None)]\n",
            "    runtime_library_dirs = ['/usr/local/lib']\n",
            "lapack_mkl_info:\n",
            "  NOT AVAILABLE\n",
            "openblas_lapack_info:\n",
            "    libraries = ['openblas', 'openblas']\n",
            "    library_dirs = ['/usr/local/lib']\n",
            "    language = c\n",
            "    define_macros = [('HAVE_CBLAS', None)]\n",
            "    runtime_library_dirs = ['/usr/local/lib']\n",
            "lapack_opt_info:\n",
            "    libraries = ['openblas', 'openblas']\n",
            "    library_dirs = ['/usr/local/lib']\n",
            "    language = c\n",
            "    define_macros = [('HAVE_CBLAS', None)]\n",
            "    runtime_library_dirs = ['/usr/local/lib']\n",
            "Supported SIMD extensions in this NumPy install:\n",
            "    baseline = SSE,SSE2,SSE3\n",
            "    found = SSSE3,SSE41,POPCNT,SSE42,AVX,F16C,FMA3,AVX2\n",
            "    not found = AVX512F,AVX512CD,AVX512_KNL,AVX512_KNM,AVX512_SKX,AVX512_CLX,AVX512_CNL,AVX512_ICL\n"
          ]
        }
      ],
      "source": [
        "print(np.__version__)\n",
        "np.__config__.show()"
      ]
    },
    {
      "cell_type": "markdown",
      "metadata": {
        "id": "c6qzrsoVbYur"
      },
      "source": [
        "#### 3. Create a null vector of size 10 (★☆☆) \n",
        "(**hint**: np.zeros)"
      ]
    },
    {
      "cell_type": "code",
      "execution_count": 47,
      "metadata": {
        "colab": {
          "base_uri": "https://localhost:8080/"
        },
        "id": "dZoJsK83bYur",
        "outputId": "ace4e452-a38c-4e4d-a733-31a7710b6dd8"
      },
      "outputs": [
        {
          "output_type": "stream",
          "name": "stdout",
          "text": [
            "[0. 0. 0. 0. 0. 0. 0. 0. 0. 0.]\n"
          ]
        }
      ],
      "source": [
        "m = np.zeros(10)\n",
        "print(m)"
      ]
    },
    {
      "cell_type": "markdown",
      "metadata": {
        "id": "xiKLNic0bYus"
      },
      "source": [
        "#### 4.  How to find the memory size of any array (★☆☆) \n",
        "(**hint**: size, itemsize)"
      ]
    },
    {
      "cell_type": "code",
      "execution_count": 48,
      "metadata": {
        "colab": {
          "base_uri": "https://localhost:8080/"
        },
        "id": "rzIuizxybYus",
        "outputId": "983cf678-b5bc-4e32-c0e6-492e3f8bd97c"
      },
      "outputs": [
        {
          "output_type": "stream",
          "name": "stdout",
          "text": [
            "7\n",
            "8\n"
          ]
        }
      ],
      "source": [
        "import numpy as np\n",
        "m = np.array([11,22,33,44,55,66,77])\n",
        "print(m.size)       # size of array\n",
        "print(m.itemsize)   # size of numpy array"
      ]
    },
    {
      "cell_type": "markdown",
      "metadata": {
        "id": "_wLSXOfAbYus"
      },
      "source": [
        "#### 5.  How to get the documentation of the numpy add function from the command line? (★☆☆) \n",
        "(**hint**: np.info)"
      ]
    },
    {
      "cell_type": "code",
      "execution_count": 49,
      "metadata": {
        "collapsed": true,
        "colab": {
          "base_uri": "https://localhost:8080/"
        },
        "id": "ebn4BHMfbYut",
        "outputId": "362fbd06-db2e-4e15-a97c-bd4a3d58a09f"
      },
      "outputs": [
        {
          "output_type": "stream",
          "name": "stdout",
          "text": [
            "NumPy\n",
            "=====\n",
            "\n",
            "Provides\n",
            "  1. An array object of arbitrary homogeneous items\n",
            "  2. Fast mathematical operations over arrays\n",
            "  3. Linear Algebra, Fourier Transforms, Random Number Generation\n",
            "\n",
            "How to use the documentation\n",
            "----------------------------\n",
            "Documentation is available in two forms: docstrings provided\n",
            "with the code, and a loose standing reference guide, available from\n",
            "`the NumPy homepage <https://www.scipy.org>`_.\n",
            "\n",
            "We recommend exploring the docstrings using\n",
            "`IPython <https://ipython.org>`_, an advanced Python shell with\n",
            "TAB-completion and introspection capabilities.  See below for further\n",
            "instructions.\n",
            "\n",
            "The docstring examples assume that `numpy` has been imported as `np`::\n",
            "\n",
            "  >>> import numpy as np\n",
            "\n",
            "Code snippets are indicated by three greater-than signs::\n",
            "\n",
            "  >>> x = 42\n",
            "  >>> x = x + 1\n",
            "\n",
            "Use the built-in ``help`` function to view a function's docstring::\n",
            "\n",
            "  >>> help(np.sort)\n",
            "  ... # doctest: +SKIP\n",
            "\n",
            "For some objects, ``np.info(obj)`` may provide additional help.  This is\n",
            "particularly true if you see the line \"Help on ufunc object:\" at the top\n",
            "of the help() page.  Ufuncs are implemented in C, not Python, for speed.\n",
            "The native Python help() does not know how to view their help, but our\n",
            "np.info() function does.\n",
            "\n",
            "To search for documents containing a keyword, do::\n",
            "\n",
            "  >>> np.lookfor('keyword')\n",
            "  ... # doctest: +SKIP\n",
            "\n",
            "General-purpose documents like a glossary and help on the basic concepts\n",
            "of numpy are available under the ``doc`` sub-module::\n",
            "\n",
            "  >>> from numpy import doc\n",
            "  >>> help(doc)\n",
            "  ... # doctest: +SKIP\n",
            "\n",
            "Available subpackages\n",
            "---------------------\n",
            "doc\n",
            "    Topical documentation on broadcasting, indexing, etc.\n",
            "lib\n",
            "    Basic functions used by several sub-packages.\n",
            "random\n",
            "    Core Random Tools\n",
            "linalg\n",
            "    Core Linear Algebra Tools\n",
            "fft\n",
            "    Core FFT routines\n",
            "polynomial\n",
            "    Polynomial tools\n",
            "testing\n",
            "    NumPy testing tools\n",
            "f2py\n",
            "    Fortran to Python Interface Generator.\n",
            "distutils\n",
            "    Enhancements to distutils with support for\n",
            "    Fortran compilers support and more.\n",
            "\n",
            "Utilities\n",
            "---------\n",
            "test\n",
            "    Run numpy unittests\n",
            "show_config\n",
            "    Show numpy build configuration\n",
            "dual\n",
            "    Overwrite certain functions with high-performance SciPy tools.\n",
            "    Note: `numpy.dual` is deprecated.  Use the functions from NumPy or Scipy\n",
            "    directly instead of importing them from `numpy.dual`.\n",
            "matlib\n",
            "    Make everything matrices.\n",
            "__version__\n",
            "    NumPy version string\n",
            "\n",
            "Viewing documentation using IPython\n",
            "-----------------------------------\n",
            "Start IPython with the NumPy profile (``ipython -p numpy``), which will\n",
            "import `numpy` under the alias `np`.  Then, use the ``cpaste`` command to\n",
            "paste examples into the shell.  To see which functions are available in\n",
            "`numpy`, type ``np.<TAB>`` (where ``<TAB>`` refers to the TAB key), or use\n",
            "``np.*cos*?<ENTER>`` (where ``<ENTER>`` refers to the ENTER key) to narrow\n",
            "down the list.  To view the docstring for a function, use\n",
            "``np.cos?<ENTER>`` (to view the docstring) and ``np.cos??<ENTER>`` (to view\n",
            "the source code).\n",
            "\n",
            "Copies vs. in-place operation\n",
            "-----------------------------\n",
            "Most of the functions in `numpy` return a copy of the array argument\n",
            "(e.g., `np.sort`).  In-place versions of these functions are often\n",
            "available as array methods, i.e. ``x = np.array([1,2,3]); x.sort()``.\n",
            "Exceptions to this rule are documented.\n",
            "add(x1, x2, /, out=None, *, where=True, casting='same_kind', order='K', dtype=None, subok=True[, signature, extobj])\n",
            "\n",
            "Add arguments element-wise.\n",
            "\n",
            "Parameters\n",
            "----------\n",
            "x1, x2 : array_like\n",
            "    The arrays to be added.\n",
            "    If ``x1.shape != x2.shape``, they must be broadcastable to a common\n",
            "    shape (which becomes the shape of the output).\n",
            "out : ndarray, None, or tuple of ndarray and None, optional\n",
            "    A location into which the result is stored. If provided, it must have\n",
            "    a shape that the inputs broadcast to. If not provided or None,\n",
            "    a freshly-allocated array is returned. A tuple (possible only as a\n",
            "    keyword argument) must have length equal to the number of outputs.\n",
            "where : array_like, optional\n",
            "    This condition is broadcast over the input. At locations where the\n",
            "    condition is True, the `out` array will be set to the ufunc result.\n",
            "    Elsewhere, the `out` array will retain its original value.\n",
            "    Note that if an uninitialized `out` array is created via the default\n",
            "    ``out=None``, locations within it where the condition is False will\n",
            "    remain uninitialized.\n",
            "**kwargs\n",
            "    For other keyword-only arguments, see the\n",
            "    :ref:`ufunc docs <ufuncs.kwargs>`.\n",
            "\n",
            "Returns\n",
            "-------\n",
            "add : ndarray or scalar\n",
            "    The sum of `x1` and `x2`, element-wise.\n",
            "    This is a scalar if both `x1` and `x2` are scalars.\n",
            "\n",
            "Notes\n",
            "-----\n",
            "Equivalent to `x1` + `x2` in terms of array broadcasting.\n",
            "\n",
            "Examples\n",
            "--------\n",
            ">>> np.add(1.0, 4.0)\n",
            "5.0\n",
            ">>> x1 = np.arange(9.0).reshape((3, 3))\n",
            ">>> x2 = np.arange(3.0)\n",
            ">>> np.add(x1, x2)\n",
            "array([[  0.,   2.,   4.],\n",
            "       [  3.,   5.,   7.],\n",
            "       [  6.,   8.,  10.]])\n",
            "\n",
            "The ``+`` operator can be used as a shorthand for ``np.add`` on ndarrays.\n",
            "\n",
            ">>> x1 = np.arange(9.0).reshape((3, 3))\n",
            ">>> x2 = np.arange(3.0)\n",
            ">>> x1 + x2\n",
            "array([[ 0.,  2.,  4.],\n",
            "       [ 3.,  5.,  7.],\n",
            "       [ 6.,  8., 10.]])\n"
          ]
        }
      ],
      "source": [
        "np.info(np)       # provides numpy documentation\n",
        "np.info(np.add)   # provides numpy-add function documentation"
      ]
    },
    {
      "cell_type": "markdown",
      "metadata": {
        "id": "6sdB2T5SbYut"
      },
      "source": [
        "#### 6.  Create a null vector of size 10 but the fifth value which is 1 (★☆☆) \n",
        "(**hint**: array\\[4\\])"
      ]
    },
    {
      "cell_type": "code",
      "execution_count": 50,
      "metadata": {
        "colab": {
          "base_uri": "https://localhost:8080/"
        },
        "id": "rZYMyt9rbYut",
        "outputId": "ee590e74-3094-4cf4-a87f-bd50ba6fe333"
      },
      "outputs": [
        {
          "output_type": "stream",
          "name": "stdout",
          "text": [
            "[0. 0. 0. 0. 1. 0. 0. 0. 0. 0.]\n"
          ]
        }
      ],
      "source": [
        "b = np.zeros(10)\n",
        "b[4] = 1\n",
        "print(b)"
      ]
    },
    {
      "cell_type": "markdown",
      "metadata": {
        "id": "b2Bp4-LRbYut"
      },
      "source": [
        "#### 7.  Create a vector with values ranging from 10 to 49 (★☆☆) \n",
        "(**hint**: np.arange)"
      ]
    },
    {
      "cell_type": "code",
      "execution_count": 51,
      "metadata": {
        "colab": {
          "base_uri": "https://localhost:8080/"
        },
        "id": "XIYG125DbYuu",
        "outputId": "1eaf47a4-1188-4a8c-c6a3-72588bc8678f"
      },
      "outputs": [
        {
          "output_type": "execute_result",
          "data": {
            "text/plain": [
              "array([10, 11, 12, 13, 14, 15, 16, 17, 18, 19, 20, 21, 22, 23, 24, 25, 26,\n",
              "       27, 28, 29, 30, 31, 32, 33, 34, 35, 36, 37, 38, 39, 40, 41, 42, 43,\n",
              "       44, 45, 46, 47, 48])"
            ]
          },
          "metadata": {},
          "execution_count": 51
        }
      ],
      "source": [
        "np.arange(10,49)"
      ]
    },
    {
      "cell_type": "markdown",
      "metadata": {
        "id": "TI1sMQNZbYuu"
      },
      "source": [
        "#### 8.  Reverse a vector (first element becomes last) (★☆☆) \n",
        "(**hint**: array\\[::-1\\])"
      ]
    },
    {
      "cell_type": "code",
      "execution_count": 52,
      "metadata": {
        "colab": {
          "base_uri": "https://localhost:8080/"
        },
        "id": "QqLFCQYXbYuu",
        "outputId": "3594f02a-eae1-4b91-86f9-699301ddbc9f"
      },
      "outputs": [
        {
          "output_type": "execute_result",
          "data": {
            "text/plain": [
              "['pet', 'cute', 'is', 'Cat']"
            ]
          },
          "metadata": {},
          "execution_count": 52
        }
      ],
      "source": [
        "n = [\"Cat\",\"is\",\"cute\",\"pet\"]\n",
        "n[::-1]"
      ]
    },
    {
      "cell_type": "markdown",
      "metadata": {
        "id": "pIRbmYPbbYuu"
      },
      "source": [
        "#### 9.  Create a 3x3 matrix with values ranging from 0 to 8 (★☆☆) \n",
        "(**hint**: reshape)"
      ]
    },
    {
      "cell_type": "code",
      "execution_count": 53,
      "metadata": {
        "colab": {
          "base_uri": "https://localhost:8080/"
        },
        "id": "22DahD4obYuu",
        "outputId": "f2579ebd-ae33-4a90-d80c-9c43fd6eb8e5"
      },
      "outputs": [
        {
          "output_type": "stream",
          "name": "stdout",
          "text": [
            "[[0 1 2]\n",
            " [3 4 5]\n",
            " [6 7 8]]\n"
          ]
        }
      ],
      "source": [
        "mat = np.arange(0,9)\n",
        "print(mat.reshape(3,3))"
      ]
    },
    {
      "cell_type": "markdown",
      "metadata": {
        "id": "-ayMnSLhbYuv"
      },
      "source": [
        "#### 10. Find indices of non-zero elements from \\[1,2,0,0,4,0\\] (★☆☆) \n",
        "(**hint**: np.nonzero)"
      ]
    },
    {
      "cell_type": "code",
      "execution_count": 54,
      "metadata": {
        "colab": {
          "base_uri": "https://localhost:8080/"
        },
        "id": "YnA3yhNTbYuv",
        "outputId": "89c64f1e-8519-4a45-c851-7b7ef87bee69"
      },
      "outputs": [
        {
          "output_type": "execute_result",
          "data": {
            "text/plain": [
              "(array([0, 1, 4]),)"
            ]
          },
          "metadata": {},
          "execution_count": 54
        }
      ],
      "source": [
        "z = [1,2,0,0,4,0]\n",
        "np.nonzero(z)"
      ]
    },
    {
      "cell_type": "markdown",
      "metadata": {
        "id": "WAsH1brUbYuv"
      },
      "source": [
        "#### 11. Create a 3x3 identity matrix (★☆☆) \n",
        "(**hint**: np.eye)"
      ]
    },
    {
      "cell_type": "code",
      "execution_count": 55,
      "metadata": {
        "colab": {
          "base_uri": "https://localhost:8080/"
        },
        "id": "PUxpEXz1bYuv",
        "outputId": "7099deec-30ef-427e-adc1-166e06472738"
      },
      "outputs": [
        {
          "output_type": "stream",
          "name": "stdout",
          "text": [
            "[[1 0 0]\n",
            " [0 1 0]\n",
            " [0 0 1]]\n"
          ]
        }
      ],
      "source": [
        "a = np.eye(3, dtype = int)\n",
        "print(a)"
      ]
    },
    {
      "cell_type": "markdown",
      "metadata": {
        "id": "LcS1RsjrbYuv"
      },
      "source": [
        "#### 12. Create a 3x3x3 array with random values (★☆☆) \n",
        "(**hint**: np.random.random)"
      ]
    },
    {
      "cell_type": "code",
      "execution_count": 56,
      "metadata": {
        "collapsed": true,
        "colab": {
          "base_uri": "https://localhost:8080/"
        },
        "id": "C2pMnXP_bYuv",
        "outputId": "3ab78fa9-5a39-4989-e240-5ad93921b680"
      },
      "outputs": [
        {
          "output_type": "execute_result",
          "data": {
            "text/plain": [
              "array([[[0.91725361, 0.07764938, 0.15908257],\n",
              "        [0.62871071, 0.50894856, 0.73392223],\n",
              "        [0.43915691, 0.22265541, 0.08278579]],\n",
              "\n",
              "       [[0.55399421, 0.11510915, 0.49382153],\n",
              "        [0.57723958, 0.04972277, 0.64813057],\n",
              "        [0.75164169, 0.41245185, 0.78784315]],\n",
              "\n",
              "       [[0.53354698, 0.29520543, 0.96275779],\n",
              "        [0.43799043, 0.37738611, 0.4287982 ],\n",
              "        [0.84424648, 0.06833714, 0.09021135]]])"
            ]
          },
          "metadata": {},
          "execution_count": 56
        }
      ],
      "source": [
        "np.random.random((3,3,3))"
      ]
    },
    {
      "cell_type": "markdown",
      "metadata": {
        "id": "ERSkJvDFbYuv"
      },
      "source": [
        "#### 13. Create a 10x10 array with random values and find the minimum and maximum values (★☆☆) \n",
        "(**hint**: min, max)"
      ]
    },
    {
      "cell_type": "code",
      "execution_count": 57,
      "metadata": {
        "colab": {
          "base_uri": "https://localhost:8080/"
        },
        "id": "azYVmCFwbYuw",
        "outputId": "8f90a660-d2b5-40e1-b076-f2bd148c51d2"
      },
      "outputs": [
        {
          "output_type": "stream",
          "name": "stdout",
          "text": [
            "min --> 0.005429969476878016\n",
            "Max --> 0.9892609887446911\n"
          ]
        }
      ],
      "source": [
        "import numpy as np\n",
        "mat = np.random.random((10,10))\n",
        "print(\"min -->\" , np.min(mat))\n",
        "print(\"Max -->\" , np.max(mat))"
      ]
    },
    {
      "cell_type": "markdown",
      "metadata": {
        "id": "xkiW2y-xbYuw"
      },
      "source": [
        "#### 14. Create a random vector of size 30 and find the mean value (★☆☆) \n",
        "(**hint**: mean)"
      ]
    },
    {
      "cell_type": "code",
      "execution_count": 58,
      "metadata": {
        "colab": {
          "base_uri": "https://localhost:8080/"
        },
        "id": "iHdFIIc4bYuw",
        "outputId": "1052483b-6673-4454-d46e-08a2ae481c00"
      },
      "outputs": [
        {
          "output_type": "stream",
          "name": "stdout",
          "text": [
            "[0.81546679 0.88704985 0.73590656 0.30838178 0.33736948 0.99031864\n",
            " 0.42816656 0.50422883 0.0862342  0.16002081 0.21907551 0.53948249\n",
            " 0.21554976 0.55960232 0.71314671 0.81224559 0.67668872 0.84890087\n",
            " 0.80222317 0.25406253 0.0934788  0.27717829 0.47977207 0.86583695\n",
            " 0.55824783 0.64498366 0.56403989 0.62018069 0.54713631 0.57496615]\n"
          ]
        },
        {
          "output_type": "execute_result",
          "data": {
            "text/plain": [
              "0.537331393249272"
            ]
          },
          "metadata": {},
          "execution_count": 58
        }
      ],
      "source": [
        "import numpy as np\n",
        "b = np.random.rand(30)\n",
        "print(b)\n",
        "np.mean(b)  # mean value of rand(30)"
      ]
    },
    {
      "cell_type": "markdown",
      "metadata": {
        "id": "FOs_Dc76bYux"
      },
      "source": [
        "#### 15. Create a 2d array with 1 on the border and 0 inside (★☆☆) \n",
        "(**hint**: array\\[1:-1, 1:-1\\])"
      ]
    },
    {
      "cell_type": "code",
      "execution_count": 59,
      "metadata": {
        "colab": {
          "base_uri": "https://localhost:8080/"
        },
        "id": "w_Mo0UUQbYux",
        "outputId": "20931542-8ee9-433d-d3ee-dc63cf57c61f"
      },
      "outputs": [
        {
          "output_type": "stream",
          "name": "stdout",
          "text": [
            "[[1. 1. 1. 1. 1. 1.]\n",
            " [1. 0. 0. 0. 0. 1.]\n",
            " [1. 0. 0. 0. 0. 1.]\n",
            " [1. 0. 0. 0. 0. 1.]\n",
            " [1. 0. 0. 0. 0. 1.]\n",
            " [1. 1. 1. 1. 1. 1.]]\n"
          ]
        }
      ],
      "source": [
        "L = np.ones((6,6))\n",
        "L[1:-1, 1:-1] = 0\n",
        "print(L)"
      ]
    },
    {
      "cell_type": "markdown",
      "metadata": {
        "id": "7c5DEsZ0bYux"
      },
      "source": [
        "#### 16. How to add a border (filled with 0's) around an existing array? (★☆☆) \n",
        "(**hint**: np.pad)"
      ]
    },
    {
      "cell_type": "code",
      "execution_count": 60,
      "metadata": {
        "colab": {
          "base_uri": "https://localhost:8080/"
        },
        "id": "ba2n11cabYux",
        "outputId": "c40a54e6-3cc4-419d-f714-f89b8be9035c"
      },
      "outputs": [
        {
          "output_type": "stream",
          "name": "stdout",
          "text": [
            "[[0. 0. 0. 0. 0. 0. 0. 0.]\n",
            " [0. 1. 1. 1. 1. 1. 1. 0.]\n",
            " [0. 1. 1. 1. 1. 1. 1. 0.]\n",
            " [0. 1. 1. 1. 1. 1. 1. 0.]\n",
            " [0. 1. 1. 1. 1. 1. 1. 0.]\n",
            " [0. 1. 1. 1. 1. 1. 1. 0.]\n",
            " [0. 1. 1. 1. 1. 1. 1. 0.]\n",
            " [0. 0. 0. 0. 0. 0. 0. 0.]]\n"
          ]
        }
      ],
      "source": [
        "L = np.ones((6,6))\n",
        "M = np.pad(array = L, pad_width = 1, mode = 'constant')\n",
        "print(M)"
      ]
    },
    {
      "cell_type": "markdown",
      "metadata": {
        "id": "pTFNgb4bbYuy"
      },
      "source": [
        "#### 17. What is the result of the following expression? (★☆☆) \n",
        "(**hint**: NaN = not a number, inf = infinity)"
      ]
    },
    {
      "cell_type": "markdown",
      "metadata": {
        "id": "r_QoSHCsbYuy"
      },
      "source": [
        "```python\n",
        "0 * np.nan\n",
        "np.nan == np.nan\n",
        "np.inf > np.nan\n",
        "np.nan - np.nan\n",
        "0.3 == 3 * 0.1\n",
        "```"
      ]
    },
    {
      "cell_type": "code",
      "execution_count": 61,
      "metadata": {
        "colab": {
          "base_uri": "https://localhost:8080/"
        },
        "id": "SlE6G4Q5bYuy",
        "outputId": "cfc77b26-b405-45fb-815c-093d26796a62"
      },
      "outputs": [
        {
          "output_type": "stream",
          "name": "stdout",
          "text": [
            "nan False False nan False\n"
          ]
        }
      ],
      "source": [
        "print(0 * np.nan,\n",
        "      np.nan == np.nan,\n",
        "      np.inf > np.nan,\n",
        "      np.nan - np.nan,\n",
        "      0.3 == 3 * 0.1)"
      ]
    },
    {
      "cell_type": "markdown",
      "metadata": {
        "id": "SHj9do7hbYuy"
      },
      "source": [
        "#### 18. Create a 5x5 matrix with values 1,2,3,4 just below the diagonal (★☆☆) \n",
        "(**hint**: np.diag)"
      ]
    },
    {
      "cell_type": "code",
      "execution_count": 62,
      "metadata": {
        "colab": {
          "base_uri": "https://localhost:8080/"
        },
        "id": "H6uVuRQQbYuy",
        "outputId": "797ab51d-4ce9-4fa9-c4d2-dfe60593f1d1"
      },
      "outputs": [
        {
          "output_type": "stream",
          "name": "stdout",
          "text": [
            "[[0 0 0 0 0]\n",
            " [1 0 0 0 0]\n",
            " [0 2 0 0 0]\n",
            " [0 0 3 0 0]\n",
            " [0 0 0 4 0]]\n"
          ]
        }
      ],
      "source": [
        "c = np.diag( 1+np.arange(4), k = -1)\n",
        "print(c)"
      ]
    },
    {
      "cell_type": "markdown",
      "metadata": {
        "id": "MNKrrOigbYuy"
      },
      "source": [
        "#### 19. Create a 8x8 matrix and fill it with a checkerboard pattern (★☆☆) \n",
        "(**hint**: array\\[::2\\])"
      ]
    },
    {
      "cell_type": "code",
      "execution_count": 63,
      "metadata": {
        "colab": {
          "base_uri": "https://localhost:8080/"
        },
        "id": "XV3o9iwAbYuy",
        "outputId": "fe0bc1ee-8070-44c9-be81-d33608ad6aa4"
      },
      "outputs": [
        {
          "output_type": "stream",
          "name": "stdout",
          "text": [
            "[[0 1 0 1 0 1 0 1]\n",
            " [1 0 1 0 1 0 1 0]\n",
            " [0 1 0 1 0 1 0 1]\n",
            " [1 0 1 0 1 0 1 0]\n",
            " [0 1 0 1 0 1 0 1]\n",
            " [1 0 1 0 1 0 1 0]\n",
            " [0 1 0 1 0 1 0 1]\n",
            " [1 0 1 0 1 0 1 0]]\n"
          ]
        }
      ],
      "source": [
        "y = np.zeros((8,8) , dtype=int)\n",
        "y[1::2 , ::2] = 1\n",
        "y[::2 , 1::2] = 1\n",
        "print(y)"
      ]
    },
    {
      "cell_type": "markdown",
      "metadata": {
        "id": "HfZOwW7UbYuz"
      },
      "source": [
        "#### 20. Consider a (6,7,8) shape array, what is the index (x,y,z) of the 100th element? \n",
        "(**hint**: np.unravel_index)"
      ]
    },
    {
      "cell_type": "code",
      "execution_count": 64,
      "metadata": {
        "colab": {
          "base_uri": "https://localhost:8080/"
        },
        "id": "P3yWNZaobYuz",
        "outputId": "359a9eb5-fc7f-47ce-d3b4-237cad94df21"
      },
      "outputs": [
        {
          "output_type": "execute_result",
          "data": {
            "text/plain": [
              "(1, 5, 4)"
            ]
          },
          "metadata": {},
          "execution_count": 64
        }
      ],
      "source": [
        "ind = ( np.unravel_index(100, (6,7,8)) )\n",
        "ind"
      ]
    },
    {
      "cell_type": "markdown",
      "metadata": {
        "id": "7gIj1Eb4bYuz"
      },
      "source": [
        "#### 21. Create a checkerboard 8x8 matrix using the tile function (★☆☆) \n",
        "(**hint**: np.tile)"
      ]
    },
    {
      "cell_type": "code",
      "execution_count": 65,
      "metadata": {
        "colab": {
          "base_uri": "https://localhost:8080/"
        },
        "id": "Rvk2Gm9XbYuz",
        "outputId": "1e8a7635-27b9-4a67-8d8e-1cff5d0935f0"
      },
      "outputs": [
        {
          "output_type": "stream",
          "name": "stdout",
          "text": [
            "['Cat', 'is', 'cute', 'pet']\n"
          ]
        }
      ],
      "source": [
        "x = np.tile( np.array([[0,1],[1,0]]), (4,4))\n",
        "print(n)"
      ]
    },
    {
      "cell_type": "markdown",
      "metadata": {
        "id": "ABe2E5NbbYuz"
      },
      "source": [
        "#### 22. Normalize a 5x5 random matrix (★☆☆) \n",
        "(**hint**: (x - min) / (max - min))"
      ]
    },
    {
      "cell_type": "code",
      "execution_count": 66,
      "metadata": {
        "colab": {
          "base_uri": "https://localhost:8080/"
        },
        "id": "Y7rDPkKqbYuz",
        "outputId": "ab68db66-487c-4e7e-9c3d-590ee52bb148"
      },
      "outputs": [
        {
          "output_type": "stream",
          "name": "stdout",
          "text": [
            "[[-0.7375724  -0.02186563 -0.93697081  0.16082915  0.63215553]\n",
            " [ 0.88750134  1.62636583 -0.06594841  1.34915938 -0.72575319]\n",
            " [ 0.32607619  0.32732431 -0.30876645 -0.06572385  0.76150035]\n",
            " [-1.66542653  0.40005718 -1.01870834  1.52023123 -0.32496888]\n",
            " [-1.66599812  1.40906992 -1.77633885 -1.08397678  0.99774782]]\n"
          ]
        }
      ],
      "source": [
        "h = np.random.random((5,5))\n",
        "h = (h - np.mean (h)) / (np.std (h))\n",
        "print(h)"
      ]
    },
    {
      "cell_type": "markdown",
      "metadata": {
        "id": "VT1_bt54bYu0"
      },
      "source": [
        "#### 23. Create a custom dtype that describes a color as four unsigned bytes (RGBA) (★☆☆) \n",
        "(**hint**: np.dtype)"
      ]
    },
    {
      "cell_type": "code",
      "execution_count": 67,
      "metadata": {
        "collapsed": true,
        "colab": {
          "base_uri": "https://localhost:8080/"
        },
        "id": "3vs5Ldm9bYu0",
        "outputId": "fecdf67b-7681-4a9f-8673-e9f9a5f06f4e"
      },
      "outputs": [
        {
          "output_type": "execute_result",
          "data": {
            "text/plain": [
              "dtype([('a', 'u1'), ('y', 'u1'), ('g', 'u1'), ('b', 'u1')])"
            ]
          },
          "metadata": {},
          "execution_count": 67
        }
      ],
      "source": [
        "color = np.dtype([(\"a\", np.ubyte),\n",
        "                  (\"y\", np.ubyte),\n",
        "                  (\"g\", np.ubyte),\n",
        "                  (\"b\", np.ubyte)])\n",
        "color"
      ]
    },
    {
      "cell_type": "markdown",
      "metadata": {
        "id": "oqKPZe2KbYu0"
      },
      "source": [
        "#### 24. Multiply a 5x3 matrix by a 3x2 matrix (real matrix product) (★☆☆) \n",
        "(**hint**: np.dot | @)"
      ]
    },
    {
      "cell_type": "code",
      "execution_count": 68,
      "metadata": {
        "colab": {
          "base_uri": "https://localhost:8080/"
        },
        "id": "roKxYXYWbYu0",
        "outputId": "e9501bda-1b4c-4dac-f4d9-ba394ae37efc"
      },
      "outputs": [
        {
          "output_type": "stream",
          "name": "stdout",
          "text": [
            "[[3. 3.]\n",
            " [3. 3.]\n",
            " [3. 3.]\n",
            " [3. 3.]\n",
            " [3. 3.]]\n"
          ]
        }
      ],
      "source": [
        "mat = np.dot(np.ones((5,3)) , np.ones((3,2)))\n",
        "print(mat)"
      ]
    },
    {
      "cell_type": "markdown",
      "metadata": {
        "id": "BjwjCxJhbYu0"
      },
      "source": [
        "#### 25. Given a 1D array, negate all elements which are between 3 and 8, in place. (★☆☆) \n",
        "(**hint**: >, <=)"
      ]
    },
    {
      "cell_type": "code",
      "execution_count": 69,
      "metadata": {
        "colab": {
          "base_uri": "https://localhost:8080/"
        },
        "id": "i6nV5Zr3bYu0",
        "outputId": "2786a388-9b4e-43b4-ea25-a2b0bd580c1f"
      },
      "outputs": [
        {
          "output_type": "stream",
          "name": "stdout",
          "text": [
            "[ 0  1  2  3 -1 -1 -1 -1  8  9 10]\n"
          ]
        }
      ],
      "source": [
        "a = np.arange(11)\n",
        "a[(a > 3) & (a <= 7)] = -1\n",
        "print(a)"
      ]
    },
    {
      "cell_type": "markdown",
      "metadata": {
        "id": "nTPEF1M7bYu0"
      },
      "source": [
        "#### 26. What is the output of the following script? (★☆☆) \n",
        "(**hint**: np.sum)"
      ]
    },
    {
      "cell_type": "markdown",
      "metadata": {
        "id": "K4fIWWVZbYu0"
      },
      "source": [
        "```python\n",
        "# Author: Jake VanderPlas\n",
        "\n",
        "print(sum(range(5),-1))\n",
        "from numpy import *\n",
        "print(sum(range(5),-1))\n",
        "```"
      ]
    },
    {
      "cell_type": "code",
      "execution_count": 70,
      "metadata": {
        "id": "JfAT9uNJbYu1"
      },
      "outputs": [],
      "source": [
        "# 9\n",
        "# 10"
      ]
    },
    {
      "cell_type": "markdown",
      "metadata": {
        "id": "ewzCuJ2CbYu1"
      },
      "source": [
        "#### 27. Consider an integer vector Z, which of these expressions are legal? (★☆☆)"
      ]
    },
    {
      "cell_type": "markdown",
      "metadata": {
        "id": "TM-ZUEX0bYu1"
      },
      "source": [
        "```python\n",
        "Z**Z\n",
        "2 << Z >> 2\n",
        "Z <- Z\n",
        "1j*Z\n",
        "Z/1/1\n",
        "Z<Z>Z\n",
        "```"
      ]
    },
    {
      "cell_type": "code",
      "execution_count": 71,
      "metadata": {
        "colab": {
          "base_uri": "https://localhost:8080/",
          "height": 36
        },
        "id": "R2Yp2s1EbYu1",
        "outputId": "5219dd00-315d-4557-f8f9-25b8b8eb42f6"
      },
      "outputs": [
        {
          "output_type": "execute_result",
          "data": {
            "text/plain": [
              "' Z<Z>Z ---> val error '"
            ],
            "application/vnd.google.colaboratory.intrinsic+json": {
              "type": "string"
            }
          },
          "metadata": {},
          "execution_count": 71
        }
      ],
      "source": [
        "'''\n",
        "Legal:\n",
        "      Z**Z\n",
        "      2 << Z >> 2\n",
        "      Z <- Z\n",
        "      1j*Z\n",
        "      Z/1/1\n",
        "'''\n",
        "''' Z<Z>Z ---> val error '''"
      ]
    },
    {
      "cell_type": "markdown",
      "metadata": {
        "id": "1ZldyYHfbYu1"
      },
      "source": [
        "#### 28. What are the result of the following expressions?"
      ]
    },
    {
      "cell_type": "markdown",
      "metadata": {
        "id": "Vwy0G9WNbYu1"
      },
      "source": [
        "```python\n",
        "np.array(0) / np.array(0)\n",
        "np.array(0) // np.array(0)\n",
        "np.array([np.nan]).astype(int).astype(float)\n",
        "```"
      ]
    },
    {
      "cell_type": "code",
      "execution_count": 72,
      "metadata": {
        "colab": {
          "base_uri": "https://localhost:8080/"
        },
        "id": "evlao8Q4bYu1",
        "outputId": "5cc5a636-7209-4fa3-cab9-d24e4bc0433e"
      },
      "outputs": [
        {
          "output_type": "stream",
          "name": "stdout",
          "text": [
            "nan\n",
            "0\n",
            "[-9.22337204e+18]\n"
          ]
        },
        {
          "output_type": "stream",
          "name": "stderr",
          "text": [
            "<ipython-input-72-2a10de0ee61b>:1: RuntimeWarning: invalid value encountered in true_divide\n",
            "  print(np.array(0) / np.array(0))\n",
            "<ipython-input-72-2a10de0ee61b>:2: RuntimeWarning: divide by zero encountered in floor_divide\n",
            "  print(np.array(0) // np.array(0))\n"
          ]
        }
      ],
      "source": [
        "print(np.array(0) / np.array(0))\n",
        "print(np.array(0) // np.array(0))\n",
        "print(np.array([np.nan]).astype(int).astype(float))"
      ]
    },
    {
      "cell_type": "markdown",
      "metadata": {
        "id": "JHdbyJJObYu1"
      },
      "source": [
        "#### 29. How to round away from zero a float array ? (★☆☆) \n",
        "(**hint**: np.uniform, np.copysign, np.ceil, np.abs)"
      ]
    },
    {
      "cell_type": "code",
      "execution_count": 73,
      "metadata": {
        "colab": {
          "base_uri": "https://localhost:8080/"
        },
        "id": "n8pqZpeBbYu1",
        "outputId": "bca02798-2a4c-4f5d-acde-0aeafc3d1b45"
      },
      "outputs": [
        {
          "output_type": "stream",
          "name": "stdout",
          "text": [
            "[ 9.  9. -2.  2.  2. -6.  3.  5. -9.  3.]\n"
          ]
        }
      ],
      "source": [
        "x = np.random.uniform(-10, +10, 10)\n",
        "print(np.copysign(np.ceil(np.abs(x)),x))  "
      ]
    },
    {
      "cell_type": "markdown",
      "metadata": {
        "id": "s16_erXNbYu1"
      },
      "source": [
        "#### 30. How to find common values between two arrays? (★☆☆) \n",
        "(**hint**: np.intersect1d)"
      ]
    },
    {
      "cell_type": "code",
      "execution_count": 74,
      "metadata": {
        "colab": {
          "base_uri": "https://localhost:8080/"
        },
        "id": "g18BzlusbYu2",
        "outputId": "0c903822-35a4-44b7-a119-248b90599247"
      },
      "outputs": [
        {
          "output_type": "stream",
          "name": "stdout",
          "text": [
            "[5 6 7 8 9]\n"
          ]
        }
      ],
      "source": [
        "a = np.arange(0,10)\n",
        "b = np.arange(5,15)\n",
        "print(np.intersect1d(a,b))"
      ]
    },
    {
      "cell_type": "markdown",
      "metadata": {
        "id": "LjhA9GUsbYu2"
      },
      "source": [
        "#### 31. How to ignore all numpy warnings (not recommended)? (★☆☆) \n",
        "(**hint**: np.seterr, np.errstate)"
      ]
    },
    {
      "cell_type": "code",
      "execution_count": 75,
      "metadata": {
        "id": "GMvnxfqobYu2"
      },
      "outputs": [],
      "source": [
        "defaults = np.seterr(all=\"ignore\")\n",
        "X = np.ones(1) / 0\n",
        "\n",
        "# Back to sanity\n",
        "_ = np.seterr(**defaults)\n",
        "\n",
        "# Equivalently with a context manager\n",
        "with np.errstate(all=\"ignore\"):\n",
        "    np.arange(3) / 0"
      ]
    },
    {
      "cell_type": "markdown",
      "metadata": {
        "id": "CrOw7Lf4bYu2"
      },
      "source": [
        "#### 32. Is the following expressions true? (★☆☆) \n",
        "(**hint**: imaginary number)"
      ]
    },
    {
      "cell_type": "markdown",
      "metadata": {
        "id": "apD9yvBjbYu2"
      },
      "source": [
        "```python\n",
        "np.sqrt(-1) == np.emath.sqrt(-1)\n",
        "```"
      ]
    },
    {
      "cell_type": "code",
      "execution_count": 76,
      "metadata": {
        "colab": {
          "base_uri": "https://localhost:8080/"
        },
        "id": "ZGVz8PnZbYu2",
        "outputId": "8463bea0-09b5-4637-bdcd-0173afd0f48f"
      },
      "outputs": [
        {
          "output_type": "stream",
          "name": "stderr",
          "text": [
            "<ipython-input-76-16339fbc685e>:1: RuntimeWarning: invalid value encountered in sqrt\n",
            "  np.sqrt(-1) == np.emath.sqrt(-1)\n"
          ]
        },
        {
          "output_type": "execute_result",
          "data": {
            "text/plain": [
              "False"
            ]
          },
          "metadata": {},
          "execution_count": 76
        }
      ],
      "source": [
        "np.sqrt(-1) == np.emath.sqrt(-1)"
      ]
    },
    {
      "cell_type": "markdown",
      "metadata": {
        "id": "fMlJ4uNcbYu2"
      },
      "source": [
        "#### 33. How to get the dates of yesterday, today and tomorrow? (★☆☆) \n",
        "(**hint**: np.datetime64, np.timedelta64)"
      ]
    },
    {
      "cell_type": "code",
      "execution_count": 77,
      "metadata": {
        "collapsed": true,
        "colab": {
          "base_uri": "https://localhost:8080/"
        },
        "id": "lMKKUu7MbYu2",
        "outputId": "1237ec13-26ed-4291-a12d-1d3245d0fd76"
      },
      "outputs": [
        {
          "output_type": "stream",
          "name": "stdout",
          "text": [
            "2023-02-08\n",
            "2023-02-09\n",
            "2023-02-10\n"
          ]
        }
      ],
      "source": [
        "yesterday = np.datetime64('today', 'D') - np.timedelta64(1, 'D')\n",
        "print(yesterday)\n",
        "today     = np.datetime64('today', 'D')\n",
        "print(today)\n",
        "tomorrow  = np.datetime64('today', 'D') + np.timedelta64(1, 'D')\n",
        "print(tomorrow)"
      ]
    },
    {
      "cell_type": "markdown",
      "metadata": {
        "id": "VOm5yDSnbYu2"
      },
      "source": [
        "#### 34. How to get all the dates corresponding to the month of July 2016? (★★☆) \n",
        "(**hint**: np.arange(dtype=datetime64\\['D'\\]))"
      ]
    },
    {
      "cell_type": "code",
      "execution_count": 78,
      "metadata": {
        "colab": {
          "base_uri": "https://localhost:8080/"
        },
        "id": "QwKKjKWUbYu3",
        "outputId": "68cba372-e588-4ca8-8115-0864e451cf14"
      },
      "outputs": [
        {
          "output_type": "stream",
          "name": "stdout",
          "text": [
            "['2016-07-01' '2016-07-02' '2016-07-03' '2016-07-04' '2016-07-05'\n",
            " '2016-07-06' '2016-07-07' '2016-07-08' '2016-07-09' '2016-07-10'\n",
            " '2016-07-11' '2016-07-12' '2016-07-13' '2016-07-14' '2016-07-15'\n",
            " '2016-07-16' '2016-07-17' '2016-07-18' '2016-07-19' '2016-07-20'\n",
            " '2016-07-21' '2016-07-22' '2016-07-23' '2016-07-24' '2016-07-25'\n",
            " '2016-07-26' '2016-07-27' '2016-07-28' '2016-07-29' '2016-07-30'\n",
            " '2016-07-31']\n"
          ]
        }
      ],
      "source": [
        "x = np.arange('2016-07', '2016-08', dtype ='datetime64[D]')\n",
        "print(x)"
      ]
    },
    {
      "cell_type": "markdown",
      "metadata": {
        "id": "t6hVpKaDbYu3"
      },
      "source": [
        "#### 35. How to compute ((A+B)\\*(-A/2)) in place (without copy)? (★★☆) \n",
        "(**hint**: np.add(out=), np.negative(out=), np.multiply(out=), np.divide(out=))"
      ]
    },
    {
      "cell_type": "code",
      "execution_count": 79,
      "metadata": {
        "colab": {
          "base_uri": "https://localhost:8080/"
        },
        "id": "ImnGbwcibYu3",
        "outputId": "8a8fbb34-cb39-43b8-9bbd-3871d1b23d84"
      },
      "outputs": [
        {
          "output_type": "execute_result",
          "data": {
            "text/plain": [
              "array([-1.5, -1.5, -1.5])"
            ]
          },
          "metadata": {},
          "execution_count": 79
        }
      ],
      "source": [
        "A = np.ones(3) * 1\n",
        "B = np.ones(3) * 2\n",
        "C = np.ones(3) * 3\n",
        "np.add(A, B, out=B)\n",
        "np.divide(A, 2, out=A)\n",
        "np.negative(A, out=A)\n",
        "np.multiply(A, B, out=A)"
      ]
    },
    {
      "cell_type": "markdown",
      "metadata": {
        "id": "CHyPNTmBbYu3"
      },
      "source": [
        "#### 36. Extract the integer part of a random array using 5 different methods (★★☆) \n",
        "(**hint**: %, np.floor, np.ceil, astype, np.trunc)"
      ]
    },
    {
      "cell_type": "code",
      "execution_count": 80,
      "metadata": {
        "colab": {
          "base_uri": "https://localhost:8080/"
        },
        "id": "wLlmCOa-bYu3",
        "outputId": "54c3d4a4-f000-4705-f443-1bee9b8a129a"
      },
      "outputs": [
        {
          "output_type": "stream",
          "name": "stdout",
          "text": [
            "[ 5. 13.  8.  4. 24. 20. 22.  0.  6. 20.]\n",
            "[ 5. 13.  8.  4. 24. 20. 22.  0.  6. 20.]\n",
            "[ 5. 13.  8.  4. 24. 20. 22.  0.  6. 20.]\n",
            "[ 5 13  8  4 24 20 22  0  6 20]\n",
            "[ 5. 13.  8.  4. 24. 20. 22.  0.  6. 20.]\n"
          ]
        }
      ],
      "source": [
        "s = np.random.uniform(0,25,10)\n",
        "\n",
        "print(s - s%1)\n",
        "print(np.floor(s))\n",
        "print(np.ceil(s)-1)\n",
        "print(s.astype(int))\n",
        "print(np.trunc(s))"
      ]
    },
    {
      "cell_type": "markdown",
      "metadata": {
        "id": "88rJkmE6bYu3"
      },
      "source": [
        "#### 37. Create a 5x5 matrix with row values ranging from 0 to 4 (★★☆) \n",
        "(**hint**: np.arange)"
      ]
    },
    {
      "cell_type": "code",
      "execution_count": 81,
      "metadata": {
        "colab": {
          "base_uri": "https://localhost:8080/"
        },
        "id": "2WRolO-WbYu3",
        "outputId": "f59ff94a-ebca-4fb5-bdf7-5485a31e64a3"
      },
      "outputs": [
        {
          "output_type": "stream",
          "name": "stdout",
          "text": [
            "[[0. 1. 2. 3. 4.]\n",
            " [0. 1. 2. 3. 4.]\n",
            " [0. 1. 2. 3. 4.]\n",
            " [0. 1. 2. 3. 4.]\n",
            " [0. 1. 2. 3. 4.]]\n"
          ]
        }
      ],
      "source": [
        "x = np.zeros((5,5))\n",
        "x += np.arange(5)\n",
        "print(x)"
      ]
    },
    {
      "cell_type": "markdown",
      "metadata": {
        "id": "a5NNWttebYu3"
      },
      "source": [
        "#### 38. Consider a generator function that generates 10 integers and use it to build an array (★☆☆) \n",
        "(**hint**: np.fromiter)"
      ]
    },
    {
      "cell_type": "code",
      "execution_count": 82,
      "metadata": {
        "colab": {
          "base_uri": "https://localhost:8080/"
        },
        "id": "F7zIa7-nbYu3",
        "outputId": "6efb14e4-283c-45fc-aeb6-737662bfd489"
      },
      "outputs": [
        {
          "output_type": "stream",
          "name": "stdout",
          "text": [
            "[0. 1. 2. 3. 4. 5. 6. 7. 8. 9.]\n"
          ]
        }
      ],
      "source": [
        "def generate_integers():\n",
        "    for i in range(10):\n",
        "        yield i\n",
        "x = np.fromiter(generate_integers(), dtype=np.float32, count = -1)\n",
        "print(x)"
      ]
    },
    {
      "cell_type": "markdown",
      "metadata": {
        "id": "bta8sspobYu4"
      },
      "source": [
        "#### 39. Create a vector of size 10 with values ranging from 0 to 1, both excluded (★★☆) \n",
        "(**hint**: np.linspace)"
      ]
    },
    {
      "cell_type": "code",
      "execution_count": 83,
      "metadata": {
        "colab": {
          "base_uri": "https://localhost:8080/"
        },
        "id": "KJ1RuEUubYu4",
        "outputId": "0fd61c20-2877-498f-fea3-58280421e91c"
      },
      "outputs": [
        {
          "output_type": "stream",
          "name": "stdout",
          "text": [
            "[0.09090909 0.18181818 0.27272727 0.36363636 0.45454545 0.54545455\n",
            " 0.63636364 0.72727273 0.81818182 0.90909091]\n"
          ]
        }
      ],
      "source": [
        "m = np.linspace(0,1,11,endpoint=False)[1:]\n",
        "print(m)"
      ]
    },
    {
      "cell_type": "markdown",
      "metadata": {
        "id": "jlvhTmPBbYu4"
      },
      "source": [
        "#### 40. Create a random vector of size 10 and sort it (★★☆) \n",
        "(**hint**: sort)"
      ]
    },
    {
      "cell_type": "code",
      "execution_count": 84,
      "metadata": {
        "colab": {
          "base_uri": "https://localhost:8080/"
        },
        "id": "06gUwp_pbYu4",
        "outputId": "a38645cc-aafa-477f-ebed-84454e162ea5"
      },
      "outputs": [
        {
          "output_type": "execute_result",
          "data": {
            "text/plain": [
              "array([0.62495874, 0.30381782, 0.5338891 , 0.25873987, 0.18896487,\n",
              "       0.9621733 , 0.44585974, 0.92657606, 0.21749766, 0.57378156])"
            ]
          },
          "metadata": {},
          "execution_count": 84
        }
      ],
      "source": [
        "import numpy as np\n",
        "np.random.random(10)"
      ]
    },
    {
      "cell_type": "markdown",
      "metadata": {
        "id": "taIBuU_ebYu4"
      },
      "source": [
        "#### 41. How to sum a small array faster than np.sum? (★★☆) \n",
        "(**hint**: np.add.reduce)"
      ]
    },
    {
      "cell_type": "code",
      "execution_count": 85,
      "metadata": {
        "colab": {
          "base_uri": "https://localhost:8080/"
        },
        "id": "sc7FYZJmbYu5",
        "outputId": "18dd213b-8654-4762-e73b-25606e323700"
      },
      "outputs": [
        {
          "output_type": "stream",
          "name": "stdout",
          "text": [
            "Time taken using np.sum\n",
            "0.5426406860351562\n",
            "Time take using np.add.reduce\n",
            "4.965543746948242\n"
          ]
        }
      ],
      "source": [
        "import time\n",
        "\n",
        "begin_time = time.time()\n",
        "x = np.arange(100000)\n",
        "np.sum(x)\n",
        "print(\"Time taken using np.sum\")\n",
        "end_time = time.time()\n",
        "print(str(1000*(end_time - begin_time)))\n",
        "\n",
        "begin_time2 = time.time()\n",
        "x = np.arange(100000)\n",
        "np.add.reduce(x)\n",
        "print(\"Time take using np.add.reduce\")\n",
        "end_time2 = time.time()\n",
        "print(str(1000*(end_time2 - begin_time2)))"
      ]
    },
    {
      "cell_type": "markdown",
      "metadata": {
        "id": "e_LDN-p3bYu5"
      },
      "source": [
        "#### 42. Consider two random array A and B, check if they are equal (★★☆) \n",
        "(**hint**: np.allclose, np.array\\_equal)"
      ]
    },
    {
      "cell_type": "code",
      "execution_count": 86,
      "metadata": {
        "colab": {
          "base_uri": "https://localhost:8080/"
        },
        "id": "HJf5Y_Q8bYu5",
        "outputId": "32f18f1d-86f7-467f-a1e1-bdbe2a6032c9"
      },
      "outputs": [
        {
          "output_type": "stream",
          "name": "stdout",
          "text": [
            "True\n",
            "True\n"
          ]
        }
      ],
      "source": [
        "C = np.random.randint(0,7,1)\n",
        "D = np.random.randint(0,7,1)\n",
        "\n",
        "# Using np.allclose\n",
        "equal = np.allclose(C,D)\n",
        "print(equal)\n",
        "\n",
        "# Using np.array_equal\n",
        "equal = np.array_equal(C,D)\n",
        "print(equal)"
      ]
    },
    {
      "cell_type": "markdown",
      "metadata": {
        "id": "s9s7sgKzbYu6"
      },
      "source": [
        "#### 43. Make an array immutable (read-only) (★★☆) \n",
        "(**hint**: flags.writeable)"
      ]
    },
    {
      "cell_type": "code",
      "execution_count": 87,
      "metadata": {
        "colab": {
          "base_uri": "https://localhost:8080/",
          "height": 200
        },
        "id": "HRr6d_gpbYu6",
        "outputId": "ed719af5-2cb6-49b0-c72c-0c87fc4eddcb"
      },
      "outputs": [
        {
          "output_type": "error",
          "ename": "ValueError",
          "evalue": "ignored",
          "traceback": [
            "\u001b[0;31m---------------------------------------------------------------------------\u001b[0m",
            "\u001b[0;31mValueError\u001b[0m                                Traceback (most recent call last)",
            "\u001b[0;32m<ipython-input-87-56c09430c379>\u001b[0m in \u001b[0;36m<module>\u001b[0;34m\u001b[0m\n\u001b[1;32m      1\u001b[0m \u001b[0mz\u001b[0m \u001b[0;34m=\u001b[0m \u001b[0mnp\u001b[0m\u001b[0;34m.\u001b[0m\u001b[0mones\u001b[0m\u001b[0;34m(\u001b[0m\u001b[0;36m10\u001b[0m\u001b[0;34m)\u001b[0m\u001b[0;34m\u001b[0m\u001b[0;34m\u001b[0m\u001b[0m\n\u001b[1;32m      2\u001b[0m \u001b[0mz\u001b[0m\u001b[0;34m.\u001b[0m\u001b[0mflags\u001b[0m\u001b[0;34m.\u001b[0m\u001b[0mwriteable\u001b[0m \u001b[0;34m=\u001b[0m \u001b[0;32mFalse\u001b[0m\u001b[0;34m\u001b[0m\u001b[0;34m\u001b[0m\u001b[0m\n\u001b[0;32m----> 3\u001b[0;31m \u001b[0mz\u001b[0m\u001b[0;34m[\u001b[0m\u001b[0;36m0\u001b[0m\u001b[0;34m]\u001b[0m \u001b[0;34m=\u001b[0m \u001b[0;36m1\u001b[0m \u001b[0;31m# -> Value ERROR\u001b[0m\u001b[0;34m\u001b[0m\u001b[0;34m\u001b[0m\u001b[0m\n\u001b[0m",
            "\u001b[0;31mValueError\u001b[0m: assignment destination is read-only"
          ]
        }
      ],
      "source": [
        "z = np.ones(10)\n",
        "z.flags.writeable = False\n",
        "z[0] = 1 # -> Value ERROR"
      ]
    },
    {
      "cell_type": "markdown",
      "metadata": {
        "id": "QFpEsWObbYu6"
      },
      "source": [
        "#### 44. Consider a random 10x2 matrix representing cartesian coordinates, convert them to polar coordinates (★★☆) \n",
        "(**hint**: np.sqrt, np.arctan2)"
      ]
    },
    {
      "cell_type": "code",
      "execution_count": 88,
      "metadata": {
        "colab": {
          "base_uri": "https://localhost:8080/"
        },
        "id": "ZjL6kjjpbYu6",
        "outputId": "298f9e49-647e-466b-f1b3-798487084353"
      },
      "outputs": [
        {
          "output_type": "stream",
          "name": "stdout",
          "text": [
            "[0.06966694 0.48932167 0.7498477  0.55165622 0.68837848 0.51060622\n",
            " 1.04983229 0.22029763 1.0001237  0.70186697]\n",
            "[0.28676936 0.41990373 0.81327501 1.51741683 1.02375067 1.5698112\n",
            " 0.90006744 0.1649971  0.1855536  0.39593284]\n"
          ]
        }
      ],
      "source": [
        "Z = np.random.random((10,2))\n",
        "X,Y = Z[:,0], Z[:,1]\n",
        "L = np.sqrt(X**2+Y**2)\n",
        "M = np.arctan2(Y,X)\n",
        "print(L)\n",
        "print(M)"
      ]
    },
    {
      "cell_type": "markdown",
      "metadata": {
        "id": "dh_LW0nFbYu6"
      },
      "source": [
        "#### 45. Create random vector of size 10 and replace the maximum value by 0 (★★☆) \n",
        "(**hint**: argmax)"
      ]
    },
    {
      "cell_type": "code",
      "execution_count": 91,
      "metadata": {
        "colab": {
          "base_uri": "https://localhost:8080/"
        },
        "id": "xxxL7gQJbYu6",
        "outputId": "2e3e66d3-fa7d-4283-d50d-d99f06bdf11b"
      },
      "outputs": [
        {
          "output_type": "stream",
          "name": "stdout",
          "text": [
            "[0.66536536 0.08554243 0.16216703 0.1445294  0.27253305 0.69140954\n",
            " 0.         0.17433317 0.57600175 0.39021813]\n"
          ]
        }
      ],
      "source": [
        "x = np.random.random(10)\n",
        "x[x.argmax()] = 0\n",
        "print(x)"
      ]
    },
    {
      "cell_type": "markdown",
      "metadata": {
        "id": "L0wxzgRVbYu6"
      },
      "source": [
        "#### 46. Create a structured array with `x` and `y` coordinates covering the \\[0,1\\]x\\[0,1\\] area (★★☆) \n",
        "(**hint**: np.meshgrid)"
      ]
    },
    {
      "cell_type": "code",
      "execution_count": 92,
      "metadata": {
        "colab": {
          "base_uri": "https://localhost:8080/"
        },
        "id": "_5mhU8X1bYu7",
        "outputId": "63ca411c-00d9-4b9e-ec93-d3a06825827e"
      },
      "outputs": [
        {
          "output_type": "stream",
          "name": "stdout",
          "text": [
            "[[(0.        , 0.        ) (0.33333333, 0.        )\n",
            "  (0.66666667, 0.        ) (1.        , 0.        )]\n",
            " [(0.        , 0.33333333) (0.33333333, 0.33333333)\n",
            "  (0.66666667, 0.33333333) (1.        , 0.33333333)]\n",
            " [(0.        , 0.66666667) (0.33333333, 0.66666667)\n",
            "  (0.66666667, 0.66666667) (1.        , 0.66666667)]\n",
            " [(0.        , 1.        ) (0.33333333, 1.        )\n",
            "  (0.66666667, 1.        ) (1.        , 1.        )]]\n"
          ]
        }
      ],
      "source": [
        "a = np.zeros((4,4), [('x',float),('y',float)])\n",
        "a['x'], a['y'] = np.meshgrid (np.linspace(0,1,4), np.linspace(0,1,4))\n",
        "print(a)"
      ]
    },
    {
      "cell_type": "markdown",
      "metadata": {
        "id": "A7pta9tubYu7"
      },
      "source": [
        "####  47. Given two arrays, X and Y, construct the Cauchy matrix C (Cij =1/(xi - yj)) \n",
        "(**hint**: np.subtract.outer)"
      ]
    },
    {
      "cell_type": "code",
      "execution_count": 100,
      "metadata": {
        "colab": {
          "base_uri": "https://localhost:8080/"
        },
        "id": "vqdo6DoIbYu7",
        "outputId": "ade23e44-92af-402e-96c7-df0a1fa095fc"
      },
      "outputs": [
        {
          "output_type": "stream",
          "name": "stdout",
          "text": [
            "3638.163637117973\n"
          ]
        }
      ],
      "source": [
        "X = np.arange(8)\n",
        "Y = X + 0.5\n",
        "C = 1.0 / np.subtract.outer(X, Y)\n",
        "print(np.linalg.det(C))"
      ]
    },
    {
      "cell_type": "markdown",
      "metadata": {
        "id": "bn0Wkb4EbYu7"
      },
      "source": [
        "#### 48. Print the minimum and maximum representable value for each numpy scalar type (★★☆) \n",
        "(**hint**: np.iinfo, np.finfo, eps)"
      ]
    },
    {
      "cell_type": "code",
      "execution_count": 94,
      "metadata": {
        "colab": {
          "base_uri": "https://localhost:8080/"
        },
        "id": "az48RgU7bYu7",
        "outputId": "d168d6fa-8f99-49b2-f465-1616f020d7ce"
      },
      "outputs": [
        {
          "output_type": "stream",
          "name": "stdout",
          "text": [
            "-128\n",
            "127\n",
            "-2147483648\n",
            "2147483647\n",
            "-9223372036854775808\n",
            "9223372036854775807\n",
            "-3.4028235e+38\n",
            "3.4028235e+38\n",
            "1.1920929e-07\n",
            "-1.7976931348623157e+308\n",
            "1.7976931348623157e+308\n",
            "2.220446049250313e-16\n"
          ]
        }
      ],
      "source": [
        "for dtype in [np.int8, np.int32, np.int64]:\n",
        "   print(np.iinfo(dtype).min)\n",
        "   print(np.iinfo(dtype).max)\n",
        "for dtype in [np.float32, np.float64]:\n",
        "   print(np.finfo(dtype).min)\n",
        "   print(np.finfo(dtype).max)\n",
        "   print(np.finfo(dtype).eps)"
      ]
    },
    {
      "cell_type": "markdown",
      "metadata": {
        "id": "8aOynkd-bYu7"
      },
      "source": [
        "#### 49. How to print all the values of an array? (★★☆) \n",
        "(**hint**: np.set\\_printoptions)"
      ]
    },
    {
      "cell_type": "code",
      "execution_count": 95,
      "metadata": {
        "colab": {
          "base_uri": "https://localhost:8080/"
        },
        "id": "KYBu1t03bYu7",
        "outputId": "d2484625-8620-44da-d7de-d5aab58f5182"
      },
      "outputs": [
        {
          "output_type": "stream",
          "name": "stdout",
          "text": [
            "[[0. 0. 0. 0. 0. 0. 0. 0. 0. 0. 0. 0. 0. 0. 0.]\n",
            " [0. 0. 0. 0. 0. 0. 0. 0. 0. 0. 0. 0. 0. 0. 0.]\n",
            " [0. 0. 0. 0. 0. 0. 0. 0. 0. 0. 0. 0. 0. 0. 0.]\n",
            " [0. 0. 0. 0. 0. 0. 0. 0. 0. 0. 0. 0. 0. 0. 0.]\n",
            " [0. 0. 0. 0. 0. 0. 0. 0. 0. 0. 0. 0. 0. 0. 0.]\n",
            " [0. 0. 0. 0. 0. 0. 0. 0. 0. 0. 0. 0. 0. 0. 0.]\n",
            " [0. 0. 0. 0. 0. 0. 0. 0. 0. 0. 0. 0. 0. 0. 0.]\n",
            " [0. 0. 0. 0. 0. 0. 0. 0. 0. 0. 0. 0. 0. 0. 0.]\n",
            " [0. 0. 0. 0. 0. 0. 0. 0. 0. 0. 0. 0. 0. 0. 0.]\n",
            " [0. 0. 0. 0. 0. 0. 0. 0. 0. 0. 0. 0. 0. 0. 0.]\n",
            " [0. 0. 0. 0. 0. 0. 0. 0. 0. 0. 0. 0. 0. 0. 0.]\n",
            " [0. 0. 0. 0. 0. 0. 0. 0. 0. 0. 0. 0. 0. 0. 0.]\n",
            " [0. 0. 0. 0. 0. 0. 0. 0. 0. 0. 0. 0. 0. 0. 0.]\n",
            " [0. 0. 0. 0. 0. 0. 0. 0. 0. 0. 0. 0. 0. 0. 0.]\n",
            " [0. 0. 0. 0. 0. 0. 0. 0. 0. 0. 0. 0. 0. 0. 0.]]\n"
          ]
        }
      ],
      "source": [
        "np.set_printoptions(threshold=np.inf, linewidth=np.nan)\n",
        "x = np.zeros((15,15))\n",
        "print(x)"
      ]
    },
    {
      "cell_type": "markdown",
      "metadata": {
        "id": "9NEkAl6zbYu7"
      },
      "source": [
        "#### 50. How to find the closest value (to a given scalar) in a vector? (★★☆) \n",
        "(**hint**: argmin)"
      ]
    },
    {
      "cell_type": "code",
      "execution_count": 96,
      "metadata": {
        "colab": {
          "base_uri": "https://localhost:8080/"
        },
        "id": "a7dJH45ebYu8",
        "outputId": "6725e4f1-c23a-423c-bdc4-178639b90791"
      },
      "outputs": [
        {
          "output_type": "stream",
          "name": "stdout",
          "text": [
            "2\n"
          ]
        }
      ],
      "source": [
        "p = np.arange(100)\n",
        "q = np.random.uniform(0,100)\n",
        "index = (np.abs(p-q)).argmin()\n",
        "print(p[index])"
      ]
    },
    {
      "cell_type": "markdown",
      "metadata": {
        "id": "zNNAsnZEbYu8"
      },
      "source": [
        "#### 51. Create a structured array representing a position (x,y) and a color (r,g,b) (★★☆) \n",
        "(**hint**: dtype)"
      ]
    },
    {
      "cell_type": "code",
      "execution_count": 97,
      "metadata": {
        "colab": {
          "base_uri": "https://localhost:8080/"
        },
        "id": "DC90epzvbYu8",
        "outputId": "cdef0d16-7072-4b3d-f9db-c349ccd226d9"
      },
      "outputs": [
        {
          "output_type": "stream",
          "name": "stdout",
          "text": [
            "[((0., 0.), (0., 0., 0.)) ((0., 0.), (0., 0., 0.)) ((0., 0.), (0., 0., 0.)) ((0., 0.), (0., 0., 0.)) ((0., 0.), (0., 0., 0.)) ((0., 0.), (0., 0., 0.)) ((0., 0.), (0., 0., 0.)) ((0., 0.), (0., 0., 0.)) ((0., 0.), (0., 0., 0.)) ((0., 0.), (0., 0., 0.))]\n"
          ]
        },
        {
          "output_type": "stream",
          "name": "stderr",
          "text": [
            "<ipython-input-97-1c50e4e32ac3>:1: FutureWarning: Passing (type, 1) or '1type' as a synonym of type is deprecated; in a future version of numpy, it will be understood as (type, (1,)) / '(1,)type'.\n",
            "  a = np.zeros(10, [ ('position', [ ('x', float, 1),\n"
          ]
        }
      ],
      "source": [
        "a = np.zeros(10, [ ('position', [ ('x', float, 1),\n",
        "                                  ('y', float, 1)]),\n",
        "                   ('color',    [ ('r', float, 1),\n",
        "                                  ('g', float, 1),\n",
        "                                  ('b', float, 1)])])\n",
        "print(a)"
      ]
    },
    {
      "cell_type": "markdown",
      "metadata": {
        "id": "c18a5xSKbYu8"
      },
      "source": [
        "#### 52. Consider a random vector with shape (100,2) representing coordinates, find point by point distances (★★☆) \n",
        "(**hint**: np.atleast\\_2d, T, np.sqrt)"
      ]
    },
    {
      "cell_type": "code",
      "execution_count": 98,
      "metadata": {
        "colab": {
          "base_uri": "https://localhost:8080/"
        },
        "id": "nK4eEedObYu8",
        "outputId": "afe68fec-70e5-41ef-e3c3-2f5f35668651"
      },
      "outputs": [
        {
          "output_type": "stream",
          "name": "stdout",
          "text": [
            "[[0.         0.44475874 0.75726771 0.38263054 0.58404532 0.70349406 0.75363724 0.40003857 0.50339026 0.31804889 0.39334073 0.40727921 0.67389515 0.46150424 0.70165813 0.41122548 0.45461573 0.47322051 0.6878093  0.49649244 0.7161114  0.60280624 0.34854962 0.61292819 0.66173271 0.46005354 0.30567424 0.49702803 0.84221049 0.8317268  0.4468611  0.16483766 0.13088994 0.45794015 0.45346497 0.37346748 0.36101177 0.53573909 0.37358706 0.44533637 0.22438345 0.52939548 0.172748   0.19864938 0.57209854 0.5641903  0.11314556 0.57443709 0.55526013 0.44448951 0.5116948  0.11739883 0.52991059 0.02246482 0.84202478 0.44714413 0.59758953 0.39566654 0.59433395 0.35498694 0.51595218 0.12520201 0.81770197 0.77851431 0.4583812  0.07024542 0.36561015 0.58512031 0.30627905 0.63182869 0.46733911 0.33063869 0.65795692 0.11124942 0.34252337 0.8023769  0.63350752 0.42007396 0.43170053 0.35428693 0.79352906 0.4942557  0.44038354 0.76279406 0.61914238 0.51822859 0.52198111 0.86217351 0.10560997 0.31749153 0.29018828 0.30801151 0.50816324 0.49032932 0.44360333 0.12398963 0.64193718 0.44686458 0.36331588 0.67857783]\n",
            " [0.44475874 0.         0.7770123  0.61274523 0.98723605 0.99176555 0.87689222 0.78176956 0.41324034 0.2150022  0.05162033 0.04115867 0.74899363 0.76792076 0.86871899 0.67498821 0.8461675  0.293033   1.01895443 0.74805085 0.73433543 0.72370296 0.79327262 0.91254106 0.97584973 0.34718373 0.14897729 0.62508435 0.89205011 0.81410352 0.74649066 0.28454897 0.53031316 0.322247   0.315353   0.25168763 0.80483915 0.87398428 0.08112023 0.82737901 0.24408947 0.96331387 0.34368739 0.30289555 0.79450591 0.87529653 0.44650421 0.71259301 0.28232717 0.14427985 0.94071051 0.54720024 0.36438526 0.42358381 0.97263798 0.81486698 0.63953795 0.7298103  0.97097865 0.75237797 0.4173998  0.56964542 1.18348443 1.06695275 0.90273112 0.51133099 0.74154818 0.70350889 0.7473159  0.97701919 0.85446946 0.77258184 0.77361657 0.44902752 0.3245839  0.94184703 0.91081726 0.17935859 0.74007451 0.79680404 1.04750933 0.92703855 0.84635931 1.04541495 0.78429233 0.80829513 0.39172932 1.22219791 0.38281584 0.75115728 0.70098758 0.13772288 0.92666132 0.90372226 0.29642834 0.32076951 0.65556817 0.66177759 0.42432468 0.63273046]\n",
            " [0.75726771 0.7770123  0.         0.41732044 0.79527075 0.52707346 0.19293141 1.11931938 0.36390915 0.59828338 0.75745043 0.74978685 0.10931219 0.5028537  0.26329237 0.44143808 1.15640714 0.48656754 0.62869553 0.4070348  0.04398441 0.19709306 0.91431717 0.51760236 0.5718556  0.4299133  0.78595011 0.27192274 0.11772257 0.088494   0.49043947 0.70299725 0.88119503 0.45479174 0.46166271 0.53573882 0.88769035 0.58438642 0.79071208 1.1583272  0.80733306 0.90270264 0.85711877 0.84651569 0.35341575 0.5291625  0.64541029 0.23007976 0.53868047 0.63532705 0.86483277 0.84709901 0.42382495 0.75940787 0.25601508 0.63154672 0.16068848 0.55228469 0.71213038 0.68411348 0.36061969 0.80676951 0.80880513 0.56673459 0.99817282 0.75365689 1.09406959 0.20387479 0.93311322 0.6394889  0.68943135 0.94268605 0.17024913 0.86301322 0.48739367 0.24869669 0.47360006 0.59765756 0.50604058 0.95340753 0.49160778 0.8753392  0.73697417 0.54343387 0.25426277 0.47571538 0.38987736 0.82086169 0.82095401 0.97206765 0.70520606 0.72969542 0.8145284  0.78528036 0.48059759 0.73602897 0.12512039 0.371677   0.41200777 0.1572418 ]\n",
            " [0.38263054 0.61274523 0.41732044 0.         0.45904871 0.37907127 0.37394831 0.70747343 0.35058347 0.39826284 0.57050681 0.57311971 0.31644886 0.16952436 0.31908491 0.06703292 0.74120317 0.42368675 0.41395137 0.13630725 0.38363557 0.23345707 0.49849251 0.30120384 0.36630656 0.36413906 0.54288525 0.14769499 0.47943842 0.50279675 0.14719501 0.40167706 0.49020491 0.38406836 0.38589417 0.38278261 0.47427525 0.28360919 0.58245047 0.74470177 0.51735961 0.5215393  0.52652072 0.53218685 0.19736259 0.26869374 0.27279241 0.2013954  0.52428383 0.51487742 0.48552355 0.44904317 0.42443185 0.3924053  0.45994218 0.26868697 0.27776337 0.17001818 0.40569657 0.28244422 0.36141224 0.40121556 0.5915712  0.45455583 0.58769987 0.35831864 0.68502216 0.21944012 0.5158694  0.38197465 0.3264147  0.52541735 0.28502035 0.49387875 0.30166462 0.42003673 0.29832942 0.47023907 0.14903429 0.53654959 0.44272558 0.4890703  0.35612589 0.43347114 0.2369682  0.19808674 0.39129458 0.6249435  0.47184222 0.55534159 0.29109631 0.50250995 0.44371615 0.41382203 0.39337985 0.41265792 0.3294127  0.06436769 0.21187674 0.39966561]\n",
            " [0.58404532 0.98723605 0.79527075 0.45904871 0.         0.34555689 0.65282156 0.63313838 0.8085372  0.79353804 0.93723775 0.94620947 0.68678965 0.30466129 0.56425777 0.39842103 0.6237856  0.8680529  0.24432528 0.39467725 0.77711831 0.60264338 0.35416958 0.29708583 0.27466479 0.81467922 0.8711749  0.57787564 0.80204236 0.88264137 0.32333964 0.71216826 0.59471444 0.83132772 0.83182555 0.804918   0.31184458 0.21104702 0.93148639 0.64496458 0.80368518 0.16251986 0.75409419 0.78263986 0.44224335 0.26992498 0.54292733 0.57268232 0.96995216 0.92772065 0.13627578 0.5463957  0.87963032 0.60586935 0.68703172 0.19102394 0.70240387 0.2903515  0.09489307 0.23552625 0.81973483 0.49083298 0.26148482 0.38098984 0.3471511  0.51584032 0.6376186  0.60207744 0.42453074 0.19084116 0.13744144 0.40913539 0.62577482 0.65834647 0.72900398 0.65227137 0.34766741 0.88704967 0.31446411 0.3966699  0.45519195 0.16381358 0.14396194 0.38410847 0.54214315 0.3200228  0.84838778 0.30907637 0.68645104 0.46686362 0.29454474 0.85368203 0.09476139 0.09835852 0.83556573 0.69121775 0.75103445 0.46200522 0.65820317 0.83388666]\n",
            " [0.70349406 0.99176555 0.52707346 0.37907127 0.34555689 0.         0.34889127 0.90479542 0.68237787 0.7770805  0.94948009 0.95219049 0.43143514 0.24269824 0.26529039 0.31906984 0.9130459  0.78132945 0.11270989 0.24412328 0.52395789 0.36973157 0.6299011  0.09091142 0.07112645 0.7163241  0.91714297 0.40892543 0.49859612 0.60598754 0.25960384 0.76770713 0.77287876 0.74004804 0.74347183 0.75671322 0.58890273 0.18903287 0.96025173 0.92814338 0.88061274 0.49960794 0.86960467 0.88415598 0.21714578 0.14135203 0.61311318 0.35289803 0.87618103 0.88914476 0.46575745 0.72332964 0.76252771 0.72001376 0.35717935 0.29201105 0.49341543 0.30885231 0.25087727 0.39892915 0.68977041 0.66443759 0.28182507 0.0765602  0.66341013 0.65324738 0.89746336 0.37999321 0.68505402 0.15474698 0.31753563 0.67958112 0.36484885 0.80724406 0.67603302 0.32828028 0.08136116 0.84404571 0.27285037 0.67649884 0.11293698 0.48842748 0.3782081  0.05935928 0.28886998 0.18947912 0.72454472 0.29530194 0.80639629 0.73125405 0.46230541 0.87981015 0.41161505 0.3917651  0.75469039 0.76879088 0.52968776 0.33326188 0.57960633 0.61705171]\n",
            " [0.75363724 0.87689222 0.19293141 0.37394831 0.65282156 0.34889127 0.         1.07211286 0.48178481 0.67508049 0.84794409 0.84392453 0.13732067 0.39173056 0.08869728 0.3674776  1.09958327 0.60387976 0.45728949 0.30190747 0.20636571 0.15898648 0.83488144 0.35896352 0.40307657 0.53930995 0.85445011 0.26818332 0.15118144 0.26132452 0.38682565 0.74135092 0.86415147 0.56573825 0.57164864 0.62545887 0.80200514 0.44513331 0.87400667 1.10639525 0.85476304 0.78037812 0.88391398 0.88228517 0.22600812 0.38333764 0.64139643 0.18150907 0.67628473 0.74431997 0.74271402 0.82265244 0.55572576 0.76135426 0.09619444 0.51488779 0.24520568 0.45703238 0.56262774 0.59062647 0.48317541 0.77324334 0.6291707  0.37937224 0.90354226 0.73226666 1.05270791 0.17918935 0.86750816 0.47912567 0.56750282 0.87204032 0.10454001 0.86456162 0.55906827 0.06694157 0.3099899  0.70177496 0.40533686 0.87819752 0.30042126 0.75791335 0.62264035 0.35697683 0.14001589 0.34794663 0.51751572 0.63704613 0.83581607 0.9105937  0.62822469 0.80281128 0.68916658 0.66187312 0.58869946 0.76408365 0.25164857 0.31191433 0.46464723 0.32525188]\n",
            " [0.40003857 0.78176956 1.11931938 0.70747343 0.63313838 0.90479542 1.07211286 0.         0.90194536 0.70945078 0.73565154 0.75288844 1.02306867 0.70132058 1.00158132 0.70463539 0.0660271  0.8713809  0.84078175 0.7759061  1.08171887 0.94088165 0.28157433 0.82017472 0.84182357 0.86008469 0.63320247 0.84787393 1.18685647 1.20077548 0.69809389 0.5448136  0.27250033 0.85772147 0.85310306 0.7704714  0.32447159 0.71583092 0.7009931  0.04635608 0.53835465 0.48995314 0.43809859 0.47891958 0.8565932  0.77013896 0.49316339 0.90847831 0.9480626  0.82304998 0.50196865 0.28616935 0.92983571 0.41050984 1.14734466 0.61328609 0.96615318 0.62779919 0.69760543 0.50879779 0.91465746 0.31460788 0.89355726 0.9669299  0.30666507 0.3753286  0.04051269 0.92676584 0.21981569 0.7773031  0.59126522 0.2279386  0.9913179  0.34002131 0.74246297 1.10664262 0.85943898 0.80652729 0.67908118 0.23693773 1.01439412 0.47384504 0.53355012 0.95995783 0.93211627 0.75830602 0.92182726 0.94097294 0.40841295 0.1736587  0.45338026 0.66167612 0.538675   0.54316369 0.84262796 0.49615952 1.0147548  0.76393613 0.75420219 1.0631896 ]\n",
            " [0.50339026 0.41324034 0.36390915 0.35058347 0.8085372  0.68237787 0.48178481 0.90194536 0.         0.2514525  0.395905   0.38716783 0.34680125 0.51691324 0.49368261 0.41503677 0.95310978 0.1239972  0.74513532 0.45325783 0.3215703  0.34390715 0.77450617 0.62421746 0.69127013 0.0673049  0.4367584  0.2737001  0.4796832  0.40377175 0.49515583 0.39264933 0.63401781 0.09103822 0.09801864 0.18130952 0.76351187 0.63034737 0.4317909  0.94645395 0.47724796 0.85433036 0.54835496 0.52738986 0.46560527 0.60415276 0.41229119 0.34452033 0.19881102 0.27156755 0.82074923 0.61586122 0.08032729 0.49624699 0.5746601  0.6175548  0.23679384 0.51822108 0.75572086 0.61026423 0.0130031  0.59636972 0.9301264  0.74938603 0.87958282 0.53018563 0.86862497 0.32586866 0.76470243 0.7235058  0.6736843  0.78270685 0.3844958  0.58881031 0.16448371 0.54859539 0.60361486 0.23396832 0.4991269  0.80097479 0.70625786 0.81938945 0.69563288 0.72540758 0.41928625 0.53171502 0.04231124 0.95878628 0.53128076 0.79191668 0.59397148 0.37889185 0.78475422 0.75555409 0.11714385 0.4363313  0.24431926 0.36449734 0.16294886 0.22251723]\n",
            " [0.31804889 0.2150022  0.59828338 0.39826284 0.79353804 0.7770805  0.67508049 0.70945078 0.2514525  0.         0.17645812 0.17641844 0.55389129 0.5565143  0.65971909 0.46139885 0.76791659 0.17026558 0.80729427 0.53320009 0.55439016 0.51839451 0.65006044 0.69880479 0.76278086 0.18735865 0.18795141 0.41547888 0.70800314 0.64941555 0.53473406 0.16574186 0.43748387 0.17211014 0.16549482 0.07239064 0.6524672  0.66504486 0.1989473  0.75563933 0.22812682 0.79002905 0.3092808  0.282586   0.57993694 0.66284709 0.27319332 0.50427282 0.23867932 0.13695766 0.76326607 0.43497129 0.24105419 0.30279307 0.77127371 0.61338921 0.44811163 0.52352036 0.76849766 0.56288852 0.26052291 0.43660178 0.97592384 0.85210657 0.76102445 0.36977066 0.67214974 0.49799681 0.61892505 0.76775229 0.65766231 0.64171002 0.57069346 0.3738202  0.1160205  0.73832642 0.69603416 0.10378571 0.52948008 0.66402678 0.83282289 0.75336973 0.65724507 0.83048515 0.57407264 0.59478252 0.24930296 1.01324085 0.30821274 0.6344063  0.52019109 0.13143262 0.7420397  0.71673983 0.14907238 0.21446277 0.47333997 0.4467896  0.2132093  0.47062533]\n",
            " [0.39334073 0.05162033 0.75745043 0.57050681 0.93723775 0.94948009 0.84794409 0.73565154 0.395905   0.17645812 0.         0.01815152 0.72297839 0.7227374  0.83553663 0.63153095 0.79960321 0.28137841 0.9736325  0.70642697 0.71418063 0.69268961 0.74188413 0.86892073 0.93154826 0.32872866 0.10295107 0.59132064 0.87085572 0.79944127 0.70154383 0.23294963 0.48103591 0.30537238 0.298253   0.22388269 0.75326285 0.82749828 0.04531632 0.78148892 0.19730382 0.91186683 0.29788692 0.25778229 0.75568902 0.83062124 0.39573703 0.67976417 0.2890136  0.14079678 0.8894308  0.49671    0.35579685 0.37226035 0.94402081 0.76633297 0.61470106 0.68262876 0.9224792  0.70214328 0.40151148 0.51831382 1.13621791 1.02506237 0.85146501 0.4597484  0.69560381 0.67235367 0.6964562  0.9305548  0.80503861 0.72163935 0.7439596  0.40059241 0.29050186 0.91205721 0.86883621 0.16490366 0.69451275 0.74580432 1.00830672 0.87561713 0.79597259 1.00387245 0.75019038 0.7645617  0.37911183 1.17542518 0.33369369 0.70096162 0.65009014 0.08611277 0.87581536 0.85308396 0.27902687 0.26935808 0.63425422 0.6215786  0.38924849 0.61791466]\n",
            " [0.40727921 0.04115867 0.74978685 0.57311971 0.94620947 0.95219049 0.84392453 0.75288844 0.38716783 0.17641844 0.01815152 0.         0.71771091 0.72735265 0.83338954 0.63494191 0.81671386 0.27055636 0.97836885 0.70869528 0.70670609 0.68950885 0.75578804 0.87247453 0.93556488 0.32024537 0.12069197 0.58935648 0.86381665 0.79015374 0.70598679 0.24549375 0.49715755 0.29628992 0.28922694 0.21868157 0.76650457 0.83310378 0.06264391 0.79877521 0.21463343 0.92342246 0.31534217 0.27540683 0.75635535 0.83488684 0.40586749 0.67740138 0.27367966 0.12684092 0.90051011 0.5119519  0.34426744 0.38643677 0.93988813 0.77371219 0.60891277 0.68879087 0.92982624 0.71143256 0.39230032 0.53240313 1.14246758 1.02753845 0.86561633 0.47302483 0.71288937 0.66922724 0.71124546 0.9361487  0.81334495 0.73631891 0.74020692 0.41716513 0.28838696 0.90841381 0.87134947 0.15432131 0.69940175 0.76040239 1.00922941 0.88709189 0.80546629 1.00613647 0.74845181 0.76817781 0.36882042 1.18127204 0.34998333 0.71640394 0.66040061 0.09927911 0.88601661 0.86294703 0.27004521 0.28341708 0.62715198 0.62298347 0.38777333 0.60858039]\n",
            " [0.67389515 0.74899363 0.10931219 0.31644886 0.68678965 0.43143514 0.13732067 1.02306867 0.34680125 0.55389129 0.72297839 0.71771091 0.         0.39357141 0.17767432 0.3348884  1.05764101 0.46996848 0.52817161 0.2977305  0.09344589 0.08839032 0.80979482 0.41363165 0.47076128 0.40660583 0.73791466 0.17769513 0.16833153 0.19773622 0.38136575 0.6379111  0.79363379 0.43291955 0.4391037  0.49918314 0.78199456 0.47615209 0.7517457  1.06086951 0.74769996 0.7934443  0.78752878 0.78118298 0.24586429 0.42217859 0.56086023 0.12183759 0.5395752  0.61318012 0.75556551 0.75677017 0.41923981 0.6782698  0.22794593 0.52227373 0.11037363 0.44404788 0.60479659 0.5766264  0.3474606  0.71324581 0.7115189  0.4785432  0.89137437 0.66374296 0.99944614 0.09777536 0.8315206  0.5349098  0.58012013 0.84001194 0.06664066 0.78242708 0.43852901 0.20408141 0.37187594 0.57170993 0.39717683 0.84982115 0.41106396 0.76622896 0.62787429 0.45450482 0.14845441 0.36693355 0.38134444 0.72671621 0.74571282 0.87158335 0.60029484 0.68406241 0.70521625 0.67597364 0.45675391 0.66618228 0.1152837  0.26628279 0.35043121 0.1949434 ]\n",
            " [0.46150424 0.76792076 0.5028537  0.16952436 0.30466129 0.24269824 0.39173056 0.70132058 0.51691324 0.5565143  0.7227374  0.72735265 0.39357141 0.         0.31040459 0.1027387  0.72083882 0.59317636 0.25103648 0.09593467 0.47992746 0.30616415 0.44702477 0.15326881 0.21038629 0.53350781 0.68173419 0.27330746 0.52989017 0.59130721 0.02240355 0.52872405 0.53808193 0.55359099 0.5554092  0.54848357 0.4120941  0.11413255 0.72921001 0.731084   0.64006179 0.39989229 0.62690668 0.6417656  0.16574458 0.10881647 0.37076597 0.27415931 0.69380103 0.6794891  0.36200148 0.48969218 0.59250792 0.47761534 0.45355556 0.12870956 0.39838402 0.07421432 0.23984141 0.20072284 0.52713678 0.43221521 0.42310315 0.31860754 0.51181337 0.41401185 0.68769664 0.30260595 0.48716594 0.21338409 0.18684051 0.48825284 0.33868295 0.56683984 0.46777383 0.41354748 0.17274822 0.63544039 0.03020662 0.49176279 0.3339231  0.37325826 0.235192   0.30177738 0.25998665 0.0590158  0.55832398 0.45803091 0.56385763 0.53221141 0.24800909 0.64832441 0.3119365  0.28251769 0.5627046  0.52727072 0.44773446 0.1583614  0.38111159 0.52955538]\n",
            " [0.70165813 0.86871899 0.26329237 0.31908491 0.56425777 0.26529039 0.08869728 1.00158132 0.49368261 0.65971909 0.83553663 0.83338954 0.17767432 0.31040459 0.         0.30017315 1.0260594  0.61067854 0.37118587 0.22592827 0.26534387 0.1498915  0.75666851 0.27035692 0.31605883 0.54438043 0.83142147 0.24424845 0.23942204 0.34070177 0.30791837 0.70693119 0.80550268 0.57056901 0.57577947 0.61774006 0.72240188 0.35723957 0.8576664  1.03425934 0.82221527 0.69352148 0.8421087  0.84427485 0.14606565 0.29502638 0.59162646 0.15615174 0.6921728  0.74319737 0.6559864  0.76184472 0.57181685 0.71142826 0.14578156 0.43032723 0.26677622 0.37895253 0.47393075 0.51087453 0.49736122 0.70987163 0.54698674 0.30391814 0.82129613 0.67389827 0.9841085  0.16869257 0.79287541 0.39087326 0.48152496 0.79594941 0.11624065 0.81289372 0.54511107 0.10506427 0.22166556 0.69910773 0.32683221 0.80082165 0.23342858 0.67185371 0.537739   0.28038352 0.08700863 0.26308558 0.53278789 0.55774924 0.78982852 0.83684312 0.55268411 0.78284306 0.60214049 0.57521679 0.5912824  0.7247891  0.28900978 0.25479521 0.44651101 0.3722143 ]\n",
            " [0.41122548 0.67498821 0.44143808 0.06703292 0.39842103 0.31906984 0.3674776  0.70463539 0.41503677 0.46139885 0.63153095 0.63494191 0.3348884  0.1027387  0.30017315 0.         0.73296985 0.49066648 0.34781075 0.08570462 0.41233301 0.24711265 0.47583426 0.23755291 0.30148159 0.43077338 0.59839804 0.18621104 0.48872715 0.52918719 0.080539   0.45149422 0.50718355 0.45095231 0.45284308 0.44880363 0.44718076 0.21687022 0.6413     0.73915422 0.56602473 0.47303195 0.56584224 0.57541212 0.16175651 0.20257586 0.30775821 0.21347303 0.59113873 0.58059194 0.43604052 0.46245298 0.49004804 0.42389661 0.44540352 0.21049671 0.31690012 0.11609969 0.3407061  0.24315897 0.42549819 0.40977294 0.52456696 0.39533388 0.55675492 0.37643566 0.68553388 0.23772269 0.5022743  0.31494715 0.26957234 0.50864599 0.29162917 0.52137912 0.36776824 0.40472274 0.23977832 0.53613719 0.08455211 0.516962   0.39143352 0.44238863 0.30585081 0.37527792 0.2274865  0.13338583 0.45621301 0.55817129 0.50717969 0.54442553 0.26635229 0.56078232 0.39092886 0.36089197 0.46041056 0.45715834 0.36812363 0.07084962 0.27890625 0.44483497]\n",
            " [0.45461573 0.8461675  1.15640714 0.74120317 0.6237856  0.9130459  1.09958327 0.0660271  0.95310978 0.76791659 0.79960321 0.81671386 1.05764101 0.72083882 1.0260594  0.73296985 0.         0.92760674 0.84223391 0.80018255 1.11995645 0.97373709 0.28322151 0.83116967 0.84777522 0.91362688 0.697406   0.88448664 1.21924131 1.23936529 0.71958291 0.60432042 0.33049398 0.9123905  0.9080053  0.82725006 0.32486373 0.72511011 0.76554234 0.0301785  0.60240637 0.47256644 0.50251265 0.54350592 0.88022265 0.78213277 0.5417746  0.94084235 1.00657786 0.88413531 0.48920504 0.33835246 0.98414793 0.466702   1.17145854 0.62413234 1.00590035 0.64858121 0.69484693 0.52341223 0.96593129 0.35932537 0.88115901 0.97189959 0.2834256  0.42344973 0.10637413 0.96053108 0.23368442 0.77908371 0.59627782 0.2344515  1.02266613 0.40191571 0.79573497 1.13090082 0.87276736 0.86629785 0.70051919 0.23665219 1.02424255 0.46105945 0.53664553 0.96653639 0.95996911 0.77630074 0.97459485 0.92816099 0.47033481 0.18921679 0.47374974 0.72454364 0.53077118 0.53884993 0.8982054  0.55591913 1.05534834 0.79513722 0.80202918 1.10721588]\n",
            " [0.47322051 0.293033   0.48656754 0.42368675 0.8680529  0.78132945 0.60387976 0.8713809  0.1239972  0.17026558 0.28137841 0.27055636 0.46996848 0.59317636 0.61067854 0.49066648 0.92760674 0.         0.83376229 0.5430346  0.44474769 0.46096207 0.78256124 0.71562047 0.78253215 0.06657871 0.33783163 0.37897819 0.60298104 0.52107422 0.57081295 0.33342346 0.59894348 0.04135377 0.03807107 0.1015831  0.77829644 0.70716667 0.32091694 0.91721111 0.39511711 0.89273532 0.47948436 0.45180405 0.5675865  0.68952932 0.4037947  0.45770156 0.1019054  0.14937888 0.86188374 0.59035153 0.07566212 0.46106407 0.69752689 0.67855393 0.35966786 0.58069878 0.82589695 0.65247338 0.1259977  0.58274613 1.0146458  0.8515478  0.89180724 0.5147931  0.83520778 0.44199355 0.76123654 0.80536394 0.73079394 0.78205349 0.50468368 0.54062169 0.14646979 0.67047733 0.70080159 0.11647651 0.57124507 0.80270887 0.81507758 0.85659953 0.74349398 0.82807845 0.53252757 0.61726195 0.09870204 1.04661887 0.47657851 0.78215652 0.62375141 0.28046491 0.83204669 0.80416168 0.03334999 0.38147558 0.36822644 0.45207426 0.21243737 0.33976645]\n",
            " [0.6878093  1.01895443 0.62869553 0.41395137 0.24432528 0.11270989 0.45728949 0.84078175 0.74513532 0.80729427 0.9736325  0.97836885 0.52817161 0.25103648 0.37118587 0.34781075 0.84223391 0.83376229 0.         0.29211508 0.62157192 0.45798143 0.56039957 0.12204611 0.05764219 0.77112742 0.9300091  0.47722669 0.6080101  0.71036515 0.27260248 0.77453885 0.73960945 0.79312114 0.79569948 0.79658333 0.5179429  0.15248794 0.97929906 0.85987074 0.8828394  0.40445207 0.85901781 0.87842277 0.29384534 0.14527224 0.61044631 0.43614993 0.93228099 0.92839468 0.37342345 0.68930968 0.82399171 0.70652902 0.46979687 0.24571051 0.57756955 0.2980219  0.15339155 0.35166323 0.75385247 0.62986291 0.18759697 0.13675796 0.57929379 0.63012657 0.83780317 0.465043   0.62200929 0.06349495 0.25092515 0.61296179 0.46180036 0.78442655 0.71551139 0.44027842 0.15648251 0.88394427 0.27915185 0.60649106 0.21361087 0.39840532 0.30723582 0.14051584 0.38093107 0.21669801 0.78740377 0.21366416 0.79310692 0.66771152 0.4197135  0.8984147  0.32155911 0.3065787  0.80480241 0.76849204 0.61833862 0.38236242 0.62449382 0.70583465]\n",
            " [0.49649244 0.74805085 0.4070348  0.13630725 0.39467725 0.24412328 0.30190747 0.7759061  0.45325783 0.53320009 0.70642697 0.70869528 0.2977305  0.09593467 0.22592827 0.08570462 0.80018255 0.5430346  0.29211508 0.         0.38486311 0.21063585 0.53297923 0.17259359 0.23957849 0.47961079 0.67870574 0.19093423 0.43580701 0.49546091 0.08611401 0.53473511 0.58946464 0.50211243 0.50497335 0.51310865 0.50030105 0.18951087 0.71875414 0.80834371 0.64981417 0.4958038  0.6514584  0.66058665 0.08088825 0.15181909 0.39345236 0.17914871 0.64067785 0.64558336 0.45790291 0.54365703 0.53190881 0.50944272 0.37155782 0.22462532 0.30871367 0.15522037 0.32101283 0.28925886 0.46220562 0.48935732 0.47699874 0.31890886 0.60371111 0.45967136 0.75908221 0.2080879  0.56714943 0.27249983 0.28241698 0.57076142 0.24303167 0.60631332 0.43224225 0.3309045  0.16289298 0.60056086 0.10397187 0.57643125 0.30771603 0.4691296  0.33095269 0.29746036 0.16608788 0.08080496 0.49548351 0.50575733 0.59287661 0.61096703 0.32712298 0.63880541 0.40753071 0.37824598 0.51491948 0.54199389 0.35657253 0.09099808 0.33692858 0.44049468]\n",
            " [0.7161114  0.73433543 0.04398441 0.38363557 0.77711831 0.52395789 0.20636571 1.08171887 0.3215703  0.55439016 0.71418063 0.70670609 0.09344589 0.47992746 0.26534387 0.41233301 1.11995645 0.44474769 0.62157192 0.38486311 0.         0.17459101 0.88191753 0.50695672 0.5641856  0.3871535  0.74201696 0.23655321 0.15824112 0.11950668 0.46612298 0.65944869 0.84088833 0.41225229 0.41906876 0.49213646 0.85646102 0.56710717 0.74715411 1.12123792 0.76346096 0.87881146 0.81384191 0.80291101 0.33805252 0.51442919 0.60468878 0.20579133 0.49990479 0.59313185 0.8410743  0.8076116  0.38357976 0.71779953 0.28088583 0.60818503 0.11857994 0.52534201 0.6965985  0.65549186 0.31875226 0.76840208 0.80456301 0.56875904 0.96812618 0.71416835 1.05582545 0.17751524 0.8984813  0.62806863 0.66675421 0.90878011 0.15981593 0.82119864 0.44340929 0.26786537 0.4653115  0.55498511 0.48086042 0.92017814 0.49785884 0.85045348 0.71221026 0.54495137 0.24174037 0.4571184  0.34882258 0.81908533 0.77833673 0.93671187 0.6734825  0.6858114  0.79180826 0.76226748 0.43791775 0.69285403 0.08114329 0.34178195 0.36855632 0.12359168]\n",
            " [0.60280624 0.72370296 0.19709306 0.23345707 0.60264338 0.36973157 0.15898648 0.94088165 0.34390715 0.51839451 0.69268961 0.68950885 0.08839032 0.30616415 0.1498915  0.24711265 0.97373709 0.46096207 0.45798143 0.21063585 0.17459101 0.         0.72264431 0.33926577 0.40035918 0.39477464 0.69601405 0.10965907 0.24598482 0.28557811 0.29337159 0.5828064  0.71846523 0.4210316  0.42635115 0.47206137 0.69428799 0.39302538 0.71728144 0.97782113 0.69590488 0.70582329 0.72702551 0.72427808 0.16673365 0.34207243 0.48978407 0.03364198 0.5425414  0.5952558  0.66798461 0.67958574 0.4223936  0.60901375 0.25456263 0.43476002 0.12483704 0.35565765 0.52317874 0.4883261  0.34783045 0.63375299 0.64429782 0.42577711 0.80322161 0.58733776 0.91842546 0.02041567 0.74604609 0.45841184 0.49295244 0.75387171 0.05593007 0.71290696 0.40261188 0.22011446 0.30205237 0.55158992 0.30896252 0.76315022 0.36972211 0.67827013 0.53990413 0.4013519  0.0819798  0.282737   0.38332776 0.66335094 0.68084389 0.78676684 0.51308731 0.64495692 0.61806967 0.58868183 0.44215205 0.60662377 0.16059729 0.17958545 0.30659038 0.24817522]\n",
            " [0.34854962 0.79327262 0.91431717 0.49849251 0.35416958 0.6299011  0.83488144 0.28157433 0.77450617 0.65006044 0.74188413 0.75578804 0.80979482 0.44702477 0.75666851 0.47583426 0.28322151 0.78256124 0.56039957 0.53297923 0.88191753 0.72264431 0.         0.54884608 0.5645885  0.75090765 0.65203415 0.64614468 0.9639378  1.00076456 0.44883644 0.51177302 0.29196573 0.75710473 0.75450758 0.69168306 0.04291101 0.44234485 0.72095184 0.29958658 0.56445855 0.22652512 0.48531986 0.52294516 0.61080616 0.50041653 0.38026262 0.68904849 0.8761561  0.78386304 0.22915966 0.25612573 0.82345056 0.36972466 0.90054524 0.34238603 0.77497816 0.3780384  0.41603355 0.24643201 0.78745968 0.22371344 0.61560108 0.68889113 0.11105088 0.28414157 0.28356883 0.71209565 0.07330388 0.49703133 0.31308646 0.05497197 0.76707904 0.37295249 0.63756573 0.86043829 0.59157646 0.75382538 0.43002784 0.0465981  0.74133029 0.20218233 0.25375905 0.68332791 0.69745866 0.49986482 0.80453804 0.66317823 0.42484497 0.11279029 0.2095571  0.65650967 0.25941189 0.26192371 0.74988136 0.47252605 0.82633279 0.543513   0.61246905 0.89007449]\n",
            " [0.61292819 0.91254106 0.51760236 0.30120384 0.29708583 0.09091142 0.35896352 0.82017472 0.62421746 0.69880479 0.86892073 0.87247453 0.41363165 0.15326881 0.27035692 0.23755291 0.83116967 0.71562047 0.12204611 0.17259359 0.50695672 0.33926577 0.54884608 0.         0.06711265 0.65215162 0.83247929 0.35525695 0.50972745 0.60193152 0.1715091  0.68103973 0.68221435 0.674706   0.67755688 0.68324978 0.5089022  0.10723153 0.87774624 0.84511447 0.79301462 0.43878386 0.77971497 0.7949937  0.17331826 0.0510797  0.52402158 0.31584418 0.81317016 0.81560357 0.40277677 0.632759   0.70342697 0.62965125 0.39011244 0.2071845  0.45685261 0.21796752 0.20451966 0.31208759 0.63271166 0.57397933 0.3095003  0.1656923  0.59061973 0.56234021 0.81139501 0.34508839 0.60092095 0.1220252  0.24079118 0.59690449 0.34819231 0.71637309 0.60214782 0.35519703 0.05061166 0.7707777  0.18346981 0.59535085 0.19443888 0.42278694 0.30172204 0.15024889 0.26521635 0.10437327 0.66651914 0.33498074 0.71613739 0.64708059 0.37369925 0.79701146 0.34791895 0.32450668 0.6873835  0.68046966 0.49886433 0.2635506  0.50853928 0.58613331]\n",
            " [0.66173271 0.97584973 0.5718556  0.36630656 0.27466479 0.07112645 0.40307657 0.84182357 0.69127013 0.76278086 0.93154826 0.93556488 0.47076128 0.21038629 0.31605883 0.30148159 0.84777522 0.78253215 0.05764219 0.23957849 0.5641856  0.40035918 0.5645885  0.06711265 0.         0.71918354 0.89211887 0.42171619 0.55414937 0.6541027  0.23063728 0.73874326 0.72251964 0.74165915 0.74446413 0.74890453 0.52303158 0.13058215 0.9391084  0.86372439 0.84921068 0.42859498 0.83100158 0.84824745 0.23659423 0.10157005 0.57813519 0.37873016 0.88022732 0.881133   0.3949546  0.67248246 0.77052148 0.67947147 0.4210959  0.23268265 0.52021148 0.26673004 0.17987868 0.3405806  0.69971453 0.61314484 0.2446514  0.12542694 0.59420418 0.60747704 0.83607827 0.40754448 0.62204256 0.08412038 0.25150235 0.61532447 0.40446648 0.76208805 0.66777488 0.38973225 0.09892737 0.83641183 0.23996901 0.6111299  0.18313329 0.41792964 0.31144119 0.11883827 0.32335007 0.16828232 0.73357517 0.2683385  0.76619539 0.66816744 0.40642066 0.85825463 0.34098939 0.32180496 0.75415124 0.73567935 0.56075008 0.33046763 0.57489839 0.64826125]\n",
            " [0.46005354 0.34718373 0.4299133  0.36413906 0.81467922 0.7163241  0.53930995 0.86008469 0.0673049  0.18735865 0.32872866 0.32024537 0.40660583 0.53350781 0.54438043 0.43077338 0.91362688 0.06657871 0.77112742 0.47961079 0.3871535  0.39477464 0.75090765 0.65215162 0.71918354 0.         0.37061786 0.31262112 0.5449189  0.4710749  0.51124878 0.33684177 0.58932864 0.02643532 0.0325124  0.11576721 0.74343265 0.64764017 0.3644905  0.90527649 0.4149415  0.84770426 0.49035546 0.46717682 0.50186437 0.62752874 0.37811782 0.39115217 0.16115793 0.2072061  0.81564934 0.57528575 0.07257871 0.45069732 0.63353815 0.62417204 0.29624913 0.5254348  0.76872389 0.60514783 0.07428779 0.56119894 0.9533007  0.78602201 0.85846481 0.49376588 0.82543375 0.37568865 0.73520137 0.74453278 0.67797684 0.75467228 0.43924413 0.53850985 0.1179294  0.6057068  0.63606015 0.16784633 0.51276516 0.77420425 0.74869335 0.81198558 0.6942361  0.76245814 0.4659635  0.55506366 0.06399108 0.98438973 0.47817518 0.75940964 0.58151067 0.31265762 0.78325268 0.75477953 0.05083544 0.38249734 0.3086291  0.38885688 0.15649819 0.28980172]\n",
            " [0.30567424 0.14897729 0.78595011 0.54288525 0.8711749  0.91714297 0.85445011 0.63320247 0.4367584  0.18795141 0.10295107 0.12069197 0.73791466 0.68173419 0.83142147 0.59839804 0.697406   0.33783163 0.9300091  0.67870574 0.74201696 0.69601405 0.65203415 0.83247929 0.89211887 0.37061786 0.         0.58925147 0.89472606 0.83716349 0.66173141 0.15938094 0.38229806 0.35152081 0.34444185 0.25546765 0.66649363 0.78009611 0.0699325  0.67894114 0.09511716 0.8327469  0.19517442 0.15486157 0.73641409 0.79054903 0.32941794 0.6785908  0.36944599 0.22099529 0.81277009 0.40168213 0.41331653 0.28363214 0.95044132 0.70977186 0.63407006 0.63351195 0.86505792 0.63584634 0.44483694 0.42862636 1.08367676 0.9935695  0.76020235 0.37473064 0.59306934 0.6756378  0.60273472 0.88251886 0.7432147  0.62833519 0.74994497 0.30034447 0.3000378  0.91588699 0.83816771 0.22838228 0.65230354 0.65279915 0.9855599  0.79703006 0.72792699 0.9736759  0.74459886 0.72867579 0.42909511 1.1248892  0.23489303 0.60445391 0.57880408 0.05799153 0.80367371 0.78279502 0.32597631 0.18392208 0.66090699 0.59989896 0.38988502 0.65776252]\n",
            " [0.49702803 0.62508435 0.27192274 0.14769499 0.57787564 0.40892543 0.26818332 0.84787393 0.2737001  0.41547888 0.59132064 0.58935648 0.17769513 0.27330746 0.24424845 0.18621104 0.88448664 0.37897819 0.47722669 0.19093423 0.23655321 0.10965907 0.64614468 0.35525695 0.42171619 0.31262112 0.58925147 0.         0.34560824 0.35598825 0.25472037 0.47323118 0.6159515  0.33776096 0.34209452 0.37497807 0.6218539  0.37913233 0.61360389 0.88655979 0.58661006 0.65923942 0.6175996  0.6146197  0.19194075 0.34194002 0.38389092 0.08935663 0.46966465 0.50294766 0.62224327 0.57920616 0.35398406 0.50217602 0.36306914 0.39456388 0.13140406 0.302307   0.51002868 0.42607519 0.28086583 0.53648136 0.6642456  0.47576264 0.73486408 0.48610175 0.82330904 0.09016663 0.66194654 0.46283281 0.45398592 0.67226751 0.16550599 0.60628979 0.30098561 0.32720151 0.33096121 0.4582616  0.26536133 0.68387947 0.43609965 0.62842727 0.49205644 0.45184699 0.15921418 0.27173871 0.31575603 0.69005315 0.57229625 0.70039928 0.43866186 0.53947637 0.57666384 0.54664375 0.35571763 0.49705333 0.18301157 0.11695641 0.20227916 0.25874903]\n",
            " [0.84221049 0.89205011 0.11772257 0.47943842 0.80204236 0.49859612 0.15118144 1.18685647 0.4796832  0.70800314 0.87085572 0.86381665 0.16833153 0.52989017 0.23942204 0.48872715 1.21924131 0.60298104 0.6080101  0.43580701 0.15824112 0.24598482 0.9639378  0.50972745 0.55414937 0.5449189  0.89472606 0.34560824 0.         0.13615331 0.52192021 0.80271363 0.96143011 0.57020304 0.57697254 0.64789275 0.93358139 0.59283966 0.90283667 1.22365399 0.91050591 0.92510521 0.9540126  0.94630781 0.3667461  0.53213878 0.72915557 0.2784925  0.65640184 0.75124628 0.88725151 0.92390285 0.54130112 0.84658164 0.16947714 0.65643932 0.26112    0.58972953 0.7128     0.72404634 0.47698858 0.87919593 0.77712666 0.52354947 1.03920017 0.83111662 1.16434394 0.26076677 0.9904282  0.63022682 0.71115446 0.99733387 0.1971143  0.95073578 0.59482401 0.17921051 0.4610427  0.7127577  0.53954072 1.00559238 0.43990932 0.90107981 0.76415432 0.50224712 0.26995266 0.49141883 0.50694088 0.78258721 0.91344071 1.03175447 0.75480753 0.83931842 0.83443916 0.80646701 0.59573397 0.83258694 0.23666469 0.42416412 0.51271671 0.27433252]\n",
            " [0.8317268  0.81410352 0.088494   0.50279675 0.88264137 0.60598754 0.26132452 1.20077548 0.40377175 0.64941555 0.79944127 0.79015374 0.19773622 0.59130721 0.34070177 0.52918719 1.23936529 0.52107422 0.71036515 0.49546091 0.11950668 0.28557811 1.00076456 0.60193152 0.6541027  0.4710749  0.83716349 0.35598825 0.13615331 0.         0.57893262 0.76637374 0.95774765 0.49407119 0.50118828 0.58282023 0.97476172 0.67163387 0.83552732 1.24048402 0.86625192 0.9911733  0.92230849 0.90895914 0.44045315 0.61551828 0.72117711 0.31849969 0.55853648 0.67025862 0.95329816 0.92544488 0.45187966 0.83248782 0.30308437 0.72000776 0.23532698 0.64057946 0.79856852 0.77209567 0.39793955 0.88713072 0.88766648 0.64054211 1.0857613  0.83205606 1.17455164 0.29197346 1.01793477 0.72395549 0.77782877 1.02810657 0.25690397 0.93526699 0.54360902 0.30622402 0.5566524  0.63605445 0.59450762 1.03932524 0.56131695 0.96383273 0.82546753 0.61791866 0.34077289 0.56347885 0.42239354 0.89742631 0.89000699 1.0562179  0.79199404 0.77984577 0.90291129 0.87369662 0.52041453 0.8021793  0.18991211 0.4591056  0.47764421 0.18157337]\n",
            " [0.4468611  0.74649066 0.49043947 0.14719501 0.32333964 0.25960384 0.38682565 0.69809389 0.49515583 0.53473406 0.70154383 0.70598679 0.38136575 0.02240355 0.30791837 0.080539   0.71958291 0.57081295 0.27260248 0.08611401 0.46612298 0.29337159 0.44883644 0.1715091  0.23063728 0.51124878 0.66173141 0.25472037 0.52192021 0.57893262 0.         0.50956778 0.52735941 0.53126138 0.53305817 0.52619991 0.41524129 0.13641607 0.70851277 0.72894878 0.62156123 0.41270876 0.61066208 0.62459724 0.16197089 0.12922719 0.35357255 0.26076735 0.67147879 0.65729197 0.37495305 0.47954488 0.57050773 0.46239579 0.4524589  0.14236244 0.38138987 0.07113199 0.26101462 0.20380082 0.50546544 0.42279834 0.44547298 0.33591907 0.51770051 0.40155254 0.683261   0.28860775 0.48598911 0.23574511 0.20148827 0.48827734 0.32859869 0.5533711  0.44545535 0.41210887 0.18669138 0.61319908 0.01906578 0.49290348 0.34690258 0.38490078 0.24653509 0.31829037 0.2521631  0.07139393 0.53647948 0.48025484 0.54830223 0.53053947 0.24585387 0.62764705 0.32612119 0.29640257 0.54031555 0.50929069 0.43126078 0.13870321 0.35872044 0.51208948]\n",
            " [0.16483766 0.28454897 0.70299725 0.40167706 0.71216826 0.76770713 0.74135092 0.5448136  0.39264933 0.16574186 0.23294963 0.24549375 0.6379111  0.52872405 0.70693119 0.45149422 0.60432042 0.33342346 0.77453885 0.53473511 0.65944869 0.5828064  0.51177302 0.68103973 0.73874326 0.33684177 0.15938094 0.47323118 0.80271363 0.76637374 0.50956778 0.         0.27404509 0.32776074 0.32198897 0.23203549 0.52124071 0.62357874 0.2202946  0.59110019 0.11587573 0.6793519  0.15699695 0.14366415 0.59869732 0.63732917 0.1700402  0.56063194 0.40361187 0.28209224 0.65766569 0.27723923 0.39972177 0.14578324 0.83567645 0.55086654 0.54366195 0.47694628 0.70589426 0.47672066 0.40385716 0.28961946 0.92513828 0.84426661 0.62221286 0.228014   0.50708102 0.56298486 0.47110675 0.72548784 0.58383377 0.49546106 0.63846989 0.20808155 0.22965397 0.79869786 0.69034339 0.26197969 0.49886653 0.51904239 0.84239807 0.64321666 0.56919752 0.82530372 0.62015192 0.57831346 0.40083136 0.96676782 0.14315827 0.48098447 0.42080569 0.1468396  0.64627591 0.62471734 0.30824029 0.04879015 0.57960889 0.46264828 0.29104842 0.59643858]\n",
            " [0.13088994 0.53031316 0.88119503 0.49020491 0.59471444 0.77287876 0.86415147 0.27250033 0.63401781 0.43748387 0.48103591 0.49715755 0.79363379 0.53808193 0.80550268 0.50718355 0.33049398 0.59894348 0.73960945 0.58946464 0.84088833 0.71846523 0.29196573 0.68221435 0.72251964 0.58932864 0.38229806 0.6159515  0.96143011 0.95774765 0.52735941 0.27404509 0.         0.5860121  0.58124243 0.49797374 0.31844358 0.59233604 0.45217114 0.31848554 0.28854545 0.50562047 0.19812281 0.23817835 0.66862373 0.63152701 0.23667636 0.6884688  0.67616245 0.55506196 0.49692574 0.05031924 0.658311   0.13866018 0.94896218 0.49390475 0.72274471 0.46608522 0.62498687 0.38930853 0.64652725 0.10974655 0.84598714 0.84490854 0.3913     0.13190897 0.23645092 0.70180144 0.23012108 0.67921908 0.49887699 0.25631903 0.77254297 0.08420933 0.4722953  0.90865319 0.71011606 0.53598437 0.51005396 0.28105204 0.87144999 0.47431986 0.45798067 0.83193947 0.72647647 0.59691334 0.65176815 0.89248827 0.14750503 0.22409524 0.32060818 0.4009941  0.50752827 0.49656778 0.57041121 0.22592655 0.76843521 0.5529116  0.49346761 0.80799053]\n",
            " [0.45794015 0.322247   0.45479174 0.38406836 0.83132772 0.74004804 0.56573825 0.85772147 0.09103822 0.17211014 0.30537238 0.29628992 0.43291955 0.55359099 0.57056901 0.45095231 0.9123905  0.04135377 0.79312114 0.50211243 0.41225229 0.4210316  0.75710473 0.674706   0.74165915 0.02643532 0.35152081 0.33776096 0.57020304 0.49407119 0.53126138 0.32776074 0.5860121  0.         0.00717323 0.09972034 0.7510701  0.66766999 0.34221378 0.90320164 0.40022198 0.86016077 0.47899447 0.45414567 0.52623273 0.64908847 0.3811071  0.41706772 0.14023452 0.18134403 0.82867912 0.57417328 0.07248712 0.44741709 0.65993267 0.64129199 0.32255181 0.54298696 0.7874235  0.618605   0.09614134 0.56278785 0.97447981 0.81020287 0.86548501 0.49501874 0.82243134 0.40188613 0.73891442 0.76537051 0.69428554 0.75898658 0.46566091 0.53213774 0.11987946 0.63214117 0.65956574 0.14293727 0.53213466 0.77902471 0.77385482 0.82422529 0.70871614 0.78672786 0.49182318 0.57674052 0.07777916 1.00613275 0.4702492  0.76172767 0.59246114 0.29354385 0.79753797 0.76934945 0.02636922 0.37451587 0.33417634 0.41119327 0.17384383 0.31254467]\n",
            " [0.45346497 0.315353   0.46166271 0.38589417 0.83182555 0.74347183 0.57164864 0.85310306 0.09801864 0.16549482 0.298253   0.28922694 0.4391037  0.5554092  0.57577947 0.45284308 0.9080053  0.03807107 0.79569948 0.50497335 0.41906876 0.42635115 0.75450758 0.67755688 0.74446413 0.0325124  0.34444185 0.34209452 0.57697254 0.50118828 0.53305817 0.32198897 0.58124243 0.00717323 0.         0.09313015 0.74885449 0.6694409  0.33504627 0.89863864 0.3935665  0.85930112 0.47279299 0.44770357 0.53004189 0.6514959  0.37784388 0.42198984 0.1387815  0.17477485 0.82799956 0.56987435 0.07783242 0.44270003 0.66596732 0.64198882 0.328752   0.54386337 0.78866296 0.61810212 0.10327172 0.5591032  0.97668426 0.81387068 0.86308549 0.49128018 0.81768459 0.40712384 0.73569436 0.76745341 0.69469083 0.75591101 0.47132681 0.52677977 0.11697723 0.63799208 0.662885   0.1360125  0.5336819  0.77607195 0.77813608 0.8233056  0.70851451 0.79044831 0.49668219 0.57921331 0.08476259 1.00857975 0.46462313 0.75816754 0.59121177 0.28647009 0.79725733 0.76916496 0.01922797 0.36891583 0.34085095 0.41400892 0.17503202 0.31967109]\n",
            " [0.37346748 0.25168763 0.53573882 0.38278261 0.804918   0.75671322 0.62545887 0.7704714  0.18130952 0.07239064 0.22388269 0.21868157 0.49918314 0.54848357 0.61774006 0.44880363 0.82725006 0.1015831  0.79658333 0.51310865 0.49213646 0.47206137 0.69168306 0.68324978 0.74890453 0.11576721 0.25546765 0.37497807 0.64789275 0.58282023 0.52619991 0.23203549 0.49797374 0.09972034 0.09313015 0.         0.6902181  0.66044502 0.25504144 0.81639675 0.30051222 0.81560231 0.38035626 0.35465837 0.55122313 0.65131579 0.31142207 0.46159738 0.18475134 0.13247497 0.78661806 0.49082664 0.16932926 0.36054818 0.7213415  0.61921555 0.39083229 0.52470017 0.77158836 0.58053403 0.18965605 0.48607315 0.97134426 0.83014721 0.80191167 0.41822804 0.73406128 0.45189692 0.66642425 0.76176487 0.6676671  0.68803764 0.52199127 0.43904131 0.08113115 0.69022911 0.67535453 0.08752848 0.52348684 0.70938632 0.80382139 0.77909213 0.67378159 0.80765784 0.53406181 0.58082037 0.17700383 1.00641381 0.37518432 0.68539871 0.54491952 0.19765438 0.76089343 0.73417238 0.07717372 0.27994673 0.41163455 0.42348419 0.17816182 0.40263768]\n",
            " [0.36101177 0.80483915 0.88769035 0.47427525 0.31184458 0.58890273 0.80200514 0.32447159 0.76351187 0.6524672  0.75326285 0.76650457 0.78199456 0.4120941  0.72240188 0.44718076 0.32486373 0.77829644 0.5179429  0.50030105 0.85646102 0.69428799 0.04291101 0.5089022  0.52303158 0.74343265 0.66649363 0.6218539  0.93358139 0.97476172 0.41524129 0.52124071 0.31844358 0.7510701  0.74885449 0.6902181  0.         0.40205354 0.7345987  0.34192796 0.58151196 0.19028688 0.50705856 0.54333932 0.57695622 0.46102513 0.3799734  0.66064658 0.87385208 0.78777803 0.18934985 0.27852308 0.81574694 0.38289344 0.86547327 0.30331237 0.75184644 0.34508192 0.37314791 0.21156346 0.77638622 0.23878729 0.57332736 0.64703641 0.11638382 0.29351773 0.32622862 0.68455974 0.1132773  0.45463055 0.27161234 0.09752985 0.73721471 0.39667145 0.63231174 0.82558811 0.55243386 0.75591152 0.39666901 0.08854823 0.70067628 0.16319087 0.21178201 0.64183911 0.66569397 0.46348277 0.79508462 0.62091672 0.44430992 0.15506422 0.18319227 0.6673739  0.21713977 0.2190602  0.74529602 0.4845508  0.80341421 0.51608985 0.60072973 0.86972227]\n",
            " [0.53573909 0.87398428 0.58438642 0.28360919 0.21104702 0.18903287 0.44513331 0.71583092 0.63034737 0.66504486 0.82749828 0.83310378 0.47615209 0.11413255 0.35723957 0.21687022 0.72511011 0.70716667 0.15248794 0.18951087 0.56710717 0.39302538 0.44234485 0.10723153 0.13058215 0.64764017 0.78009611 0.37913233 0.59283966 0.67163387 0.13641607 0.62357874 0.59233604 0.66766999 0.6694409  0.66044502 0.40205354 0.         0.83116701 0.73965289 0.73090003 0.33789142 0.70664592 0.7259389  0.23120295 0.06383476 0.45835102 0.36402972 0.80789118 0.7906538  0.30090903 0.54222284 0.70638424 0.55426045 0.48782923 0.10313678 0.49789978 0.1466546  0.13154039 0.21069818 0.64038106 0.48283382 0.31120403 0.25510629 0.48376814 0.47923651 0.70847983 0.39367193 0.49614803 0.10305737 0.13379293 0.49116619 0.414747   0.63379906 0.58010527 0.45080424 0.15382609 0.74698648 0.13699183 0.48890825 0.29915838 0.31915171 0.19460436 0.24537685 0.33109758 0.11072508 0.67192331 0.34833665 0.64089753 0.54234979 0.27591486 0.75040347 0.24635892 0.22099712 0.67654872 0.61639663 0.54498622 0.26839751 0.49495628 0.6296809 ]\n",
            " [0.37358706 0.08112023 0.79071208 0.58245047 0.93148639 0.96025173 0.87400667 0.7009931  0.4317909  0.1989473  0.04531632 0.06264391 0.7517457  0.72921001 0.8576664  0.6413     0.76554234 0.32091694 0.97929906 0.71875414 0.74715411 0.71728144 0.72095184 0.87774624 0.9391084  0.3644905  0.0699325  0.61360389 0.90283667 0.83552732 0.70851277 0.2202946  0.45217114 0.34221378 0.33504627 0.25504144 0.7345987  0.83116701 0.         0.74652447 0.16430775 0.89841773 0.26304061 0.22207521 0.77167446 0.8377332  0.38855977 0.70265892 0.33362195 0.18463499 0.8774963  0.4714528  0.39605636 0.35178669 0.97019749 0.76538264 0.64469105 0.68518972 0.9213075  0.69596305 0.43815058 0.49734028 1.13772357 1.03630019 0.8294742  0.44193704 0.66072523 0.69687727 0.6723971  0.93406597 0.80142165 0.69794101 0.76963665 0.36998213 0.31494018 0.93725726 0.88021931 0.20499427 0.70036288 0.72236346 1.02327307 0.86247825 0.78896769 1.01565198 0.77158672 0.77344721 0.41751065 1.17795671 0.30480629 0.67437802 0.64104006 0.08089243 0.86656609 0.84487999 0.31586869 0.25048027 0.66667334 0.63620726 0.41144998 0.65428569]\n",
            " [0.44533637 0.82737901 1.1583272  0.74470177 0.64496458 0.92814338 1.10639525 0.04635608 0.94645395 0.75563933 0.78148892 0.79877521 1.06086951 0.731084   1.03425934 0.73915422 0.0301785  0.91721111 0.85987074 0.80834371 1.12123792 0.97782113 0.29958658 0.84511447 0.86372439 0.90527649 0.67894114 0.88655979 1.22365399 1.24048402 0.72894878 0.59110019 0.31848554 0.90320164 0.89863864 0.81639675 0.34192796 0.73965289 0.74652447 0.         0.5841856  0.49602469 0.48378287 0.52448602 0.88873818 0.79563169 0.53663082 0.945162   0.99427429 0.8694027  0.51127843 0.33061182 0.9752388  0.45621457 1.17988611 0.63793004 1.00630628 0.65818785 0.71386993 0.53549711 0.95920275 0.35627816 0.90352118 0.98830225 0.30803763 0.41847991 0.08588612 0.96414057 0.24482014 0.79655084 0.61233009 0.24856381 1.02753682 0.3863607  0.78755524 1.13924654 0.88578495 0.85284962 0.70988917 0.25337973 1.03876668 0.48308459 0.55332735 0.98231832 0.96653541 0.78726326 0.96681676 0.95067683 0.45474334 0.19909289 0.48325178 0.70785224 0.55134082 0.55821122 0.88831703 0.54246252 1.05529274 0.79995913 0.797538   1.10517043]\n",
            " [0.22438345 0.24408947 0.80733306 0.51735961 0.80368518 0.88061274 0.85476304 0.53835465 0.47724796 0.22812682 0.19730382 0.21463343 0.74769996 0.64006179 0.82221527 0.56602473 0.60240637 0.39511711 0.8828394  0.64981417 0.76346096 0.69590488 0.56445855 0.79301462 0.84921068 0.4149415  0.09511716 0.58661006 0.91050591 0.86625192 0.62156123 0.11587573 0.28854545 0.40022198 0.3935665  0.30051222 0.58151196 0.73090003 0.16430775 0.5841856  0.         0.75368798 0.10083476 0.06226342 0.71448801 0.74816782 0.27261568 0.67467043 0.44339372 0.30050147 0.73600564 0.31090708 0.46822967 0.20191867 0.94956059 0.65271571 0.64991519 0.58483092 0.80559888 0.57036011 0.487072   0.34272527 1.02723101 0.95712667 0.67112621 0.29462255 0.49830025 0.67590007 0.51214794 0.83165762 0.68075278 0.53800217 0.75131485 0.20578961 0.32279422 0.91298845 0.80406334 0.29762805 0.60999093 0.56263186 0.95730615 0.71862498 0.65973371 0.93860891 0.73534159 0.69113746 0.47738125 1.07004341 0.14193638 0.51177155 0.50922308 0.12942473 0.73106709 0.71204274 0.37676995 0.11484173 0.68273689 0.57850952 0.39786294 0.69142241]\n",
            " [0.52939548 0.96331387 0.90270264 0.5215393  0.16251986 0.49960794 0.78037812 0.48995314 0.85433036 0.79002905 0.91186683 0.92342246 0.7934443  0.39989229 0.69352148 0.47303195 0.47256644 0.89273532 0.40445207 0.4958038  0.87881146 0.70582329 0.22652512 0.43878386 0.42859498 0.84770426 0.8327469  0.65923942 0.92510521 0.9911733  0.41270876 0.6793519  0.50562047 0.86016077 0.85930112 0.81560231 0.19028688 0.33789142 0.89841773 0.49602469 0.75368798 0.         0.68741935 0.72142006 0.55849022 0.40159939 0.5202827  0.67342705 0.99291767 0.92697731 0.0379412  0.46261142 0.91748145 0.55184914 0.82568387 0.27118302 0.78970376 0.35695584 0.25139182 0.2441137  0.86655903 0.41573522 0.40973642 0.54111877 0.19013115 0.45924867 0.50025075 0.70130107 0.29977287 0.34703599 0.21422282 0.27893887 0.73783969 0.58054005 0.74730998 0.7886677  0.48863238 0.89046736 0.39814584 0.26097062 0.61145035 0.0366596  0.16730561 0.54252544 0.65707286 0.43368657 0.8909012  0.45633108 0.62215162 0.33571607 0.27074765 0.82591989 0.09154513 0.11864175 0.85941423 0.64882488 0.84065993 0.54308919 0.69418671 0.91772443]\n",
            " [0.172748   0.34368739 0.85711877 0.52652072 0.75409419 0.86960467 0.88391398 0.43809859 0.54835496 0.3092808  0.29788692 0.31534217 0.78752878 0.62690668 0.8421087  0.56584224 0.50251265 0.47948436 0.85901781 0.6514584  0.81384191 0.72702551 0.48531986 0.77971497 0.83100158 0.49035546 0.19517442 0.6175996  0.9540126  0.92230849 0.61066208 0.15699695 0.19812281 0.47899447 0.47279299 0.38035626 0.50705856 0.70664592 0.26304061 0.48378287 0.10083476 0.68741935 0.         0.0413451  0.72256751 0.73206092 0.2584099  0.70240491 0.53665199 0.39774245 0.67349506 0.22925041 0.54967987 0.15278093 0.97645326 0.6196675  0.6969947  0.56428417 0.76696891 0.52735451 0.55925338 0.27169161 0.99038001 0.94536545 0.58817998 0.2384428  0.39792078 0.70776251 0.42730887 0.8038441  0.63984218 0.45347741 0.78295434 0.1139799  0.38636534 0.93822781 0.79690784 0.39055516 0.59676792 0.47824957 0.95493912 0.65372998 0.61105472 0.92864501 0.75652297 0.68187254 0.55412547 1.0349126  0.06774113 0.42196411 0.46167752 0.22854296 0.67491059 0.65886208 0.45752704 0.1214273  0.73462049 0.59029684 0.44541417 0.75336746]\n",
            " [0.19864938 0.30289555 0.84651569 0.53218685 0.78263986 0.88415598 0.88228517 0.47891958 0.52738986 0.282586   0.25778229 0.27540683 0.78118298 0.6417656  0.84427485 0.57541212 0.54350592 0.45180405 0.87842277 0.66058665 0.80291101 0.72427808 0.52294516 0.7949937  0.84824745 0.46717682 0.15486157 0.6146197  0.94630781 0.90895914 0.62459724 0.14366415 0.23817835 0.45414567 0.44770357 0.35465837 0.54333932 0.7259389  0.22207521 0.52448602 0.06226342 0.72142006 0.0413451  0.         0.72930689 0.74831986 0.271044   0.70102484 0.50404877 0.3623882  0.70627024 0.266916   0.5236355  0.17710752 0.97590166 0.64202652 0.68731197 0.58177994 0.79166573 0.55308257 0.53780174 0.30611534 1.01472191 0.96031531 0.62695568 0.26722482 0.43866593 0.7046576  0.46641039 0.82464952 0.66511673 0.49253022 0.78010265 0.15398795 0.368236   0.93831956 0.80984066 0.35799585 0.61155932 0.51729375 0.96624778 0.68724895 0.63902752 0.94287939 0.75799367 0.69537453 0.53044902 1.05867919 0.09934109 0.46224479 0.48880999 0.19161721 0.70557967 0.68849171 0.43163614 0.1196877  0.72288672 0.59515503 0.4346569  0.7370941 ]\n",
            " [0.57209854 0.79450591 0.35341575 0.19736259 0.44224335 0.21714578 0.22600812 0.8565932  0.46560527 0.57993694 0.75568902 0.75635535 0.24586429 0.16574458 0.14606565 0.16175651 0.88022265 0.5675865  0.29384534 0.08088825 0.33805252 0.16673365 0.61080616 0.17331826 0.23659423 0.50186437 0.73641409 0.19194075 0.3667461  0.44045315 0.16197089 0.59869732 0.66862373 0.52623273 0.53004189 0.55122313 0.57695622 0.23120295 0.77167446 0.88873818 0.71448801 0.55849022 0.72256751 0.72930689 0.         0.17638933 0.46614869 0.14253557 0.66064681 0.68270411 0.52060592 0.62335533 0.54585461 0.58400572 0.29123775 0.28998558 0.28375581 0.23292646 0.35894876 0.36539743 0.47279537 0.56959439 0.48124417 0.28430498 0.67755338 0.53813474 0.83994558 0.17178587 0.64691883 0.29167902 0.34442948 0.64988417 0.18355228 0.68263846 0.47214601 0.25068824 0.14098543 0.6375379  0.18082814 0.65482737 0.25306083 0.53436193 0.39780492 0.26062243 0.09998895 0.12500256 0.50769159 0.50339623 0.66597265 0.69101969 0.40669    0.693081   0.46809777 0.43988126 0.54228336 0.60988596 0.32561774 0.13664251 0.37308529 0.41282648]\n",
            " [0.5641903  0.87529653 0.5291625  0.26869374 0.26992498 0.14135203 0.38333764 0.77013896 0.60415276 0.66284709 0.83062124 0.83488684 0.42217859 0.10881647 0.29502638 0.20257586 0.78213277 0.68952932 0.14527224 0.15181909 0.51442919 0.34207243 0.50041653 0.0510797  0.10157005 0.62752874 0.79054903 0.34194002 0.53213878 0.61551828 0.12922719 0.63732917 0.63152701 0.64908847 0.6514959  0.65131579 0.46102513 0.06383476 0.8377332  0.79563169 0.74816782 0.40159939 0.73206092 0.74831986 0.17638933 0.         0.47771751 0.31518464 0.78865119 0.7831667  0.36469702 0.58198626 0.68220309 0.58130703 0.42408456 0.15807389 0.4532421  0.1685847  0.1830503  0.26163073 0.6133719  0.52312801 0.32616244 0.21463453 0.54606341 0.51247246 0.76090838 0.34492405 0.55116738 0.12089299 0.19640004 0.54772438 0.35893692 0.66673348 0.57024006 0.3872426  0.09160715 0.7386884  0.1384714  0.54681453 0.24510354 0.38296673 0.25669558 0.20047689 0.27491641 0.07255995 0.64627243 0.3570987  0.66793159 0.59728068 0.3227047  0.75686337 0.31009161 0.28483113 0.66022514 0.63492184 0.49823362 0.2397942  0.47954117 0.58441855]\n",
            " [0.11314556 0.44650421 0.64541029 0.27279241 0.54292733 0.61311318 0.64139643 0.49316339 0.41229119 0.27319332 0.39573703 0.40586749 0.56086023 0.37076597 0.59162646 0.30775821 0.5417746  0.4037947  0.61044631 0.39345236 0.60468878 0.48978407 0.38026262 0.52402158 0.57813519 0.37811782 0.32941794 0.38389092 0.72915557 0.72117711 0.35357255 0.1700402  0.23667636 0.3811071  0.37784388 0.31142207 0.3799734  0.45835102 0.38855977 0.53663082 0.27261568 0.5202827  0.2584099  0.271044   0.46614869 0.47771751 0.         0.46166484 0.49596893 0.40953635 0.49570947 0.20823118 0.45034156 0.12006666 0.73063837 0.38159097 0.48636094 0.31257477 0.53612275 0.30740701 0.42520792 0.18410062 0.75619147 0.68927816 0.4905967  0.11832836 0.46216584 0.47201832 0.35785324 0.55906327 0.41380191 0.37830328 0.54503223 0.22328969 0.26134483 0.69125645 0.53914923 0.37622197 0.34055985 0.39893371 0.6966079  0.48370286 0.40065054 0.67186261 0.50807565 0.42444994 0.43640826 0.79838581 0.19982571 0.381317   0.25454466 0.31117614 0.48016031 0.4573685  0.37163178 0.15805215 0.53177083 0.33715469 0.2610446  0.5726924 ]\n",
            " [0.57443709 0.71259301 0.23007976 0.2013954  0.57268232 0.35289803 0.18150907 0.90847831 0.34452033 0.50427282 0.67976417 0.67740138 0.12183759 0.27415931 0.15615174 0.21347303 0.94084235 0.45770156 0.43614993 0.17914871 0.20579133 0.03364198 0.68904849 0.31584418 0.37873016 0.39115217 0.6785908  0.08935663 0.2784925  0.31849969 0.26076735 0.56063194 0.6884688  0.41706772 0.42198984 0.46159738 0.66064658 0.36402972 0.70265892 0.945162   0.67467043 0.67342705 0.70240491 0.70102484 0.14253557 0.31518464 0.46166484 0.         0.54320495 0.58755923 0.63562991 0.64891872 0.42420686 0.58131991 0.27504889 0.40254596 0.14155603 0.32231984 0.49484252 0.45479228 0.34962675 0.60233072 0.62331146 0.41281298 0.7696221  0.55704022 0.8863794  0.029753   0.71277782 0.43316938 0.46099796 0.72045214 0.08409388 0.68494996 0.38926654 0.23839243 0.28158213 0.5432987  0.27605735 0.72962699 0.36262603 0.64557201 0.50721968 0.38842587 0.07492553 0.25337725 0.38519186 0.64417593 0.6546655  0.75365714 0.47949182 0.62879457 0.5860777  0.55658592 0.43689946 0.5826418  0.18341541 0.14620645 0.29121339 0.27038493]\n",
            " [0.55526013 0.28232717 0.53868047 0.52428383 0.96995216 0.87618103 0.67628473 0.9480626  0.19881102 0.23867932 0.2890136  0.27367966 0.5395752  0.69380103 0.6921728  0.59113873 1.00657786 0.1019054  0.93228099 0.64067785 0.49990479 0.5425414  0.8761561  0.81317016 0.88022732 0.16115793 0.36944599 0.46966465 0.65640184 0.55853648 0.67147879 0.40361187 0.67616245 0.14023452 0.1387815  0.18475134 0.87385208 0.80789118 0.33362195 0.99427429 0.44339372 0.99291767 0.53665199 0.50404877 0.66064681 0.78865119 0.49596893 0.54320495 0.         0.14968792 0.96248767 0.67257133 0.12076438 0.54088742 0.76704771 0.78044197 0.43143155 0.68250835 0.92744444 0.75354372 0.19484189 0.67027762 1.11432427 0.94494606 0.98618382 0.60255016 0.91060549 0.52464288 0.85106212 0.90538423 0.83268057 0.87276605 0.58165461 0.61120575 0.24561136 0.74322542 0.79627787 0.14613772 0.67235068 0.89413766 0.904351   0.9566626  0.84493821 0.92118734 0.61802856 0.71620303 0.15955671 1.14554432 0.54444895 0.86939408 0.72323135 0.31707377 0.93335449 0.90560483 0.13456193 0.45239691 0.42997916 0.54998363 0.31381109 0.38336763]\n",
            " [0.44448951 0.14427985 0.63532705 0.51487742 0.92772065 0.88914476 0.74431997 0.82304998 0.27156755 0.13695766 0.14079678 0.12684092 0.61318012 0.6794891  0.74319737 0.58059194 0.88413531 0.14937888 0.92839468 0.64558336 0.59313185 0.5952558  0.78386304 0.81560357 0.881133   0.2072061  0.22099529 0.50294766 0.75124628 0.67025862 0.65729197 0.28209224 0.55506196 0.18134403 0.17477485 0.13247497 0.78777803 0.7906538  0.18463499 0.8694027  0.30050147 0.92697731 0.39774245 0.3623882  0.68270411 0.7831667  0.40953635 0.58755923 0.14968792 0.         0.90009373 0.55909605 0.22011886 0.42693491 0.8392527  0.74501325 0.50295721 0.65252173 0.89894975 0.69865874 0.27481384 0.5667529  1.10181353 0.9624489  0.89491375 0.5012532  0.78430737 0.57547389 0.7493916  0.89248877 0.79117524 0.7728937  0.64261651 0.48310488 0.213476   0.81023733 0.8077895  0.04518363 0.65389898 0.79575543 0.93485231 0.89031834 0.79285936 0.93987947 0.66118389 0.71296251 0.2479065  1.13751801 0.41484672 0.76194175 0.65702759 0.17152436 0.87823933 0.85262334 0.1565786  0.32931468 0.51547958 0.55589369 0.31006231 0.4890834 ]\n",
            " [0.5116948  0.94071051 0.86483277 0.48552355 0.13627578 0.46575745 0.74271402 0.50196865 0.82074923 0.76326607 0.8894308  0.90051011 0.75556551 0.36200148 0.6559864  0.43604052 0.48920504 0.86188374 0.37342345 0.45790291 0.8410743  0.66798461 0.22915966 0.40277677 0.3949546  0.81564934 0.81277009 0.62224327 0.88725151 0.95329816 0.37495305 0.65766569 0.49692574 0.82867912 0.82799956 0.78661806 0.18934985 0.30090903 0.8774963  0.51127843 0.73600564 0.0379412  0.67349506 0.70627024 0.52060592 0.36469702 0.49570947 0.63562991 0.96248767 0.90009373 0.         0.45204243 0.88494869 0.5341484  0.78873318 0.23329305 0.75252098 0.31994092 0.2200344  0.21073208 0.83288317 0.40228713 0.39225793 0.50969643 0.2108809  0.44145871 0.50938761 0.66355953 0.30205523 0.31453638 0.17629312 0.28345637 0.69989976 0.56905317 0.71700482 0.75154178 0.45238039 0.86281499 0.36052979 0.26799744 0.57805429 0.02819901 0.13019105 0.5101497  0.61914454 0.39583921 0.85776127 0.43947855 0.60733908 0.34117437 0.24307499 0.80373036 0.05485782 0.08085201 0.82860935 0.62902415 0.80339529 0.50591478 0.66138733 0.88084485]\n",
            " [0.11739883 0.54720024 0.84709901 0.44904317 0.5463957  0.72332964 0.82265244 0.28616935 0.61586122 0.43497129 0.49671    0.5119519  0.75677017 0.48969218 0.76184472 0.46245298 0.33835246 0.59035153 0.68930968 0.54365703 0.8076116  0.67958574 0.25612573 0.632759   0.67248246 0.57528575 0.40168213 0.57920616 0.92390285 0.92544488 0.47954488 0.27723923 0.05031924 0.57417328 0.56987435 0.49082664 0.27852308 0.54222284 0.4714528  0.33061182 0.31090708 0.46261142 0.22925041 0.266916   0.62335533 0.58198626 0.20823118 0.64891872 0.67257133 0.55909605 0.45204243 0.         0.64583017 0.1324827  0.90601852 0.44361014 0.69012124 0.41723266 0.57508235 0.33901667 0.62859996 0.05945957 0.79642794 0.7950927  0.36060044 0.09344992 0.25408663 0.66349149 0.20127328 0.62889987 0.44878294 0.22709544 0.73299185 0.11825596 0.45741184 0.8655576  0.66133841 0.53633559 0.46199993 0.25172991 0.82261706 0.43032501 0.40862    0.78232114 0.68414681 0.54862422 0.63643257 0.84282567 0.16961654 0.20473156 0.27030519 0.41370549 0.46036687 0.44846618 0.56045166 0.23168128 0.73703283 0.51082725 0.46895244 0.78065856]\n",
            " [0.52991059 0.36438526 0.42382495 0.42443185 0.87963032 0.76252771 0.55572576 0.92983571 0.08032729 0.24105419 0.35579685 0.34426744 0.41923981 0.59250792 0.57181685 0.49004804 0.98414793 0.07566212 0.82399171 0.53190881 0.38357976 0.4223936  0.82345056 0.70342697 0.77052148 0.07257871 0.41331653 0.35398406 0.54130112 0.45187966 0.57050773 0.39972177 0.658311   0.07248712 0.07783242 0.16932926 0.81574694 0.70638424 0.39605636 0.9752388  0.46822967 0.91748145 0.54967987 0.5236355  0.54585461 0.68220309 0.45034156 0.42420686 0.12076438 0.22011886 0.88494869 0.64583017 0.         0.51968051 0.64695842 0.6886896  0.31073546 0.58949854 0.830126   0.67424733 0.07464325 0.63305546 1.0083479  0.82970092 0.93089196 0.56547436 0.89469472 0.40478418 0.80764687 0.80095197 0.74362342 0.82719808 0.46091486 0.60457494 0.18937859 0.62266622 0.68357311 0.19114149 0.57345382 0.84676963 0.78630035 0.88195939 0.76218216 0.80572952 0.49882352 0.60966826 0.03907909 1.03765181 0.54243514 0.83154159 0.65253441 0.35580916 0.851322   0.8225584  0.09215555 0.44673825 0.31105904 0.44241073 0.22370573 0.27202898]\n",
            " [0.02246482 0.42358381 0.75940787 0.3924053  0.60586935 0.72001376 0.76135426 0.41050984 0.49624699 0.30279307 0.37226035 0.38643677 0.6782698  0.47761534 0.71142826 0.42389661 0.466702   0.46106407 0.70652902 0.50944272 0.71779953 0.60901375 0.36972466 0.62965125 0.67947147 0.45069732 0.28363214 0.50217602 0.84658164 0.83248782 0.46239579 0.14578324 0.13866018 0.44741709 0.44270003 0.36054818 0.38289344 0.55426045 0.35178669 0.45621457 0.20191867 0.55184914 0.15278093 0.17710752 0.58400572 0.58130703 0.12006666 0.58131991 0.54088742 0.42693491 0.5341484  0.1324827  0.51968051 0.         0.85070313 0.46692737 0.59922009 0.41299487 0.61505175 0.37606191 0.50865665 0.14606171 0.83831764 0.79532632 0.47921748 0.09270774 0.3750179  0.59096976 0.32580986 0.65109464 0.48824848 0.35047453 0.6644492  0.10416016 0.33383685 0.81130119 0.64908108 0.40386242 0.44765923 0.37432933 0.80858717 0.51671904 0.46211692 0.77924654 0.62810269 0.53378846 0.51325197 0.88260436 0.08672858 0.33527709 0.31176439 0.28723629 0.53041841 0.51241499 0.4321208  0.10303085 0.64257828 0.45676457 0.36064709 0.6764906 ]\n",
            " [0.84202478 0.97263798 0.25601508 0.45994218 0.68703172 0.35717935 0.09619444 1.14734466 0.5746601  0.77127371 0.94402081 0.93988813 0.22794593 0.45355556 0.14578156 0.44540352 1.17145854 0.69752689 0.46979687 0.37155782 0.28088583 0.25456263 0.90054524 0.39011244 0.4210959  0.63353815 0.95044132 0.36306914 0.16947714 0.30308437 0.4524589  0.83567645 0.94896218 0.65993267 0.66596732 0.7213415  0.86547327 0.48782923 0.97019749 1.17988611 0.94956059 0.82568387 0.97645326 0.97590166 0.29123775 0.42408456 0.73063837 0.27504889 0.76704771 0.8392527  0.78873318 0.90601852 0.64695842 0.85070313 0.         0.56914549 0.3379261  0.52358924 0.59351276 0.65427268 0.5754063  0.85473997 0.62560828 0.36815936 0.96184778 0.81713418 1.12986492 0.27488509 0.93810892 0.50295334 0.61727983 0.94073623 0.20068513 0.95321657 0.65526033 0.04073261 0.33950227 0.79700351 0.47146716 0.94507461 0.28064657 0.80641218 0.67536816 0.3490908  0.22298444 0.40300977 0.60921907 0.62626037 0.92686795 0.9822573  0.69786081 0.89894784 0.73417228 0.70859578 0.68327016 0.85724187 0.33836045 0.3963281  0.56071729 0.40408109]\n",
            " [0.44714413 0.81486698 0.63154672 0.26868697 0.19102394 0.29201105 0.51488779 0.61328609 0.6175548  0.61338921 0.76633297 0.77371219 0.52227373 0.12870956 0.43032723 0.21049671 0.62413234 0.67855393 0.24571051 0.22462532 0.60818503 0.43476002 0.34238603 0.2071845  0.23268265 0.62417204 0.70977186 0.39456388 0.65643932 0.72000776 0.14236244 0.55086654 0.49390475 0.64129199 0.64198882 0.61921555 0.30331237 0.10313678 0.76538264 0.63793004 0.65271571 0.27118302 0.6196675  0.64202652 0.28998558 0.15807389 0.38159097 0.40254596 0.78044197 0.74501325 0.23329305 0.44361014 0.6886896  0.46692737 0.56914549 0.         0.52297064 0.09933672 0.15614626 0.10789991 0.6287973  0.38415896 0.3746515  0.35781967 0.39300127 0.38651233 0.60545584 0.43070663 0.39382627 0.18615248 0.05944233 0.38977966 0.46700357 0.54009914 0.54168055 0.53026364 0.24921433 0.70312824 0.1294217  0.38875442 0.40113132 0.24498877 0.10782967 0.34850213 0.38713443 0.16724846 0.65736398 0.41737475 0.55275216 0.44000721 0.17457451 0.6855498  0.18376462 0.15409969 0.64633686 0.53792449 0.57319585 0.27761461 0.46780039 0.65300734]\n",
            " [0.59758953 0.63953795 0.16068848 0.27776337 0.70240387 0.49341543 0.24520568 0.96615318 0.23679384 0.44811163 0.61470106 0.60891277 0.11037363 0.39838402 0.26677622 0.31690012 1.00590035 0.35966786 0.57756955 0.30871367 0.11857994 0.12483704 0.77497816 0.45685261 0.52021148 0.29624913 0.63407006 0.13140406 0.26112    0.23532698 0.38138987 0.54366195 0.72274471 0.32255181 0.328752   0.39083229 0.75184644 0.49789978 0.64469105 1.00630628 0.64991519 0.78970376 0.6969947  0.68731197 0.28375581 0.4532421  0.48636094 0.14155603 0.43143155 0.50295721 0.75252098 0.69012124 0.31073546 0.59922009 0.3379261  0.52297064 0.         0.43281161 0.62942904 0.55747774 0.23797132 0.65213637 0.76482841 0.55058221 0.86546263 0.59672917 0.93950193 0.11346812 0.78752879 0.57266695 0.58238317 0.79904852 0.15201931 0.70264378 0.33403652 0.3121104  0.42312093 0.46174805 0.39356513 0.81161692 0.49351863 0.75928638 0.62241178 0.52615482 0.20681368 0.38760642 0.27237008 0.78563205 0.66027083 0.82450797 0.56874082 0.57912422 0.70603396 0.67607142 0.34646578 0.57576374 0.05168366 0.24661575 0.25271789 0.13179086]\n",
            " [0.39566654 0.7298103  0.55228469 0.17001818 0.2903515  0.30885231 0.45703238 0.62779919 0.51822108 0.52352036 0.68262876 0.68879087 0.44404788 0.07421432 0.37895253 0.11609969 0.64858121 0.58069878 0.2980219  0.15522037 0.52534201 0.35565765 0.3780384  0.21796752 0.26673004 0.5254348  0.63351195 0.302307   0.58972953 0.64057946 0.07113199 0.47694628 0.46608522 0.54298696 0.54386337 0.52470017 0.34508192 0.1466546  0.68518972 0.65818785 0.58483092 0.35695584 0.56428417 0.58177994 0.23292646 0.1685847  0.31257477 0.32231984 0.68250835 0.65252173 0.31994092 0.41723266 0.58949854 0.41299487 0.52358924 0.09933672 0.43281161 0.         0.24690316 0.1343384  0.52947887 0.35925653 0.45367674 0.38314109 0.44954439 0.3444329  0.61371242 0.34868042 0.41494704 0.2490667  0.1564028  0.41714745 0.39462156 0.49840685 0.4459874  0.48322844 0.24410664 0.6098121  0.05213362 0.4219052  0.40539567 0.32658637 0.18975115 0.36820635 0.32083239 0.13288729 0.5580411  0.49293882 0.49968454 0.45961192 0.17495303 0.60453685 0.27531415 0.24528951 0.54874655 0.47057389 0.48389161 0.1862529  0.36925945 0.56092015]\n",
            " [0.59433395 0.97097865 0.71213038 0.40569657 0.09489307 0.25087727 0.56262774 0.69760543 0.75572086 0.76849766 0.9224792  0.92982624 0.60479659 0.23984141 0.47393075 0.3407061  0.69484693 0.82589695 0.15339155 0.32101283 0.6965985  0.52317874 0.41603355 0.20451966 0.17987868 0.76872389 0.86505792 0.51002868 0.7128     0.79856852 0.26101462 0.70589426 0.62498687 0.7874235  0.78866296 0.77158836 0.37314791 0.13154039 0.9213075  0.71386993 0.80559888 0.25139182 0.76696891 0.79166573 0.35894876 0.1830503  0.53612275 0.49484252 0.92744444 0.89894975 0.2200344  0.57508235 0.830126   0.61505175 0.59351276 0.15614626 0.62942904 0.24690316 0.         0.2400449  0.76620342 0.51672432 0.223472   0.28982969 0.42699961 0.52994894 0.69773849 0.52454958 0.48165511 0.09639948 0.12748644 0.46999943 0.54193862 0.68010992 0.69283138 0.55937247 0.25482931 0.85650027 0.25670838 0.46121027 0.36124073 0.24519661 0.17019638 0.29126954 0.45792614 0.2420081  0.79678043 0.26869758 0.69942233 0.52637583 0.30764166 0.84159217 0.16862627 0.15611645 0.79435347 0.69109187 0.67636322 0.39754677 0.61363909 0.76120465]\n",
            " [0.35498694 0.75237797 0.68411348 0.28244422 0.23552625 0.39892915 0.59062647 0.50879779 0.61026423 0.56288852 0.70214328 0.71143256 0.5766264  0.20072284 0.51087453 0.24315897 0.52341223 0.65247338 0.35166323 0.28925886 0.65549186 0.4883261  0.24643201 0.31208759 0.3405806  0.60514783 0.63584634 0.42607519 0.72404634 0.77209567 0.20380082 0.47672066 0.38930853 0.618605   0.61810212 0.58053403 0.21156346 0.21069818 0.69596305 0.53549711 0.57036011 0.2441137  0.52735451 0.55308257 0.36539743 0.26163073 0.30740701 0.45479228 0.75354372 0.69865874 0.21073208 0.33901667 0.67424733 0.37606191 0.65427268 0.10789991 0.55747774 0.1343384  0.2400449  0.         0.62246798 0.27981122 0.46348595 0.46566337 0.31539065 0.28992125 0.49931291 0.48023888 0.29067793 0.29031978 0.11260732 0.2893862  0.52865495 0.44057734 0.50858954 0.61426534 0.35065974 0.6595494  0.1853752  0.29154362 0.50652647 0.20959969 0.09445676 0.45598373 0.4551129  0.25371091 0.64707109 0.5086538  0.4597097  0.33656627 0.06875064 0.61829367 0.1803671  0.15398634 0.61929014 0.45694812 0.60907659 0.31382256 0.45065825 0.68192659]\n",
            " [0.51595218 0.4173998  0.36061969 0.36141224 0.81973483 0.68977041 0.48317541 0.91465746 0.0130031  0.26052291 0.40151148 0.39230032 0.3474606  0.52713678 0.49736122 0.42549819 0.96593129 0.1259977  0.75385247 0.46220562 0.31875226 0.34783045 0.78745968 0.63271166 0.69971453 0.07428779 0.44483694 0.28086583 0.47698858 0.39793955 0.50546544 0.40385716 0.64652725 0.09614134 0.10327172 0.18965605 0.77638622 0.64038106 0.43815058 0.95920275 0.487072   0.86655903 0.55925338 0.53780174 0.47279537 0.6133719  0.42520792 0.34962675 0.19484189 0.27481384 0.83288317 0.62859996 0.07464325 0.50865665 0.5754063  0.6287973  0.23797132 0.52947887 0.76620342 0.62246798 0.         0.60929397 0.93918496 0.75620991 0.89247507 0.5430667  0.88126231 0.33015425 0.77770527 0.73297513 0.68511556 0.79570782 0.38706892 0.60083021 0.17634922 0.55007001 0.61135209 0.23848311 0.50972305 0.81396797 0.71186695 0.83167569 0.70753522 0.73216422 0.42420262 0.54101068 0.03557635 0.96746258 0.5429525  0.80490091 0.60659409 0.38689365 0.79663374 0.76738583 0.12249948 0.44786079 0.24272174 0.37391634 0.17575261 0.21640369]\n",
            " [0.12520201 0.56964542 0.80676951 0.40121556 0.49083298 0.66443759 0.77324334 0.31460788 0.59636972 0.43660178 0.51831382 0.53240313 0.71324581 0.43221521 0.70987163 0.40977294 0.35932537 0.58274613 0.62986291 0.48935732 0.76840208 0.63375299 0.22371344 0.57397933 0.61314484 0.56119894 0.42862636 0.53648136 0.87919593 0.88713072 0.42279834 0.28961946 0.10974655 0.56278785 0.5591032  0.48607315 0.23878729 0.48283382 0.49734028 0.35627816 0.34272527 0.41573522 0.27169161 0.30611534 0.56959439 0.52312801 0.18410062 0.60233072 0.67027762 0.5667529  0.40228713 0.05945957 0.63305546 0.14606171 0.85473997 0.38415896 0.65213637 0.35925653 0.51672432 0.27981122 0.60929397 0.         0.73863038 0.73593712 0.33321422 0.06795443 0.28742945 0.61842926 0.18265265 0.56952082 0.39007649 0.20628742 0.68617226 0.1680075  0.44368193 0.81413986 0.60329477 0.53993231 0.40497445 0.22956491 0.76446309 0.38209635 0.35141691 0.72335326 0.63395783 0.49121691 0.62024909 0.78483919 0.2067759  0.199437   0.21106749 0.43315539 0.40689179 0.39344078 0.55148407 0.24900111 0.70038915 0.46146296 0.44290689 0.74889852]\n",
            " [0.81770197 1.18348443 0.80880513 0.5915712  0.26148482 0.28182507 0.6291707  0.89355726 0.9301264  0.97592384 1.13621791 1.14246758 0.7115189  0.42310315 0.54698674 0.52456696 0.88115901 1.0146458  0.18759697 0.47699874 0.80456301 0.64429782 0.61560108 0.3095003  0.2446514  0.9533007  1.08367676 0.6642456  0.77712666 0.88766648 0.44547298 0.92513828 0.84598714 0.97447981 0.97668426 0.97134426 0.57332736 0.31120403 1.13772357 0.90352118 1.02723101 0.40973642 0.99038001 1.01472191 0.48124417 0.32616244 0.75619147 0.62331146 1.11432427 1.10181353 0.39225793 0.79642794 1.0083479  0.83831764 0.62560828 0.3746515  0.76482841 0.45367674 0.223472   0.46348595 0.93918496 0.73863038 0.         0.25778572 0.59983287 0.75340493 0.89892417 0.65200794 0.68595915 0.20973453 0.35088655 0.67057247 0.64489195 0.90310005 0.89078514 0.60190149 0.34225236 1.05805579 0.44793956 0.65768017 0.34663452 0.4204563  0.38812994 0.27660808 0.56586901 0.39871795 0.97229607 0.04759502 0.92286205 0.72832916 0.53080298 1.05734546 0.35620555 0.35712929 0.98479511 0.91248892 0.80486031 0.5659394  0.80342805 0.89242576]\n",
            " [0.77851431 1.06695275 0.56673459 0.45455583 0.38098984 0.0765602  0.37937224 0.9669299  0.74938603 0.85210657 1.02506237 1.02753845 0.4785432  0.31860754 0.30391814 0.39533388 0.97189959 0.8515478  0.13675796 0.31890886 0.56875904 0.42577711 0.68889113 0.1656923  0.12542694 0.78602201 0.9935695  0.47576264 0.52354947 0.64054211 0.33591907 0.84426661 0.84490854 0.81020287 0.81387068 0.83014721 0.64703641 0.25510629 1.03630019 0.98830225 0.95712667 0.54111877 0.94536545 0.96031531 0.28430498 0.21463453 0.68927816 0.41281298 0.94494606 0.9624489  0.50969643 0.7950927  0.82970092 0.79532632 0.36815936 0.35781967 0.55058221 0.38314109 0.28982969 0.46566337 0.75620991 0.73593712 0.25778572 0.         0.71391416 0.72705884 0.96145983 0.43818741 0.74720455 0.19591535 0.3759977  0.74009607 0.413018   0.88136385 0.74973991 0.34606678 0.15622685 0.91729555 0.34880344 0.73535582 0.08920141 0.53427192 0.43525443 0.02442905 0.34380788 0.26601378 0.7913222  0.25915364 0.8818268  0.79329432 0.53091073 0.95593741 0.4572378  0.4407741  0.82566709 0.84518993 0.58306187 0.40681995 0.65250807 0.66948536]\n",
            " [0.4583812  0.90273112 0.99817282 0.58769987 0.3471511  0.66341013 0.90354226 0.30666507 0.87958282 0.76102445 0.85146501 0.86561633 0.89137437 0.51181337 0.82129613 0.55675492 0.2834256  0.89180724 0.57929379 0.60371111 0.96812618 0.80322161 0.11105088 0.59061973 0.59420418 0.85846481 0.76020235 0.73486408 1.03920017 1.0857613  0.51770051 0.62221286 0.3913     0.86548501 0.86308549 0.80191167 0.11638382 0.48376814 0.8294742  0.30803763 0.67112621 0.19013115 0.58817998 0.62695568 0.67755338 0.54606341 0.4905967  0.7696221  0.98618382 0.89491375 0.2108809  0.36060044 0.93089196 0.47921748 0.96184778 0.39300127 0.86546263 0.44954439 0.42699961 0.31539065 0.89247507 0.33321422 0.59983287 0.71391416 0.         0.39492967 0.32272536 0.79446546 0.16118575 0.51804381 0.3499771  0.1349948  0.84404369 0.47453702 0.74628758 0.92266663 0.63737747 0.8647749  0.49977916 0.11031152 0.77633814 0.18351234 0.28937084 0.71207052 0.7697944  0.55896992 0.91079898 0.6464622  0.53021263 0.1780497  0.29714749 0.76636922 0.25852156 0.27314236 0.85897209 0.58220644 0.91711115 0.62665797 0.7168892  0.98476447]\n",
            " [0.07024542 0.51133099 0.75365689 0.35831864 0.51584032 0.65324738 0.73226666 0.3753286  0.53018563 0.36977066 0.4597484  0.47302483 0.66374296 0.41401185 0.67389827 0.37643566 0.42344973 0.5147931  0.63012657 0.45967136 0.71416835 0.58733776 0.28414157 0.56234021 0.60747704 0.49376588 0.37473064 0.48610175 0.83111662 0.83205606 0.40155254 0.228014   0.13190897 0.49501874 0.49128018 0.41822804 0.29351773 0.47923651 0.44193704 0.41847991 0.29462255 0.45924867 0.2384428  0.26722482 0.53813474 0.51247246 0.11832836 0.55704022 0.60255016 0.5012532  0.44145871 0.09344992 0.56547436 0.09270774 0.81713418 0.38651233 0.59672917 0.3444329  0.52994894 0.28992125 0.5430667  0.06795443 0.75340493 0.72705884 0.39492967 0.         0.34526714 0.57096512 0.24919612 0.57240626 0.40252743 0.27199204 0.64113326 0.15462244 0.37610051 0.7768605  0.58675447 0.47333695 0.38504154 0.29457057 0.74789208 0.42404455 0.37262759 0.71258843 0.59458459 0.47220869 0.55324471 0.79845576 0.17071768 0.2673872  0.22341418 0.37386285 0.43852867 0.42127762 0.48355686 0.19147714 0.6437961  0.42101519 0.37905833 0.68861936]\n",
            " [0.36561015 0.74154818 1.09406959 0.68502216 0.6376186  0.89746336 1.05270791 0.04051269 0.86862497 0.67214974 0.69560381 0.71288937 0.99944614 0.68769664 0.9841085  0.68553388 0.10637413 0.83520778 0.83780317 0.75908221 1.05582545 0.91842546 0.28356883 0.81139501 0.83607827 0.82543375 0.59306934 0.82330904 1.16434394 1.17455164 0.683261   0.50708102 0.23645092 0.82243134 0.81768459 0.73406128 0.32622862 0.70847983 0.66072523 0.08588612 0.49830025 0.50025075 0.39792078 0.43866593 0.83994558 0.76090838 0.46216584 0.8863794  0.91060549 0.78430737 0.50938761 0.25408663 0.89469472 0.3750179  1.12986492 0.60545584 0.93950193 0.61371242 0.69773849 0.49931291 0.88126231 0.28742945 0.89892417 0.96145983 0.32272536 0.34526714 0.         0.90378272 0.21620959 0.77433207 0.58717442 0.22870031 0.96969029 0.30120946 0.70808639 1.08913306 0.84910994 0.76846723 0.66435614 0.24154184 1.0058324  0.48152298 0.53103638 0.9535172  0.91271817 0.74541489 0.88756829 0.94647482 0.36948644 0.17147647 0.44074439 0.62211638 0.54286253 0.5451286  0.80683687 0.45834127 0.98753554 0.74288002 0.72303088 1.03388504]\n",
            " [0.58512031 0.70350889 0.20387479 0.21944012 0.60207744 0.37999321 0.17918935 0.92676584 0.32586866 0.49799681 0.67235367 0.66922724 0.09777536 0.30260595 0.16869257 0.23772269 0.96053108 0.44199355 0.465043   0.2080879  0.17751524 0.02041567 0.71209565 0.34508839 0.40754448 0.37568865 0.6756378  0.09016663 0.26076677 0.29197346 0.28860775 0.56298486 0.70180144 0.40188613 0.40712384 0.45189692 0.68455974 0.39367193 0.69687727 0.96414057 0.67590007 0.70130107 0.70776251 0.7046576  0.17178587 0.34492405 0.47201832 0.029753   0.52464288 0.57547389 0.66355953 0.66349149 0.40478418 0.59096976 0.27488509 0.43070663 0.11346812 0.34868042 0.52454958 0.48023888 0.33015425 0.61842926 0.65200794 0.43818741 0.79446546 0.57096512 0.90378272 0.         0.73387459 0.46277489 0.48937136 0.74225586 0.07548543 0.69496212 0.38223161 0.2405296  0.30997733 0.53170967 0.30343856 0.75204955 0.38476106 0.67306396 0.53477489 0.4137637  0.09570984 0.28298915 0.3657051  0.67228899 0.66211555 0.77412047 0.5026327  0.62454555 0.61437973 0.584801   0.42275213 0.58720939 0.15388134 0.16860102 0.28617917 0.24104492]\n",
            " [0.30627905 0.7473159  0.93311322 0.5158694  0.42453074 0.68505402 0.86750816 0.21981569 0.76470243 0.61892505 0.6964562  0.71124546 0.8315206  0.48716594 0.79287541 0.5022743  0.23368442 0.76123654 0.62200929 0.56714943 0.8984813  0.74604609 0.07330388 0.60092095 0.62204256 0.73520137 0.60273472 0.66194654 0.9904282  1.01793477 0.48598911 0.47110675 0.23012108 0.73891442 0.73569436 0.66642425 0.1132773  0.49614803 0.6723971  0.24482014 0.51214794 0.29977287 0.42730887 0.46641039 0.64691883 0.55116738 0.35785324 0.71277782 0.85106212 0.7493916  0.30205523 0.20127328 0.80764687 0.32580986 0.93810892 0.39382627 0.78752879 0.41494704 0.48165511 0.29067793 0.77770527 0.18265265 0.68595915 0.74720455 0.16118575 0.24919612 0.21620959 0.73387459 0.         0.55851649 0.37182154 0.02619944 0.79338801 0.31351539 0.61908263 0.89760198 0.64107485 0.72240377 0.46692979 0.05095648 0.79494427 0.27530029 0.31496957 0.74014225 0.72830637 0.54282262 0.79185434 0.73355393 0.37058084 0.0462019  0.24025057 0.61236342 0.32999321 0.33011333 0.72931574 0.42849621 0.83815562 0.56658918 0.60541049 0.8966095 ]\n",
            " [0.63182869 0.97701919 0.6394889  0.38197465 0.19084116 0.15474698 0.47912567 0.7773031  0.7235058  0.76775229 0.9305548  0.9361487  0.5349098  0.21338409 0.39087326 0.31494715 0.77908371 0.80536394 0.06349495 0.27249983 0.62806863 0.45841184 0.49703133 0.1220252  0.08412038 0.74453278 0.88251886 0.46283281 0.63022682 0.72395549 0.23574511 0.72548784 0.67921908 0.76537051 0.76745341 0.76176487 0.45463055 0.10305737 0.93406597 0.79655084 0.83165762 0.34703599 0.8038441  0.82464952 0.29167902 0.12089299 0.55906327 0.43316938 0.90538423 0.89248877 0.31453638 0.62889987 0.80095197 0.65109464 0.50295334 0.18615248 0.57266695 0.2490667  0.09639948 0.29031978 0.73297513 0.56952082 0.20973453 0.19591535 0.51804381 0.57240626 0.77433207 0.46277489 0.55851649 0.         0.18762106 0.54950318 0.46982882 0.72620818 0.68112779 0.47035715 0.16920922 0.84859589 0.23866111 0.54317605 0.26487017 0.33863516 0.24375331 0.19562348 0.38646625 0.192261   0.76549219 0.24548861 0.73737618 0.60421684 0.35876493 0.85333355 0.26154092 0.2449311  0.77531445 0.71693748 0.6165805  0.35905883 0.5938514  0.70330763]\n",
            " [0.46733911 0.85446946 0.68943135 0.3264147  0.13744144 0.31753563 0.56750282 0.59126522 0.6736843  0.65766231 0.80503861 0.81334495 0.58012013 0.18684051 0.48152496 0.26957234 0.59627782 0.73079394 0.25092515 0.28241698 0.66675421 0.49295244 0.31308646 0.24079118 0.25150235 0.67797684 0.7432147  0.45398592 0.71115446 0.77782877 0.20148827 0.58383377 0.49887699 0.69428554 0.69469083 0.6676671  0.27161234 0.13379293 0.80142165 0.61233009 0.68075278 0.21422282 0.63984218 0.66511673 0.34442948 0.19640004 0.41380191 0.46099796 0.83268057 0.79117524 0.17629312 0.44878294 0.74362342 0.48824848 0.61727983 0.05944233 0.58238317 0.1564028  0.12748644 0.11260732 0.68511556 0.39007649 0.35088655 0.3759977  0.3499771  0.40252743 0.58717442 0.48937136 0.37182154 0.18762106 0.         0.36411408 0.52375542 0.55271211 0.59157203 0.57919418 0.28746567 0.75017835 0.18885613 0.35962917 0.42976791 0.1904135  0.0610188  0.37026348 0.44285143 0.21988939 0.71303949 0.39616932 0.57223163 0.4177632  0.18023572 0.72257183 0.12511916 0.09593176 0.69824575 0.56667976 0.63255469 0.33703199 0.5214803  0.71244938]\n",
            " [0.33063869 0.77258184 0.94268605 0.52541735 0.40913539 0.67958112 0.87204032 0.2279386  0.78270685 0.64171002 0.72163935 0.73631891 0.84001194 0.48825284 0.79594941 0.50864599 0.2344515  0.78205349 0.61296179 0.57076142 0.90878011 0.75387171 0.05497197 0.59690449 0.61532447 0.75467228 0.62833519 0.67226751 0.99733387 1.02810657 0.48827734 0.49546106 0.25631903 0.75898658 0.75591101 0.68803764 0.09752985 0.49116619 0.69794101 0.24856381 0.53800217 0.27893887 0.45347741 0.49253022 0.64988417 0.54772438 0.37830328 0.72045214 0.87276605 0.7728937  0.28345637 0.22709544 0.82719808 0.35047453 0.94073623 0.38977966 0.79904852 0.41714745 0.46999943 0.2893862  0.79570782 0.20628742 0.67057247 0.74009607 0.1349948  0.27199204 0.22870031 0.74225586 0.02619944 0.54950318 0.36411408 0.         0.80021966 0.33970226 0.63910792 0.90036698 0.63831586 0.74532068 0.46927359 0.02477219 0.79031492 0.2561776  0.30578984 0.73383784 0.73339809 0.54283859 0.81062027 0.71815001 0.39653004 0.057871   0.24381591 0.63734116 0.31437984 0.31652251 0.74993487 0.45332301 0.84995266 0.57428628 0.62250977 0.91009969]\n",
            " [0.65795692 0.77361657 0.17024913 0.28502035 0.62577482 0.36484885 0.10454001 0.9913179  0.3844958  0.57069346 0.7439596  0.74020692 0.06664066 0.33868295 0.11624065 0.29162917 1.02266613 0.50468368 0.46180036 0.24303167 0.15981593 0.05593007 0.76707904 0.34819231 0.40446648 0.43924413 0.74994497 0.16550599 0.1971143  0.25690397 0.32859869 0.63846989 0.77254297 0.46566091 0.47132681 0.52199127 0.73721471 0.414747   0.76963665 1.02753682 0.75131485 0.73783969 0.78295434 0.78010265 0.18355228 0.35893692 0.54503223 0.08409388 0.58165461 0.64261651 0.69989976 0.73299185 0.46091486 0.6644492  0.20068513 0.46700357 0.15201931 0.39462156 0.54193862 0.52865495 0.38706892 0.68617226 0.64489195 0.413018   0.84404369 0.64113326 0.96969029 0.07548543 0.79338801 0.46982882 0.52375542 0.80021966 0.         0.76825165 0.45470204 0.16823801 0.30565155 0.59957243 0.34552265 0.80854991 0.34799713 0.71188852 0.57387214 0.3888695  0.08402127 0.30710977 0.42212628 0.66014469 0.73666961 0.83488657 0.55781128 0.6982748  0.64850408 0.61966948 0.48787255 0.66252984 0.17299144 0.22758899 0.36011613 0.25742197]\n",
            " [0.11124942 0.44902752 0.86301322 0.49387875 0.65834647 0.80724406 0.86456162 0.34002131 0.58881031 0.3738202  0.40059241 0.41716513 0.78242708 0.56683984 0.81289372 0.52137912 0.40191571 0.54062169 0.78442655 0.60631332 0.82119864 0.71290696 0.37295249 0.71637309 0.76208805 0.53850985 0.30034447 0.60628979 0.95073578 0.93526699 0.5533711  0.20808155 0.08420933 0.53213774 0.52677977 0.43904131 0.39667145 0.63379906 0.36998213 0.3863607  0.20578961 0.58054005 0.1139799  0.15398795 0.68263846 0.66673348 0.22328969 0.68494996 0.61120575 0.48310488 0.56905317 0.11825596 0.60457494 0.10416016 0.95321657 0.54009914 0.70264378 0.49840685 0.68010992 0.44057734 0.60083021 0.1680075  0.90310005 0.88136385 0.47453702 0.15462244 0.30120946 0.69496212 0.31351539 0.72620818 0.55271211 0.33970226 0.76825165 0.         0.42452531 0.91360073 0.73948787 0.4678563  0.53745893 0.36447028 0.90024775 0.54788757 0.51767934 0.86660208 0.73036256 0.62448624 0.60213618 0.94878534 0.06843489 0.3082571  0.37247982 0.32302071 0.57489384 0.56125326 0.51418264 0.15944282 0.74538024 0.55810355 0.4609771  0.7766949 ]\n",
            " [0.34252337 0.3245839  0.48739367 0.30166462 0.72900398 0.67603302 0.55906827 0.74246297 0.16448371 0.1160205  0.29050186 0.28838696 0.43852901 0.46777383 0.54511107 0.36776824 0.79573497 0.14646979 0.71551139 0.43224225 0.44340929 0.40261188 0.63756573 0.60214782 0.66777488 0.1179294  0.3000378  0.30098561 0.59482401 0.54360902 0.44545535 0.22965397 0.4722953  0.11987946 0.11697723 0.08113115 0.63231174 0.58010527 0.31494018 0.78755524 0.32279422 0.74730998 0.38636534 0.368236   0.47214601 0.57024006 0.26134483 0.38926654 0.24561136 0.213476   0.71700482 0.45741184 0.18937859 0.33383685 0.65526033 0.54168055 0.33403652 0.4459874  0.69283138 0.50858954 0.17634922 0.44368193 0.89078514 0.74973991 0.74628758 0.37610051 0.70808639 0.38223161 0.61908263 0.68112779 0.59157203 0.63910792 0.45470204 0.42452531 0.         0.62242698 0.59467284 0.16864195 0.44311364 0.65916253 0.72509112 0.71105136 0.60072623 0.72739173 0.46006554 0.4996913  0.17949348 0.92557348 0.3668688  0.64229595 0.47772289 0.24554563 0.68872924 0.66134016 0.11322082 0.27218059 0.36229452 0.34293668 0.09981159 0.36909072]\n",
            " [0.8023769  0.94184703 0.24869669 0.42003673 0.65227137 0.32828028 0.06694157 1.10664262 0.54859539 0.73832642 0.91205721 0.90841381 0.20408141 0.41354748 0.10506427 0.40472274 1.13090082 0.67047733 0.44027842 0.3309045  0.26786537 0.22011446 0.86043829 0.35519703 0.38973225 0.6057068  0.91588699 0.32720151 0.17921051 0.30622402 0.41210887 0.79869786 0.90865319 0.63214117 0.63799208 0.69022911 0.82558811 0.45080424 0.93725726 1.13924654 0.91298845 0.7886677  0.93822781 0.93831956 0.25068824 0.3872426  0.69125645 0.23839243 0.74322542 0.81023733 0.75154178 0.8655576  0.62266622 0.81130119 0.04073261 0.53026364 0.3121104  0.48322844 0.55937247 0.61426534 0.55007001 0.81413986 0.60190149 0.34606678 0.92266663 0.7768605  1.08913306 0.2405296  0.89760198 0.47035715 0.57919418 0.90036698 0.16823801 0.91360073 0.62242698 0.         0.30465684 0.76744982 0.43109722 0.90486287 0.26104981 0.7687633  0.63685497 0.32560434 0.18324003 0.36370027 0.58444374 0.60518534 0.88799731 0.94169216 0.65736345 0.86505814 0.69712359 0.67118377 0.65490421 0.81940816 0.31783267 0.3562477  0.52669451 0.38908685]\n",
            " [0.63350752 0.91081726 0.47360006 0.29832942 0.34766741 0.08136116 0.3099899  0.85943898 0.60361486 0.69603416 0.86883621 0.87134947 0.37187594 0.17274822 0.22166556 0.23977832 0.87276736 0.70080159 0.15648251 0.16289298 0.4653115  0.30205237 0.59157646 0.05061166 0.09892737 0.63606015 0.83816771 0.33096121 0.4610427  0.5566524  0.18669138 0.69034339 0.71011606 0.65956574 0.662885   0.67535453 0.55243386 0.15382609 0.88021931 0.88578495 0.80406334 0.48863238 0.79690784 0.80984066 0.14098543 0.09160715 0.53914923 0.28158213 0.79627787 0.8077895  0.45238039 0.66133841 0.68357311 0.64908108 0.33950227 0.24921433 0.42312093 0.24410664 0.25482931 0.35065974 0.61135209 0.60329477 0.34225236 0.15622685 0.63737747 0.58675447 0.84910994 0.30997733 0.64107485 0.16920922 0.28746567 0.63831586 0.30565155 0.73948787 0.59467284 0.30465684 0.         0.76269425 0.20204184 0.63789639 0.16134813 0.47187477 0.34802948 0.13553818 0.22444877 0.11529803 0.64586979 0.36271896 0.73491672 0.68708634 0.40906234 0.79993584 0.3975393  0.37355088 0.67387497 0.69328349 0.46260797 0.25191787 0.49830849 0.55017456]\n",
            " [0.42007396 0.17935859 0.59765756 0.47023907 0.88704967 0.84404571 0.70177496 0.80652729 0.23396832 0.10378571 0.16490366 0.15432131 0.57170993 0.63544039 0.69910773 0.53613719 0.86629785 0.11647651 0.88394427 0.60056086 0.55498511 0.55158992 0.75382538 0.7707777  0.83641183 0.16784633 0.22838228 0.4582616  0.7127577  0.63605445 0.61319908 0.26197969 0.53598437 0.14293727 0.1360125  0.08752848 0.75591152 0.74698648 0.20499427 0.85284962 0.29762805 0.89046736 0.39055516 0.35799585 0.6375379  0.7386884  0.37622197 0.5432987  0.14613772 0.04518363 0.86281499 0.53633559 0.19114149 0.40386242 0.79700351 0.70312824 0.46174805 0.6098121  0.85650027 0.6595494  0.23848311 0.53993231 1.05805579 0.91729555 0.8647749  0.47333695 0.76846723 0.53170967 0.72240377 0.84859589 0.75017835 0.74532068 0.59957243 0.4678563  0.16864195 0.76744982 0.76269425 0.         0.61011827 0.76771698 0.88973714 0.85383124 0.75349002 0.89471177 0.61671792 0.66830058 0.21450615 1.09345375 0.40039483 0.73715462 0.6199624  0.17333565 0.83955515 0.81352212 0.11707049 0.31044298 0.47637349 0.51078661 0.26488294 0.45449744]\n",
            " [0.43170053 0.74007451 0.50604058 0.14903429 0.31446411 0.27285037 0.40533686 0.67908118 0.4991269  0.52948008 0.69451275 0.69940175 0.39717683 0.03020662 0.32683221 0.08455211 0.70051919 0.57124507 0.27915185 0.10397187 0.48086042 0.30896252 0.43002784 0.18346981 0.23996901 0.51276516 0.65230354 0.26536133 0.53954072 0.59450762 0.01906578 0.49886653 0.51005396 0.53213466 0.5336819  0.52348684 0.39666901 0.13699183 0.70036288 0.70988917 0.60999093 0.39814584 0.59676792 0.61155932 0.18082814 0.1384714  0.34055985 0.27605735 0.67235068 0.65389898 0.36052979 0.46199993 0.57345382 0.44765923 0.47146716 0.1294217  0.39356513 0.05213362 0.25670838 0.1853752  0.50972305 0.40497445 0.44793956 0.34880344 0.49977916 0.38504154 0.66435614 0.30343856 0.46692979 0.23866111 0.18885613 0.46927359 0.34552265 0.53745893 0.44311364 0.43109722 0.20204184 0.61011827 0.         0.47400173 0.36290586 0.369626   0.23134987 0.33188488 0.27002364 0.08716771 0.54009538 0.4840094  0.53383376 0.51147371 0.22678825 0.61947045 0.31268169 0.28279925 0.5403025  0.49711323 0.44388239 0.14851556 0.35883117 0.52362815]\n",
            " [0.35428693 0.79680404 0.95340753 0.53654959 0.3966699  0.67649884 0.87819752 0.23693773 0.80097479 0.66402678 0.74580432 0.76040239 0.84982115 0.49176279 0.80082165 0.516962   0.23665219 0.80270887 0.60649106 0.57643125 0.92017814 0.76315022 0.0465981  0.59535085 0.6111299  0.77420425 0.65279915 0.68387947 1.00559238 1.03932524 0.49290348 0.51904239 0.28105204 0.77902471 0.77607195 0.70938632 0.08854823 0.48890825 0.72236346 0.25337973 0.56263186 0.26097062 0.47824957 0.51729375 0.65482737 0.54681453 0.39893371 0.72962699 0.89413766 0.79575543 0.26799744 0.25172991 0.84676963 0.37432933 0.94507461 0.38875442 0.81161692 0.4219052  0.46121027 0.29154362 0.81396797 0.22956491 0.65768017 0.73535582 0.11031152 0.29457057 0.24154184 0.75204955 0.05095648 0.54317605 0.35962917 0.02477219 0.80854991 0.36447028 0.65916253 0.90486287 0.63789639 0.76771698 0.47400173 0.         0.78791698 0.24026845 0.3001489  0.72988468 0.74019926 0.5452182  0.82952845 0.70519557 0.42121821 0.07515954 0.25083135 0.66136249 0.30202581 0.30629378 0.77043577 0.47726222 0.86273352 0.58367507 0.64010378 0.92435463]\n",
            " [0.79352906 1.04750933 0.49160778 0.44272558 0.45519195 0.11293698 0.30042126 1.01439412 0.70625786 0.83282289 1.00830672 1.00922941 0.41106396 0.3339231  0.23342858 0.39143352 1.02424255 0.81507758 0.21361087 0.30771603 0.49785884 0.36972211 0.74133029 0.19443888 0.18313329 0.74869335 0.9855599  0.43609965 0.43990932 0.56131695 0.34690258 0.84239807 0.87144999 0.77385482 0.77813608 0.80382139 0.70067628 0.29915838 1.02327307 1.03876668 0.95730615 0.61145035 0.95493912 0.96624778 0.25306083 0.24510354 0.6966079  0.36262603 0.904351   0.93485231 0.57805429 0.82261706 0.78630035 0.80858717 0.28064657 0.40113132 0.49351863 0.40539567 0.36124073 0.50652647 0.71186695 0.76446309 0.34663452 0.08920141 0.77633814 0.74789208 1.0058324  0.38476106 0.79494427 0.26487017 0.42976791 0.79031492 0.34799713 0.90024775 0.72509112 0.26104981 0.16134813 0.88973714 0.36290586 0.78791698 0.         0.60104437 0.49060596 0.07478836 0.28909598 0.27578414 0.74738253 0.34562054 0.89395725 0.84113141 0.5676243  0.94405525 0.52412186 0.50462328 0.79142209 0.84845799 0.5207888  0.38708724 0.62581176 0.60522279]\n",
            " [0.4942557  0.92703855 0.8753392  0.4890703  0.16381358 0.48842748 0.75791335 0.47384504 0.81938945 0.75336973 0.87561713 0.88709189 0.76622896 0.37325826 0.67185371 0.44238863 0.46105945 0.85659953 0.39840532 0.4691296  0.85045348 0.67827013 0.20218233 0.42278694 0.41792964 0.81198558 0.79703006 0.62842727 0.90107981 0.96383273 0.38490078 0.64321666 0.47431986 0.82422529 0.8233056  0.77909213 0.16319087 0.31915171 0.86247825 0.48308459 0.71862498 0.0366596  0.65372998 0.68724895 0.53436193 0.38296673 0.48370286 0.64557201 0.9566626  0.89031834 0.02819901 0.43032501 0.88195939 0.51671904 0.80641218 0.24498877 0.75928638 0.32658637 0.24519661 0.20959969 0.83167569 0.38209635 0.4204563  0.53427192 0.18351234 0.42404455 0.48152298 0.67306396 0.27530029 0.33863516 0.1904135  0.2561776  0.71188852 0.54788757 0.71105136 0.7687633  0.47187477 0.85383124 0.369626   0.24026845 0.60104437 0.         0.13836602 0.53405117 0.63207475 0.41017763 0.85569224 0.46767682 0.58807945 0.31378191 0.23419298 0.78970719 0.0771061  0.09832402 0.82326935 0.61311861 0.8104484  0.51282419 0.65884423 0.88652717]\n",
            " [0.44038354 0.84635931 0.73697417 0.35612589 0.14396194 0.3782081  0.62264035 0.53355012 0.69563288 0.65724507 0.79597259 0.80546629 0.62787429 0.235192   0.537739   0.30585081 0.53664553 0.74349398 0.30723582 0.33095269 0.71221026 0.53990413 0.25375905 0.30172204 0.31144119 0.6942361  0.72792699 0.49205644 0.76415432 0.82546753 0.24653509 0.56919752 0.45798067 0.70871614 0.70851451 0.67378159 0.21178201 0.19460436 0.78896769 0.55332735 0.65973371 0.16730561 0.61105472 0.63902752 0.39780492 0.25669558 0.40065054 0.50721968 0.84493821 0.79285936 0.13019105 0.40862    0.76218216 0.46211692 0.67536816 0.10782967 0.62241178 0.18975115 0.17019638 0.09445676 0.70753522 0.35141691 0.38812994 0.43525443 0.28937084 0.37262759 0.53103638 0.53477489 0.31496957 0.24375331 0.0610188  0.30578984 0.57387214 0.51767934 0.60072623 0.63685497 0.34802948 0.75349002 0.23134987 0.3001489  0.49060596 0.13836602 0.         0.43027909 0.49464617 0.27480422 0.7335961  0.43486063 0.54334208 0.36053892 0.15059165 0.71179771 0.08916904 0.06066828 0.71045555 0.54741689 0.67335437 0.37579607 0.53855108 0.75065545]\n",
            " [0.76279406 1.04541495 0.54343387 0.43347114 0.38410847 0.05935928 0.35697683 0.95995783 0.72540758 0.83048515 1.00387245 1.00613647 0.45450482 0.30177738 0.28038352 0.37527792 0.96653639 0.82807845 0.14051584 0.29746036 0.54495137 0.4013519  0.68332791 0.15024889 0.11883827 0.76245814 0.9736759  0.45184699 0.50224712 0.61791866 0.31829037 0.82530372 0.83193947 0.78672786 0.79044831 0.80765784 0.64183911 0.24537685 1.01565198 0.98231832 0.93860891 0.54252544 0.92864501 0.94287939 0.26062243 0.20047689 0.67186261 0.38842587 0.92118734 0.93987947 0.5101497  0.78232114 0.80572952 0.77924654 0.3490908  0.34850213 0.52615482 0.36820635 0.29126954 0.45598373 0.73216422 0.72335326 0.27660808 0.02442905 0.71207052 0.71258843 0.9535172  0.4137637  0.74014225 0.19562348 0.37026348 0.73383784 0.3888695  0.86660208 0.72739173 0.32560434 0.13553818 0.89471177 0.33188488 0.72988468 0.07478836 0.53405117 0.43027909 0.         0.31938444 0.24767178 0.76730902 0.28042821 0.86558706 0.78630874 0.52018771 0.93541982 0.45694656 0.43914021 0.8023788  0.82715804 0.55871923 0.38459313 0.62985758 0.64519603]\n",
            " [0.61914238 0.78429233 0.25426277 0.2369682  0.54214315 0.28886998 0.14001589 0.93211627 0.41928625 0.57407264 0.75019038 0.74845181 0.14845441 0.25998665 0.08700863 0.2274865  0.95996911 0.53252757 0.38093107 0.16608788 0.24174037 0.0819798  0.69745866 0.26521635 0.32335007 0.4659635  0.74459886 0.15921418 0.26995266 0.34077289 0.2521631  0.62015192 0.72647647 0.49182318 0.49668219 0.53406181 0.66569397 0.33109758 0.77158672 0.96653541 0.73534159 0.65707286 0.75652297 0.75799367 0.09998895 0.27491641 0.50807565 0.07492553 0.61802856 0.66118389 0.61914454 0.68414681 0.49882352 0.62810269 0.22298444 0.38713443 0.20681368 0.32083239 0.45792614 0.4551129  0.42420262 0.63395783 0.56586901 0.34380788 0.7697944  0.59458459 0.91271817 0.09570984 0.72830637 0.38646625 0.44285143 0.73339809 0.08402127 0.73036256 0.46006554 0.18324003 0.22444877 0.61671792 0.27002364 0.74019926 0.28909598 0.63207475 0.49464617 0.31938444 0.         0.22450362 0.45977802 0.58341385 0.70526655 0.77110748 0.48968033 0.69633459 0.56711153 0.538601   0.51141037 0.63863303 0.24084293 0.17357222 0.36094644 0.32818261]\n",
            " [0.51822859 0.80829513 0.47571538 0.19808674 0.3200228  0.18947912 0.34794663 0.75830602 0.53171502 0.59478252 0.7645617  0.76817781 0.36693355 0.0590158  0.26308558 0.13338583 0.77630074 0.61726195 0.21669801 0.08080496 0.4571184  0.282737   0.49986482 0.10437327 0.16828232 0.55506366 0.72867579 0.27173871 0.49141883 0.56347885 0.07139393 0.57831346 0.59691334 0.57674052 0.57921331 0.58082037 0.46348277 0.11072508 0.77344721 0.78726326 0.69113746 0.43368657 0.68187254 0.69537453 0.12500256 0.07255995 0.42444994 0.25337725 0.71620303 0.71296251 0.39583921 0.54862422 0.60966826 0.53378846 0.40300977 0.16724846 0.38760642 0.13288729 0.2420081  0.25371091 0.54101068 0.49121691 0.39871795 0.26601378 0.55896992 0.47220869 0.74541489 0.28298915 0.54282262 0.192261   0.21988939 0.54283859 0.30710977 0.62448624 0.4996913  0.36370027 0.11529803 0.66830058 0.08716771 0.5452182  0.27578414 0.41017763 0.27480422 0.24767178 0.22450362 0.         0.57380668 0.42939345 0.61966764 0.58820582 0.30499016 0.69274131 0.34313421 0.31504831 0.58814506 0.57948793 0.43435625 0.16727511 0.40782794 0.51933386]\n",
            " [0.52198111 0.39172932 0.38987736 0.39129458 0.84838778 0.72454472 0.51751572 0.92182726 0.04231124 0.24930296 0.37911183 0.36882042 0.38134444 0.55832398 0.53278789 0.45621301 0.97459485 0.09870204 0.78740377 0.49548351 0.34882258 0.38332776 0.80453804 0.66651914 0.73357517 0.06399108 0.42909511 0.31575603 0.50694088 0.42239354 0.53647948 0.40083136 0.65176815 0.07777916 0.08476259 0.17700383 0.79508462 0.67192331 0.41751065 0.96681676 0.47738125 0.8909012  0.55412547 0.53044902 0.50769159 0.64627243 0.43640826 0.38519186 0.15955671 0.2479065  0.85776127 0.63643257 0.03907909 0.51325197 0.60921907 0.65736398 0.27237008 0.5580411  0.79678043 0.64707109 0.03557635 0.62024909 0.97229607 0.7913222  0.91079898 0.55324471 0.88756829 0.3657051  0.79185434 0.76549219 0.71303949 0.81062027 0.42212628 0.60213618 0.17949348 0.58444374 0.64586979 0.21450615 0.54009538 0.82952845 0.74738253 0.85569224 0.7335961  0.76730902 0.45977802 0.57380668 0.         1.00105932 0.54209761 0.81748373 0.62833053 0.37114466 0.8227622  0.7937344  0.10313445 0.4464435  0.27460814 0.40655438 0.19705403 0.24118745]\n",
            " [0.86217351 1.22219791 0.82086169 0.6249435  0.30907637 0.29530194 0.63704613 0.94097294 0.95878628 1.01324085 1.17542518 1.18127204 0.72671621 0.45803091 0.55774924 0.55817129 0.92816099 1.04661887 0.21366416 0.50575733 0.81908533 0.66335094 0.66317823 0.33498074 0.2683385  0.98438973 1.1248892  0.69005315 0.78258721 0.89742631 0.48025484 0.96676782 0.89248827 1.00613275 1.00857975 1.00641381 0.62091672 0.34833665 1.17795671 0.95067683 1.07004341 0.45633108 1.0349126  1.05867919 0.50339623 0.3570987  0.79838581 0.64417593 1.14554432 1.13751801 0.43947855 0.84282567 1.03765181 0.88260436 0.62626037 0.41737475 0.78563205 0.49293882 0.26869758 0.5086538  0.96746258 0.78483919 0.04759502 0.25915364 0.6464622  0.79845576 0.94647482 0.67228899 0.73355393 0.24548861 0.39616932 0.71815001 0.66014469 0.94878534 0.92557348 0.60518534 0.36271896 1.09345375 0.4840094  0.70519557 0.34562054 0.46767682 0.43486063 0.28042821 0.58341385 0.42939345 1.00105932 0.         0.967498   0.77591251 0.57633374 1.0973911  0.4037902  0.40464365 1.01729854 0.95522596 0.82382614 0.5958286  0.83641261 0.91135328]\n",
            " [0.10560997 0.38281584 0.82095401 0.47184222 0.68645104 0.80639629 0.83581607 0.40841295 0.53128076 0.30821274 0.33369369 0.34998333 0.74571282 0.56385763 0.78982852 0.50717969 0.47033481 0.47657851 0.79310692 0.59287661 0.77833673 0.68084389 0.42484497 0.71613739 0.76619539 0.47817518 0.23489303 0.57229625 0.91344071 0.89000699 0.54830223 0.14315827 0.14750503 0.4702492  0.46462313 0.37518432 0.44430992 0.64089753 0.30480629 0.45474334 0.14193638 0.62215162 0.06774113 0.09934109 0.66597265 0.66793159 0.19982571 0.6546655  0.54444895 0.41484672 0.60733908 0.16961654 0.54243514 0.08672858 0.92686795 0.55275216 0.66027083 0.49968454 0.69942233 0.4597097  0.5429525  0.2067759  0.92286205 0.8818268  0.53021263 0.17071768 0.36948644 0.66211555 0.37058084 0.73737618 0.57223163 0.39653004 0.73666961 0.06843489 0.3668688  0.88799731 0.73491672 0.40039483 0.53383376 0.42121821 0.89395725 0.58807945 0.54334208 0.86558706 0.70526655 0.61966764 0.54209761 0.967498   0.         0.36991728 0.39393932 0.25493291 0.60775013 0.59140136 0.45122149 0.09575252 0.70070044 0.53609588 0.41273296 0.72648179]\n",
            " [0.31749153 0.75115728 0.97206765 0.55534159 0.46686362 0.73125405 0.9105937  0.1736587  0.79191668 0.6344063  0.70096162 0.71640394 0.87158335 0.53221141 0.83684312 0.54442553 0.18921679 0.78215652 0.66771152 0.61096703 0.93671187 0.78676684 0.11279029 0.64708059 0.66816744 0.75940964 0.60445391 0.70039928 1.03175447 1.0562179  0.53053947 0.48098447 0.22409524 0.76172767 0.75816754 0.68539871 0.15506422 0.54234979 0.67437802 0.19909289 0.51177155 0.33571607 0.42196411 0.46224479 0.69101969 0.59728068 0.381317   0.75365714 0.86939408 0.76194175 0.34117437 0.20473156 0.83154159 0.33527709 0.9822573  0.44000721 0.82450797 0.45961192 0.52637583 0.33656627 0.80490091 0.199437   0.72832916 0.79329432 0.1780497  0.2673872  0.17147647 0.77412047 0.0462019  0.60421684 0.4177632  0.057871   0.83488657 0.3082571  0.64229595 0.94169216 0.68708634 0.73715462 0.51147371 0.07515954 0.84113141 0.31378191 0.36053892 0.78630874 0.77110748 0.58820582 0.81748373 0.77591251 0.36991728 0.         0.28468712 0.6183721  0.37212374 0.37371109 0.75080729 0.43621375 0.87475633 0.60762065 0.6346523  0.93099945]\n",
            " [0.29018828 0.70098758 0.70520606 0.29109631 0.29454474 0.46230541 0.62822469 0.45338026 0.59397148 0.52019109 0.65009014 0.66040061 0.60029484 0.24800909 0.55268411 0.26635229 0.47374974 0.62375141 0.4197135  0.32712298 0.6734825  0.51308731 0.2095571  0.37369925 0.40642066 0.58151067 0.57880408 0.43866186 0.75480753 0.79199404 0.24585387 0.42080569 0.32060818 0.59246114 0.59121177 0.54491952 0.18319227 0.27591486 0.64104006 0.48325178 0.50922308 0.27074765 0.46167752 0.48880999 0.40669    0.3227047  0.25454466 0.47949182 0.72323135 0.65702759 0.24307499 0.27030519 0.65253441 0.31176439 0.69786081 0.17457451 0.56874082 0.17495303 0.30764166 0.06875064 0.60659409 0.21106749 0.53080298 0.53091073 0.29714749 0.22341418 0.44074439 0.5026327  0.24025057 0.35876493 0.18023572 0.24381591 0.55781128 0.37247982 0.47772289 0.65736345 0.40906234 0.6199624  0.22678825 0.25083135 0.5676243  0.23419298 0.15059165 0.52018771 0.48968033 0.30499016 0.62833053 0.57633374 0.39393932 0.28468712 0.         0.56507423 0.22574957 0.20399525 0.59040142 0.3973146  0.62033743 0.33403241 0.43146739 0.68768052]\n",
            " [0.30801151 0.13772288 0.72969542 0.50250995 0.85368203 0.87981015 0.80281128 0.66167612 0.37889185 0.13143262 0.08611277 0.09927911 0.68406241 0.64832441 0.78284306 0.56078232 0.72454364 0.28046491 0.8984147  0.63880541 0.6858114  0.64495692 0.65650967 0.79701146 0.85825463 0.31265762 0.05799153 0.53947637 0.83931842 0.77984577 0.62764705 0.1468396  0.4009941  0.29354385 0.28647009 0.19765438 0.6673739  0.75040347 0.08089243 0.70785224 0.12942473 0.82591989 0.22854296 0.19161721 0.693081   0.75686337 0.31117614 0.62879457 0.31707377 0.17152436 0.80373036 0.41370549 0.35580916 0.28723629 0.89894784 0.6855498  0.57912422 0.60453685 0.84159217 0.61829367 0.38689365 0.43315539 1.05734546 0.95593741 0.76636922 0.37386285 0.62211638 0.62454555 0.61236342 0.85333355 0.72257183 0.63734116 0.6982748  0.32302071 0.24554563 0.86505814 0.79993584 0.17333565 0.61947045 0.66136249 0.94405525 0.78970719 0.71179771 0.93541982 0.69633459 0.69274131 0.37114466 1.0973911  0.25493291 0.6183721  0.56507423 0.         0.7908213  0.7684491  0.26804066 0.18420548 0.60477004 0.55717228 0.33836654 0.60015171]\n",
            " [0.50816324 0.92666132 0.8145284  0.44371615 0.09476139 0.41161505 0.68916658 0.538675   0.78475422 0.7420397  0.87581536 0.88601661 0.70521625 0.3119365  0.60214049 0.39092886 0.53077118 0.83204669 0.32155911 0.40753071 0.79180826 0.61806967 0.25941189 0.34791895 0.34098939 0.78325268 0.80367371 0.57666384 0.83443916 0.90291129 0.32612119 0.64627591 0.50752827 0.79753797 0.79725733 0.76089343 0.21713977 0.24635892 0.86656609 0.55134082 0.73106709 0.09154513 0.67491059 0.70557967 0.46809777 0.31009161 0.48016031 0.5860777  0.93335449 0.87823933 0.05485782 0.46036687 0.851322   0.53041841 0.73417228 0.18376462 0.70603396 0.27531415 0.16862627 0.1803671  0.79663374 0.40689179 0.35620555 0.4572378  0.25852156 0.43852867 0.54286253 0.61437973 0.32999321 0.26154092 0.12511916 0.31437984 0.64850408 0.57489384 0.68872924 0.69712359 0.3975393  0.83955515 0.31268169 0.30202581 0.52412186 0.0771061  0.08916904 0.45694656 0.56711153 0.34313421 0.8227622  0.4037902  0.60775013 0.37212374 0.22574957 0.7908213  0.         0.03003729 0.79894816 0.62107503 0.75652292 0.45983973 0.62767036 0.83540246]\n",
            " [0.49032932 0.90372226 0.78528036 0.41382203 0.09835852 0.3917651  0.66187312 0.54316369 0.75555409 0.71673983 0.85308396 0.86294703 0.67597364 0.28251769 0.57521679 0.36089197 0.53884993 0.80416168 0.3065787  0.37824598 0.76226748 0.58868183 0.26192371 0.32450668 0.32180496 0.75477953 0.78279502 0.54664375 0.80646701 0.87369662 0.29640257 0.62471734 0.49656778 0.76934945 0.76916496 0.73417238 0.2190602  0.22099712 0.84487999 0.55821122 0.71204274 0.11864175 0.65886208 0.68849171 0.43988126 0.28483113 0.4573685  0.55658592 0.90560483 0.85262334 0.08085201 0.44846618 0.8225584  0.51241499 0.70859578 0.15409969 0.67607142 0.24528951 0.15611645 0.15398634 0.76738583 0.39344078 0.35712929 0.4407741  0.27314236 0.42127762 0.5451286  0.584801   0.33011333 0.2449311  0.09593176 0.31652251 0.61966948 0.56125326 0.66134016 0.67118377 0.37355088 0.81352212 0.28279925 0.30629378 0.50462328 0.09832402 0.06066828 0.43914021 0.538601   0.31504831 0.7937344  0.40464365 0.59140136 0.37371109 0.20399525 0.7684491  0.03003729 0.         0.77112374 0.60098206 0.72659634 0.42983319 0.59898386 0.80538569]\n",
            " [0.44360333 0.29642834 0.48059759 0.39337985 0.83556573 0.75469039 0.58869946 0.84262796 0.11714385 0.14907238 0.27902687 0.27004521 0.45675391 0.5627046  0.5912824  0.46041056 0.8982054  0.03334999 0.80480241 0.51491948 0.43791775 0.44215205 0.74988136 0.6873835  0.75415124 0.05083544 0.32597631 0.35571763 0.59573397 0.52041453 0.54031555 0.30824029 0.57041121 0.02636922 0.01922797 0.07717372 0.74529602 0.67654872 0.31586869 0.88831703 0.37676995 0.85941423 0.45752704 0.43163614 0.54228336 0.66022514 0.37163178 0.43689946 0.13456193 0.1565786  0.82860935 0.56045166 0.09215555 0.4321208  0.68327016 0.64633686 0.34646578 0.54874655 0.79435347 0.61929014 0.12249948 0.55148407 0.98479511 0.82566709 0.85897209 0.48355686 0.80683687 0.42275213 0.72931574 0.77531445 0.69824575 0.74993487 0.48787255 0.51418264 0.11322082 0.65490421 0.67387497 0.11707049 0.5403025  0.77043577 0.79142209 0.82326935 0.71045555 0.8023788  0.51141037 0.58814506 0.10313445 1.01729854 0.45122149 0.75080729 0.59040142 0.26804066 0.79894816 0.77112374 0.         0.35566978 0.35946435 0.42392464 0.18159829 0.33889902]\n",
            " [0.12398963 0.32076951 0.73602897 0.41265792 0.69121775 0.76879088 0.76408365 0.49615952 0.4363313  0.21446277 0.26935808 0.28341708 0.66618228 0.52727072 0.7247891  0.45715834 0.55591913 0.38147558 0.76849204 0.54199389 0.69285403 0.60662377 0.47252605 0.68046966 0.73567935 0.38249734 0.18392208 0.49705333 0.83258694 0.8021793  0.50929069 0.04879015 0.22592655 0.37451587 0.36891583 0.27994673 0.4845508  0.61639663 0.25048027 0.54246252 0.11484173 0.64882488 0.1214273  0.1196877  0.60988596 0.63492184 0.15805215 0.5826418  0.45239691 0.32931468 0.62902415 0.23168128 0.44673825 0.10303085 0.85724187 0.53792449 0.57576374 0.47057389 0.69109187 0.45694812 0.44786079 0.24900111 0.91248892 0.84518993 0.58220644 0.19147714 0.45834127 0.58720939 0.42849621 0.71693748 0.56667976 0.45332301 0.66252984 0.15944282 0.27218059 0.81940816 0.69328349 0.31044298 0.49711323 0.47726222 0.84845799 0.61311861 0.54741689 0.82715804 0.63863303 0.57948793 0.4464435  0.95522596 0.09575252 0.43621375 0.3973146  0.18420548 0.62107503 0.60098206 0.35566978 0.         0.61393717 0.4755024  0.32473357 0.63530332]\n",
            " [0.64193718 0.65556817 0.12512039 0.3294127  0.75103445 0.52968776 0.25164857 1.0147548  0.24431926 0.47333997 0.63425422 0.62715198 0.1152837  0.44773446 0.28900978 0.36812363 1.05534834 0.36822644 0.61833862 0.35657253 0.08114329 0.16059729 0.82633279 0.49886433 0.56075008 0.3086291  0.66090699 0.18301157 0.23666469 0.18991211 0.43126078 0.57960889 0.76843521 0.33417634 0.34085095 0.41163455 0.80341421 0.54498622 0.66667334 1.05529274 0.68273689 0.84065993 0.73462049 0.72288672 0.32561774 0.49823362 0.53177083 0.18341541 0.42997916 0.51547958 0.80339529 0.73703283 0.31105904 0.64257828 0.33836045 0.57319585 0.05168366 0.48389161 0.67636322 0.60907659 0.24272174 0.70038915 0.80486031 0.58306187 0.91711115 0.6437961  0.98753554 0.15388134 0.83815562 0.6165805  0.63255469 0.84995266 0.17299144 0.74538024 0.36229452 0.31783267 0.46260797 0.47637349 0.44388239 0.86273352 0.5207888  0.8104484  0.67335437 0.55871923 0.24084293 0.43435625 0.27460814 0.82382614 0.70070044 0.87475633 0.62033743 0.60477004 0.75652292 0.72659634 0.35946435 0.61393717 0.         0.29763904 0.28923049 0.08757795]\n",
            " [0.44686458 0.66177759 0.371677   0.06436769 0.46200522 0.33326188 0.31191433 0.76393613 0.36449734 0.4467896  0.6215786  0.62298347 0.26628279 0.1583614  0.25479521 0.07084962 0.79513722 0.45207426 0.38236242 0.09099808 0.34178195 0.17958545 0.543513   0.2635506  0.33046763 0.38885688 0.59989896 0.11695641 0.42416412 0.4591056  0.13870321 0.46264828 0.5529116  0.41119327 0.41400892 0.42348419 0.51608985 0.26839751 0.63620726 0.79995913 0.57850952 0.54308919 0.59029684 0.59515503 0.13664251 0.2397942  0.33715469 0.14620645 0.54998363 0.55589369 0.50591478 0.51082725 0.44241073 0.45676457 0.3963281  0.27761461 0.24661575 0.1862529  0.39754677 0.31382256 0.37391634 0.46146296 0.5659394  0.40681995 0.62665797 0.42101519 0.74288002 0.16860102 0.56658918 0.35905883 0.33703199 0.57428628 0.22758899 0.55810355 0.34293668 0.3562477  0.25191787 0.51078661 0.14851556 0.58367507 0.38708724 0.51282419 0.37579607 0.38459313 0.17357222 0.16727511 0.40655438 0.5958286  0.53609588 0.60762065 0.33403241 0.55717228 0.45983973 0.42983319 0.42392464 0.4755024  0.29763904 0.         0.24648194 0.37559116]\n",
            " [0.36331588 0.42432468 0.41200777 0.21187674 0.65820317 0.57960633 0.46464723 0.75420219 0.16294886 0.2132093  0.38924849 0.38777333 0.35043121 0.38111159 0.44651101 0.27890625 0.80202918 0.21243737 0.62449382 0.33692858 0.36855632 0.30659038 0.61246905 0.50853928 0.57489839 0.15649819 0.38988502 0.20227916 0.51271671 0.47764421 0.35872044 0.29104842 0.49346761 0.17384383 0.17503202 0.17816182 0.60072973 0.49495628 0.41144998 0.797538   0.39786294 0.69418671 0.44541417 0.4346569  0.37308529 0.47954117 0.2610446  0.29121339 0.31381109 0.31006231 0.66138733 0.46895244 0.22370573 0.36064709 0.56071729 0.46780039 0.25271789 0.36925945 0.61363909 0.45065825 0.17575261 0.44290689 0.80342805 0.65250807 0.7168892  0.37905833 0.72303088 0.28617917 0.60541049 0.5938514  0.5214803  0.62250977 0.36011613 0.4609771  0.09981159 0.52669451 0.49830849 0.26488294 0.35883117 0.64010378 0.62581176 0.65884423 0.53855108 0.62985758 0.36094644 0.40782794 0.19705403 0.83641261 0.41273296 0.6346523  0.43146739 0.33836654 0.62767036 0.59898386 0.18159829 0.32473357 0.28923049 0.24648194 0.         0.31589622]\n",
            " [0.67857783 0.63273046 0.1572418  0.39966561 0.83388666 0.61705171 0.32525188 1.0631896  0.22251723 0.47062533 0.61791466 0.60858039 0.1949434  0.52955538 0.3722143  0.44483497 1.10721588 0.33976645 0.70583465 0.44049468 0.12359168 0.24817522 0.89007449 0.58613331 0.64826125 0.28980172 0.65776252 0.25874903 0.27433252 0.18157337 0.51208948 0.59643858 0.80799053 0.31254467 0.31967109 0.40263768 0.86972227 0.6296809  0.65428569 1.10517043 0.69142241 0.91772443 0.75336746 0.7370941  0.41282648 0.58441855 0.5726924  0.27038493 0.38336763 0.4890834  0.88084485 0.78065856 0.27202898 0.6764906  0.40408109 0.65300734 0.13179086 0.56092015 0.76120465 0.68192659 0.21640369 0.74889852 0.89242576 0.66948536 0.98476447 0.68861936 1.03388504 0.24104492 0.8966095  0.70330763 0.71244938 0.91009969 0.25742197 0.7766949  0.36909072 0.38908685 0.55017456 0.45449744 0.52362815 0.92435463 0.60522279 0.88652717 0.75065545 0.64519603 0.32818261 0.51933386 0.24118745 0.91135328 0.72648179 0.93099945 0.68768052 0.60015171 0.83540246 0.80538569 0.33889902 0.63530332 0.08757795 0.37559116 0.31589622 0.        ]]\n",
            "[[0.         0.89166554 0.2089145  0.8454491  0.409602   0.79019312 0.09006953 0.55813866 0.70039302 0.67641168 0.67135616 0.54572134 0.59079333 0.87548525 0.49691951 0.88635456 0.46280794 0.94882277 0.54146966 0.33032349 0.35682253 0.75670863 0.88274833 0.1093221  0.58605659 0.56430477 0.10973516 0.70730449 0.93357683 1.05085404 0.27092566 0.67282897 0.46754945 0.99493351 0.13017277 0.62203982 0.98226142 0.78670996 0.78527725 0.31096909 0.68249641 0.0307892  0.72865387 0.61129202 0.21248258 0.65864831 0.39810847 0.26198343 0.86967514 1.0038444  0.37574181 0.44934764 0.54785295 0.33627444 0.59860826 0.18991253 0.39926054 0.25494767 0.30116417 0.87461762 0.49426115 0.28613993 0.63021467 0.54928021 0.70049725 0.87632758 0.10607363 0.32480351 1.02220371 0.71191242 0.20608227 0.53675535 0.75170497 0.38390597 0.63123443 0.68541359 0.26203201 0.77294018 0.38228728 0.68679375 0.64790591 0.82623721 0.25259794 0.60374911 0.32921675 0.85516972 0.73604291 0.31913942 0.28781144 0.34300945 0.63689852 0.88065916 0.78048844 0.85268261 0.37403864 0.09720921 0.83086076 0.93338196 0.12287392 0.47516381]\n",
            " [0.89166554 0.         0.8170777  0.27250277 0.62456484 0.53873668 0.9605833  0.50421508 0.65749341 0.71784512 0.22446926 0.40729129 0.33518707 0.7591291  0.53566705 0.11650752 0.5525912  0.06030415 0.62460013 0.95716367 0.92674419 0.18401848 0.76399982 0.88374147 0.30946313 0.3300961  0.80797771 0.53244647 0.41165756 0.38617847 0.69571571 0.25798405 0.46911418 0.51753837 0.76173662 0.67761352 0.41507347 0.84835835 0.15986781 0.91256303 0.77391679 0.89241916 0.30207922 0.44469654 0.98342921 0.43508139 0.80620133 0.73459964 0.40308592 0.19512511 0.65149638 0.60226289 0.61920397 0.85512462 0.73266771 0.70274763 0.49924206 0.93161499 0.62022454 0.98576677 0.4601501  0.79234693 0.57920728 0.4399453  0.48474067 0.87570221 0.798653   0.56745221 0.45471396 0.81019299 0.71573515 0.69685923 0.22470285 0.53987399 0.78664779 0.47339094 0.76481128 0.12207981 0.73191034 0.36394765 0.43443825 0.59693108 0.68590027 0.70420601 0.56377695 0.26685847 0.21953917 0.93918178 0.60583839 0.67911156 0.55005248 0.07387712 0.58653673 0.09199881 0.75251932 0.92353269 0.12801157 0.0447461  0.84012431 0.47518075]\n",
            " [0.2089145  0.8170777  0.         0.71278959 0.23545466 0.60917899 0.20564794 0.60863143 0.50253868 0.47238049 0.59320549 0.42431226 0.48709727 0.672335   0.33583207 0.78592145 0.52133306 0.86863378 0.63289879 0.17739725 0.17987227 0.65581019 0.67945625 0.30497562 0.53809854 0.51624927 0.11844919 0.76928334 0.77624435 0.90565371 0.36957422 0.57041122 0.35160628 0.82389902 0.1814386  0.42150933 0.82679986 0.57802901 0.68534445 0.13868656 0.47502049 0.23677712 0.59788094 0.64496886 0.16774961 0.50181125 0.18946726 0.08583456 0.71197173 0.89376649 0.19935503 0.52843488 0.35764761 0.13576701 0.39276107 0.22319655 0.38415316 0.12196045 0.20049909 0.66682296 0.36847386 0.07764338 0.70711928 0.41142539 0.7495879  0.6678648  0.23382386 0.28477272 0.86271687 0.50346461 0.29449272 0.33439498 0.72618985 0.40632842 0.42285679 0.51772742 0.40044891 0.70899481 0.17915333 0.69960098 0.68085589 0.63775089 0.13480659 0.4003668  0.28337494 0.72346725 0.62830662 0.15963927 0.28606242 0.16379302 0.45600862 0.82323684 0.5924842  0.76002127 0.16788334 0.15380603 0.78497436 0.86134767 0.08609576 0.49486576]\n",
            " [0.8454491  0.27250277 0.71278959 0.         0.48385048 0.27468757 0.89427836 0.63696169 0.41312096 0.47963694 0.2588487  0.29972879 0.26556616 0.49074185 0.38161388 0.16051295 0.6467974  0.27841966 0.75563455 0.81490338 0.77543076 0.1543855  0.4951681  0.8713365  0.37042142 0.37912164 0.74340886 0.72094933 0.15391046 0.21183392 0.72518254 0.19996569 0.37790041 0.26158475 0.72019514 0.45312073 0.17840031 0.59469498 0.1492536  0.77359682 0.53577172 0.85556936 0.11689939 0.59617502 0.87810257 0.22723418 0.64283159 0.62716591 0.13125184 0.20512812 0.5182568  0.69712394 0.42237275 0.70860691 0.51376002 0.6747251  0.51565635 0.80941094 0.54506008 0.72806495 0.35217033 0.66536381 0.74109258 0.30201649 0.67272259 0.6118054  0.77386174 0.53840607 0.22490732 0.56753679 0.71636374 0.49672768 0.42474298 0.57954198 0.56029379 0.24338644 0.80025409 0.28666465 0.57968343 0.54431797 0.60172664 0.32878196 0.60151338 0.48422456 0.53135625 0.01124798 0.14418236 0.79898411 0.59226028 0.55246981 0.32881252 0.33877869 0.32478283 0.18229573 0.60064061 0.84834763 0.36734163 0.30334921 0.76147201 0.55472636]\n",
            " [0.409602   0.62456484 0.23545466 0.48385048 0.         0.38093087 0.43400247 0.56464035 0.30154523 0.29589728 0.41103051 0.21727418 0.29043912 0.4838133  0.10239396 0.57450807 0.501278   0.6697866  0.6322074  0.33659625 0.30282743 0.44891795 0.49132514 0.47480146 0.39458148 0.37619851 0.29987042 0.71992916 0.5407934  0.67132979 0.43142229 0.36728972 0.16616358 0.59068595 0.3122401  0.23334511 0.59137978 0.43479579 0.47786242 0.29329393 0.32243522 0.42955539 0.37220498 0.57704724 0.39604085 0.26696091 0.18424426 0.15406735 0.47653123 0.67381191 0.0361237  0.52995493 0.14399994 0.23189325 0.23573472 0.30185151 0.31797256 0.32557168 0.15125776 0.55588301 0.16585324 0.18153052 0.68096486 0.18992778 0.68744276 0.51533074 0.37797778 0.23861716 0.62733173 0.36113829 0.37664594 0.1656953  0.58540157 0.37564419 0.28856685 0.28274353 0.49287728 0.53146569 0.10776886 0.6021702  0.60776525 0.41716991 0.16318631 0.22700166 0.23083329 0.49481245 0.41733962 0.31948984 0.2841369  0.07170172 0.2273633  0.64532639 0.37142344 0.555194   0.12806921 0.38366369 0.619789   0.66927736 0.30058551 0.43675482]\n",
            " [0.79019312 0.53873668 0.60917899 0.27468757 0.38093087 0.         0.81273278 0.77660531 0.15950084 0.22853451 0.43696442 0.32684061 0.35727092 0.22166986 0.29868328 0.43321175 0.75310855 0.55187174 0.88060674 0.65559643 0.60906207 0.37572884 0.22708267 0.84870852 0.51443677 0.51122114 0.68048706 0.89742358 0.21612248 0.36150421 0.76152648 0.35567373 0.37927257 0.22175495 0.6854194  0.22788664 0.26341806 0.32246557 0.38868628 0.62200503 0.28049416 0.80916121 0.25269818 0.75580454 0.7552532  0.1735586  0.47652416 0.53338084 0.16897823 0.46832575 0.41575378 0.79719927 0.25354184 0.55505861 0.28790369 0.66124327 0.57875511 0.67378183 0.50674409 0.45365285 0.34669998 0.54155144 0.89372888 0.28935861 0.8526528  0.33772661 0.74941301 0.5516129  0.28321206 0.30542057 0.72566508 0.30287643 0.6411989  0.6495125  0.31874768 0.12364545 0.83299836 0.51821873 0.43823172 0.73177819 0.77270014 0.06340679 0.53984085 0.26107672 0.54287824 0.28355506 0.34444749 0.64350353 0.60888046 0.45015391 0.15379562 0.59752532 0.05086269 0.44675123 0.45584916 0.7615615  0.6116354  0.57391723 0.68062443 0.66406785]\n",
            " [0.09006953 0.9605833  0.20564794 0.89427836 0.43400247 0.81273278 0.         0.64682913 0.70800676 0.6757656  0.73770468 0.59633852 0.6483198  0.87575172 0.52962808 0.94742547 0.55162984 1.01644789 0.63150146 0.27674741 0.3122384  0.81680214 0.882769   0.18723212 0.65932727 0.63728135 0.15372073 0.79703916 0.97113233 1.09489276 0.36077455 0.73170093 0.51876714 1.02468586 0.20394944 0.62658909 1.02096027 0.7726339  0.84589618 0.26841402 0.67436071 0.11285009 0.77753305 0.69872779 0.14011076 0.69512244 0.38226474 0.28000666 0.90680807 1.06215337 0.39823281 0.53921239 0.56268333 0.30956831 0.5949813  0.26759669 0.47660462 0.20457434 0.35134227 0.84842913 0.54236902 0.2804833  0.72025437 0.59341897 0.78954616 0.8632406  0.19450774 0.39398684 1.05884703 0.69978261 0.29424055 0.53915581 0.8312247  0.46769353 0.6200546  0.71616819 0.35076155 0.84397585 0.38440424 0.77216728 0.73543842 0.84296984 0.29278729 0.60441441 0.39710716 0.90445111 0.79365956 0.26961726 0.3642772  0.36313886 0.65906282 0.95397302 0.79757898 0.91606694 0.37179156 0.05189181 0.90660483 1.00320489 0.13437154 0.55985775]\n",
            " [0.55813866 0.50421508 0.60863143 0.63696169 0.56464035 0.77660531 0.64682913 0.         0.79968991 0.82610533 0.37812707 0.45631558 0.42008554 0.97023981 0.55106121 0.5691013  0.09539141 0.562515   0.12185563 0.78576977 0.78067369 0.4851894  0.97737163 0.49705793 0.27072477 0.26843681 0.52894001 0.16117106 0.78482899 0.83316524 0.29026189 0.44632573 0.43290101 0.88634361 0.45658784 0.76353961 0.81524484 0.97589576 0.49954587 0.74487623 0.86756949 0.54307547 0.55809143 0.06732574 0.73492277 0.60400288 0.71744399 0.56145634 0.73920872 0.68600566 0.56406296 0.12304991 0.66817039 0.71763042 0.78805461 0.39605754 0.24742212 0.72640599 0.44283433 1.10818947 0.45848763 0.63545967 0.11966993 0.50161073 0.14348644 1.04278593 0.45239075 0.34042757 0.86182101 0.90870176 0.35261339 0.72182911 0.28648513 0.20355303 0.84546045 0.65623159 0.33093332 0.39404822 0.64609831 0.16076406 0.09790782 0.83787698 0.49079035 0.77093489 0.34574656 0.64058046 0.49322531 0.76766861 0.3232514  0.56616063 0.67857682 0.45419371 0.80243082 0.52358511 0.65839722 0.63302381 0.38970618 0.53017458 0.57702914 0.12794813]\n",
            " [0.70039302 0.65749341 0.50253868 0.41312096 0.30154523 0.15950084 0.70800676 0.79968991 0.         0.06930741 0.51148089 0.34776019 0.40440062 0.18328087 0.25730503 0.56281634 0.75775352 0.6802263  0.88980435 0.5179476  0.4696824  0.47942465 0.19082212 0.7741871  0.5610576  0.55173524 0.59223699 0.93799082 0.37547498 0.52096635 0.72491198 0.43410132 0.36956441 0.37224805 0.61285418 0.08320076 0.422888   0.19390099 0.49908575 0.48918438 0.12359034 0.72332921 0.35588171 0.7920933  0.63167162 0.22997061 0.34351184 0.43845299 0.32511575 0.61529899 0.33015283 0.79562377 0.15761979 0.4242905  0.13468632 0.60270016 0.57248056 0.54681315 0.44886464 0.33350634 0.34171579 0.42812578 0.9193362  0.30019789 0.89713999 0.24472791 0.67877652 0.51923221 0.44106721 0.15460141 0.67572984 0.1704653  0.71900345 0.64045628 0.15933744 0.1848161  0.79038553 0.61301214 0.32362412 0.78647881 0.81507583 0.15231221 0.46373629 0.11228768 0.51054272 0.42332742 0.44444449 0.50802219 0.5724328  0.35943308 0.12417016 0.70738158 0.11615324 0.56751125 0.33727074 0.65611515 0.70961477 0.69684164 0.58234544 0.67663137]\n",
            " [0.67641168 0.71784512 0.47238049 0.47963694 0.29589728 0.22853451 0.6757656  0.82610533 0.06930741 0.         0.56038622 0.38420841 0.44730967 0.20002448 0.27540854 0.62654117 0.77722518 0.74308439 0.90969643 0.46754325 0.41863365 0.53726998 0.20710106 0.75724748 0.59978049 0.58847299 0.57075219 0.96995726 0.44462331 0.59003637 0.72689172 0.48575964 0.39320614 0.43771201 0.59927589 0.06401962 0.49175258 0.15022956 0.55845425 0.44250777 0.05643219 0.70116319 0.41578557 0.82372294 0.58920636 0.28472986 0.29989628 0.41695401 0.3943752  0.68283792 0.31896258 0.81203467 0.16071413 0.38020919 0.08222799 0.59637435 0.59059228 0.50322369 0.44703893 0.28709844 0.36879887 0.39562427 0.94560225 0.33592548 0.93092091 0.22120423 0.66506941 0.52730673 0.50890955 0.09319932 0.67224229 0.14001376 0.76627153 0.65600684 0.09147293 0.24474672 0.78872166 0.66674206 0.29431014 0.82502927 0.84878255 0.21538994 0.45195164 0.07278353 0.51888521 0.49003505 0.50184053 0.45924715 0.57729068 0.34360166 0.17118188 0.76487743 0.18348217 0.62897099 0.30453169 0.62408166 0.76348181 0.75815071 0.55548168 0.70048346]\n",
            " [0.67135616 0.22446926 0.59320549 0.2588487  0.41103051 0.43696442 0.73770468 0.37812707 0.51148089 0.56038622 0.         0.19813036 0.1232786  0.6525593  0.33258982 0.22272524 0.39214368 0.27884514 0.49698544 0.73769668 0.70977858 0.10975212 0.65883576 0.67171    0.11496945 0.12844887 0.58458619 0.47100343 0.40780005 0.4596029  0.49734471 0.08129916 0.2490419  0.51147685 0.54118347 0.50896054 0.43712201 0.70476709 0.13029636 0.69281746 0.61333244 0.67399005 0.19099195 0.33938238 0.75917021 0.28308733 0.59508303 0.51151995 0.36611556 0.34525084 0.43480101 0.44307241 0.43331149 0.6378323  0.55592676 0.48427058 0.2899362  0.70893627 0.3957685  0.84438206 0.24525518 0.57155521 0.48399298 0.23991275 0.42395812 0.75091725 0.58216778 0.34657043 0.48369414 0.6531099  0.50579627 0.50824582 0.20789728 0.34290867 0.61370278 0.33359803 0.57051443 0.12043539 0.51872868 0.29836028 0.3483313  0.50036436 0.46150205 0.52993729 0.34222    0.2626802  0.11527354 0.71944137 0.38933646 0.46007047 0.38996775 0.23464828 0.47447631 0.18383472 0.53870237 0.69970373 0.21166509 0.26837814 0.61587643 0.30179119]\n",
            " [0.54572134 0.40729129 0.42431226 0.29972879 0.21727418 0.32684061 0.59633852 0.45631558 0.34776019 0.38420841 0.19813036 0.         0.07493939 0.5140206  0.13462617 0.36246594 0.42656543 0.45308568 0.55527474 0.55150602 0.51971907 0.23381014 0.52112229 0.57497794 0.21561629 0.20455792 0.44438569 0.59039193 0.4010952  0.50691652 0.44902646 0.1503981  0.07818106 0.48148683 0.42094763 0.32641856 0.44630212 0.53367097 0.26317973 0.5073109  0.43289855 0.55607788 0.18299279 0.44472743 0.59195819 0.15395764 0.39965231 0.33884172 0.34037157 0.46974865 0.24502098 0.4703591  0.24143305 0.44831005 0.36646649 0.37813023 0.25369464 0.53166605 0.24571414 0.67128886 0.05585668 0.38918665 0.57538603 0.04828295 0.54938599 0.59247729 0.47631969 0.24665607 0.48960558 0.47393767 0.42725684 0.31338881 0.39080508 0.32433801 0.42527417 0.20353543 0.5232877  0.31772298 0.32469749 0.44084007 0.46731564 0.38552473 0.30441672 0.34269037 0.23875191 0.30947115 0.2044614  0.53383593 0.30343291 0.27448156 0.22428262 0.4301617  0.34764898 0.33972369 0.34524893 0.55177343 0.40965739 0.45200326 0.46493856 0.33872334]\n",
            " [0.59079333 0.33518707 0.48709727 0.26556616 0.29043912 0.35727092 0.6483198  0.42008554 0.40440062 0.44730967 0.1232786  0.07493939 0.         0.56011751 0.20931205 0.30022908 0.40536553 0.38328232 0.52796718 0.62201807 0.59176581 0.16944481 0.56689873 0.60829925 0.15920168 0.15410973 0.49479443 0.54205673 0.38918667 0.47731992 0.46070735 0.0838195  0.13564462 0.48074442 0.46242567 0.39250701 0.42946674 0.59490184 0.19889661 0.57747445 0.49831364 0.59800382 0.15649373 0.3989706  0.65470017 0.18699677 0.47374558 0.40280307 0.33404262 0.413927   0.31640304 0.45290189 0.31231916 0.52005048 0.43631881 0.41277516 0.25299948 0.59844132 0.29778197 0.73380941 0.1250765  0.45773015 0.53655653 0.1176081  0.49856722 0.64805532 0.5123643  0.27459112 0.47496945 0.53885577 0.45101749 0.38612237 0.3205293  0.32010972 0.49470202 0.23986208 0.53583437 0.24280046 0.3981641  0.38304853 0.41748091 0.41934366 0.36084736 0.41131361 0.26801536 0.27375599 0.145482   0.60408264 0.32718911 0.34402293 0.28042126 0.3555244  0.3863882  0.27292597 0.41849678 0.60626218 0.33491146 0.37992925 0.52016556 0.31349924]\n",
            " [0.87548525 0.7591291  0.672335   0.49074185 0.4838133  0.22166986 0.87575172 0.97023981 0.18328087 0.20002448 0.6525593  0.5140206  0.56011751 0.         0.43845299 0.65101404 0.93420959 0.76916134 1.06545807 0.65911409 0.6100699  0.59712644 0.0075414  0.95365909 0.71931545 0.71294507 0.76891288 1.1015532  0.39462628 0.52548819 0.90804875 0.57158392 0.54640159 0.33997947 0.7936083  0.25421544 0.42874404 0.16323769 0.61035271 0.63767792 0.21022817 0.89971524 0.47326953 0.95705701 0.78633365 0.37380868 0.49803981 0.61480594 0.36959135 0.6719218  0.51100194 0.97386465 0.34036849 0.57750386 0.28110878 0.78547046 0.75071567 0.70006503 0.63204094 0.25822883 0.51671263 0.59564741 1.08940339 0.46883658 1.05860135 0.12984485 0.8595695  0.70162894 0.42739369 0.20167917 0.85890629 0.33878267 0.8590911  0.81972897 0.26757698 0.3212126  0.97366503 0.73910201 0.4939114  0.94193323 0.97724796 0.16227118 0.64485679 0.27207792 0.69289953 0.49856157 0.56529748 0.65252259 0.75533936 0.53855768 0.29337784 0.81900345 0.17846962 0.66715481 0.5045254  0.82408875 0.83305024 0.79307605 0.75508706 0.85024214]\n",
            " [0.49691951 0.53566705 0.33583207 0.38161388 0.10239396 0.29868328 0.52962808 0.55106121 0.25730503 0.27540854 0.33258982 0.13462617 0.20931205 0.43845299 0.         0.47768827 0.50259036 0.57757614 0.63500564 0.43579578 0.39921766 0.35554333 0.44594925 0.55035503 0.34025216 0.32544735 0.38806115 0.69745925 0.44174792 0.56986295 0.4723854  0.27792267 0.11869265 0.49803054 0.38728709 0.21249353 0.49189937 0.42487718 0.38376009 0.39338799 0.31695129 0.51388988 0.27101701 0.55146163 0.49818128 0.16617591 0.27209866 0.25200622 0.3773968  0.5734726  0.1375358  0.5390211  0.11767921 0.32991862 0.2413619  0.36305201 0.31632626 0.42782557 0.20809966 0.55779344 0.09884051 0.28388862 0.67042805 0.0957313  0.66011354 0.49449357 0.45086481 0.26378147 0.52923782 0.35822244 0.42995797 0.18205079 0.52307635 0.38345716 0.30019547 0.18849519 0.54093444 0.45165507 0.20160207 0.56106252 0.5782921  0.34392283 0.24442244 0.2213011  0.25500161 0.39260936 0.32239507 0.41922658 0.31882804 0.1726081  0.15254487 0.56304924 0.29930293 0.46141215 0.22271345 0.48041306 0.54421168 0.5800753  0.39530326 0.425098  ]\n",
            " [0.88635456 0.11650752 0.78592145 0.16051295 0.57450807 0.43321175 0.94742547 0.5691013  0.56281634 0.62654117 0.22272524 0.36246594 0.30022908 0.65101404 0.47768827 0.         0.60171754 0.11869309 0.69095399 0.91107908 0.87641948 0.13082852 0.65552518 0.89276144 0.33249696 0.34909913 0.79371571 0.62169249 0.29517075 0.27936277 0.71982153 0.21641054 0.43462662 0.4011069  0.75660416 0.59237605 0.29950138 0.74966836 0.10154864 0.86751165 0.68297103 0.89111907 0.21704305 0.51644842 0.95367088 0.35199922 0.74938145 0.70084354 0.28900568 0.12281927 0.60518515 0.65272991 0.54531396 0.8061928  0.65047735 0.70234161 0.51257892 0.89404573 0.59781991 0.88499894 0.41820477 0.75109675 0.65794803 0.3846508  0.57312156 0.77091213 0.80125727 0.56331013 0.34030545 0.71717889 0.7278456  0.62266653 0.3117172  0.56477549 0.70142368 0.38272879 0.79260798 0.17756173 0.67893584 0.44657682 0.5129521  0.48887631 0.66106787 0.62126805 0.55806739 0.15353141 0.15803474 0.89384172 0.60945086 0.6361577  0.46457644 0.18833224 0.48251476 0.04561972 0.69999494 0.90617455 0.23094551 0.14312209 0.82027757 0.515684  ]\n",
            " [0.46280794 0.5525912  0.52133306 0.6467974  0.501278   0.75310855 0.55162984 0.09539141 0.75775352 0.77722518 0.39214368 0.42656543 0.40536553 0.93420959 0.50259036 0.60171754 0.         0.61252035 0.13247126 0.69872719 0.69640359 0.50189419 0.94153735 0.40281767 0.27747055 0.26768366 0.43653632 0.24991449 0.78762832 0.8516112  0.19520108 0.44848706 0.38833425 0.88422092 0.36345102 0.71357434 0.82270482 0.92529443 0.52078988 0.65894904 0.81473016 0.44769943 0.55521328 0.15409014 0.64209238 0.57964086 0.64203886 0.4801855  0.73669304 0.7227024  0.49600956 0.05111249 0.61693875 0.63580416 0.73194329 0.30434706 0.18668251 0.63706935 0.36804555 1.05366587 0.41749982 0.55360131 0.18702468 0.46776593 0.23801983 0.99707026 0.35714447 0.26668773 0.8692391  0.85531153 0.25751185 0.66364973 0.34923008 0.12631492 0.78775762 0.63007    0.24043352 0.43476585 0.57388479 0.24197099 0.18921493 0.812078   0.40974367 0.71741247 0.2733059  0.65194036 0.50318973 0.68091979 0.23968151 0.49376656 0.64083299 0.5117065  0.77358476 0.55726453 0.58441306 0.5386808  0.44921733 0.58367182 0.48508921 0.09264089]\n",
            " [0.94882277 0.06030415 0.86863378 0.27841966 0.6697866  0.55187174 1.01644789 0.562515   0.6802263  0.74308439 0.27884514 0.45308568 0.38328232 0.76916134 0.57757614 0.11869309 0.61252035 0.         0.68232739 1.00450274 0.97258011 0.22206502 0.77357074 0.94277867 0.3686855  0.38902279 0.86341983 0.58379855 0.40353417 0.35727848 0.755759   0.30268978 0.51854637 0.50565149 0.81874599 0.7067355  0.39952497 0.868016   0.1943992  0.96017514 0.79946935 0.95018718 0.32951785 0.50195372 1.0356135  0.4646886  0.84940779 0.78527127 0.40449652 0.154487   0.69809536 0.66204278 0.65441905 0.90132796 0.76369886 0.7603901  0.55819111 0.98157728 0.67347802 1.00360941 0.50727811 0.84094853 0.63414161 0.48231706 0.53673354 0.88954599 0.85685291 0.62420165 0.43547753 0.83430752 0.77492264 0.73212895 0.28001436 0.59983147 0.815952   0.49856505 0.82502606 0.1821095  0.77640272 0.4189086  0.49011223 0.60715972 0.73876542 0.73475078 0.62024829 0.27077719 0.25600048 0.98674063 0.66386122 0.72689244 0.57872944 0.11647323 0.60120783 0.11728426 0.7972273  0.97851852 0.17906265 0.03950706 0.89445822 0.53547609]\n",
            " [0.54146966 0.62460013 0.63289879 0.75563455 0.6322074  0.88060674 0.63150146 0.12185563 0.88980435 0.90969643 0.49698544 0.55527474 0.52796718 1.06545807 0.63500564 0.69095399 0.13247126 0.68232739 0.         0.80910255 0.8113222  0.60512053 1.07275247 0.4611489  0.38642332 0.38126953 0.53665852 0.18240769 0.90163442 0.95397766 0.273924   0.56190463 0.5202564  1.00149752 0.46247757 0.84604051 0.93356282 1.05771262 0.6203508  0.7715718  0.94703944 0.52084241 0.67221311 0.1807339  0.73746086 0.70707498 0.76657082 0.60061297 0.85396122 0.80771807 0.62539298 0.10570723 0.74939378 0.75431433 0.8639466  0.41022588 0.3191376  0.74319808 0.49495596 1.1857022  0.54895055 0.67269488 0.09515271 0.59781451 0.19780968 1.12949736 0.44089137 0.39541734 0.9801879  0.98755707 0.34796613 0.79539883 0.40399097 0.25657778 0.91945961 0.75826489 0.28656677 0.51576228 0.70086163 0.2702669  0.19909214 0.94047429 0.53120924 0.84970919 0.40254163 0.75966032 0.6115288  0.79196177 0.36184983 0.6210737  0.77212942 0.57210873 0.90289401 0.64544054 0.71023609 0.62747359 0.50733169 0.64909499 0.58592281 0.21662506]\n",
            " [0.33032349 0.95716367 0.17739725 0.81490338 0.33659625 0.65559643 0.27674741 0.78576977 0.5179476  0.46754325 0.73769668 0.55150602 0.62201807 0.65911409 0.43579578 0.91107908 0.69872719 1.00450274 0.80910255 0.         0.04906538 0.78477617 0.66533604 0.43911657 0.69748855 0.67631023 0.27879785 0.94655033 0.84984996 0.9891957  0.54202989 0.70187468 0.48884436 0.87730809 0.35063218 0.43569913 0.90097429 0.53076583 0.81390442 0.0450255  0.44899948 0.36110199 0.70668446 0.8207626  0.14513998 0.59014165 0.17942146 0.23567462 0.78760022 1.00926803 0.30653346 0.70512318 0.40834657 0.10629749 0.38643114 0.39887735 0.55690463 0.07538117 0.36331698 0.58606723 0.49731866 0.16710473 0.88438989 0.52652116 0.92625206 0.62047211 0.39178613 0.45679176 0.93080633 0.46462898 0.46626399 0.35321258 0.88883953 0.58302298 0.39165651 0.5910441  0.56459933 0.85697467 0.2352345  0.87204857 0.85635964 0.66800455 0.30222912 0.40572693 0.45430959 0.82605534 0.75371065 0.01877345 0.46277655 0.27807649 0.51382314 0.97179209 0.62629908 0.8909676  0.21426318 0.23778911 0.93924534 1.00189443 0.23158849 0.67041894]\n",
            " [0.35682253 0.92674419 0.17987227 0.77543076 0.30282743 0.60906207 0.3122384  0.78067369 0.4696824  0.41863365 0.70977858 0.51971907 0.59176581 0.6100699  0.39921766 0.87641948 0.69640359 0.97258011 0.8113222  0.04906538 0.         0.75169353 0.61630257 0.4638608  0.67611629 0.65541552 0.29199965 0.94183145 0.80567444 0.94603372 0.54943735 0.66998555 0.4608472  0.83081677 0.3602498  0.38771844 0.85673341 0.48276636 0.78056552 0.04590574 0.39998034 0.38748978 0.66911846 0.81210923 0.18808918 0.54946222 0.13470123 0.22137491 0.74389548 0.97193487 0.27539833 0.70632776 0.3640745  0.07196871 0.3376881  0.40267655 0.54551285 0.10783258 0.34790586 0.541843   0.46669193 0.1480646  0.88311055 0.491937   0.91925336 0.57271769 0.40754797 0.4456651  0.88574255 0.41598992 0.47425684 0.30627509 0.86833382 0.57714898 0.34264544 0.54799516 0.57806994 0.82976075 0.19761859 0.85886629 0.84710883 0.62017437 0.29114181 0.35740659 0.44230198 0.78662876 0.71982563 0.04518596 0.45769847 0.25024285 0.46930225 0.94438    0.57882925 0.8579699  0.17651421 0.26911661 0.91433315 0.97148606 0.24805316 0.6618619 ]\n",
            " [0.75670863 0.18401848 0.65581019 0.1543855  0.44891795 0.37572884 0.81680214 0.4851894  0.47942465 0.53726998 0.10975212 0.23381014 0.16944481 0.59712644 0.35554333 0.13082852 0.50189419 0.22206502 0.60512053 0.78477617 0.75169353 0.         0.60270336 0.7665722  0.22463898 0.23702601 0.66311653 0.56674373 0.30740141 0.34997742 0.60103519 0.08563539 0.30426068 0.41397162 0.62725731 0.49475373 0.33219473 0.67235118 0.02953428 0.74078469 0.59292602 0.76221009 0.12512098 0.44235299 0.82353129 0.25289735 0.62748322 0.57100386 0.27381444 0.24755435 0.47828071 0.55282374 0.43525663 0.68077439 0.54903025 0.57421488 0.39127467 0.7652456  0.46699405 0.81114124 0.28915076 0.62299524 0.58725037 0.26045424 0.51860934 0.70670601 0.67352058 0.43499008 0.37844024 0.63017088 0.60356921 0.51294409 0.27571422 0.44861814 0.60353819 0.29461851 0.67508834 0.14348218 0.55495731 0.3903606  0.44735829 0.43756496 0.53029081 0.52074101 0.42940035 0.15655717 0.03569196 0.76725432 0.48303086 0.50826894 0.36780399 0.22796266 0.41982163 0.10627726 0.57586503 0.77537088 0.23592718 0.22720083 0.68944961 0.41142881]\n",
            " [0.88274833 0.76399982 0.67945625 0.4951681  0.49132514 0.22708267 0.882769   0.97737163 0.19082212 0.20710106 0.65883576 0.52112229 0.56689873 0.0075414  0.44594925 0.65552518 0.94153735 0.77357074 1.07275247 0.66533604 0.61630257 0.60270336 0.         0.9610658  0.72610019 0.71982412 0.77623698 1.10843494 0.39725449 0.52708683 0.91558698 0.57781251 0.55377759 0.34075157 0.80106334 0.2615988  0.43070314 0.16619455 0.61570285 0.64414767 0.21636366 0.90701988 0.47901713 0.96400501 0.79293604 0.38047639 0.50478951 0.62213713 0.3732814  0.67525883 0.51847361 0.98124823 0.34789743 0.58415706 0.28802005 0.79299268 0.75811042 0.70665434 0.63957784 0.2574179  0.52404566 0.60272062 1.09650832 0.47602189 1.0654166  0.12851474 0.86702388 0.70914754 0.42855109 0.20685655 0.86644278 0.34602114 0.86522873 0.82715159 0.27372067 0.32782839 0.98120607 0.74483011 0.50110045 0.94856521 0.98409946 0.16706889 0.6523289  0.27925733 0.70041713 0.50288727 0.57101384 0.65885613 0.76287168 0.54597891 0.300705   0.82418029 0.18454318 0.67204561 0.51162687 0.83112195 0.83863015 0.79772677 0.7622863  0.85748519]\n",
            " [0.1093221  0.88374147 0.30497562 0.8713365  0.47480146 0.84870852 0.18723212 0.49705793 0.7741871  0.75724748 0.67171    0.57497794 0.60829925 0.95365909 0.55035503 0.89276144 0.40281767 0.94277867 0.4611489  0.43911657 0.4638608  0.7665722  0.9610658  0.         0.5742841  0.55375686 0.18999142 0.63573912 0.97339697 1.08120027 0.20857645 0.68624939 0.49864232 1.04346153 0.16339764 0.69950018 1.02017213 0.87614953 0.79380928 0.41795766 0.76878335 0.07895761 0.75622504 0.55635158 0.3202499  0.70369695 0.4934105  0.34084622 0.9107202  1.01358517 0.44419633 0.37944438 0.61787088 0.43790507 0.68270022 0.196889   0.38459021 0.36374972 0.34342046 0.97098044 0.52872484 0.37929174 0.55382377 0.58731709 0.63511202 0.96450686 0.09996779 0.33371289 1.06231788 0.80065354 0.16825678 0.61736588 0.72167113 0.35060749 0.72015012 0.73661345 0.1745945  0.76230752 0.46695652 0.63948211 0.59195019 0.89017051 0.31164672 0.68455828 0.34035512 0.88028754 0.75031384 0.42742061 0.28355403 0.41516358 0.69812062 0.86381847 0.84459589 0.85550452 0.46191687 0.20595991 0.80915448 0.92321846 0.22080246 0.43485912]\n",
            " [0.58605659 0.30946313 0.53809854 0.37042142 0.39458148 0.51443677 0.65932727 0.27072477 0.5610576  0.59978049 0.11496945 0.21561629 0.15920168 0.71931545 0.34025216 0.33249696 0.27747055 0.3686855  0.38642332 0.69748855 0.67611629 0.22463898 0.72610019 0.5742841  0.         0.02218358 0.50956606 0.38325208 0.51521559 0.57414735 0.3896238  0.17574578 0.23013105 0.6157789  0.45716572 0.54185588 0.54766486 0.74902194 0.24480072 0.65258832 0.64837128 0.58501377 0.28739872 0.24180383 0.6983094  0.34603169 0.57554934 0.46311407 0.4685246  0.45524615 0.41006751 0.32829691 0.45435657 0.60488202 0.57965824 0.39622157 0.18990358 0.65857038 0.33780915 0.88687577 0.24174959 0.53072564 0.38290458 0.26388575 0.33940083 0.8054875  0.49033538 0.26605913 0.59429308 0.68946956 0.40628395 0.52229369 0.19246121 0.23360133 0.63864478 0.39889245 0.46120267 0.18820895 0.49792149 0.22554413 0.25855558 0.57708868 0.40330165 0.55701703 0.26396193 0.37511662 0.22633452 0.67878024 0.2984892  0.42810722 0.43690169 0.29480213 0.5452284  0.29040036 0.51593374 0.62610962 0.24879366 0.34925881 0.54648994 0.18682182]\n",
            " [0.56430477 0.3300961  0.51624927 0.37912164 0.37619851 0.51122114 0.63728135 0.26843681 0.55173524 0.58847299 0.12844887 0.20455792 0.15410973 0.71294507 0.32544735 0.34909913 0.26768366 0.38902279 0.38126953 0.67631023 0.65541552 0.23702601 0.71982412 0.55375686 0.02218358 0.         0.4874112  0.38861083 0.52127691 0.58513677 0.37135518 0.18138234 0.2129988  0.62025223 0.43527488 0.52967142 0.55526219 0.73814928 0.25873002 0.63144592 0.63616745 0.56352634 0.29094859 0.24488431 0.67621668 0.34086465 0.55624433 0.44167701 0.47269546 0.47191779 0.39071076 0.31803705 0.44070974 0.58432009 0.56586354 0.37453033 0.16917707 0.63685405 0.31606033 0.87543339 0.22663534 0.50967982 0.38322207 0.25275721 0.34607337 0.79641846 0.46905041 0.24390925 0.60184072 0.67737357 0.38595477 0.50727269 0.21291888 0.21576728 0.62485052 0.3936856  0.44361672 0.20931694 0.47867373 0.23680983 0.26439317 0.57342852 0.38144356 0.54382821 0.24178344 0.38435958 0.235737   0.65758763 0.27689417 0.40798791 0.4277617  0.31675777 0.54031348 0.30782768 0.49644197 0.603952   0.27097316 0.37033661 0.52430805 0.1757055 ]\n",
            " [0.10973516 0.80797771 0.11844919 0.74340886 0.29987042 0.68048706 0.15372073 0.52894001 0.59223699 0.57075219 0.58458619 0.44438569 0.49479443 0.76891288 0.38806115 0.79371571 0.43653632 0.86341983 0.53665852 0.27879785 0.29199965 0.66311653 0.77623698 0.18999142 0.50956606 0.4874112  0.         0.68641565 0.82656709 0.94647245 0.2651359  0.57807742 0.36644594 0.88604809 0.07420034 0.51491325 0.87567175 0.68650771 0.69219169 0.24753166 0.57990666 0.13109223 0.62651901 0.57361026 0.20609019 0.55100056 0.30411759 0.15412801 0.7624764  0.90870084 0.26612442 0.43531067 0.43869729 0.25411815 0.49454288 0.13308199 0.3323366  0.20828834 0.19872156 0.78137967 0.39125124 0.18981603 0.61737828 0.44431529 0.67225975 0.77519828 0.11601918 0.24350946 0.91497291 0.61111798 0.18949071 0.43076206 0.68680591 0.33513164 0.53052374 0.57647615 0.28643544 0.69238011 0.27811779 0.63925975 0.6103106  0.71662012 0.14452882 0.49797058 0.24583866 0.75340556 0.64020657 0.26339385 0.22150636 0.23376231 0.52716436 0.80345327 0.67086705 0.76240226 0.27219376 0.11655045 0.75795272 0.85088513 0.04926429 0.42764202]\n",
            " [0.70730449 0.53244647 0.76928334 0.72094933 0.71992916 0.89742358 0.79703916 0.16117106 0.93799082 0.96995726 0.47100343 0.59039193 0.54205673 1.1015532  0.69745925 0.62169249 0.24991449 0.58379855 0.18240769 0.94655033 0.94183145 0.56674373 1.10843494 0.63573912 0.38325208 0.38861083 0.68641565 0.         0.87409856 0.89894003 0.4364043  0.54880823 0.57881069 0.9800729  0.61315589 0.90872478 0.89746742 1.12018658 0.57378006 0.90586955 1.01421445 0.68954728 0.66125355 0.14623469 0.89179055 0.72905292 0.87723321 0.72256141 0.83644962 0.72637823 0.72154528 0.25814949 0.81513845 0.87873294 0.93754041 0.55423075 0.40558839 0.88632344 0.60304826 1.25501087 0.60129748 0.79658406 0.08815681 0.63779347 0.04866346 1.18258995 0.60297977 0.50080622 0.94310412 1.05553204 0.50472381 0.87310068 0.31055216 0.36472408 0.99572498 0.78191879 0.46251884 0.44582874 0.80494447 0.17708665 0.12472962 0.96022833 0.65190834 0.91870477 0.50582766 0.72233606 0.5833817  0.92851323 0.48430986 0.72530138 0.81466866 0.46755799 0.92839656 0.57697865 0.81783576 0.78699767 0.40520283 0.54632911 0.73500301 0.28514068]\n",
            " [0.93357683 0.41165756 0.77624435 0.15391046 0.5407934  0.21612248 0.97113233 0.78482899 0.37547498 0.44462331 0.40780005 0.4010952  0.38918667 0.39462628 0.44174792 0.29517075 0.78762832 0.40353417 0.90163442 0.84984996 0.80567444 0.30740141 0.39725449 0.97339697 0.51521559 0.52127691 0.82656709 0.87409856 0.         0.14563005 0.84676293 0.33994619 0.47522375 0.10815217 0.81503331 0.43882366 0.05116266 0.5277185  0.30310493 0.81252419 0.49637929 0.94764526 0.23351831 0.74696871 0.93418558 0.27603275 0.67104755 0.69351254 0.06435162 0.28264339 0.57688959 0.83700799 0.44163726 0.74543281 0.50026907 0.77726662 0.64176465 0.85776736 0.63399894 0.64891705 0.44468681 0.71758861 0.89172547 0.38633344 0.82600391 0.52349973 0.87383618 0.64774607 0.08893643 0.51960455 0.82833676 0.50457432 0.57845545 0.70929435 0.53445096 0.26056199 0.92166862 0.43994062 0.62042534 0.69774982 0.75396566 0.24633623 0.68204177 0.47216923 0.63984259 0.15425055 0.29267372 0.83599095 0.70435139 0.61245721 0.33640866 0.48239162 0.2636576  0.32707818 0.64013153 0.92214338 0.51709175 0.43511074 0.83676122 0.6950004 ]\n",
            " [1.05085404 0.38617847 0.90565371 0.21183392 0.67132979 0.36150421 1.09489276 0.83316524 0.52096635 0.59003637 0.4596029  0.50691652 0.47731992 0.52548819 0.56986295 0.27936277 0.8516112  0.35727848 0.95397766 0.9891957  0.94603372 0.34997742 0.52708683 1.08120027 0.57414735 0.58513677 0.94647245 0.89894003 0.14563005 0.         0.93691412 0.40994406 0.58451952 0.19177075 0.92768834 0.5840901  0.09935946 0.66745666 0.33364462 0.95067576 0.64131872 1.06245323 0.32500193 0.78610923 1.0671178  0.404423   0.81134822 0.82126392 0.20291952 0.20696197 0.70708107 0.90243496 0.58229864 0.88390438 0.64565685 0.88434619 0.72715789 0.99319426 0.74969134 0.78310154 0.55668814 0.8510986  0.92997094 0.50215759 0.85028113 0.65533302 0.98303009 0.74916783 0.10229453 0.66343234 0.92780655 0.64783287 0.59026469 0.79021727 0.68003784 0.39816082 1.01195982 0.45311147 0.75713023 0.72256707 0.78637809 0.38735762 0.80279204 0.61740424 0.74193712 0.20421165 0.34997624 0.97475034 0.8035665  0.74238089 0.47801435 0.45999565 0.40821338 0.32272445 0.77732677 1.04732596 0.50914219 0.39510922 0.96091939 0.7605676 ]\n",
            " [0.27092566 0.69571571 0.36957422 0.72518254 0.43142229 0.76152648 0.36077455 0.29026189 0.72491198 0.72689172 0.49734471 0.44902646 0.46070735 0.90804875 0.4723854  0.71982153 0.19520108 0.755759   0.273924   0.54202989 0.54943735 0.60103519 0.91558698 0.20857645 0.3896238  0.37135518 0.2651359  0.4364043  0.84676293 0.93691412 0.         0.52850291 0.38366711 0.9304927  0.19164115 0.66364641 0.88916787 0.86534278 0.62576666 0.50726254 0.75308378 0.25365374 0.61669786 0.34802983 0.46361671 0.59706839 0.52592353 0.35442929 0.78799364 0.84252549 0.41284004 0.17843829 0.56974751 0.49915828 0.66560342 0.14922478 0.21039345 0.47323641 0.28021915 0.98079783 0.41642164 0.42071296 0.359963   0.47591851 0.43095568 0.94675268 0.16759939 0.21010015 0.93405631 0.79079298 0.0758071  0.59552388 0.51881065 0.15615417 0.71487068 0.63994603 0.07512707 0.57366448 0.47154529 0.43107035 0.38386536 0.8129188  0.2920385  0.6583919  0.21888259 0.73272263 0.5912435  0.52570032 0.15362338 0.39728222 0.62437262 0.66838834 0.76954374 0.67913208 0.47588559 0.35381544 0.61070155 0.73266464 0.31420889 0.23024545]\n",
            " [0.67282897 0.25798405 0.57041122 0.19996569 0.36728972 0.35567373 0.73170093 0.44632573 0.43410132 0.48575964 0.08129916 0.1503981  0.0838195  0.57158392 0.27792267 0.21641054 0.44848706 0.30268978 0.56190463 0.70187468 0.66998555 0.08563539 0.57781251 0.68624939 0.17574578 0.18138234 0.57807742 0.54880823 0.33994619 0.40994406 0.52850291 0.         0.21880649 0.44004766 0.54381646 0.43717004 0.37424146 0.62789187 0.11511554 0.65762261 0.53979934 0.67913245 0.1128704  0.41326857 0.73809832 0.20441482 0.54825083 0.48578471 0.29290846 0.33107541 0.39541646 0.49838934 0.36791879 0.59866096 0.48730208 0.49223549 0.31816752 0.6806258  0.38150386 0.76755104 0.20493543 0.5389518  0.55666477 0.1822101  0.50239125 0.67151895 0.59178391 0.35316766 0.42075735 0.57887146 0.52558204 0.44471671 0.28784529 0.38027633 0.54397544 0.2537534  0.60330968 0.18182072 0.47428959 0.37821116 0.4250486  0.41907614 0.44466557 0.46022375 0.34715925 0.20629204 0.06406814 0.68416618 0.40326201 0.42453333 0.31461565 0.28765327 0.39336829 0.19002852 0.49500479 0.68994812 0.27829646 0.30255106 0.60392978 0.35602306]\n",
            " [0.46754945 0.46911418 0.35160628 0.37790041 0.16616358 0.37927257 0.51876714 0.43290101 0.36956441 0.39320614 0.2490419  0.07818106 0.13564462 0.54640159 0.11869265 0.43462662 0.38833425 0.51854637 0.5202564  0.48884436 0.4608472  0.30426068 0.55377759 0.49864232 0.23013105 0.2129988  0.36644594 0.57881069 0.47522375 0.58451952 0.38366711 0.21880649 0.         0.55077813 0.34316889 0.33082056 0.52157382 0.54307977 0.33379191 0.4440392  0.43563057 0.47809977 0.26112123 0.43287961 0.51929443 0.21365503 0.34978866 0.26715999 0.41323158 0.54513138 0.18652737 0.42748204 0.23635411 0.38888337 0.35922572 0.30213009 0.20447693 0.46303169 0.16772486 0.67647556 0.03276021 0.32328958 0.55242636 0.09252474 0.54178348 0.61066589 0.39951129 0.17570963 0.56406158 0.47690996 0.35533037 0.29699604 0.41961894 0.27420323 0.41779372 0.25666194 0.45655345 0.36891376 0.27242783 0.44552983 0.46011127 0.43344353 0.22773501 0.33989504 0.16729087 0.38765218 0.27760621 0.4706711  0.23334957 0.21103433 0.25332209 0.48355642 0.39190933 0.40851289 0.29171233 0.47479616 0.45486705 0.51376481 0.38810821 0.30779895]\n",
            " [0.99493351 0.51753837 0.82389902 0.26158475 0.59068595 0.22175495 1.02468586 0.88634361 0.37224805 0.43771201 0.51147685 0.48148683 0.48074442 0.33997947 0.49803054 0.4011069  0.88422092 0.50565149 1.00149752 0.87730809 0.83081677 0.41397162 0.34075157 1.04346153 0.6157789  0.62025223 0.88604809 0.9800729  0.10815217 0.19177075 0.9304927  0.44004766 0.55077813 0.         0.88210874 0.44756234 0.10831787 0.49094491 0.41083247 0.84336165 0.48290298 1.01142843 0.32943768 0.85082088 0.97444719 0.33988887 0.69814    0.74472897 0.14762601 0.37385332 0.62652382 0.93275875 0.47297453 0.77630555 0.50569863 0.84967497 0.73018488 0.89406243 0.7004845  0.59813899 0.51875699 0.7592166  0.9952429  0.45882418 0.93216536 0.46920943 0.94349452 0.72614536 0.08978998 0.49832626 0.90610704 0.5246083  0.68632176 0.7992714  0.52913375 0.30957206 1.00476161 0.54798681 0.65730802 0.8041734  0.85906939 0.22279385 0.74236896 0.48027621 0.71786365 0.26232419 0.39710566 0.86509174 0.78358941 0.66180244 0.36926563 0.5890714  0.25641544 0.43452404 0.67558016 0.97426884 0.62500538 0.53883034 0.89103436 0.79167384]\n",
            " [0.13017277 0.76173662 0.1814386  0.72019514 0.3122401  0.6854194  0.20394944 0.45658784 0.61285418 0.59927589 0.54118347 0.42094763 0.46242567 0.7936083  0.38728709 0.75660416 0.36345102 0.81874599 0.46247757 0.35063218 0.3602498  0.62725731 0.80106334 0.16339764 0.45716572 0.43527488 0.07420034 0.61315589 0.81503331 0.92768834 0.19164115 0.54381646 0.34316889 0.88210874 0.         0.53997644 0.86271017 0.724293   0.65568288 0.31701017 0.61468389 0.13566129 0.60379488 0.50317726 0.27864863 0.542885   0.35480501 0.18859444 0.75175833 0.87461451 0.2827701  0.36118529 0.45586766 0.31545166 0.52745702 0.06407214 0.27271226 0.28166177 0.18169508 0.82718213 0.37162561 0.24255476 0.54336339 0.42880658 0.60005052 0.81101727 0.06596258 0.19463858 0.90394331 0.64858179 0.11584026 0.46019648 0.62728148 0.26682242 0.56889773 0.57423809 0.21924029 0.64341214 0.31536999 0.57194037 0.53995454 0.72682328 0.14917784 0.52699655 0.19906762 0.72965405 0.60730434 0.33456392 0.16040267 0.25569717 0.53472954 0.75195907 0.68127282 0.72262681 0.31388378 0.17909289 0.7033895  0.80362664 0.12345796 0.35953179]\n",
            " [0.62203982 0.67761352 0.42150933 0.45312073 0.23334511 0.22788664 0.62658909 0.76353961 0.08320076 0.06401962 0.50896054 0.32641856 0.39250701 0.25421544 0.21249353 0.59237605 0.71357434 0.7067355  0.84604051 0.43569913 0.38771844 0.49475373 0.2615988  0.69950018 0.54185588 0.52967142 0.51491325 0.90872478 0.43882366 0.5840901  0.66364641 0.43717004 0.33082056 0.44756234 0.53997644 0.         0.48823531 0.21238855 0.51774685 0.40622885 0.10652077 0.64584566 0.37727801 0.76253219 0.54848819 0.24261444 0.26039534 0.36078562 0.38302695 0.65814269 0.25805767 0.74812307 0.09677081 0.3411411  0.06190178 0.53473471 0.5269068  0.46361542 0.38414375 0.34648896 0.30746648 0.3462673  0.88292158 0.27831073 0.87031885 0.28521094 0.60590695 0.46335334 0.51079347 0.14770343 0.60998597 0.08771849 0.71281049 0.59208732 0.10922421 0.21075203 0.72616052 0.61895937 0.24235602 0.76647394 0.78824759 0.23250773 0.39171624 0.03336827 0.45491747 0.46396915 0.45907322 0.42539791 0.51359416 0.28453208 0.12800616 0.72073292 0.19217938 0.59085173 0.25511232 0.57471228 0.71545815 0.71918141 0.50262521 0.63751746]\n",
            " [0.98226142 0.41507347 0.82679986 0.17840031 0.59137978 0.26341806 1.02096027 0.81524484 0.422888   0.49175258 0.43712201 0.44630212 0.42946674 0.42874404 0.49189937 0.29950138 0.82270482 0.39952497 0.93356282 0.90097429 0.85673341 0.33219473 0.43070314 1.02017213 0.54766486 0.55526219 0.87567175 0.89746742 0.05116266 0.09935946 0.88916787 0.37424146 0.52157382 0.10831787 0.86271017 0.48823531 0.         0.5683925  0.32372113 0.86368465 0.54250115 0.99586151 0.27297368 0.77443041 0.98513946 0.32589643 0.72212586 0.74381397 0.11490627 0.26553902 0.62745412 0.87262372 0.49272565 0.79659019 0.54944853 0.82368827 0.68246549 0.90887448 0.68210403 0.68556853 0.49158366 0.76855356 0.91934827 0.43392318 0.84904755 0.55847243 0.9208299  0.69262381 0.04663113 0.56417851 0.87304262 0.55518964 0.59627913 0.74896002 0.58216566 0.31165536 0.96421802 0.45696482 0.67156424 0.72048117 0.77934429 0.28802046 0.73118957 0.52160214 0.68486838 0.17564465 0.32209848 0.88713875 0.7487981  0.66300738 0.38744004 0.4877722  0.30931872 0.33624141 0.69128503 0.97217129 0.52778548 0.43376434 0.88659547 0.73026444]\n",
            " [0.78670996 0.84835835 0.57802901 0.59469498 0.43479579 0.32246557 0.7726339  0.97589576 0.19390099 0.15022956 0.70476709 0.53367097 0.59490184 0.16323769 0.42487718 0.74966836 0.92529443 0.868016   1.05771262 0.53076583 0.48276636 0.67235118 0.16619455 0.87614953 0.74902194 0.73814928 0.68650771 1.12018658 0.5277185  0.66745666 0.86534278 0.62789187 0.54307977 0.49094491 0.724293   0.21238855 0.5683925  0.         0.69111276 0.51680981 0.11236231 0.81371337 0.54803791 0.97395236 0.66763435 0.42386939 0.39090927 0.53668892 0.4896296  0.79078679 0.4528184  0.95884625 0.30851241 0.46415442 0.19977975 0.72888912 0.73862324 0.58207053 0.58535533 0.13966532 0.51899886 0.5005831  1.09530217 0.4854163  1.08109735 0.09070655 0.78902569 0.67116236 0.57437428 0.07571175 0.80656212 0.26981891 0.91191082 0.80286505 0.1559999  0.37795453 0.92377956 0.80687677 0.4096809  0.97446369 0.99895209 0.28138645 0.58155846 0.20892644 0.66295087 0.60415441 0.63762299 0.52733154 0.71882808 0.47226682 0.31523264 0.90015784 0.27160442 0.7575004  0.41431406 0.72240296 0.90344654 0.88663378 0.66386905 0.84989463]\n",
            " [0.78527725 0.15986781 0.68534445 0.1492536  0.47786242 0.38868628 0.84589618 0.49954587 0.49908575 0.55845425 0.13029636 0.26317973 0.19889661 0.61035271 0.38376009 0.10154864 0.52078988 0.1943992  0.6203508  0.81390442 0.78056552 0.02953428 0.61570285 0.79380928 0.24480072 0.25873002 0.69219169 0.57378006 0.30310493 0.33364462 0.62576666 0.11511554 0.33379191 0.41083247 0.65568288 0.51774685 0.32372113 0.69111276 0.         0.76997176 0.61440646 0.79046319 0.14320926 0.45384318 0.8530652  0.2752224  0.655821   0.6005321  0.27527866 0.21980408 0.50745419 0.57185643 0.46094754 0.70974897 0.57299291 0.60212881 0.41662286 0.79469971 0.49631894 0.82935621 0.31859281 0.65236143 0.598404   0.28898667 0.52533577 0.72257269 0.70130275 0.46294597 0.36933517 0.6510373  0.63009739 0.5386836  0.27553405 0.47234833 0.62679468 0.3144696  0.69947641 0.13823973 0.58365254 0.39676507 0.45660028 0.44947935 0.55972571 0.5444472  0.45749959 0.1493037  0.06160588 0.79642343 0.51026647 0.53759444 0.39020733 0.20980531 0.43432684 0.07765252 0.60459426 0.80463971 0.2250517  0.20191071 0.71878412 0.43138463]\n",
            " [0.31096909 0.91256303 0.13868656 0.77359682 0.29329393 0.62200503 0.26841402 0.74487623 0.48918438 0.44250777 0.69281746 0.5073109  0.57747445 0.63767792 0.39338799 0.86751165 0.65894904 0.96017514 0.7715718  0.0450255  0.04590574 0.74078469 0.64414767 0.41795766 0.65258832 0.63144592 0.24753166 0.90586955 0.81252419 0.95067576 0.50726254 0.65762261 0.4440392  0.84336165 0.31701017 0.40622885 0.86368465 0.51680981 0.76997176 0.         0.42866747 0.34162007 0.66440443 0.77858707 0.15082496 0.54987125 0.14621816 0.19133874 0.74979785 0.96671898 0.2625189  0.66701804 0.37197068 0.0672178  0.36050975 0.36181571 0.51374805 0.06597441 0.31903513 0.58215699 0.45291334 0.12208749 0.84517344 0.48316123 0.88469071 0.60727534 0.36267547 0.41361665 0.89454133 0.44773425 0.43177819 0.32144645 0.84404335 0.5417021  0.37172728 0.55280895 0.53391254 0.81202685 0.19432    0.82856353 0.81400105 0.63743718 0.2588035  0.37761556 0.41089452 0.7847132  0.70996009 0.02663218 0.42163525 0.23345697 0.47741521 0.92684907 0.59481475 0.8469193  0.17367573 0.22410273 0.89421984 0.95728535 0.20276115 0.62820381]\n",
            " [0.68249641 0.77391679 0.47502049 0.53577172 0.32243522 0.28049416 0.67436071 0.86756949 0.12359034 0.05643219 0.61333244 0.43289855 0.49831364 0.21022817 0.31695129 0.68297103 0.81473016 0.79946935 0.94703944 0.44899948 0.39998034 0.59292602 0.21636366 0.76878335 0.64837128 0.63616745 0.57990666 1.01421445 0.49637929 0.64131872 0.75308378 0.53979934 0.43563057 0.48290298 0.61468389 0.10652077 0.54250115 0.11236231 0.61440646 0.42866747 0.         0.70864801 0.4719111  0.86809912 0.57831189 0.34013691 0.29272197 0.42821563 0.44799688 0.73862386 0.34077925 0.84750894 0.19943784 0.3703861  0.08784283 0.6174201  0.62817868 0.49200468 0.47303306 0.24084528 0.41327554 0.3973944  0.98668449 0.38475177 0.97622818 0.19634049 0.67983769 0.55908773 0.55742274 0.04133584 0.69481717 0.15761227 0.81824295 0.69163667 0.05735706 0.30104034 0.8119677  0.72117567 0.30187631 0.87297467 0.89421121 0.26027009 0.47050356 0.09733723 0.55092071 0.54611866 0.5574266  0.44274517 0.60648874 0.36115083 0.22581544 0.82031956 0.23318457 0.68522886 0.30850444 0.62327525 0.81787692 0.81436505 0.56008536 0.7408955 ]\n",
            " [0.0307892  0.89241916 0.23677712 0.85556936 0.42955539 0.80916121 0.11285009 0.54307547 0.72332921 0.70116319 0.67399005 0.55607788 0.59800382 0.89971524 0.51388988 0.89111907 0.44769943 0.95018718 0.52084241 0.36110199 0.38748978 0.76221009 0.90701988 0.07895761 0.58501377 0.56352634 0.13109223 0.68954728 0.94764526 1.06245323 0.25365374 0.67913245 0.47809977 1.01142843 0.13566129 0.64584566 0.99586151 0.81371337 0.79046319 0.34162007 0.70864801 0.         0.73903429 0.59812792 0.24164735 0.67372312 0.42623213 0.28510449 0.88400099 1.00969579 0.3964736  0.43140342 0.56954065 0.36586578 0.62411815 0.18983627 0.39641912 0.28572865 0.31376239 0.90328798 0.50588477 0.31346951 0.61091449 0.56211318 0.6845289  0.90306717 0.09628737 0.32794952 1.03644392 0.73869954 0.19388517 0.56126955 0.74595814 0.37573211 0.6580048  0.70223394 0.23817938 0.77272173 0.40757264 0.67599068 0.63454399 0.84669812 0.2696822  0.62841123 0.33305232 0.86509175 0.7427329  0.34992361 0.28670335 0.3646439  0.65636727 0.8788812  0.80094529 0.85639081 0.40017363 0.12701726 0.82762456 0.93356589 0.1507483  0.46562292]\n",
            " [0.72865387 0.30207922 0.59788094 0.11689939 0.37220498 0.25269818 0.77753305 0.55809143 0.35588171 0.41578557 0.19099195 0.18299279 0.15649373 0.47326953 0.27101701 0.21704305 0.55521328 0.32951785 0.67221311 0.70668446 0.66911846 0.12512098 0.47901713 0.75622504 0.28739872 0.29094859 0.62651901 0.66125355 0.23351831 0.32500193 0.61669786 0.1128704  0.26112123 0.32943768 0.60379488 0.37727801 0.27297368 0.54803791 0.14320926 0.66440443 0.4719111  0.73903429 0.         0.5261212  0.76402418 0.1352974  0.53877918 0.51210045 0.18181861 0.30281651 0.4056894  0.60418048 0.3285911  0.60062999 0.43428556 0.55939835 0.40949182 0.69733973 0.42816475 0.68651057 0.23529896 0.55315193 0.66934474 0.18646472 0.61456324 0.58161325 0.65823263 0.42436662 0.31854808 0.50812841 0.60365476 0.40576258 0.38976387 0.47622986 0.4865022  0.17137018 0.69180443 0.26583554 0.47187096 0.4893522  0.53774108 0.31539844 0.48481619 0.40527021 0.41704739 0.12692763 0.09207312 0.69021529 0.47927723 0.43921212 0.24928362 0.35223016 0.29535693 0.21370316 0.49297326 0.73183542 0.36032681 0.34254987 0.6449369  0.46259155]\n",
            " [0.61129202 0.44469654 0.64496886 0.59617502 0.57704724 0.75580454 0.69872779 0.06732574 0.7920933  0.82372294 0.33938238 0.44472743 0.3989706  0.95705701 0.55146163 0.51644842 0.15409014 0.50195372 0.1807339  0.8207626  0.81210923 0.44235299 0.96400501 0.55635158 0.24180383 0.24488431 0.57361026 0.14623469 0.74696871 0.78610923 0.34802983 0.41326857 0.43287961 0.85082088 0.50317726 0.76253219 0.77443041 0.97395236 0.45384318 0.77858707 0.86809912 0.59812792 0.5261212  0.         0.77948415 0.58572263 0.73944928 0.59102302 0.70494944 0.63056185 0.58062176 0.18884899 0.66913168 0.74652723 0.79187838 0.4406967  0.26813888 0.76494016 0.46758169 1.10886674 0.45508553 0.66499029 0.14491938 0.49191936 0.1104139  1.03660636 0.50521839 0.3668262  0.82075913 0.90942357 0.40523339 0.72796572 0.2232599  0.23975924 0.85020569 0.63852159 0.39399065 0.33941215 0.6655722  0.09348379 0.03679213 0.81819139 0.52096769 0.77275079 0.37084053 0.59886402 0.45430091 0.80234802 0.35932103 0.5867021  0.66898932 0.39137978 0.78516702 0.47083278 0.67947549 0.6815841  0.32661284 0.46842196 0.62056388 0.15038336]\n",
            " [0.21248258 0.98342921 0.16774961 0.87810257 0.39604085 0.7552532  0.14011076 0.73492277 0.63167162 0.58920636 0.75917021 0.59195819 0.65470017 0.78633365 0.49818128 0.95367088 0.64209238 1.0356135  0.73746086 0.14513998 0.18808918 0.82353129 0.79293604 0.3202499  0.6983094  0.67621668 0.20609019 0.89179055 0.93418558 1.0671178  0.46361671 0.73809832 0.51929443 0.97444719 0.27864863 0.54848819 0.98513946 0.66763435 0.8530652  0.15082496 0.57831189 0.24164735 0.76402418 0.77948415 0.         0.66270815 0.28943214 0.253149   0.8702812  1.06118448 0.3606512  0.63847547 0.50183324 0.20902409 0.50697843 0.33916866 0.53184213 0.08631659 0.36392781 0.72987043 0.53610601 0.21660194 0.82098884 0.57778209 0.87829469 0.75808767 0.29860101 0.43654675 1.01910951 0.59834389 0.38986504 0.46156999 0.88260657 0.54045183 0.52167054 0.67385612 0.46932378 0.87357474 0.31718837 0.843272   0.8161434  0.77634854 0.29787168 0.52179488 0.43688519 0.88889848 0.79604176 0.14296295 0.42413619 0.32585982 0.60528259 0.98725856 0.7324228  0.92759776 0.29944242 0.11558064 0.94666567 1.02752845 0.15910016 0.63262056]\n",
            " [0.65864831 0.43508139 0.50181125 0.22723418 0.26696091 0.1735586  0.69512244 0.60400288 0.22997061 0.28472986 0.28308733 0.15395764 0.18699677 0.37380868 0.16617591 0.35199922 0.57964086 0.4646886  0.70707498 0.59014165 0.54946222 0.25289735 0.38047639 0.70369695 0.34603169 0.34086465 0.55100056 0.72905292 0.27603275 0.404423   0.59706839 0.20441482 0.21365503 0.33988887 0.542885   0.24261444 0.32589643 0.42386939 0.2752224  0.54987125 0.34013691 0.67372312 0.1352974  0.58572263 0.66270815 0.         0.41613332 0.41818135 0.21174514 0.42931283 0.30280814 0.62406358 0.19622738 0.48397035 0.29901994 0.50984786 0.40726681 0.58961276 0.36119455 0.56347069 0.1810192  0.44688048 0.72177055 0.1211806  0.68542686 0.46785752 0.60374136 0.38922138 0.36408244 0.37783299 0.56786008 0.27230178 0.49098459 0.47800296 0.35177004 0.05286783 0.6701867  0.38319324 0.35555501 0.56814086 0.60446132 0.23391756 0.40650151 0.27007124 0.38071836 0.23848196 0.21733361 0.574753   0.44689081 0.33821294 0.11500648 0.48019534 0.19944883 0.34839277 0.37624234 0.64627593 0.47987257 0.47656846 0.56075124 0.49051634]\n",
            " [0.39810847 0.80620133 0.18946726 0.64283159 0.18424426 0.47652416 0.38226474 0.71744399 0.34351184 0.29989628 0.59508303 0.39965231 0.47374558 0.49803981 0.27209866 0.74938145 0.64203886 0.84940779 0.76657082 0.17942146 0.13470123 0.62748322 0.50478951 0.4934105  0.57554934 0.55624433 0.30411759 0.87723321 0.67104755 0.81134822 0.52592353 0.54825083 0.34978866 0.69814    0.35480501 0.26039534 0.72212586 0.39090927 0.655821   0.14621816 0.29272197 0.42623213 0.53877918 0.73944928 0.28943214 0.41613332 0.         0.1715419  0.60919834 0.84129543 0.16553399 0.66103506 0.22941484 0.0808318  0.21769356 0.37757639 0.47203247 0.20375402 0.27479018 0.47761779 0.34982805 0.11430808 0.82804008 0.36709108 0.84924606 0.48134005 0.41508482 0.37721222 0.75150162 0.31755803 0.45597194 0.17523069 0.76746811 0.51685448 0.23783152 0.41336321 0.57033005 0.71550731 0.07765184 0.77464786 0.77248189 0.49122816 0.23676195 0.23263177 0.3717031  0.65405873 0.59449079 0.16698339 0.40472195 0.1529228  0.3347401  0.82911365 0.4486253  0.73346784 0.06042997 0.33165614 0.8040186  0.85079921 0.27549842 0.59227479]\n",
            " [0.26198343 0.73459964 0.08583456 0.62716591 0.15406735 0.53338084 0.28000666 0.56145634 0.43845299 0.41695401 0.51151995 0.33884172 0.40280307 0.61480594 0.25200622 0.70084354 0.4801855  0.78527127 0.60061297 0.23567462 0.22137491 0.57100386 0.62213713 0.34084622 0.46311407 0.44167701 0.15412801 0.72256141 0.69351254 0.82126392 0.35442929 0.48578471 0.26715999 0.74472897 0.18859444 0.36078562 0.74381397 0.53668892 0.6005321  0.19133874 0.42821563 0.28510449 0.51210045 0.59102302 0.253149   0.41818135 0.1715419  0.         0.62917033 0.80807706 0.11822699 0.49491363 0.28648852 0.15617413 0.34186632 0.20607946 0.32413797 0.19753736 0.12769642 0.63872796 0.28298534 0.07407675 0.66719184 0.32563682 0.69868546 0.62427327 0.25250564 0.22434469 0.78058441 0.46101026 0.28465341 0.27694258 0.65372914 0.35806914 0.38093251 0.43664495 0.39980978 0.62873342 0.12708056 0.63791636 0.62586777 0.56610842 0.07068222 0.34417897 0.22092856 0.63781282 0.54306229 0.21690128 0.24052344 0.08325315 0.37959104 0.74336786 0.52044936 0.67564677 0.12551446 0.22960162 0.70748678 0.77904609 0.14726286 0.44094138]\n",
            " [0.86967514 0.40308592 0.71197173 0.13125184 0.47653123 0.16897823 0.90680807 0.73920872 0.32511575 0.3943752  0.36611556 0.34037157 0.33404262 0.36959135 0.3773968  0.28900568 0.73669304 0.40449652 0.85396122 0.78760022 0.74389548 0.27381444 0.3732814  0.9107202  0.4685246  0.47269546 0.7624764  0.83644962 0.06435162 0.20291952 0.78799364 0.29290846 0.41323158 0.14762601 0.75175833 0.38302695 0.11490627 0.4896296  0.27527866 0.74979785 0.44799688 0.88400099 0.18181861 0.70494944 0.8702812  0.21174514 0.60919834 0.62917033 0.         0.30331735 0.51261785 0.78536002 0.37987819 0.68279972 0.44485793 0.71493785 0.58505543 0.79428929 0.57049768 0.61687214 0.38226089 0.65370888 0.849019   0.32341064 0.78891819 0.49522701 0.81102754 0.58685311 0.15253063 0.47423651 0.76743225 0.44493274 0.54924808 0.65353078 0.4824197  0.19716407 0.86268921 0.41347928 0.55716849 0.66163952 0.71439146 0.21141679 0.61794766 0.41618719 0.57882312 0.1362333  0.25324946 0.77349669 0.6437921  0.54817982 0.2752162  0.47001927 0.21925107 0.31348088 0.57702563 0.85779528 0.49751076 0.43206067 0.77243801 0.64412048]\n",
            " [1.0038444  0.19512511 0.89376649 0.20512812 0.67381191 0.46832575 1.06215337 0.68600566 0.61529899 0.68283792 0.34525084 0.46974865 0.413927   0.6719218  0.5734726  0.12281927 0.7227024  0.154487   0.80771807 1.00926803 0.97193487 0.24755435 0.67525883 1.01358517 0.45524615 0.47191779 0.90870084 0.72637823 0.28264339 0.20696197 0.84252549 0.33107541 0.54513138 0.37385332 0.87461451 0.65814269 0.26553902 0.79078679 0.21980408 0.96671898 0.73862386 1.00969579 0.30281651 0.63056185 1.06118448 0.42931283 0.84129543 0.80807706 0.30331735 0.         0.70641691 0.77358918 0.62547569 0.9033171  0.71887575 0.82175514 0.63483537 0.99767113 0.71113694 0.91996398 0.5254641  0.85369607 0.76925918 0.48504857 0.67833845 0.79844689 0.92101736 0.68253512 0.29465086 0.76891702 0.84946705 0.70077904 0.41657208 0.68757885 0.76493435 0.44848377 0.91540093 0.29196043 0.77464069 0.55500941 0.6239195  0.51470708 0.77282948 0.68934054 0.67695282 0.19419822 0.26849799 0.9926557  0.7300552  0.73901291 0.53383767 0.26600894 0.51918844 0.16568894 0.79574903 1.01948476 0.32309259 0.19372141 0.93301328 0.63768964]\n",
            " [0.37574181 0.65149638 0.19935503 0.5182568  0.0361237  0.41575378 0.39823281 0.56406296 0.33015283 0.31896258 0.43480101 0.24502098 0.31640304 0.51100194 0.1375358  0.60518515 0.49600956 0.69809536 0.62539298 0.30653346 0.27539833 0.47828071 0.51847361 0.44419633 0.41006751 0.39071076 0.26612442 0.72154528 0.57688959 0.70708107 0.41284004 0.39541646 0.18652737 0.62652382 0.2827701  0.25805767 0.62745412 0.4528184  0.50745419 0.2625189  0.34077925 0.3964736  0.4056894  0.58062176 0.3606512  0.30280814 0.16553399 0.11822699 0.51261785 0.70641691 0.         0.52168745 0.17378106 0.20364761 0.25305053 0.27757793 0.31664737 0.29165187 0.134272   0.56911647 0.19135295 0.14746861 0.67855329 0.22152418 0.6909531  0.53583131 0.34872136 0.22997908 0.66345499 0.37801838 0.35425623 0.18321755 0.60212841 0.36972271 0.30231317 0.3188239  0.47128544 0.55502819 0.08802558 0.61110293 0.61250596 0.45050152 0.13385536 0.24796905 0.22291312 0.5291609  0.44749612 0.28897402 0.27032624 0.0355792  0.26199738 0.66944785 0.40475041 0.58444621 0.10595812 0.34775252 0.64134695 0.69624236 0.26511304 0.43680692]\n",
            " [0.44934764 0.60226289 0.52843488 0.69712394 0.52995493 0.79719927 0.53921239 0.12304991 0.79562377 0.81203467 0.44307241 0.4703591  0.45290189 0.97386465 0.5390211  0.65272991 0.05111249 0.66204278 0.10570723 0.70512318 0.70632776 0.55282374 0.98124823 0.37944438 0.32829691 0.31803705 0.43531067 0.25814949 0.83700799 0.90243496 0.17843829 0.49838934 0.42748204 0.93275875 0.36118529 0.74812307 0.87262372 0.95884625 0.57185643 0.66701804 0.84750894 0.43140342 0.60418048 0.18884899 0.63847547 0.62406358 0.66103506 0.49491363 0.78536002 0.77358918 0.52168745 0.         0.65135258 0.64877467 0.76334549 0.30656854 0.22323427 0.6403502  0.39022269 1.08495279 0.45770079 0.56707798 0.18254267 0.51000425 0.255756   1.03270247 0.34564607 0.29191231 0.91911601 0.88768304 0.24890176 0.69424738 0.39554607 0.15603966 0.81807826 0.67379366 0.20945411 0.48511006 0.59589749 0.28082461 0.22095345 0.85536776 0.42551248 0.75021605 0.29935662 0.70239346 0.55371057 0.68779778 0.25633838 0.51629908 0.68076216 0.55975846 0.81605171 0.60821618 0.60495144 0.53097648 0.49668756 0.63260646 0.48448946 0.1424175 ]\n",
            " [0.54785295 0.61920397 0.35764761 0.42237275 0.14399994 0.25354184 0.56268333 0.66817039 0.15761979 0.16071413 0.43331149 0.24143305 0.31231916 0.34036849 0.11767921 0.54531396 0.61693875 0.65441905 0.74939378 0.40834657 0.3640745  0.43525663 0.34789743 0.61787088 0.45435657 0.44070974 0.43869729 0.81513845 0.44163726 0.58229864 0.56974751 0.36791879 0.23635411 0.47297453 0.45586766 0.09677081 0.49272565 0.30851241 0.46094754 0.37197068 0.19943784 0.56954065 0.3285911  0.66913168 0.50183324 0.19622738 0.22941484 0.28648852 0.37987819 0.62547569 0.17378106 0.65135258 0.         0.30475313 0.1253199  0.44515721 0.43025759 0.42110406 0.29187349 0.44022867 0.21525993 0.28822362 0.78735718 0.19492532 0.77768566 0.38174698 0.52171421 0.3673408  0.52265121 0.240652   0.51867272 0.07773742 0.63198859 0.49531746 0.18429412 0.18514409 0.63390748 0.54843218 0.18470631 0.67714875 0.695805   0.28031046 0.30669029 0.10370709 0.35883509 0.4336007  0.39994622 0.39483543 0.41852898 0.20493507 0.10550993 0.65538199 0.23489845 0.53716798 0.20262654 0.51107376 0.64368859 0.6624138  0.43293707 0.54167334]\n",
            " [0.33627444 0.85512462 0.13576701 0.70860691 0.23189325 0.55505861 0.30956831 0.71763042 0.4242905  0.38020919 0.6378323  0.44831005 0.52005048 0.57750386 0.32991862 0.8061928  0.63580416 0.90132796 0.75431433 0.10629749 0.07196871 0.68077439 0.58415706 0.43790507 0.60488202 0.58432009 0.25411815 0.87873294 0.74543281 0.88390438 0.49915828 0.59866096 0.38888337 0.77630555 0.31545166 0.3411411  0.79659019 0.46415442 0.70974897 0.0672178  0.3703861  0.36586578 0.60062999 0.74652723 0.20902409 0.48397035 0.0808318  0.15617413 0.68279972 0.9033171  0.20364761 0.64877467 0.30475313 0.         0.29798306 0.35028054 0.478907   0.12305091 0.27996675 0.54041887 0.39499675 0.08224949 0.82282499 0.42154636 0.85458124 0.55485947 0.36957739 0.37970758 0.82733584 0.39260687 0.42545854 0.2554304  0.7972205  0.51422322 0.31433065 0.48590123 0.53465808 0.75779604 0.12895458 0.79060606 0.781088   0.57146738 0.2268457  0.3134485  0.37579313 0.71975995 0.64921259 0.09090054 0.39616478 0.17831649 0.41020241 0.87242383 0.52851151 0.78704416 0.1079663  0.26063303 0.84243962 0.89986992 0.2171102  0.59669392]\n",
            " [0.59860826 0.73266771 0.39276107 0.51376002 0.23573472 0.28790369 0.5949813  0.78805461 0.13468632 0.08222799 0.55592676 0.36646649 0.43631881 0.28110878 0.2413619  0.65047735 0.73194329 0.76369886 0.8639466  0.38643114 0.3376881  0.54903025 0.28802005 0.68270022 0.57965824 0.56586354 0.49454288 0.93754041 0.50026907 0.64565685 0.66560342 0.48730208 0.35922572 0.50569863 0.52745702 0.06190178 0.54944853 0.19977975 0.57299291 0.36050975 0.08784283 0.62411815 0.43428556 0.79187838 0.50697843 0.29901994 0.21769356 0.34186632 0.44485793 0.71887575 0.25305053 0.76334549 0.1253199  0.29798306 0.         0.52957897 0.54589064 0.42100375 0.38574717 0.3217571  0.33987396 0.31551495 0.90658936 0.31946406 0.90099728 0.28388031 0.59278963 0.47352508 0.57110811 0.12542914 0.6069913  0.07015577 0.75656736 0.60782972 0.05899292 0.27068182 0.72415751 0.66891085 0.21655995 0.802108   0.81933153 0.28699588 0.3827408  0.02953546 0.46549491 0.52467968 0.51335871 0.37766263 0.51985076 0.27339739 0.18624378 0.77321953 0.24933446 0.64722672 0.22502241 0.54343441 0.76490337 0.77483775 0.476834   0.6606616 ]\n",
            " [0.18991253 0.70274763 0.22319655 0.6747251  0.30185151 0.66124327 0.26759669 0.39605754 0.60270016 0.59637435 0.48427058 0.37813023 0.41277516 0.78547046 0.36305201 0.70234161 0.30434706 0.7603901  0.41022588 0.39887735 0.40267655 0.57421488 0.79299268 0.196889   0.39622157 0.37453033 0.13308199 0.55423075 0.77726662 0.88434619 0.14922478 0.49223549 0.30213009 0.84967497 0.06407214 0.53473471 0.82368827 0.72888912 0.60212881 0.36181571 0.6174201  0.18983627 0.55939835 0.4406967  0.33916866 0.50984786 0.37757639 0.20607946 0.71493785 0.82175514 0.27757793 0.30656854 0.44515721 0.35028054 0.52957897 0.         0.20975191 0.33393565 0.15561827 0.83914115 0.33267965 0.27148933 0.48729464 0.39181662 0.53928398 0.81310019 0.09960754 0.13922804 0.86614123 0.65353102 0.07899446 0.46030045 0.56374885 0.20316153 0.57561151 0.5454287  0.19582274 0.58343099 0.32678318 0.50816449 0.4774286  0.7066438  0.14797261 0.52554079 0.14507959 0.68377507 0.55616909 0.38178594 0.09790861 0.25675654 0.51442939 0.69075517 0.66164854 0.66699182 0.32941255 0.24289579 0.64114623 0.74410618 0.18097909 0.29588135]\n",
            " [0.39926054 0.49924206 0.38415316 0.51565635 0.31797256 0.57875511 0.47660462 0.24742212 0.57248056 0.59059228 0.2899362  0.25369464 0.25299948 0.75071567 0.31632626 0.51257892 0.18668251 0.55819111 0.3191376  0.55690463 0.54551285 0.39127467 0.75811042 0.38459021 0.18990358 0.16917707 0.3323366  0.40558839 0.64176465 0.72715789 0.21039345 0.31816752 0.20447693 0.73018488 0.27271226 0.5269068  0.68246549 0.73862324 0.41662286 0.51374805 0.62817868 0.39641912 0.40949182 0.26813888 0.53184213 0.40726681 0.47203247 0.32413797 0.58505543 0.63483537 0.31664737 0.22323427 0.43025759 0.478907   0.54589064 0.20975191 0.         0.50587358 0.1994704  0.86747076 0.23524761 0.39780324 0.36299232 0.28965706 0.37739689 0.81065126 0.30106326 0.1001334  0.72793738 0.66884277 0.21697267 0.47811196 0.35496015 0.07077123 0.6022028  0.45511827 0.28514218 0.37810489 0.39935724 0.31551047 0.30226079 0.63533088 0.2549815  0.53088847 0.10322145 0.52295401 0.38085411 0.53827795 0.11232743 0.31976157 0.45779188 0.48252797 0.59494319 0.47339532 0.41239157 0.44786615 0.43161982 0.53914622 0.37430214 0.12045118]\n",
            " [0.25494767 0.93161499 0.12196045 0.80941094 0.32557168 0.67378183 0.20457434 0.72640599 0.54681315 0.50322369 0.70893627 0.53166605 0.59844132 0.70006503 0.42782557 0.89404573 0.63706935 0.98157728 0.74319808 0.07538117 0.10783258 0.7652456  0.70665434 0.36374972 0.65857038 0.63685405 0.20828834 0.88632344 0.85776736 0.99319426 0.47323641 0.6806258  0.46303169 0.89406243 0.28166177 0.46361542 0.90887448 0.58207053 0.79469971 0.06597441 0.49200468 0.28572865 0.69733973 0.76494016 0.08631659 0.58961276 0.20375402 0.19753736 0.79428929 0.99767113 0.29165187 0.6403502  0.42110406 0.12305091 0.42100375 0.33393565 0.50587358 0.         0.32079882 0.64798953 0.47610928 0.14418926 0.82117978 0.51262989 0.86833551 0.67262916 0.31886261 0.40668099 0.94151845 0.51231131 0.39747069 0.37719371 0.84754263 0.52554081 0.43540061 0.59722039 0.49218158 0.82626646 0.23763823 0.82119388 0.80105139 0.69278975 0.25591922 0.43636082 0.40533459 0.82038107 0.73601143 0.06537171 0.40561932 0.25866187 0.5256506  0.94088159 0.64928998 0.87065047 0.21864413 0.16315798 0.90437293 0.97613953 0.15977346 0.61522761]\n",
            " [0.30116417 0.62022454 0.20049909 0.54506008 0.15125776 0.50674409 0.35134227 0.44283433 0.44886464 0.44703893 0.3957685  0.24571414 0.29778197 0.63204094 0.20809966 0.59781991 0.36804555 0.67347802 0.49495596 0.36331698 0.34790586 0.46699405 0.63957784 0.34342046 0.33780915 0.31606033 0.19872156 0.60304826 0.63399894 0.74969134 0.28021915 0.38150386 0.16772486 0.7004845  0.18169508 0.38414375 0.68210403 0.58535533 0.49631894 0.31903513 0.47303306 0.31376239 0.42816475 0.46758169 0.36392781 0.36119455 0.27479018 0.12769642 0.57049768 0.71113694 0.134272   0.39022269 0.29187349 0.27996675 0.38574717 0.15561827 0.1994704  0.32079882 0.         0.70333735 0.19320741 0.19984268 0.55344542 0.24840049 0.57652853 0.66655654 0.24355387 0.10244203 0.72284846 0.5111034  0.22686795 0.31560232 0.52711379 0.2423002  0.43634289 0.39320139 0.34218584 0.50966403 0.20601087 0.51098224 0.50168939 0.55118684 0.06613803 0.37817776 0.09723237 0.55496397 0.4427455  0.34454608 0.13629841 0.12611818 0.3588889  0.62350852 0.50611039 0.56844506 0.21645566 0.30848938 0.58449218 0.6641096  0.22246721 0.31870788]\n",
            " [0.87461762 0.98576677 0.66682296 0.72806495 0.55588301 0.45365285 0.84842913 1.10818947 0.33350634 0.28709844 0.84438206 0.67128886 0.73380941 0.25822883 0.55779344 0.88499894 1.05366587 1.00360941 1.1857022  0.58606723 0.541843   0.81114124 0.2574179  0.97098044 0.88687577 0.87543339 0.78137967 1.25501087 0.64891705 0.78310154 0.98079783 0.76755104 0.67647556 0.59813899 0.82718213 0.34648896 0.68556853 0.13966532 0.82935621 0.58215699 0.24084528 0.90328798 0.68651057 1.10886674 0.72987043 0.56347069 0.47761779 0.63872796 0.61687214 0.91996398 0.56911647 1.08495279 0.44022867 0.54041887 0.3217571  0.83914115 0.86747076 0.64798953 0.70333735 0.         0.65389502 0.59169789 1.22716569 0.62300725 1.2168024  0.12929496 0.88995909 0.7944285  0.68557958 0.19957878 0.9178864  0.39073877 1.05141583 0.92955415 0.26735847 0.51710603 1.03496388 0.94635997 0.51305792 1.11207568 1.13473604 0.40556618 0.69123151 0.33727148 0.78653711 0.73711884 0.7765893  0.58691304 0.83894796 0.58367688 0.45467167 1.03874008 0.40329225 0.89451628 0.51330063 0.80067984 1.04287853 1.02336223 0.75260153 0.98127809]\n",
            " [0.49426115 0.4601501  0.36847386 0.35217033 0.16585324 0.34669998 0.54236902 0.45848763 0.34171579 0.36879887 0.24525518 0.05585668 0.1250765  0.51671263 0.09884051 0.41820477 0.41749982 0.50727811 0.54895055 0.49731866 0.46669193 0.28915076 0.52404566 0.52872484 0.24174959 0.22663534 0.39125124 0.60129748 0.44468681 0.55668814 0.41642164 0.20493543 0.03276021 0.51875699 0.37162561 0.30746648 0.49158366 0.51899886 0.31859281 0.45291334 0.41327554 0.50588477 0.23529896 0.45508553 0.53610601 0.1810192  0.34982805 0.28298534 0.38226089 0.5254641  0.19135295 0.45770079 0.21525993 0.39499675 0.33987396 0.33267965 0.23524761 0.47610928 0.19320741 0.65389502 0.         0.33403034 0.57815318 0.06004346 0.56295345 0.5842983  0.42926181 0.20821944 0.53359915 0.45461132 0.38743032 0.28067497 0.4269648  0.3054215  0.39879389 0.2239509  0.48925317 0.36568275 0.27361264 0.46229785 0.48094078 0.40127884 0.24986008 0.3189015  0.19974378 0.36221728 0.26024315 0.47949142 0.26588415 0.21963782 0.22334208 0.47947333 0.36009115 0.39478248 0.29376243 0.49717852 0.45491221 0.50489619 0.41028266 0.33492854]\n",
            " [0.28613993 0.79234693 0.07764338 0.66536381 0.18153052 0.54155144 0.2804833  0.63545967 0.42812578 0.39562427 0.57155521 0.38918665 0.45773015 0.59564741 0.28388862 0.75109675 0.55360131 0.84094853 0.67269488 0.16710473 0.1480646  0.62299524 0.60272062 0.37929174 0.53072564 0.50967982 0.18981603 0.79658406 0.71758861 0.8510986  0.42071296 0.5389518  0.32328958 0.7592166  0.24255476 0.3462673  0.76855356 0.5005831  0.65236143 0.12208749 0.3973944  0.31346951 0.55315193 0.66499029 0.21660194 0.44688048 0.11430808 0.07407675 0.65370888 0.85369607 0.14746861 0.56707798 0.28822362 0.08224949 0.31551495 0.27148933 0.39780324 0.14418926 0.19984268 0.59169789 0.33403034 0.         0.7406255  0.36865922 0.7727494  0.59031514 0.30137152 0.29821421 0.80256901 0.4259023  0.34828418 0.2587224  0.72242613 0.43201348 0.34526809 0.45726424 0.46030887 0.69043104 0.10491047 0.71080422 0.69974772 0.56672303 0.1446768  0.32399231 0.29458755 0.67631288 0.59312542 0.1485322  0.31394149 0.11496425 0.3899859  0.80526195 0.52189231 0.72879418 0.09130886 0.22866561 0.77216934 0.83702072 0.16328613 0.51496983]\n",
            " [0.63021467 0.57920728 0.70711928 0.74109258 0.68096486 0.89372888 0.72025437 0.11966993 0.9193362  0.94560225 0.48399298 0.57538603 0.53655653 1.08940339 0.67042805 0.65794803 0.18702468 0.63414161 0.09515271 0.88438989 0.88311055 0.58725037 1.09650832 0.55382377 0.38290458 0.38322207 0.61737828 0.08815681 0.89172547 0.92997094 0.359963   0.55666477 0.55242636 0.9952429  0.54336339 0.88292158 0.91934827 1.09530217 0.598404   0.84517344 0.98668449 0.61091449 0.66934474 0.14491938 0.82098884 0.72177055 0.82804008 0.66719184 0.849019   0.76925918 0.67855329 0.18254267 0.78735718 0.82282499 0.90658936 0.48729464 0.36299232 0.82117978 0.55344542 1.22716569 0.57815318 0.7406255  0.         0.62099032 0.11261629 1.16245094 0.52754125 0.45130493 0.96567015 1.0277625  0.43142833 0.83986436 0.35454106 0.31118981 0.963713   0.77422194 0.37957475 0.48039542 0.75862126 0.21531716 0.14535104 0.95542198 0.59671193 0.88989589 0.45737356 0.743774   0.59905434 0.86675615 0.42670325 0.67846269 0.79807278 0.51985728 0.9206612  0.61243659 0.76987431 0.71333107 0.45551075 0.59846948 0.66646779 0.24593839]\n",
            " [0.54928021 0.4399453  0.41142539 0.30201649 0.18992778 0.28935861 0.59341897 0.50161073 0.30019789 0.33592548 0.23991275 0.04828295 0.1176081  0.46883658 0.0957313  0.3846508  0.46776593 0.48231706 0.59781451 0.52652116 0.491937   0.26045424 0.47602189 0.58731709 0.26388575 0.25275721 0.44431529 0.63779347 0.38633344 0.50215759 0.47591851 0.1822101  0.09252474 0.45882418 0.42880658 0.27831073 0.43392318 0.4854163  0.28898667 0.48316123 0.38475177 0.56211318 0.18646472 0.49191936 0.57778209 0.1211806  0.36709108 0.32563682 0.32341064 0.48504857 0.22152418 0.51000425 0.19492532 0.42154636 0.31946406 0.39181662 0.28965706 0.51262989 0.24840049 0.62300725 0.06004346 0.36865922 0.62099032 0.         0.59715038 0.54482852 0.48761956 0.26820767 0.47526718 0.42575111 0.44745009 0.26855763 0.43714482 0.36035452 0.37811236 0.16588994 0.54900991 0.35762036 0.29472854 0.48911943 0.51503614 0.34575284 0.30082898 0.29517696 0.25975579 0.3125211  0.22795843 0.50940099 0.3258606  0.25398604 0.1773146  0.46804293 0.30605434 0.36657906 0.31571154 0.54677586 0.45138151 0.48437339 0.45999638 0.38180048]\n",
            " [0.70049725 0.48474067 0.7495879  0.67272259 0.68744276 0.8526528  0.78954616 0.14348644 0.89713999 0.93092091 0.42395812 0.54938599 0.49856722 1.05860135 0.66011354 0.57312156 0.23801983 0.53673354 0.19780968 0.92625206 0.91925336 0.51860934 1.0654166  0.63511202 0.33940083 0.34607337 0.67225975 0.04866346 0.82600391 0.85028113 0.43095568 0.50239125 0.54178348 0.93216536 0.60005052 0.87031885 0.84904755 1.08109735 0.52533577 0.88469071 0.97622818 0.6845289  0.61456324 0.1104139  0.87829469 0.68542686 0.84924606 0.69868546 0.78891819 0.67833845 0.6909531  0.255756   0.77768566 0.85458124 0.90099728 0.53928398 0.37739689 0.86833551 0.57652853 1.2168024  0.56295345 0.7727494  0.11261629 0.59715038 0.         1.14186235 0.59503874 0.47507552 0.89463442 1.01756402 0.49552162 0.83762522 0.26219058 0.34327328 0.95947972 0.73828326 0.4645462  0.39716967 0.77568848 0.12857446 0.08215774 0.9156288  0.62830035 0.88138061 0.47947275 0.67401129 0.53573445 0.90798745 0.46355146 0.69663036 0.77343193 0.42072008 0.88452739 0.5283669  0.78938652 0.77643313 0.35786541 0.49957432 0.72020344 0.25797052]\n",
            " [0.87632758 0.87570221 0.6678648  0.6118054  0.51533074 0.33772661 0.8632406  1.04278593 0.24472791 0.22120423 0.75091725 0.59247729 0.64805532 0.12984485 0.49449357 0.77091213 0.99707026 0.88954599 1.12949736 0.62047211 0.57271769 0.70670601 0.12851474 0.96450686 0.8054875  0.79641846 0.77519828 1.18258995 0.52349973 0.65533302 0.94675268 0.67151895 0.61066589 0.46920943 0.81101727 0.28521094 0.55847243 0.09070655 0.72257269 0.60727534 0.19634049 0.90306717 0.58161325 1.03660636 0.75808767 0.46785752 0.48134005 0.62427327 0.49522701 0.79844689 0.53583131 1.03270247 0.38174698 0.55485947 0.28388031 0.81310019 0.81065126 0.67262916 0.66655654 0.12929496 0.5842983  0.59031514 1.16245094 0.54482852 1.14186235 0.         0.87612783 0.74848031 0.55705573 0.1644179  0.89008692 0.35279996 0.95880557 0.87673424 0.24509493 0.41779378 1.0070602  0.84589567 0.4975865  1.03074489 1.05978977 0.28432849 0.66658267 0.28840261 0.74007223 0.62027232 0.67327086 0.61742502 0.79808067 0.55725709 0.36868153 0.93233406 0.28916927 0.78382432 0.50313946 0.81292849 0.94149245 0.91150679 0.75355775 0.91846228]\n",
            " [0.10607363 0.798653   0.23382386 0.77386174 0.37797778 0.74941301 0.19450774 0.45239075 0.67877652 0.66506941 0.58216778 0.47631969 0.5123643  0.8595695  0.45086481 0.80125727 0.35714447 0.85685291 0.44089137 0.39178613 0.40754797 0.67352058 0.86702388 0.09996779 0.49033538 0.46905041 0.11601918 0.60297977 0.87383618 0.98303009 0.16759939 0.59178391 0.39951129 0.94349452 0.06596258 0.60590695 0.9208299  0.78902569 0.70130275 0.36267547 0.67983769 0.09628737 0.65823263 0.50521839 0.29860101 0.60374136 0.41508482 0.25250564 0.81102754 0.92101736 0.34872136 0.34564607 0.52171421 0.36957739 0.59278963 0.09960754 0.30106326 0.31886261 0.24355387 0.88995909 0.42926181 0.30137152 0.52754125 0.48761956 0.59503874 0.87612783 0.         0.23865709 0.96276879 0.71332126 0.10002472 0.52583394 0.64967387 0.27963613 0.63339039 0.63675257 0.1734561  0.67836633 0.3795769  0.58117609 0.54183423 0.79171613 0.21505415 0.5927183  0.24465674 0.7829957  0.655739   0.37723544 0.19307928 0.32154796 0.59945468 0.78357289 0.74623978 0.76537626 0.37705076 0.18663921 0.73176051 0.83936246 0.16036501 0.37005227]\n",
            " [0.32480351 0.56745221 0.28477272 0.53840607 0.23861716 0.5516129  0.39398684 0.34042757 0.51923221 0.52730673 0.34657043 0.24665607 0.27459112 0.70162894 0.26378147 0.56331013 0.26668773 0.62420165 0.39541734 0.45679176 0.4456651  0.43499008 0.70914754 0.33371289 0.26605913 0.24390925 0.24350946 0.50080622 0.64774607 0.74916783 0.21010015 0.35316766 0.17570963 0.72614536 0.19463858 0.46335334 0.69262381 0.67116236 0.46294597 0.41361665 0.55908773 0.32794952 0.42436662 0.3668262  0.43654675 0.38922138 0.37721222 0.22434469 0.58685311 0.68253512 0.22997908 0.29191231 0.3673408  0.37970758 0.47352508 0.13922804 0.1001334  0.40668099 0.10244203 0.7944285  0.20821944 0.29821421 0.45130493 0.26820767 0.47507552 0.74848031 0.23865709 0.         0.73619792 0.59860112 0.1806052  0.40384615 0.44616516 0.14047772 0.52716417 0.43057036 0.28157919 0.45002976 0.30740875 0.4154087  0.40153781 0.60283686 0.15487405 0.46226832 0.00880926 0.54714386 0.41715996 0.43815671 0.057671   0.22724564 0.41494244 0.56021718 0.55957151 0.52847108 0.31862951 0.36005688 0.51451215 0.60965631 0.28151771 0.21710591]\n",
            " [1.02220371 0.45471396 0.86271687 0.22490732 0.62733173 0.28321206 1.05884703 0.86182101 0.44106721 0.50890955 0.48369414 0.48960558 0.47496945 0.42739369 0.52923782 0.34030545 0.8692391  0.43547753 0.9801879  0.93080633 0.88574255 0.37844024 0.42855109 1.06231788 0.59429308 0.60184072 0.91497291 0.94310412 0.08893643 0.10229453 0.93405631 0.42075735 0.56406158 0.08978998 0.90394331 0.51079347 0.04663113 0.57437428 0.36933517 0.89454133 0.55742274 1.03644392 0.31854808 0.82075913 1.01910951 0.36408244 0.75150162 0.78058441 0.15253063 0.29465086 0.66345499 0.91911601 0.52265121 0.82733584 0.57110811 0.86614123 0.72793738 0.94151845 0.72284846 0.68557958 0.53359915 0.80256901 0.96567015 0.47526718 0.89463442 0.55705573 0.96276879 0.73619792 0.         0.57622781 0.91674725 0.58177369 0.64076973 0.79474162 0.60013942 0.34542661 1.0090541  0.50145    0.70389356 0.76606002 0.82538296 0.29843951 0.77044609 0.54408023 0.72834622 0.22189632 0.36870783 0.91747869 0.79264454 0.69903344 0.41715188 0.52799087 0.32542793 0.37865547 0.72322525 1.00959706 0.57006348 0.47095306 0.92449724 0.77677521]\n",
            " [0.71191242 0.81019299 0.50346461 0.56753679 0.36113829 0.30542057 0.69978261 0.90870176 0.15460141 0.09319932 0.6531099  0.47393767 0.53885577 0.20167917 0.35822244 0.71717889 0.85531153 0.83430752 0.98755707 0.46462898 0.41598992 0.63017088 0.20685655 0.80065354 0.68946956 0.67737357 0.61111798 1.05553204 0.51960455 0.66343234 0.79079298 0.57887146 0.47690996 0.49832626 0.64858179 0.14770343 0.56417851 0.07571175 0.6510373  0.44773425 0.04133584 0.73869954 0.50812841 0.90942357 0.59834389 0.37783299 0.31755803 0.46101026 0.47423651 0.76891702 0.37801838 0.88768304 0.240652   0.39260687 0.12542914 0.65353102 0.66884277 0.51231131 0.5111034  0.19957878 0.45461132 0.4259023  1.0277625  0.42575111 1.01756402 0.1644179  0.71332126 0.59860112 0.57622781 0.         0.73135802 0.19557271 0.8584974  0.73190981 0.08069486 0.33681135 0.84861049 0.75993002 0.33403121 0.91417375 0.93554648 0.27778907 0.50606224 0.13800394 0.59050498 0.57766128 0.59479847 0.45987495 0.6452683  0.39682487 0.26435336 0.85789111 0.25613833 0.72087006 0.33894908 0.6492049  0.85666773 0.85015124 0.58913996 0.78193026]\n",
            " [0.20608227 0.71573515 0.29449272 0.71636374 0.37664594 0.72566508 0.29424055 0.35261339 0.67572984 0.67224229 0.50579627 0.42725684 0.45101749 0.85890629 0.42995797 0.7278456  0.25751185 0.77492264 0.34796613 0.46626399 0.47425684 0.60356921 0.86644278 0.16825678 0.40628395 0.38595477 0.18949071 0.50472381 0.82833676 0.92780655 0.0758071  0.52558204 0.35533037 0.90610704 0.11584026 0.60998597 0.87304262 0.80656212 0.63009739 0.43177819 0.69481717 0.19388517 0.60365476 0.40523339 0.38986504 0.56786008 0.45597194 0.28465341 0.76743225 0.84946705 0.35425623 0.24890176 0.51867272 0.42545854 0.6069913  0.07899446 0.21697267 0.39747069 0.22686795 0.9178864  0.38743032 0.34828418 0.43142833 0.44745009 0.49552162 0.89008692 0.10002472 0.1806052  0.91674725 0.73135802 0.         0.53740333 0.55574692 0.18408445 0.65384629 0.60691267 0.11728159 0.59417423 0.40574519 0.48210595 0.4418302  0.77368634 0.22665794 0.60203683 0.18861232 0.72472958 0.58950218 0.44999493 0.12439547 0.33491195 0.58240754 0.69567094 0.72924473 0.68959082 0.40837452 0.28236376 0.64147885 0.75503005 0.23864828 0.27218098]\n",
            " [0.53675535 0.69685923 0.33439498 0.49672768 0.1656953  0.30287643 0.53915581 0.72182911 0.1704653  0.14001376 0.50824582 0.31338881 0.38612237 0.33878267 0.18205079 0.62266653 0.66364973 0.73212895 0.79539883 0.35321258 0.30627509 0.51294409 0.34602114 0.61736588 0.52229369 0.50727269 0.43076206 0.87310068 0.50457432 0.64783287 0.59552388 0.44471671 0.29699604 0.5246083  0.46019648 0.08771849 0.55518964 0.26981891 0.5386836  0.32144645 0.15761227 0.56126955 0.40576258 0.72796572 0.46156999 0.27230178 0.17523069 0.27694258 0.44493274 0.70077904 0.18321755 0.69424738 0.07773742 0.2554304  0.07015577 0.46030045 0.47811196 0.37719371 0.31560232 0.39073877 0.28067497 0.2587224  0.83986436 0.26855763 0.83762522 0.35279996 0.52583394 0.40384615 0.58177369 0.19557271 0.53740333 0.         0.70398364 0.53901803 0.12411735 0.25563457 0.65448747 0.62453109 0.15538206 0.74216087 0.75634603 0.31605468 0.31409692 0.06723661 0.39588826 0.50790918 0.47766088 0.34179504 0.44975492 0.20497978 0.17110917 0.73233932 0.27342721 0.61488676 0.16748309 0.48729955 0.71929857 0.74011859 0.41638666 0.59411269]\n",
            " [0.75170497 0.22470285 0.72618985 0.42474298 0.58540157 0.6411989  0.8312247  0.28648513 0.71900345 0.76627153 0.20789728 0.39080508 0.3205293  0.8590911  0.52307635 0.3117172  0.34923008 0.28001436 0.40399097 0.88883953 0.86833382 0.27571422 0.86522873 0.72167113 0.19246121 0.21291888 0.68680591 0.31055216 0.57845545 0.59026469 0.51881065 0.28784529 0.41961894 0.68632176 0.62728148 0.71281049 0.59627913 0.91191082 0.27553405 0.84404335 0.81824295 0.74595814 0.38976387 0.2232599  0.88260657 0.49098459 0.76746811 0.65372914 0.54924808 0.41657208 0.60212841 0.39554607 0.63198859 0.7972205  0.75656736 0.56374885 0.35496015 0.84754263 0.52711379 1.05141583 0.4269648  0.72242613 0.35454106 0.43714482 0.26219058 0.95880557 0.64967387 0.44616516 0.64076973 0.8584974  0.55574692 0.70398364 0.         0.37167241 0.81509878 0.54133353 0.58018692 0.13932867 0.68981635 0.13924798 0.21010797 0.70437648 0.59163226 0.73181366 0.4457303  0.42429654 0.30075066 0.87009613 0.46714636 0.62056678 0.59674724 0.16812042 0.68068826 0.26756463 0.70806521 0.80269989 0.10337882 0.24547103 0.72724597 0.28857925]\n",
            " [0.38390597 0.53987399 0.40632842 0.57954198 0.37564419 0.6495125  0.46769353 0.20355303 0.64045628 0.65600684 0.34290867 0.32433801 0.32010972 0.81972897 0.38345716 0.56477549 0.12631492 0.59983147 0.25657778 0.58302298 0.57714898 0.44861814 0.82715159 0.35060749 0.23360133 0.21576728 0.33513164 0.36472408 0.70929435 0.79021727 0.15615417 0.38027633 0.27420323 0.7992714  0.26682242 0.59208732 0.74896002 0.80286505 0.47234833 0.5417021  0.69163667 0.37573211 0.47622986 0.23975924 0.54045183 0.47800296 0.51685448 0.35806914 0.65353078 0.68757885 0.36972271 0.15603966 0.49531746 0.51422322 0.60782972 0.20316153 0.07077123 0.52554081 0.2423002  0.92955415 0.3054215  0.43201348 0.31118981 0.36035452 0.34327328 0.87673424 0.27963613 0.14047772 0.79474162 0.73190981 0.18408445 0.53901803 0.37167241 0.         0.66302006 0.52587946 0.22785231 0.41779517 0.44784905 0.30513472 0.27618418 0.70595421 0.28738705 0.59431981 0.14699856 0.58634668 0.44145625 0.56479835 0.12027818 0.36769501 0.52726892 0.51471582 0.66537821 0.52356321 0.45875486 0.4459119  0.45882194 0.57733241 0.38137279 0.09272356]\n",
            " [0.63123443 0.78664779 0.42285679 0.56029379 0.28856685 0.31874768 0.6200546  0.84546045 0.15933744 0.09147293 0.61370278 0.42527417 0.49470202 0.26757698 0.30019547 0.70142368 0.78775762 0.815952   0.91945961 0.39165651 0.34264544 0.60353819 0.27372067 0.72015012 0.63864478 0.62485052 0.53052374 0.99572498 0.53445096 0.68003784 0.71487068 0.54397544 0.41779372 0.52913375 0.56889773 0.10922421 0.58216566 0.1559999  0.62679468 0.37172728 0.05735706 0.6580048  0.4865022  0.85020569 0.52167054 0.35177004 0.23783152 0.38093251 0.4824197  0.76493435 0.30231317 0.81807826 0.18429412 0.31433065 0.05899292 0.57561151 0.6022028  0.43540061 0.43634289 0.26735847 0.39879389 0.34526809 0.963713   0.37811236 0.95947972 0.24509493 0.63339039 0.52716417 0.60013942 0.08069486 0.65384629 0.12411735 0.81509878 0.66302006 0.         0.31922917 0.77112433 0.72575436 0.25386197 0.86105874 0.87789201 0.30663647 0.42778573 0.08382301 0.51932158 0.57100777 0.56784702 0.38550826 0.57169592 0.31893661 0.23722642 0.82889955 0.27475409 0.70006529 0.25833247 0.56927012 0.82197506 0.82833041 0.50847909 0.71786733]\n",
            " [0.68541359 0.47339094 0.51772742 0.24338644 0.28274353 0.12364545 0.71616819 0.65623159 0.1848161  0.24474672 0.33359803 0.20353543 0.23986208 0.3212126  0.18849519 0.38272879 0.63007    0.49856505 0.75826489 0.5910441  0.54799516 0.29461851 0.32782839 0.73661345 0.39889245 0.3936856  0.57647615 0.78191879 0.26056199 0.39816082 0.63994603 0.2537534  0.25666194 0.30957206 0.57423809 0.21075203 0.31165536 0.37795453 0.3144696  0.55280895 0.30104034 0.70223394 0.17137018 0.63852159 0.67385612 0.05286783 0.41336321 0.43664495 0.19716407 0.44848377 0.3188239  0.67379366 0.18514409 0.48590123 0.27068182 0.5454287  0.45511827 0.59722039 0.39320139 0.51710603 0.2239509  0.45726424 0.77422194 0.16588994 0.73828326 0.41779378 0.63675257 0.43057036 0.34542661 0.33681135 0.60691267 0.25563457 0.54133353 0.52587946 0.31922917 0.         0.71214628 0.42964408 0.36000617 0.620737   0.65732915 0.18221151 0.43290322 0.24116396 0.42190796 0.25440193 0.25971575 0.57669224 0.48810743 0.35434996 0.08555901 0.52256907 0.14665566 0.384228   0.3798745  0.66619317 0.52596788 0.51343623 0.58216491 0.54164083]\n",
            " [0.26203201 0.76481128 0.40044891 0.80025409 0.49287728 0.83299836 0.35076155 0.33093332 0.79038553 0.78872166 0.57051443 0.5232877  0.53583437 0.97366503 0.54093444 0.79260798 0.24043352 0.82502606 0.28656677 0.56459933 0.57806994 0.67508834 0.98120607 0.1745945  0.46120267 0.44361672 0.28643544 0.46251884 0.92166862 1.01195982 0.07512707 0.60330968 0.45655345 1.00476161 0.21924029 0.72616052 0.96421802 0.92377956 0.69947641 0.53391254 0.8119677  0.23817938 0.69180443 0.39399065 0.46932378 0.6701867  0.57033005 0.39980978 0.86268921 0.91540093 0.47128544 0.20945411 0.63390748 0.53465808 0.72415751 0.19582274 0.28514218 0.49218158 0.34218584 1.03496388 0.48925317 0.46030887 0.37957475 0.54900991 0.4645462  1.0070602  0.1734561  0.28157919 1.0090541  0.84861049 0.11728159 0.65448747 0.58018692 0.22785231 0.77112433 0.71214628 0.         0.64299355 0.52244723 0.48219664 0.42810672 0.88324668 0.34376523 0.71886039 0.29025828 0.80775816 0.66587554 0.54962072 0.22413303 0.45218827 0.69339547 0.73436936 0.83941816 0.75138265 0.52442644 0.35475882 0.67512914 0.800693   0.33302162 0.29310861]\n",
            " [0.77294018 0.12207981 0.70899481 0.28666465 0.53146569 0.51821873 0.84397585 0.39404822 0.61301214 0.66674206 0.12043539 0.31772298 0.24280046 0.73910201 0.45165507 0.17756173 0.43476585 0.1821095  0.51576228 0.85697467 0.82976075 0.14348218 0.74483011 0.76230752 0.18820895 0.20931694 0.69238011 0.44582874 0.43994062 0.45311147 0.57366448 0.18182072 0.36891376 0.54798681 0.64341214 0.61895937 0.45696482 0.80687677 0.13823973 0.81202685 0.72117567 0.77272173 0.26583554 0.33941215 0.87357474 0.38319324 0.71550731 0.62873342 0.41347928 0.29196043 0.55502819 0.48511006 0.54843218 0.75779604 0.66891085 0.58343099 0.37810489 0.82626646 0.50966403 0.94635997 0.36568275 0.69043104 0.48039542 0.35762036 0.39716967 0.84589567 0.67836633 0.45002976 0.50145    0.75993002 0.59417423 0.62453109 0.13932867 0.41779517 0.72575436 0.42964408 0.64299355 0.         0.63915863 0.26967678 0.33540093 0.58046636 0.57577146 0.64197908 0.44690867 0.28569008 0.17381858 0.83862902 0.48602366 0.5797906  0.49558183 0.11483101 0.5611222  0.13211512 0.65911053 0.80854971 0.09674421 0.16105235 0.72652824 0.35458775]\n",
            " [0.38228728 0.73191034 0.17915333 0.57968343 0.10776886 0.43823172 0.38440424 0.64609831 0.32362412 0.29431014 0.51872868 0.32469749 0.3981641  0.4939114  0.20160207 0.67893584 0.57388479 0.77640272 0.70086163 0.2352345  0.19761859 0.55495731 0.50110045 0.46695652 0.49792149 0.47867373 0.27811779 0.80494447 0.62042534 0.75713023 0.47154529 0.47428959 0.27242783 0.65730802 0.31536999 0.24235602 0.67156424 0.4096809  0.58365254 0.19432    0.30187631 0.40757264 0.47187096 0.6655722  0.31718837 0.35555501 0.07765184 0.12708056 0.55716849 0.77464069 0.08802558 0.59589749 0.18470631 0.12895458 0.21655995 0.32678318 0.39935724 0.23763823 0.20601087 0.51305792 0.27361264 0.10491047 0.75862126 0.29472854 0.77568848 0.4975865  0.3795769  0.30740875 0.70389356 0.33403121 0.40574519 0.15538206 0.68981635 0.44784905 0.25386197 0.36000617 0.52244723 0.63915863 0.         0.69841988 0.69806744 0.46198371 0.17962346 0.22184482 0.30124848 0.59083032 0.5226862  0.21937744 0.34027313 0.08016543 0.28831441 0.75308382 0.4172888  0.66118529 0.02111786 0.33251303 0.72700313 0.77659446 0.26119585 0.51980801]\n",
            " [0.68679375 0.36394765 0.69960098 0.54431797 0.6021702  0.73177819 0.77216728 0.16076406 0.78647881 0.82502927 0.29836028 0.44084007 0.38304853 0.94193323 0.56106252 0.44657682 0.24197099 0.4189086  0.2702669  0.87204857 0.85886629 0.3903606  0.94856521 0.63948211 0.22554413 0.23680983 0.63925975 0.17708665 0.69774982 0.72256707 0.43107035 0.37821116 0.44552983 0.8041734  0.57194037 0.76647394 0.72048117 0.97446369 0.39676507 0.82856353 0.87297467 0.67599068 0.4893522  0.09348379 0.843272   0.56814086 0.77464786 0.63791636 0.66163952 0.55500941 0.61110293 0.28082461 0.67714875 0.79060606 0.802108   0.50816449 0.31551047 0.82119388 0.51098224 1.11207568 0.46229785 0.71080422 0.21531716 0.48911943 0.12857446 1.03074489 0.58117609 0.4154087  0.76606002 0.91417375 0.48210595 0.74216087 0.13924798 0.30513472 0.86105874 0.620737   0.48219664 0.26967678 0.69841988 0.         0.07198885 0.79506025 0.56983665 0.78045697 0.41773925 0.54550662 0.40839854 0.85337325 0.41916585 0.6222158  0.66230899 0.30524253 0.76589463 0.4014696  0.71421826 0.75101541 0.24062229 0.38357723 0.68434382 0.21249583]\n",
            " [0.64790591 0.43443825 0.68085589 0.60172664 0.60776525 0.77270014 0.73543842 0.09790782 0.81507583 0.84878255 0.3483313  0.46731564 0.41748091 0.97724796 0.5782921  0.5129521  0.18921493 0.49011223 0.19909214 0.85635964 0.84710883 0.44735829 0.98409946 0.59195019 0.25855558 0.26439317 0.6103106  0.12472962 0.75396566 0.78637809 0.38386536 0.4250486  0.46011127 0.85906939 0.53995454 0.78824759 0.77934429 0.99895209 0.45660028 0.81400105 0.89421121 0.63454399 0.53774108 0.03679213 0.8161434  0.60446132 0.77248189 0.62586777 0.71439146 0.6239195  0.61250596 0.22095345 0.695805   0.781088   0.81933153 0.4774286  0.30226079 0.80105139 0.50168939 1.13473604 0.48094078 0.69974772 0.14535104 0.51503614 0.08215774 1.05978977 0.54183423 0.40153781 0.82538296 0.93554648 0.4418302  0.75634603 0.21010797 0.27618418 0.87789201 0.65732915 0.42810672 0.33540093 0.69806744 0.07198885 0.         0.83549871 0.55601544 0.7995098  0.40529489 0.60374817 0.46196563 0.83790492 0.39547043 0.61960214 0.69143058 0.37700129 0.803755   0.46750873 0.71235621 0.7183761  0.31229095 0.45515932 0.65718977 0.18600465]\n",
            " [0.82623721 0.59693108 0.63775089 0.32878196 0.41716991 0.06340679 0.84296984 0.83787698 0.15231221 0.21538994 0.50036436 0.38552473 0.41934366 0.16227118 0.34392283 0.48887631 0.812078   0.60715972 0.94047429 0.66800455 0.62017437 0.43756496 0.16706889 0.89017051 0.57708868 0.57342852 0.71662012 0.96022833 0.24633623 0.38735762 0.8129188  0.41907614 0.43344353 0.22279385 0.72682328 0.23250773 0.28802046 0.28138645 0.44947935 0.63743718 0.26027009 0.84669812 0.31539844 0.81819139 0.77634854 0.23391756 0.49122816 0.56610842 0.21141679 0.51470708 0.45050152 0.85536776 0.28031046 0.57146738 0.28699588 0.7066438  0.63533088 0.69278975 0.55118684 0.40556618 0.40127884 0.56672303 0.95542198 0.34575284 0.9156288  0.28432849 0.79171613 0.60283686 0.29843951 0.27778907 0.77368634 0.31605468 0.70437648 0.70595421 0.30663647 0.18221151 0.88324668 0.58046636 0.46198371 0.79506025 0.83549871 0.         0.5791524  0.26371704 0.59404612 0.33683034 0.40685658 0.65732205 0.65956801 0.48357934 0.19239453 0.65740396 0.0457556  0.50497763 0.47795569 0.79132264 0.67328919 0.63081709 0.71299183 0.72384956]\n",
            " [0.25259794 0.68590027 0.13480659 0.60151338 0.16318631 0.53984085 0.29278729 0.49079035 0.46373629 0.45195164 0.46150205 0.30441672 0.36084736 0.64485679 0.24442244 0.66106787 0.40974367 0.73876542 0.53120924 0.30222912 0.29114181 0.53029081 0.6523289  0.31164672 0.40330165 0.38144356 0.14452882 0.65190834 0.68204177 0.80279204 0.2920385  0.44466557 0.22773501 0.74236896 0.14917784 0.39171624 0.73118957 0.58155846 0.55972571 0.2588035  0.47050356 0.2696822  0.48481619 0.52096769 0.29787168 0.40650151 0.23676195 0.07068222 0.61794766 0.77282948 0.13385536 0.42551248 0.30669029 0.2268457  0.3827408  0.14797261 0.2549815  0.25591922 0.06613803 0.69123151 0.24986008 0.1446768  0.59671193 0.30082898 0.62830035 0.66658267 0.21505415 0.15487405 0.77044609 0.50606224 0.22665794 0.31409692 0.59163226 0.28738705 0.42778573 0.43290322 0.34376523 0.57577146 0.17962346 0.56983665 0.55601544 0.5791524  0.         0.38021288 0.1521084  0.61171555 0.50493945 0.28354134 0.17020372 0.10935315 0.38769115 0.68964558 0.53348354 0.63270025 0.1841061  0.24737087 0.65043979 0.72987852 0.16052199 0.37073519]\n",
            " [0.60374911 0.70420601 0.4003668  0.48422456 0.22700166 0.26107672 0.60441441 0.77093489 0.11228768 0.07278353 0.52993729 0.34269037 0.41131361 0.27207792 0.2213011  0.62126805 0.71741247 0.73475078 0.84970919 0.40572693 0.35740659 0.52074101 0.27925733 0.68455828 0.55701703 0.54382821 0.49797058 0.91870477 0.47216923 0.61740424 0.6583919  0.46022375 0.33989504 0.48027621 0.52699655 0.03336827 0.52160214 0.20892644 0.5444472  0.37761556 0.09733723 0.62841123 0.40527021 0.77275079 0.52179488 0.27007124 0.23263177 0.34417897 0.41618719 0.68934054 0.24796905 0.75021605 0.10370709 0.3134485  0.02953546 0.52554079 0.53088847 0.43636082 0.37817776 0.33727148 0.3189015  0.32399231 0.88989589 0.29517696 0.88138061 0.28840261 0.5927183  0.46226832 0.54408023 0.13800394 0.60203683 0.06723661 0.73181366 0.59431981 0.08382301 0.24116396 0.71886039 0.64197908 0.22184482 0.78045697 0.7995098  0.26371704 0.38021288 0.         0.45403919 0.49514468 0.48505448 0.39600822 0.51045563 0.27145904 0.15686345 0.74551318 0.22440593 0.61840663 0.23272118 0.55263719 0.73816841 0.74621998 0.48303695 0.64402007]\n",
            " [0.32921675 0.56377695 0.28337494 0.53135625 0.23083329 0.54287824 0.39710716 0.34574656 0.51054272 0.51888521 0.34222    0.23875191 0.26801536 0.69289953 0.25500161 0.55806739 0.2733059  0.62024829 0.40254163 0.45430959 0.44230198 0.42940035 0.70041713 0.34035512 0.26396193 0.24178344 0.24583866 0.50582766 0.63984259 0.74193712 0.21888259 0.34715925 0.16729087 0.71786365 0.19906762 0.45491747 0.68486838 0.66295087 0.45749959 0.41089452 0.55092071 0.33305232 0.41704739 0.37084053 0.43688519 0.38071836 0.3717031  0.22092856 0.57882312 0.67695282 0.22291312 0.29935662 0.35883509 0.37579313 0.46549491 0.14507959 0.10322145 0.40533459 0.09723237 0.78653711 0.19974378 0.29458755 0.45737356 0.25975579 0.47947275 0.74007223 0.24465674 0.00880926 0.72834622 0.59050498 0.18861232 0.39588826 0.4457303  0.14699856 0.51932158 0.42190796 0.29025828 0.44690867 0.30124848 0.41773925 0.40529489 0.59404612 0.1521084  0.45403919 0.         0.5401636  0.41108999 0.4356348  0.06623545 0.221094   0.4061347  0.55761876 0.55076897 0.52362294 0.31284028 0.36231433 0.5126505  0.6061812  0.28279813 0.22155853]\n",
            " [0.85516972 0.26685847 0.72346725 0.01124798 0.49481245 0.28355506 0.90445111 0.64058046 0.42332742 0.49003505 0.2626802  0.30947115 0.27375599 0.49856157 0.39260936 0.15353141 0.65194036 0.27077719 0.75966032 0.82605534 0.78662876 0.15655717 0.50288727 0.88028754 0.37511662 0.38435958 0.75340556 0.72233606 0.15425055 0.20421165 0.73272263 0.20629204 0.38765218 0.26232419 0.72965405 0.46396915 0.17564465 0.60415441 0.1493037  0.7847132  0.54611866 0.86509175 0.12692763 0.59886402 0.88889848 0.23848196 0.65405873 0.63781282 0.1362333  0.19419822 0.5291609  0.70239346 0.4336007  0.71975995 0.52467968 0.68377507 0.52295401 0.82038107 0.55496397 0.73711884 0.36221728 0.67631288 0.743774   0.3125211  0.67401129 0.62027232 0.7829957  0.54714386 0.22189632 0.57766128 0.72472958 0.50790918 0.42429654 0.58634668 0.57100777 0.25440193 0.80775816 0.28569008 0.59083032 0.54550662 0.60374817 0.33683034 0.61171555 0.49514468 0.5401636  0.         0.1488068  0.8101173  0.60073109 0.56332178 0.33986174 0.33418242 0.33383512 0.17756216 0.6117939  0.85864941 0.36449138 0.29661849 0.77176191 0.5600517 ]\n",
            " [0.73604291 0.21953917 0.62830662 0.14418236 0.41733962 0.34444749 0.79365956 0.49322531 0.44444449 0.50184053 0.11527354 0.2044614  0.145482   0.56529748 0.32239507 0.15803474 0.50318973 0.25600048 0.6115288  0.75371065 0.71982563 0.03569196 0.57101384 0.75031384 0.22633452 0.235737   0.64020657 0.5833817  0.29267372 0.34997624 0.5912435  0.06406814 0.27760621 0.39710566 0.60730434 0.45907322 0.32209848 0.63762299 0.06160588 0.70996009 0.5574266  0.7427329  0.09207312 0.45430091 0.79604176 0.21733361 0.59449079 0.54306229 0.25324946 0.26849799 0.44749612 0.55371057 0.39994622 0.64921259 0.51335871 0.55616909 0.38085411 0.73601143 0.4427455  0.7765893  0.26024315 0.59312542 0.59905434 0.22795843 0.53573445 0.67327086 0.655739   0.41715996 0.36870783 0.59479847 0.58950218 0.47766088 0.30075066 0.44145625 0.56784702 0.25971575 0.66587554 0.17381858 0.5226862  0.40839854 0.46196563 0.40685658 0.50493945 0.48505448 0.41108999 0.1488068  0.         0.73635059 0.46731572 0.47820927 0.33219013 0.26313375 0.38742963 0.13915579 0.54366873 0.75118764 0.26834695 0.2624764  0.66484958 0.41143778]\n",
            " [0.31913942 0.93918178 0.15963927 0.79898411 0.31948984 0.64350353 0.26961726 0.76766861 0.50802219 0.45924715 0.71944137 0.53383593 0.60408264 0.65252259 0.41922658 0.89384172 0.68091979 0.98674063 0.79196177 0.01877345 0.04518596 0.76725432 0.65885613 0.42742061 0.67878024 0.65758763 0.26339385 0.92851323 0.83599095 0.97475034 0.52570032 0.68416618 0.4706711  0.86509174 0.33456392 0.42539791 0.88713875 0.52733154 0.79642343 0.02663218 0.44274517 0.34992361 0.69021529 0.80234802 0.14296295 0.574753   0.16698339 0.21690128 0.77349669 0.9926557  0.28897402 0.68779778 0.39483543 0.09090054 0.37766263 0.38178594 0.53827795 0.06537171 0.34454608 0.58691304 0.47949142 0.1485322  0.86675615 0.50940099 0.90798745 0.61742502 0.37723544 0.43815671 0.91747869 0.45987495 0.44999493 0.34179504 0.87009613 0.56479835 0.38550826 0.57669224 0.54962072 0.83862902 0.21937744 0.85337325 0.83790492 0.65732205 0.28354134 0.39600822 0.4356348  0.8101173  0.73635059 0.         0.44458147 0.26007176 0.5003446  0.95345314 0.61517994 0.87340775 0.19854574 0.22845626 0.92070095 0.98390535 0.21687297 0.65198914]\n",
            " [0.28781144 0.60583839 0.28606242 0.59226028 0.2841369  0.60888046 0.3642772  0.3232514  0.5724328  0.57729068 0.38933646 0.30343291 0.32718911 0.75533936 0.31882804 0.60945086 0.23968151 0.66386122 0.36184983 0.46277655 0.45769847 0.48303086 0.76287168 0.28355403 0.2984892  0.27689417 0.22150636 0.48430986 0.70435139 0.8035665  0.15362338 0.40326201 0.23334957 0.78358941 0.16040267 0.51359416 0.7487981  0.71882808 0.51026647 0.42163525 0.60648874 0.28670335 0.47927723 0.35932103 0.42413619 0.44689081 0.40472195 0.24052344 0.6437921  0.7300552  0.27032624 0.25633838 0.41852898 0.39616478 0.51985076 0.09790861 0.11232743 0.40561932 0.13629841 0.83894796 0.26588415 0.31394149 0.42670325 0.3258606  0.46355146 0.79808067 0.19307928 0.057671   0.79264454 0.6452683  0.12439547 0.44975492 0.46714636 0.12027818 0.57169592 0.48810743 0.22413303 0.48602366 0.34027313 0.41916585 0.39547043 0.65956801 0.17020372 0.51045563 0.06623545 0.60073109 0.46731572 0.44458147 0.         0.26133306 0.47074924 0.59289137 0.61603955 0.57282795 0.34874765 0.33618973 0.54330705 0.64686737 0.26535755 0.20987934]\n",
            " [0.34300945 0.67911156 0.16379302 0.55246981 0.07170172 0.45015391 0.36313886 0.56616063 0.35943308 0.34360166 0.46007047 0.27448156 0.34402293 0.53855768 0.1726081  0.6361577  0.49376656 0.72689244 0.6210737  0.27807649 0.25024285 0.50826894 0.54597891 0.41516358 0.42810722 0.40798791 0.23376231 0.72530138 0.61245721 0.74238089 0.39728222 0.42453333 0.21103433 0.66180244 0.25569717 0.28453208 0.66300738 0.47226682 0.53759444 0.23345697 0.36115083 0.3646439  0.43921212 0.5867021  0.32585982 0.33821294 0.1529228  0.08325315 0.54817982 0.73901291 0.0355792  0.51629908 0.20493507 0.17831649 0.27339739 0.25675654 0.31976157 0.25866187 0.12611818 0.58367688 0.21963782 0.11496425 0.67846269 0.25398604 0.69663036 0.55725709 0.32154796 0.22724564 0.69903344 0.39682487 0.33491195 0.20497978 0.62056678 0.36769501 0.31893661 0.35434996 0.45218827 0.5797906  0.08016543 0.6222158  0.61960214 0.48357934 0.10935315 0.27145904 0.221094   0.56332178 0.47820927 0.26007176 0.26133306 0.         0.29635939 0.69451136 0.43786694 0.61419398 0.09277435 0.31248498 0.66412864 0.72383702 0.23047059 0.44017423]\n",
            " [0.63689852 0.55005248 0.45600862 0.32881252 0.2273633  0.15379562 0.65906282 0.67857682 0.12417016 0.17118188 0.38996775 0.22428262 0.28042126 0.29337784 0.15254487 0.46457644 0.64083299 0.57872944 0.77212942 0.51382314 0.46930225 0.36780399 0.300705   0.69812062 0.43690169 0.4277617  0.52716436 0.81466866 0.33640866 0.47801435 0.62437262 0.31461565 0.25332209 0.36926563 0.53472954 0.12800616 0.38744004 0.31523264 0.39020733 0.47741521 0.22581544 0.65636727 0.24928362 0.66898932 0.60528259 0.11500648 0.3347401  0.37959104 0.2752162  0.53383767 0.26199738 0.68076216 0.10550993 0.41020241 0.18624378 0.51442939 0.45779188 0.5256506  0.3588889  0.45467167 0.22334208 0.3899859  0.79807278 0.1773146  0.77343193 0.36868153 0.59945468 0.41494244 0.41715188 0.26435336 0.58240754 0.17110917 0.59674724 0.52726892 0.23722642 0.08555901 0.69339547 0.49558183 0.28831441 0.66230899 0.69143058 0.19239453 0.38769115 0.15686345 0.4061347  0.33986174 0.33219013 0.5003446  0.47074924 0.29635939 0.         0.59473641 0.14722233 0.46290415 0.30700834 0.60798189 0.59231693 0.59138097 0.52682995 0.55724998]\n",
            " [0.88065916 0.07387712 0.82323684 0.33877869 0.64532639 0.59752532 0.95397302 0.45419371 0.70738158 0.76487743 0.23464828 0.4301617  0.3555244  0.81900345 0.56304924 0.18833224 0.5117065  0.11647323 0.57210873 0.97179209 0.94438    0.22796266 0.82418029 0.86381847 0.29480213 0.31675777 0.80345327 0.46755799 0.48239162 0.45999565 0.66838834 0.28765327 0.48355642 0.5890714  0.75195907 0.72073292 0.4877722  0.90015784 0.20980531 0.92684907 0.82031956 0.8788812  0.35223016 0.39137978 0.98725856 0.48019534 0.82911365 0.74336786 0.47001927 0.26600894 0.66944785 0.55975846 0.65538199 0.87242383 0.77321953 0.69075517 0.48252797 0.94088159 0.62350852 1.03874008 0.47947333 0.80526195 0.51985728 0.46804293 0.42072008 0.93233406 0.78357289 0.56021718 0.52799087 0.85789111 0.69567094 0.73233932 0.16812042 0.51471582 0.82889955 0.52256907 0.73436936 0.11483101 0.75308382 0.30524253 0.37700129 0.65740396 0.68964558 0.74551318 0.55761876 0.33418242 0.26313375 0.95345314 0.59289137 0.69451136 0.59473641 0.         0.64383818 0.15662027 0.77316804 0.91988484 0.06481713 0.07887723 0.83881775 0.44150163]\n",
            " [0.78048844 0.58653673 0.5924842  0.32478283 0.37142344 0.05086269 0.79757898 0.80243082 0.11615324 0.18348217 0.47447631 0.34764898 0.3863882  0.17846962 0.29930293 0.48251476 0.77358476 0.60120783 0.90289401 0.62629908 0.57882925 0.41982163 0.18454318 0.84459589 0.5452284  0.54031348 0.67086705 0.92839656 0.2636576  0.40821338 0.76954374 0.39336829 0.39190933 0.25641544 0.68127282 0.19217938 0.30931872 0.27160442 0.43432684 0.59481475 0.23318457 0.80094529 0.29535693 0.78516702 0.7324228  0.19944883 0.4486253  0.52044936 0.21925107 0.51918844 0.40475041 0.81605171 0.23489845 0.52851151 0.24933446 0.66164854 0.59494319 0.64928998 0.50611039 0.40329225 0.36009115 0.52189231 0.9206612  0.30605434 0.88452739 0.28916927 0.74623978 0.55957151 0.32542793 0.25613833 0.72924473 0.27342721 0.68068826 0.66537821 0.27475409 0.14665566 0.83941816 0.5611222  0.4172888  0.76589463 0.803755   0.0457556  0.53348354 0.22440593 0.55076897 0.33383512 0.38742963 0.61517994 0.61603955 0.43786694 0.14722233 0.64383818 0.         0.49465556 0.43358007 0.74597073 0.65558213 0.62247895 0.6673884  0.68637118]\n",
            " [0.85268261 0.09199881 0.76002127 0.18229573 0.555194   0.44675123 0.91606694 0.52358511 0.56751125 0.62897099 0.18383472 0.33972369 0.27292597 0.66715481 0.46141215 0.04561972 0.55726453 0.11728426 0.64544054 0.8909676  0.8579699  0.10627726 0.67204561 0.85550452 0.29040036 0.30782768 0.76240226 0.57697865 0.32707818 0.32272445 0.67913208 0.19002852 0.40851289 0.43452404 0.72262681 0.59085173 0.33624141 0.7575004  0.07765252 0.8469193  0.68522886 0.85639081 0.21370316 0.47083278 0.92759776 0.34839277 0.73346784 0.67564677 0.31348088 0.16568894 0.58444621 0.60821618 0.53716798 0.78704416 0.64722672 0.66699182 0.47339532 0.87065047 0.56844506 0.89451628 0.39478248 0.72879418 0.61243659 0.36657906 0.5283669  0.78382432 0.76537626 0.52847108 0.37865547 0.72087006 0.68959082 0.61488676 0.26756463 0.52356321 0.70006529 0.384228   0.75138265 0.13211512 0.66118529 0.4014696  0.46750873 0.50497763 0.63270025 0.61840663 0.52362294 0.17756216 0.13915579 0.87340775 0.57282795 0.61419398 0.46290415 0.15662027 0.49465556 0.         0.68210716 0.87600793 0.19154749 0.12933041 0.79072011 0.47200458]\n",
            " [0.37403864 0.75251932 0.16788334 0.60064061 0.12806921 0.45584916 0.37179156 0.65839722 0.33727074 0.30453169 0.53870237 0.34524893 0.41849678 0.5045254  0.22271345 0.69999494 0.58441306 0.7972273  0.71023609 0.21426318 0.17651421 0.57586503 0.51162687 0.46191687 0.51593374 0.49644197 0.27219376 0.81783576 0.64013153 0.77732677 0.47588559 0.49500479 0.29171233 0.67558016 0.31388378 0.25511232 0.69128503 0.41431406 0.60459426 0.17367573 0.30850444 0.40017363 0.49297326 0.67947549 0.29944242 0.37624234 0.06042997 0.12551446 0.57702563 0.79574903 0.10595812 0.60495144 0.20262654 0.1079663  0.22502241 0.32941255 0.41239157 0.21864413 0.21645566 0.51330063 0.29376243 0.09130886 0.76987431 0.31571154 0.78938652 0.50313946 0.37705076 0.31862951 0.72322525 0.33894908 0.40837452 0.16748309 0.70806521 0.45875486 0.25833247 0.3798745  0.52442644 0.65911053 0.02111786 0.71421826 0.71235621 0.47795569 0.1841061  0.23272118 0.31284028 0.6117939  0.54366873 0.19854574 0.34874765 0.09277435 0.30700834 0.77316804 0.43358007 0.68210716 0.         0.31997297 0.74650975 0.79721674 0.25189205 0.53275284]\n",
            " [0.09720921 0.92353269 0.15380603 0.84834763 0.38366369 0.7615615  0.05189181 0.63302381 0.65611515 0.62408166 0.69970373 0.55177343 0.60626218 0.82408875 0.48041306 0.90617455 0.5386808  0.97851852 0.62747359 0.23778911 0.26911661 0.77537088 0.83112195 0.20595991 0.62610962 0.603952   0.11655045 0.78699767 0.92214338 1.04732596 0.35381544 0.68994812 0.47479616 0.97426884 0.17909289 0.57471228 0.97217129 0.72240296 0.80463971 0.22410273 0.62327525 0.12701726 0.73183542 0.6815841  0.11558064 0.64627593 0.33165614 0.22960162 0.85779528 1.01948476 0.34775252 0.53097648 0.51107376 0.26063303 0.54343441 0.24289579 0.44786615 0.16315798 0.30848938 0.80067984 0.49717852 0.22866561 0.71333107 0.54677586 0.77643313 0.81292849 0.18663921 0.36005688 1.00959706 0.6492049  0.28236376 0.48729955 0.80269989 0.4459119  0.56927012 0.66619317 0.35475882 0.80854971 0.33251303 0.75101541 0.7183761  0.79132264 0.24737087 0.55263719 0.36231433 0.85864941 0.75118764 0.22845626 0.33618973 0.31248498 0.60798189 0.91988484 0.74597073 0.87600793 0.31997297 0.         0.87449724 0.96664088 0.08690782 0.53862424]\n",
            " [0.83086076 0.12801157 0.78497436 0.36734163 0.619789   0.6116354  0.90660483 0.38970618 0.70961477 0.76348181 0.21166509 0.40965739 0.33491146 0.83305024 0.54421168 0.23094551 0.44921733 0.17906265 0.50733169 0.93924534 0.91433315 0.23592718 0.83863015 0.80915448 0.24879366 0.27097316 0.75795272 0.40520283 0.51709175 0.50914219 0.61070155 0.27829646 0.45486705 0.62500538 0.7033895  0.71545815 0.52778548 0.90344654 0.2250517  0.89421984 0.81787692 0.82762456 0.36032681 0.32661284 0.94666567 0.47987257 0.8040186  0.70748678 0.49751076 0.32309259 0.64134695 0.49668756 0.64368859 0.84243962 0.76490337 0.64114623 0.43161982 0.90437293 0.58449218 1.04287853 0.45491221 0.77216934 0.45551075 0.45138151 0.35786541 0.94149245 0.73176051 0.51451215 0.57006348 0.85666773 0.64147885 0.71929857 0.10337882 0.45882194 0.82197506 0.52596788 0.67512914 0.09674421 0.72700313 0.24062229 0.31229095 0.67328919 0.65043979 0.73816841 0.5126505  0.36449138 0.26834695 0.92070095 0.54330705 0.66412864 0.59231693 0.06481713 0.65558213 0.19154749 0.74650975 0.87449724 0.         0.14297752 0.79527817 0.38202963]\n",
            " [0.93338196 0.0447461  0.86134767 0.30334921 0.66927736 0.57391723 1.00320489 0.53017458 0.69684164 0.75815071 0.26837814 0.45200326 0.37992925 0.79307605 0.5800753  0.14312209 0.58367182 0.03950706 0.64909499 1.00189443 0.97148606 0.22720083 0.79772677 0.92321846 0.34925881 0.37033661 0.85088513 0.54632911 0.43511074 0.39510922 0.73266464 0.30255106 0.51376481 0.53883034 0.80362664 0.71918141 0.43376434 0.88663378 0.20191071 0.95728535 0.81436505 0.93356589 0.34254987 0.46842196 1.02752845 0.47656846 0.85079921 0.77904609 0.43206067 0.19372141 0.69624236 0.63260646 0.6624138  0.89986992 0.77483775 0.74410618 0.53914622 0.97613953 0.6641096  1.02336223 0.50489619 0.83702072 0.59846948 0.48437339 0.49957432 0.91150679 0.83936246 0.60965631 0.47095306 0.85015124 0.75503005 0.74011859 0.24547103 0.57733241 0.82833041 0.51343623 0.800693   0.16105235 0.77659446 0.38357723 0.45515932 0.63081709 0.72987852 0.74621998 0.6061812  0.29661849 0.2624764  0.98390535 0.64686737 0.72383702 0.59138097 0.07887723 0.62247895 0.12933041 0.79721674 0.96664088 0.14297752 0.         0.88354759 0.50933476]\n",
            " [0.12287392 0.84012431 0.08609576 0.76147201 0.30058551 0.68062443 0.13437154 0.57702914 0.58234544 0.55548168 0.61587643 0.46493856 0.52016556 0.75508706 0.39530326 0.82027757 0.48508921 0.89445822 0.58592281 0.23158849 0.24805316 0.68944961 0.7622863  0.22080246 0.54648994 0.52430805 0.04926429 0.73500301 0.83676122 0.96091939 0.31420889 0.60392978 0.38810821 0.89103436 0.12345796 0.50262521 0.88659547 0.66386905 0.71878412 0.20276115 0.56008536 0.1507483  0.6449369  0.62056388 0.15910016 0.56075124 0.27549842 0.14726286 0.77243801 0.93301328 0.26511304 0.48448946 0.43293707 0.2171102  0.476834   0.18097909 0.37430214 0.15977346 0.22246721 0.75260153 0.41028266 0.16328613 0.66646779 0.45999638 0.72020344 0.75355775 0.16036501 0.28151771 0.92449724 0.58913996 0.23864828 0.41638666 0.72724597 0.38137279 0.50847909 0.58216491 0.33302162 0.72652824 0.26119585 0.68434382 0.65718977 0.71299183 0.16052199 0.48303695 0.28279813 0.77176191 0.66484958 0.21687297 0.26535755 0.23047059 0.52682995 0.83881775 0.6673884  0.79072011 0.25189205 0.08690782 0.79527817 0.88354759 0.         0.47352181]\n",
            " [0.47516381 0.47518075 0.49486576 0.55472636 0.43675482 0.66406785 0.55985775 0.12794813 0.67663137 0.70048346 0.30179119 0.33872334 0.31349924 0.85024214 0.425098   0.515684   0.09264089 0.53547609 0.21662506 0.67041894 0.6618619  0.41142881 0.85748519 0.43485912 0.18682182 0.1757055  0.42764202 0.28514068 0.6950004  0.7605676  0.23024545 0.35602306 0.30779895 0.79167384 0.35953179 0.63751746 0.73026444 0.84989463 0.43138463 0.62820381 0.7408955  0.46562292 0.46259155 0.15038336 0.63262056 0.49051634 0.59227479 0.44094138 0.64412048 0.63768964 0.43680692 0.1424175  0.54167334 0.59669392 0.6606616  0.29588135 0.12045118 0.61522761 0.31870788 0.98127809 0.33492854 0.51496983 0.24593839 0.38180048 0.25797052 0.91846228 0.37005227 0.21710591 0.77677521 0.78193026 0.27218098 0.59411269 0.28857925 0.09272356 0.71786733 0.54164083 0.29310861 0.35458775 0.51980801 0.21249583 0.18600465 0.72384956 0.37073519 0.64402007 0.22155853 0.5600517  0.41143778 0.65198914 0.20987934 0.44017423 0.55724998 0.44150163 0.68637118 0.47200458 0.53275284 0.53862424 0.38202963 0.50933476 0.47352181 0.        ]]\n"
          ]
        }
      ],
      "source": [
        "Z = np.random.random((100,2))\n",
        "X,Y = np.atleast_2d(Z[:,0], Z[:,1])\n",
        "D = np.sqrt( (X-X.T)**2 + (Y-Y.T)**2)\n",
        "print(D)\n",
        "\n",
        "import scipy.spatial\n",
        "\n",
        "Z = np.random.random((100,2))\n",
        "D = scipy.spatial.distance.cdist(Z,Z)\n",
        "print(D)"
      ]
    },
    {
      "cell_type": "markdown",
      "metadata": {
        "id": "eECsgfL9bYu8"
      },
      "source": [
        "#### 53. How to convert a float (32 bits) array into an integer (32 bits) in place? \n",
        "(**hint**: astype(copy=False))"
      ]
    },
    {
      "cell_type": "code",
      "execution_count": 101,
      "metadata": {
        "colab": {
          "base_uri": "https://localhost:8080/"
        },
        "id": "MtK0Psa-bYu8",
        "outputId": "d52ad083-fd46-418d-ed38-9c0e73e0a7d6"
      },
      "outputs": [
        {
          "output_type": "stream",
          "name": "stdout",
          "text": [
            "[ 0  1  2  3  4  5  6  7  8  9 10 11 12 13 14]\n"
          ]
        }
      ],
      "source": [
        "a = np.arange(15, dtype=np.float32)\n",
        "a = a.astype(np.int32, copy=False)\n",
        "print(a)"
      ]
    },
    {
      "cell_type": "markdown",
      "metadata": {
        "id": "FsrWIs9UbYu8"
      },
      "source": [
        "#### 54. How to read the following file? (★★☆) \n",
        "(**hint**: np.genfromtxt)"
      ]
    },
    {
      "cell_type": "markdown",
      "metadata": {
        "id": "4a8IOV8KbYu9"
      },
      "source": [
        "```\n",
        "1, 2, 3, 4, 5\n",
        "6,  ,  , 7, 8\n",
        " ,  , 9,10,11\n",
        "```"
      ]
    },
    {
      "cell_type": "code",
      "execution_count": 102,
      "metadata": {
        "colab": {
          "base_uri": "https://localhost:8080/"
        },
        "id": "G0M_GCkDbYu9",
        "outputId": "2236ef0b-baa9-4af4-cdc7-e0914c0f6954"
      },
      "outputs": [
        {
          "output_type": "stream",
          "name": "stdout",
          "text": [
            "[[ 1  2  3  4  5]\n",
            " [ 6 -1 -1  7  8]\n",
            " [-1 -1  9 10 11]]\n"
          ]
        },
        {
          "output_type": "stream",
          "name": "stderr",
          "text": [
            "<ipython-input-102-6d3b4963d22c>:9: DeprecationWarning: `np.int` is a deprecated alias for the builtin `int`. To silence this warning, use `int` by itself. Doing this will not modify any behavior and is safe. When replacing `np.int`, you may wish to use e.g. `np.int64` or `np.int32` to specify the precision. If you wish to review your current use, check the release note link for additional information.\n",
            "Deprecated in NumPy 1.20; for more details and guidance: https://numpy.org/devdocs/release/1.20.0-notes.html#deprecations\n",
            "  s = np.genfromtxt(r, delimiter=\",\", dtype=np.int)\n"
          ]
        }
      ],
      "source": [
        "from io import StringIO\n",
        "\n",
        "r = StringIO('''1, 2, 3, 4, 5\n",
        "\n",
        "                6,  ,  , 7, 8\n",
        "\n",
        "                 ,  , 9,10,11\n",
        "''')\n",
        "s = np.genfromtxt(r, delimiter=\",\", dtype=np.int)\n",
        "print(s)"
      ]
    },
    {
      "cell_type": "markdown",
      "metadata": {
        "id": "j9UqLhvMbYu9"
      },
      "source": [
        "#### 55. What is the equivalent of enumerate for numpy arrays? (★★☆) \n",
        "(**hint**: np.ndenumerate, np.ndindex)"
      ]
    },
    {
      "cell_type": "code",
      "execution_count": 103,
      "metadata": {
        "colab": {
          "base_uri": "https://localhost:8080/"
        },
        "id": "H39yj3QPbYu9",
        "outputId": "d39fb5dc-f0eb-4ff9-c838-a5ee21535e6b"
      },
      "outputs": [
        {
          "output_type": "stream",
          "name": "stdout",
          "text": [
            "(0, 0) 0\n",
            "(0, 1) 1\n",
            "(0, 2) 2\n",
            "(0, 3) 3\n",
            "(1, 0) 4\n",
            "(1, 1) 5\n",
            "(1, 2) 6\n",
            "(1, 3) 7\n",
            "(2, 0) 8\n",
            "(2, 1) 9\n",
            "(2, 2) 10\n",
            "(2, 3) 11\n",
            "(3, 0) 12\n",
            "(3, 1) 13\n",
            "(3, 2) 14\n",
            "(3, 3) 15\n",
            "(0, 0) 0\n",
            "(0, 1) 1\n",
            "(0, 2) 2\n",
            "(0, 3) 3\n",
            "(1, 0) 4\n",
            "(1, 1) 5\n",
            "(1, 2) 6\n",
            "(1, 3) 7\n",
            "(2, 0) 8\n",
            "(2, 1) 9\n",
            "(2, 2) 10\n",
            "(2, 3) 11\n",
            "(3, 0) 12\n",
            "(3, 1) 13\n",
            "(3, 2) 14\n",
            "(3, 3) 15\n"
          ]
        }
      ],
      "source": [
        "Z = np.arange(16).reshape(4,4)\n",
        "for index, value in np.ndenumerate(Z):\n",
        "    print(index, value)\n",
        "for index in np.ndindex(Z.shape):\n",
        "    print(index, Z[index])"
      ]
    },
    {
      "cell_type": "markdown",
      "metadata": {
        "id": "V4K5ja4rbYu9"
      },
      "source": [
        "#### 56. Generate a generic 2D Gaussian-like array (★★☆) \n",
        "(**hint**: np.meshgrid, np.exp)"
      ]
    },
    {
      "cell_type": "code",
      "execution_count": 104,
      "metadata": {
        "colab": {
          "base_uri": "https://localhost:8080/"
        },
        "id": "3dKvwu5jbYu9",
        "outputId": "83d1e6f2-7379-4b31-f5fd-9d097e50aa13"
      },
      "outputs": [
        {
          "output_type": "stream",
          "name": "stdout",
          "text": [
            "[[0.36787944 0.44822088 0.51979489 0.57375342 0.60279818 0.60279818 0.57375342 0.51979489 0.44822088 0.36787944]\n",
            " [0.44822088 0.54610814 0.63331324 0.69905581 0.73444367 0.73444367 0.69905581 0.63331324 0.54610814 0.44822088]\n",
            " [0.51979489 0.63331324 0.73444367 0.81068432 0.85172308 0.85172308 0.81068432 0.73444367 0.63331324 0.51979489]\n",
            " [0.57375342 0.69905581 0.81068432 0.89483932 0.9401382  0.9401382  0.89483932 0.81068432 0.69905581 0.57375342]\n",
            " [0.60279818 0.73444367 0.85172308 0.9401382  0.98773022 0.98773022 0.9401382  0.85172308 0.73444367 0.60279818]\n",
            " [0.60279818 0.73444367 0.85172308 0.9401382  0.98773022 0.98773022 0.9401382  0.85172308 0.73444367 0.60279818]\n",
            " [0.57375342 0.69905581 0.81068432 0.89483932 0.9401382  0.9401382  0.89483932 0.81068432 0.69905581 0.57375342]\n",
            " [0.51979489 0.63331324 0.73444367 0.81068432 0.85172308 0.85172308 0.81068432 0.73444367 0.63331324 0.51979489]\n",
            " [0.44822088 0.54610814 0.63331324 0.69905581 0.73444367 0.73444367 0.69905581 0.63331324 0.54610814 0.44822088]\n",
            " [0.36787944 0.44822088 0.51979489 0.57375342 0.60279818 0.60279818 0.57375342 0.51979489 0.44822088 0.36787944]]\n"
          ]
        }
      ],
      "source": [
        "x,y = np.meshgrid(np.linspace(-1,1,10), np.linspace(-1,1,10))\n",
        "D = np.sqrt(x*x+y*y)\n",
        "sigma, mu =1.0,0.0\n",
        "G = np.exp(-((D-mu)**2 / (2.0 * sigma)))\n",
        "print(G)"
      ]
    },
    {
      "cell_type": "markdown",
      "metadata": {
        "id": "QktKQKuJbYu9"
      },
      "source": [
        "#### 57. How to randomly place p elements in a 2D array? (★★☆) \n",
        "(**hint**: np.put, np.random.choice)"
      ]
    },
    {
      "cell_type": "code",
      "execution_count": 105,
      "metadata": {
        "colab": {
          "base_uri": "https://localhost:8080/"
        },
        "id": "fZt1JJoJbYu9",
        "outputId": "eb508177-5b39-4748-ddf2-7f45803d7cf2"
      },
      "outputs": [
        {
          "output_type": "stream",
          "name": "stdout",
          "text": [
            "[[0. 0. 0. 0. 0. 0. 0.]\n",
            " [0. 0. 1. 0. 0. 0. 0.]\n",
            " [0. 0. 0. 0. 0. 0. 0.]\n",
            " [0. 0. 0. 0. 0. 0. 0.]\n",
            " [0. 0. 0. 0. 0. 0. 0.]\n",
            " [1. 0. 0. 1. 0. 0. 0.]\n",
            " [0. 0. 0. 0. 0. 0. 0.]]\n"
          ]
        }
      ],
      "source": [
        "n = 7\n",
        "p = 3\n",
        "x = np.zeros((n,n))\n",
        "np.put(x, np.random.choice(range(n*n), p, replace=False),1)\n",
        "print(x)"
      ]
    },
    {
      "cell_type": "markdown",
      "metadata": {
        "id": "vT-wJX_tbYu9"
      },
      "source": [
        "#### 58. Subtract the mean of each row of a matrix (★★☆) \n",
        "(**hint**: mean(axis=,keepdims=))"
      ]
    },
    {
      "cell_type": "code",
      "execution_count": 106,
      "metadata": {
        "colab": {
          "base_uri": "https://localhost:8080/"
        },
        "id": "UXdUPN0AbYu-",
        "outputId": "f20a7106-2050-4b25-8c6b-1864919f5524"
      },
      "outputs": [
        {
          "output_type": "stream",
          "name": "stdout",
          "text": [
            "[[-0.17084364  0.08131437  0.19997058  0.4073446   0.25822134 -0.29735673 -0.14662959 -0.51259401 -0.1977698   0.37834288]\n",
            " [-0.22458242  0.42823973  0.42343086  0.58774393  0.04141342 -0.34568811 -0.32039012  0.02695874 -0.36981148 -0.24731455]\n",
            " [ 0.50861391  0.18405919 -0.17315054 -0.01553933 -0.0595804   0.15011504 -0.34558945  0.12130566 -0.05509617 -0.31513791]\n",
            " [ 0.31298865  0.0070511  -0.0312267  -0.35467806 -0.41407438  0.45470297 -0.02058369 -0.0579024   0.4408122  -0.33708969]\n",
            " [-0.08353236 -0.2960037   0.37934587 -0.18071331  0.12629643  0.00891014 -0.20009965  0.12008095  0.34971848 -0.22400285]]\n"
          ]
        }
      ],
      "source": [
        "X = np.random.rand(5, 10)\n",
        "Y = X - X.mean(axis=1, keepdims=True)\n",
        "print(Y)"
      ]
    },
    {
      "cell_type": "markdown",
      "metadata": {
        "id": "xcgQPvtPbYu-"
      },
      "source": [
        "#### 59. How to sort an array by the nth column? (★★☆) \n",
        "(**hint**: argsort)"
      ]
    },
    {
      "cell_type": "code",
      "execution_count": 107,
      "metadata": {
        "colab": {
          "base_uri": "https://localhost:8080/"
        },
        "id": "EEYbpLCMbYu-",
        "outputId": "b86adf41-285b-4655-9539-49d0b6554fe7"
      },
      "outputs": [
        {
          "output_type": "stream",
          "name": "stdout",
          "text": [
            "[[6 2 1]\n",
            " [9 3 6]\n",
            " [8 8 2]]\n",
            "[[6 2 1]\n",
            " [9 3 6]\n",
            " [8 8 2]]\n"
          ]
        }
      ],
      "source": [
        "x = np.random.randint(0,10,(3,3))\n",
        "print(x)\n",
        "print(x[x[:,1].argsort()])"
      ]
    },
    {
      "cell_type": "markdown",
      "metadata": {
        "id": "3B5vLZumbYvC"
      },
      "source": [
        "#### 60. How to tell if a given 2D array has null columns? (★★☆) \n",
        "(**hint**: any, ~)"
      ]
    },
    {
      "cell_type": "code",
      "execution_count": 108,
      "metadata": {
        "colab": {
          "base_uri": "https://localhost:8080/"
        },
        "id": "kfXkGC6tbYvD",
        "outputId": "37e8331d-5cf5-4b85-c0de-49210d7b8a03"
      },
      "outputs": [
        {
          "output_type": "stream",
          "name": "stdout",
          "text": [
            "False\n"
          ]
        }
      ],
      "source": [
        "x = np.random.randint(0,3,(3,10))\n",
        "print((~x.any(axis=0)).any())"
      ]
    },
    {
      "cell_type": "markdown",
      "metadata": {
        "id": "jK8kLqZ7bYvD"
      },
      "source": [
        "#### 61. Find the nearest value from a given value in an array (★★☆) \n",
        "(**hint**: np.abs, argmin, flat)"
      ]
    },
    {
      "cell_type": "code",
      "execution_count": 109,
      "metadata": {
        "colab": {
          "base_uri": "https://localhost:8080/"
        },
        "id": "r25S6lEIbYvD",
        "outputId": "799f24db-f267-427e-d3f6-b74dee4cdfa3"
      },
      "outputs": [
        {
          "output_type": "stream",
          "name": "stdout",
          "text": [
            "0.5210282020751682\n"
          ]
        }
      ],
      "source": [
        "x = np.random.uniform(0,1,10)\n",
        "z = 0.5\n",
        "m = x.flat[np.abs(x - z).argmin()]\n",
        "print(m)"
      ]
    },
    {
      "cell_type": "markdown",
      "metadata": {
        "id": "J0NZbzhNbYvE"
      },
      "source": [
        "#### 62. Considering two arrays with shape (1,3) and (3,1), how to compute their sum using an iterator? (★★☆) \n",
        "(**hint**: np.nditer)"
      ]
    },
    {
      "cell_type": "code",
      "execution_count": 110,
      "metadata": {
        "colab": {
          "base_uri": "https://localhost:8080/"
        },
        "id": "jXfUD3-_bYvF",
        "outputId": "5056ce5a-bf38-416e-eeb8-bf21ff9f1fe2"
      },
      "outputs": [
        {
          "output_type": "stream",
          "name": "stdout",
          "text": [
            "[[0 1 2]\n",
            " [1 2 3]\n",
            " [2 3 4]]\n"
          ]
        }
      ],
      "source": [
        "m = np.arange(3).reshape(3,1)\n",
        "n = np.arange(3).reshape(1,3)\n",
        "it = np.nditer([m,n,None])\n",
        "for m,n,o in it: o[...] = m + n\n",
        "print(it.operands[2])"
      ]
    },
    {
      "cell_type": "markdown",
      "metadata": {
        "id": "pCR-N8usbYvF"
      },
      "source": [
        "#### 63. Create an array class that has a name attribute (★★☆) \n",
        "(**hint**: class method)"
      ]
    },
    {
      "cell_type": "code",
      "execution_count": 111,
      "metadata": {
        "colab": {
          "base_uri": "https://localhost:8080/"
        },
        "id": "PqGk9Z6cbYvF",
        "outputId": "83e3c3df-3622-4a92-8989-d72dc2c73026"
      },
      "outputs": [
        {
          "output_type": "stream",
          "name": "stdout",
          "text": [
            "range_10\n"
          ]
        }
      ],
      "source": [
        "class NamedArray(np.ndarray):\n",
        "    def __new__(cls, array, name=\"no name\"):\n",
        "        obj = np.asarray(array).view(cls)\n",
        "        obj.name = name\n",
        "        return obj\n",
        "    def __array_finalize__(self, obj):\n",
        "        if obj is None: return\n",
        "        self.info = getattr(obj, 'name', \"no name\")\n",
        "\n",
        "x = NamedArray(np.arange(10), \"range_10\")\n",
        "print (x.name)"
      ]
    },
    {
      "cell_type": "markdown",
      "metadata": {
        "id": "Yhr1PAozbYvG"
      },
      "source": [
        "#### 64. Consider a given vector, how to add 1 to each element indexed by a second vector (be careful with repeated indices)? (★★★) \n",
        "(**hint**: np.bincount | np.add.at)"
      ]
    },
    {
      "cell_type": "code",
      "execution_count": 112,
      "metadata": {
        "colab": {
          "base_uri": "https://localhost:8080/"
        },
        "id": "PWd-uLUabYvH",
        "outputId": "66c0ada0-2d20-4e2f-c017-944a0e15b531"
      },
      "outputs": [
        {
          "output_type": "stream",
          "name": "stdout",
          "text": [
            "[1. 4. 3. 4. 1. 4. 3. 5. 3. 2.]\n",
            "[1. 7. 5. 7. 1. 7. 5. 9. 5. 3.]\n"
          ]
        }
      ],
      "source": [
        "x = np.ones(10)\n",
        "y = np.random.randint(0,len(x),20)\n",
        "x += np.bincount(y, minlength=len(x))\n",
        "print(x)\n",
        "\n",
        "np.add.at(x, y, 1)\n",
        "print(x)"
      ]
    },
    {
      "cell_type": "markdown",
      "metadata": {
        "id": "26oqX_SNbYvH"
      },
      "source": [
        "#### 65. How to accumulate elements of a vector (X) to an array (F) based on an index list (I)? (★★★) \n",
        "(**hint**: np.bincount)"
      ]
    },
    {
      "cell_type": "code",
      "execution_count": 113,
      "metadata": {
        "colab": {
          "base_uri": "https://localhost:8080/"
        },
        "id": "o8SnWtDtbYvI",
        "outputId": "75810983-fe02-4704-ec11-9416ddef5546"
      },
      "outputs": [
        {
          "output_type": "stream",
          "name": "stdout",
          "text": [
            "[0. 7. 0. 2. 0. 3. 0. 4. 0. 5.]\n"
          ]
        }
      ],
      "source": [
        "x = [1,2,3,4,5,6]\n",
        "y = [1,3,5,7,9,1]\n",
        "z = np.bincount(y,x)\n",
        "print(z)"
      ]
    },
    {
      "cell_type": "markdown",
      "metadata": {
        "id": "eqkUCVLPbYvL"
      },
      "source": [
        "#### 66. Considering a (w,h,3) image of (dtype=ubyte), compute the number of unique colors (★★★) \n",
        "(**hint**: np.unique)"
      ]
    },
    {
      "cell_type": "code",
      "execution_count": 114,
      "metadata": {
        "colab": {
          "base_uri": "https://localhost:8080/"
        },
        "id": "zat3pfpmbYvN",
        "outputId": "28cbb18b-9657-4015-b2ff-9594351c2d19"
      },
      "outputs": [
        {
          "output_type": "stream",
          "name": "stdout",
          "text": [
            "64\n"
          ]
        }
      ],
      "source": [
        "w, h = 144, 144\n",
        "I = np.random.randint(0, 4, (h, w, 3)).astype(np.ubyte)\n",
        "colors = np.unique(I.reshape(-1, 3), axis=0)\n",
        "n = len(colors)\n",
        "print(n)"
      ]
    },
    {
      "cell_type": "markdown",
      "metadata": {
        "id": "ikLg73yTbYvN"
      },
      "source": [
        "#### 67. Considering a four dimensions array, how to get sum over the last two axis at once? (★★★) \n",
        "(**hint**: sum(axis=(-2,-1)))"
      ]
    },
    {
      "cell_type": "code",
      "execution_count": 115,
      "metadata": {
        "colab": {
          "base_uri": "https://localhost:8080/"
        },
        "id": "G99qkpOVbYvO",
        "outputId": "96164db8-3797-4363-8d99-f95f0b9e3e41"
      },
      "outputs": [
        {
          "output_type": "stream",
          "name": "stdout",
          "text": [
            "[[48 36 76 43]\n",
            " [57 59 52 35]\n",
            " [53 65 50 58]]\n"
          ]
        }
      ],
      "source": [
        "a = np.random.randint(0,10,(3,4,3,4))\n",
        "sum = a.reshape(a.shape[:-2] + (-1,)).sum(axis=-1)\n",
        "print(sum)"
      ]
    },
    {
      "cell_type": "markdown",
      "metadata": {
        "id": "Fi63xGK6bYvO"
      },
      "source": [
        "#### 68. Considering a one-dimensional vector D, how to compute means of subsets of D using a vector S of same size describing subset  indices? (★★★) \n",
        "(**hint**: np.bincount)"
      ]
    },
    {
      "cell_type": "code",
      "execution_count": 116,
      "metadata": {
        "colab": {
          "base_uri": "https://localhost:8080/"
        },
        "id": "mW988ybEbYvP",
        "outputId": "4fa3bcf7-ada2-4211-8ca2-c0ff7ab1728e"
      },
      "outputs": [
        {
          "output_type": "stream",
          "name": "stdout",
          "text": [
            "[0.52831472 0.34743603 0.93883249 0.64345721 0.49832848 0.71376219 0.52666614 0.92255029 0.37571713 0.47099868]\n"
          ]
        }
      ],
      "source": [
        "D = np.random.uniform(0,1,50)\n",
        "S = np.random.randint(0,10,50)\n",
        "D_sums = np.bincount(S, weights=D)\n",
        "D_counts = np.bincount(S)\n",
        "D_means = D_sums / D_counts\n",
        "print(D_means)"
      ]
    },
    {
      "cell_type": "markdown",
      "metadata": {
        "id": "zHQfoGaZbYvQ"
      },
      "source": [
        "#### 69. How to get the diagonal of a dot product? (★★★) \n",
        "(**hint**: np.diag)"
      ]
    },
    {
      "cell_type": "code",
      "execution_count": 117,
      "metadata": {
        "colab": {
          "base_uri": "https://localhost:8080/"
        },
        "id": "zy-S_GXobYvQ",
        "outputId": "d358174a-b622-4f49-dad0-612b837e616a"
      },
      "outputs": [
        {
          "output_type": "execute_result",
          "data": {
            "text/plain": [
              "array([1.50691414, 1.42107382, 0.73601822, 0.66320484, 0.87359425])"
            ]
          },
          "metadata": {},
          "execution_count": 117
        }
      ],
      "source": [
        "X = np.random.uniform(0,1,(5,5))\n",
        "Y = np.random.uniform(0,1,(5,5))\n",
        "\n",
        "np.diag(np.dot(X, Y))"
      ]
    },
    {
      "cell_type": "markdown",
      "metadata": {
        "id": "tNH3sYPxbYvQ"
      },
      "source": [
        "#### 70. Consider the vector \\[1, 2, 3, 4, 5\\], how to build a new vector with 3 consecutive zeros interleaved between each value? (★★★) \n",
        "(**hint**: array\\[::4\\])"
      ]
    },
    {
      "cell_type": "code",
      "execution_count": 118,
      "metadata": {
        "colab": {
          "base_uri": "https://localhost:8080/"
        },
        "id": "q0l0UUUjbYvR",
        "outputId": "15a3e2eb-02c3-445f-c7a7-4f2423d0f434"
      },
      "outputs": [
        {
          "output_type": "stream",
          "name": "stdout",
          "text": [
            "[1. 0. 0. 0. 2. 0. 0. 0. 3. 0. 0. 0. 4. 0. 0. 0. 5.]\n"
          ]
        }
      ],
      "source": [
        "x = np.array([1,2,3,4,5])\n",
        "y = 3\n",
        "z = np.zeros(len(x) + (len(x)-1)*(y))\n",
        "z[::4] = x\n",
        "print(z)"
      ]
    },
    {
      "cell_type": "markdown",
      "metadata": {
        "id": "njtNJlnkbYvS"
      },
      "source": [
        "#### 71. Consider an array of dimension (5,5,3), how to mulitply it by an array with dimensions (5,5)? (★★★) \n",
        "(**hint**: array\\[:, :, None\\])"
      ]
    },
    {
      "cell_type": "code",
      "execution_count": 119,
      "metadata": {
        "collapsed": true,
        "colab": {
          "base_uri": "https://localhost:8080/"
        },
        "id": "0u1NEhLAbYvS",
        "outputId": "90d27f93-43a9-40fb-de69-7dbecf1daf6d"
      },
      "outputs": [
        {
          "output_type": "stream",
          "name": "stdout",
          "text": [
            "[[[2. 2. 2.]\n",
            "  [2. 2. 2.]\n",
            "  [2. 2. 2.]\n",
            "  [2. 2. 2.]\n",
            "  [2. 2. 2.]]\n",
            "\n",
            " [[2. 2. 2.]\n",
            "  [2. 2. 2.]\n",
            "  [2. 2. 2.]\n",
            "  [2. 2. 2.]\n",
            "  [2. 2. 2.]]\n",
            "\n",
            " [[2. 2. 2.]\n",
            "  [2. 2. 2.]\n",
            "  [2. 2. 2.]\n",
            "  [2. 2. 2.]\n",
            "  [2. 2. 2.]]\n",
            "\n",
            " [[2. 2. 2.]\n",
            "  [2. 2. 2.]\n",
            "  [2. 2. 2.]\n",
            "  [2. 2. 2.]\n",
            "  [2. 2. 2.]]\n",
            "\n",
            " [[2. 2. 2.]\n",
            "  [2. 2. 2.]\n",
            "  [2. 2. 2.]\n",
            "  [2. 2. 2.]\n",
            "  [2. 2. 2.]]]\n"
          ]
        }
      ],
      "source": [
        "a = np.ones((5,5,3))\n",
        "b = 2*np.ones((5,5))\n",
        "print(a * b[:,:,None])"
      ]
    },
    {
      "cell_type": "markdown",
      "metadata": {
        "id": "CrWsSdYmbYvT"
      },
      "source": [
        "#### 72. How to swap two rows of an array? (★★★) \n",
        "(**hint**: array\\[\\[\\]\\] = array\\[\\[\\]\\])"
      ]
    },
    {
      "cell_type": "code",
      "execution_count": 121,
      "metadata": {
        "colab": {
          "base_uri": "https://localhost:8080/"
        },
        "id": "oBGB8bsVbYvU",
        "outputId": "ccecd76c-f7f7-44a7-d365-b8ea8341ecaf"
      },
      "outputs": [
        {
          "output_type": "stream",
          "name": "stdout",
          "text": [
            "[[ 5  6  7  8  9]\n",
            " [ 0  1  2  3  4]\n",
            " [10 11 12 13 14]\n",
            " [15 16 17 18 19]\n",
            " [20 21 22 23 24]]\n"
          ]
        }
      ],
      "source": [
        "a = np.arange(25).reshape(5,5)\n",
        "a[[0,1]] = a[[1,0]]\n",
        "print(a)"
      ]
    },
    {
      "cell_type": "markdown",
      "metadata": {
        "id": "jpFL-lHGbYvU"
      },
      "source": [
        "#### 73. Consider a set of 10 triplets describing 10 triangles (with shared vertices), find the set of unique line segments composing all the  triangles (★★★) \n",
        "(**hint**: repeat, np.roll, np.sort, view, np.unique)"
      ]
    },
    {
      "cell_type": "code",
      "execution_count": 122,
      "metadata": {
        "colab": {
          "base_uri": "https://localhost:8080/"
        },
        "id": "GfF0XZKQbYvV",
        "outputId": "8256e47a-3cf9-4dc8-c9f1-0817d734dbbc"
      },
      "outputs": [
        {
          "output_type": "stream",
          "name": "stdout",
          "text": [
            "[( 1, 69) ( 1, 89) (11, 20) (11, 67) (13, 16) (13, 90) (15, 27) (15, 55) (15, 67) (15, 75) (16, 90) (18, 24) (18, 32) (18, 35) (18, 78) (20, 67) (23, 26) (23, 84) (24, 78) (26, 84) (27, 67) (32, 35) (40, 54) (40, 93) (54, 56) (54, 93) (55, 75) (56, 93) (69, 89)]\n"
          ]
        }
      ],
      "source": [
        "faces = np.random.randint(0,100,(10,3))\n",
        "F = np.roll(faces.repeat(2,axis=1),-1,axis=1)\n",
        "F = F.reshape(len(F)*3,2)\n",
        "F = np.sort(F,axis=1)\n",
        "G = F.view( dtype=[('p0',F.dtype),('p1',F.dtype)] )\n",
        "G = np.unique(G)\n",
        "print(G)"
      ]
    },
    {
      "cell_type": "markdown",
      "metadata": {
        "id": "vonH7BREbYvV"
      },
      "source": [
        "#### 74. Given an array C that is a bincount, how to produce an array A such that np.bincount(A) == C? (★★★) \n",
        "(**hint**: np.repeat)"
      ]
    },
    {
      "cell_type": "code",
      "execution_count": 124,
      "metadata": {
        "colab": {
          "base_uri": "https://localhost:8080/"
        },
        "id": "vFgDiXGUbYvV",
        "outputId": "638f6e58-c574-4982-9516-dbfe49164920"
      },
      "outputs": [
        {
          "output_type": "stream",
          "name": "stdout",
          "text": [
            "[ 1  2  4  6  9 10]\n"
          ]
        }
      ],
      "source": [
        "C = np.bincount([1,2,4,6,9,10])\n",
        "A = np.repeat(np.arange(len(C)), C)\n",
        "print(A)"
      ]
    },
    {
      "cell_type": "markdown",
      "metadata": {
        "id": "zFAd8IVYbYvW"
      },
      "source": [
        "#### 75. How to compute averages using a sliding window over an array? (★★★) \n",
        "(**hint**: np.cumsum)"
      ]
    },
    {
      "cell_type": "code",
      "execution_count": 127,
      "metadata": {
        "colab": {
          "base_uri": "https://localhost:8080/"
        },
        "id": "I6vkE9XYbYvW",
        "outputId": "882a64c0-3e95-43e2-e2ba-ccba6f4f5aa5"
      },
      "outputs": [
        {
          "output_type": "stream",
          "name": "stdout",
          "text": [
            "[ 1.  2.  3.  4.  5.  6.  7.  8.  9. 10. 11. 12. 13. 14. 15. 16. 17. 18.]\n"
          ]
        }
      ],
      "source": [
        "import numpy as np\n",
        "def moving_average(a, n=3) :\n",
        "    ret = np.cumsum(a, dtype=float)\n",
        "    ret[n:] = ret[n:] - ret[:-n]\n",
        "    return ret[n - 1:] / n\n",
        "Z = np.arange(20)\n",
        "print(moving_average(Z, n=3))"
      ]
    },
    {
      "cell_type": "markdown",
      "metadata": {
        "id": "weDrj2BybYvX"
      },
      "source": [
        "#### 76. Consider a one-dimensional array Z, build a two-dimensional array whose first row is (Z\\[0\\],Z\\[1\\],Z\\[2\\]) and each subsequent row is  shifted by 1 (last row should be (Z\\[-3\\],Z\\[-2\\],Z\\[-1\\]) (★★★) \n",
        "(**hint**: from numpy.lib import stride_tricks)"
      ]
    },
    {
      "cell_type": "code",
      "execution_count": 128,
      "metadata": {
        "colab": {
          "base_uri": "https://localhost:8080/"
        },
        "id": "yGDxYFodbYvX",
        "outputId": "d55cb3fb-7a83-4ba6-9c1d-b8dc2383c4c7"
      },
      "outputs": [
        {
          "output_type": "stream",
          "name": "stdout",
          "text": [
            "[[0 1 2]\n",
            " [1 2 3]\n",
            " [2 3 4]\n",
            " [3 4 5]\n",
            " [4 5 6]\n",
            " [5 6 7]\n",
            " [6 7 8]\n",
            " [7 8 9]]\n"
          ]
        }
      ],
      "source": [
        "from numpy.lib import stride_tricks\n",
        "\n",
        "def rolling(a, window):\n",
        "    shape = (a.size - window + 1, window)\n",
        "    strides = (a.strides[0], a.strides[0])\n",
        "    return stride_tricks.as_strided(a, shape=shape, strides=strides)\n",
        "Z = rolling(np.arange(10), 3)\n",
        "print(Z)"
      ]
    },
    {
      "cell_type": "markdown",
      "metadata": {
        "id": "DmtT2bbGbYvX"
      },
      "source": [
        "#### 77. How to negate a boolean, or to change the sign of a float inplace? (★★★) \n",
        "(**hint**: np.logical_not, np.negative)"
      ]
    },
    {
      "cell_type": "code",
      "execution_count": 129,
      "metadata": {
        "colab": {
          "base_uri": "https://localhost:8080/"
        },
        "id": "NI7-URa4bYvX",
        "outputId": "c2ab0f8f-9841-4a30-febf-e6735af10b3d"
      },
      "outputs": [
        {
          "output_type": "stream",
          "name": "stdout",
          "text": [
            "original: \n",
            "[1 0 1 0 1 0 0 0 0 1 0 1 0 0 0 1 0 0 1 1 1 1 1 0 0 1 1 0 1 0 1 1 0 0 0 1 0 0 0 0 1 1 1 0 0 0 0 1 0 0 1 0 0 0 1 0 1 1 0 1 0 1 1 0 0 0 0 0 0 1 1 0 0 1 0 1 0 0 0 1 0 0 0 1 0 0 0 1 0 1 1 1 1 0 0 0 0 1 1 0]\n",
            "Negating a boolean: \n",
            "[0 1 0 1 0 1 1 1 1 0 1 0 1 1 1 0 1 1 0 0 0 0 0 1 1 0 0 1 0 1 0 0 1 1 1 0 1 1 1 1 0 0 0 1 1 1 1 0 1 1 0 1 1 1 0 1 0 0 1 0 1 0 0 1 1 1 1 1 1 0 0 1 1 0 1 0 1 1 1 0 1 1 1 0 1 1 1 0 1 0 0 0 0 1 1 1 1 0 0 1]\n",
            "original: \n",
            "[-0.45342378  0.12440436  0.91397495 -0.16342743 -0.98698839  0.9885842  -0.35310558 -0.51675177  0.12591936 -0.70852995]\n",
            "Change the sign of float inplace: \n",
            "[ 0.45342378 -0.12440436 -0.91397495  0.16342743  0.98698839 -0.9885842   0.35310558  0.51675177 -0.12591936  0.70852995]\n"
          ]
        }
      ],
      "source": [
        "Z = np.random.randint(0,2,100)\n",
        "print ('original: ')\n",
        "print (Z)\n",
        "print('Negating a boolean: ')\n",
        "print(np.logical_not(Z, out=Z))\n",
        "\n",
        "\n",
        "Z = np.random.uniform(-1.0,1.0,10)\n",
        "print ('original: ')\n",
        "print (Z)\n",
        "print ('Change the sign of float inplace: ')\n",
        "print(np.negative(Z, out=Z))"
      ]
    },
    {
      "cell_type": "markdown",
      "metadata": {
        "id": "b0DGTzRRbYvY"
      },
      "source": [
        "#### 78. Consider 2 sets of points P0,P1 describing lines (2d) and a point p, how to compute distance from p to each line i  (P0\\[i\\],P1\\[i\\])? (★★★)"
      ]
    },
    {
      "cell_type": "code",
      "execution_count": 130,
      "metadata": {
        "colab": {
          "base_uri": "https://localhost:8080/"
        },
        "id": "i7wiDCjbbYvY",
        "outputId": "a8637208-a230-4f43-90b6-be825effcd9f"
      },
      "outputs": [
        {
          "output_type": "stream",
          "name": "stdout",
          "text": [
            "[ 2.4449227   2.95823935  8.34807982 19.53742197 13.45298084  7.49740057 17.10007781 19.23664277  1.11398526 11.92477   ]\n"
          ]
        }
      ],
      "source": [
        "def distance(P0, P1, p):\n",
        "    T = P1 - P0\n",
        "    L = (T**2).sum(axis=1)\n",
        "    U = -((P0[:,0]-p[...,0])*T[:,0] + (P0[:,1]-p[...,1])*T[:,1]) / L\n",
        "    U = U.reshape(len(U),1)\n",
        "    D = P0 + U*T - p\n",
        "    return np.sqrt((D**2).sum(axis=1))\n",
        "\n",
        "P0 = np.random.uniform(-10,10,(10,2))\n",
        "P1 = np.random.uniform(-10,10,(10,2))\n",
        "p  = np.random.uniform(-10,10,( 1,2))\n",
        "print(distance(P0, P1, p))"
      ]
    },
    {
      "cell_type": "markdown",
      "metadata": {
        "id": "5GajdsW9bYvY"
      },
      "source": [
        "#### 79. Consider 2 sets of points P0,P1 describing lines (2d) and a set of points P, how to compute distance from each point j (P\\[j\\]) to each line i (P0\\[i\\],P1\\[i\\])? (★★★)"
      ]
    },
    {
      "cell_type": "code",
      "execution_count": 134,
      "metadata": {
        "colab": {
          "base_uri": "https://localhost:8080/"
        },
        "id": "efOo_MKjbYvZ",
        "outputId": "b85dff99-0d32-4362-f2ec-29ce80984105"
      },
      "outputs": [
        {
          "output_type": "stream",
          "name": "stdout",
          "text": [
            "[[ 4.64099623  7.63518218  1.85762284  3.35427387  3.84667453  2.30079622]\n",
            " [ 0.59165506  9.32567368  7.63650618  5.46830191  5.02211584  6.44972235]\n",
            " [ 4.31233585  2.04593366  3.93735354  5.24844706  0.33637516  0.9243983 ]\n",
            " [ 4.72527746  9.80144802  1.53173172  0.96411845  0.23140216  1.32250784]\n",
            " [ 1.16345861 10.31287148  8.2933017   5.65572451  5.88577261  7.33318191]\n",
            " [ 3.52138172  0.69705471  1.84842891  0.70427811  6.23335129  4.95558065]]\n"
          ]
        }
      ],
      "source": [
        "P0 = np.random.uniform(-6, 6, (6,2))\n",
        "P1 = np.random.uniform(-6,6,(6,2))\n",
        "p = np.random.uniform(-6, 6, (6,2))\n",
        "print(np.array([distance(P0,P1,p_i) for p_i in p]))"
      ]
    },
    {
      "cell_type": "markdown",
      "metadata": {
        "id": "BCR4U1OrbYvb"
      },
      "source": [
        "#### 80. Consider an arbitrary array, write a function that extract a subpart with a fixed shape and centered on a given element (pad with a `fill` value when necessary) (★★★) \n",
        "(**hint**: minimum, maximum)"
      ]
    },
    {
      "cell_type": "code",
      "execution_count": 133,
      "metadata": {
        "colab": {
          "base_uri": "https://localhost:8080/"
        },
        "id": "y6xIJrGkbYvb",
        "outputId": "fd41593a-1be4-4cbe-a918-f5fdc915349e"
      },
      "outputs": [
        {
          "output_type": "stream",
          "name": "stdout",
          "text": [
            "[[0 2 3 0]\n",
            " [1 0 3 1]\n",
            " [1 2 2 1]\n",
            " [1 2 1 1]]\n",
            "[[0 2]\n",
            " [1 0]]\n"
          ]
        },
        {
          "output_type": "stream",
          "name": "stderr",
          "text": [
            "<ipython-input-133-5863784b11ba>:23: FutureWarning: Using a non-tuple sequence for multidimensional indexing is deprecated; use `arr[tuple(seq)]` instead of `arr[seq]`. In the future this will be interpreted as an array index, `arr[np.array(seq)]`, which will result either in an error or a different result.\n",
            "  R[r] = Z[z]\n"
          ]
        }
      ],
      "source": [
        "Z = np.random.randint(0,4,(4,4))\n",
        "shape = (2,2)\n",
        "fill  = 0\n",
        "position = (1,1)\n",
        "\n",
        "R = np.ones(shape, dtype=Z.dtype)*fill\n",
        "P  = np.array(list(position)).astype(int)\n",
        "Rs = np.array(list(R.shape)).astype(int)\n",
        "Zs = np.array(list(Z.shape)).astype(int)\n",
        "\n",
        "R_start = np.zeros((len(shape),)).astype(int)\n",
        "R_stop  = np.array(list(shape)).astype(int)\n",
        "Z_start = (P-Rs//2)\n",
        "Z_stop  = (P+Rs//2)+Rs%2\n",
        "\n",
        "R_start = (R_start - np.minimum(Z_start,0)).tolist()\n",
        "Z_start = (np.maximum(Z_start,0)).tolist()\n",
        "R_stop = np.maximum(R_start, (R_stop - np.maximum(Z_stop-Zs,0))).tolist()\n",
        "Z_stop = (np.minimum(Z_stop,Zs)).tolist()\n",
        "\n",
        "r = [slice(start,stop) for start,stop in zip(R_start,R_stop)]\n",
        "z = [slice(start,stop) for start,stop in zip(Z_start,Z_stop)]\n",
        "R[r] = Z[z]\n",
        "print(Z)\n",
        "print(R)"
      ]
    },
    {
      "cell_type": "markdown",
      "metadata": {
        "id": "KolrFmtvbYvb"
      },
      "source": [
        "#### 81. Consider an array Z = \\[1,2,3,4,5,6,7,8,9,10,11,12,13,14\\], how to generate an array R = \\[\\[1,2,3,4\\], \\[2,3,4,5\\], \\[3,4,5,6\\], ..., \\[11,12,13,14\\]\\]? (★★★) \n",
        "(**hint**: stride\\_tricks.as\\_strided)"
      ]
    },
    {
      "cell_type": "code",
      "execution_count": 135,
      "metadata": {
        "colab": {
          "base_uri": "https://localhost:8080/"
        },
        "id": "RJIWFwmSbYvc",
        "outputId": "ef1ae495-a4fc-4ee2-fa81-66cb7c6b0114"
      },
      "outputs": [
        {
          "output_type": "stream",
          "name": "stdout",
          "text": [
            "[[ 1  2  3  4]\n",
            " [ 2  3  4  5]\n",
            " [ 3  4  5  6]\n",
            " [ 4  5  6  7]\n",
            " [ 5  6  7  8]\n",
            " [ 6  7  8  9]\n",
            " [ 7  8  9 10]\n",
            " [ 8  9 10 11]\n",
            " [ 9 10 11 12]\n",
            " [10 11 12 13]\n",
            " [11 12 13 14]]\n"
          ]
        }
      ],
      "source": [
        "Z = np.arange(1,15,dtype=np.uint32)\n",
        "R = stride_tricks.as_strided(Z,(11,4),(4,4))\n",
        "print(R)"
      ]
    },
    {
      "cell_type": "markdown",
      "metadata": {
        "id": "T5PMlZ9JbYvd"
      },
      "source": [
        "#### 82. Compute a matrix rank (★★★) \n",
        "(**hint**: np.linalg.svd) (suggestion: np.linalg.svd)"
      ]
    },
    {
      "cell_type": "code",
      "execution_count": 137,
      "metadata": {
        "colab": {
          "base_uri": "https://localhost:8080/"
        },
        "id": "9XmNVw7UbYvd",
        "outputId": "2ef60b63-439f-4d7a-e847-98111ce3aed0"
      },
      "outputs": [
        {
          "output_type": "stream",
          "name": "stdout",
          "text": [
            "5\n"
          ]
        }
      ],
      "source": [
        "Z = np.random.uniform(0,1,(5,5))\n",
        "U, S, V = np.linalg.svd(Z) \n",
        "rank = np.sum(S > 1e-4)\n",
        "print(rank)"
      ]
    },
    {
      "cell_type": "markdown",
      "metadata": {
        "id": "R7wB4YxPbYvd"
      },
      "source": [
        "#### 83. How to find the most frequent value in an array? \n",
        "(**hint**: np.bincount, argmax)"
      ]
    },
    {
      "cell_type": "code",
      "execution_count": 139,
      "metadata": {
        "colab": {
          "base_uri": "https://localhost:8080/"
        },
        "id": "9JCv8FpwbYve",
        "outputId": "0c823628-1022-461d-fda8-a5b122846c4f"
      },
      "outputs": [
        {
          "output_type": "stream",
          "name": "stdout",
          "text": [
            "0\n"
          ]
        }
      ],
      "source": [
        "a = np.random.randint(0,1,5)\n",
        "print(np.bincount(a).argmax())"
      ]
    },
    {
      "cell_type": "markdown",
      "metadata": {
        "id": "UCutB5PhbYve"
      },
      "source": [
        "#### 84. Extract all the contiguous 3x3 blocks from a random 10x10 matrix (★★★) \n",
        "(**hint**: stride\\_tricks.as\\_strided)"
      ]
    },
    {
      "cell_type": "code",
      "execution_count": 151,
      "metadata": {
        "colab": {
          "base_uri": "https://localhost:8080/"
        },
        "id": "YO8Jj3QSbYvf",
        "outputId": "6ce1685b-6156-4596-dee9-328b7ac18f0a"
      },
      "outputs": [
        {
          "output_type": "stream",
          "name": "stdout",
          "text": [
            "[[[[3 2 0]\n",
            "   [0 0 2]\n",
            "   [2 0 3]]\n",
            "\n",
            "  [[2 0 1]\n",
            "   [0 2 2]\n",
            "   [0 3 1]]\n",
            "\n",
            "  [[0 1 2]\n",
            "   [2 2 1]\n",
            "   [3 1 2]]\n",
            "\n",
            "  [[1 2 2]\n",
            "   [2 1 1]\n",
            "   [1 2 3]]]\n",
            "\n",
            "\n",
            " [[[0 0 2]\n",
            "   [2 0 3]\n",
            "   [3 1 1]]\n",
            "\n",
            "  [[0 2 2]\n",
            "   [0 3 1]\n",
            "   [1 1 1]]\n",
            "\n",
            "  [[2 2 1]\n",
            "   [3 1 2]\n",
            "   [1 1 3]]\n",
            "\n",
            "  [[2 1 1]\n",
            "   [1 2 3]\n",
            "   [1 3 2]]]\n",
            "\n",
            "\n",
            " [[[2 0 3]\n",
            "   [3 1 1]\n",
            "   [4 3 4]]\n",
            "\n",
            "  [[0 3 1]\n",
            "   [1 1 1]\n",
            "   [3 4 4]]\n",
            "\n",
            "  [[3 1 2]\n",
            "   [1 1 3]\n",
            "   [4 4 1]]\n",
            "\n",
            "  [[1 2 3]\n",
            "   [1 3 2]\n",
            "   [4 1 3]]]\n",
            "\n",
            "\n",
            " [[[3 1 1]\n",
            "   [4 3 4]\n",
            "   [2 2 2]]\n",
            "\n",
            "  [[1 1 1]\n",
            "   [3 4 4]\n",
            "   [2 2 3]]\n",
            "\n",
            "  [[1 1 3]\n",
            "   [4 4 1]\n",
            "   [2 3 0]]\n",
            "\n",
            "  [[1 3 2]\n",
            "   [4 1 3]\n",
            "   [3 0 0]]]]\n"
          ]
        }
      ],
      "source": [
        "Z = np.random.randint(0,5,(6,6))\n",
        "n = 3\n",
        "i = 1 + (Z.shape[0]-3)\n",
        "j = 1 + (Z.shape[1]-3)\n",
        "C = stride_tricks.as_strided(Z, shape=(i, j, n, n), strides=Z.strides + Z.strides)\n",
        "print(C)"
      ]
    },
    {
      "cell_type": "markdown",
      "metadata": {
        "id": "9A1yFVEgbYvf"
      },
      "source": [
        "#### 85. Create a 2D array subclass such that Z\\[i,j\\] == Z\\[j,i\\] (★★★) \n",
        "(**hint**: class method)"
      ]
    },
    {
      "cell_type": "code",
      "execution_count": 152,
      "metadata": {
        "colab": {
          "base_uri": "https://localhost:8080/"
        },
        "id": "EKAJRFX3bYvg",
        "outputId": "9f805ac7-d2ce-409b-e1a7-a0bdf61f0a69"
      },
      "outputs": [
        {
          "output_type": "stream",
          "name": "stdout",
          "text": [
            "[[ 1  2 11 10  5]\n",
            " [ 2  7 15 42  6]\n",
            " [11 15  4  8 14]\n",
            " [10 42  8  5  9]\n",
            " [ 5  6 14  9  5]]\n"
          ]
        }
      ],
      "source": [
        "class Symetric(np.ndarray):\n",
        "    def __setitem__(self, index, value):\n",
        "        i,j = index\n",
        "        super(Symetric, self).__setitem__((i,j), value)\n",
        "        super(Symetric, self).__setitem__((j,i), value)\n",
        "\n",
        "def symetric(Z):\n",
        "    return np.asarray(Z + Z.T - np.diag(Z.diagonal())).view(Symetric)\n",
        "\n",
        "S = symetric(np.random.randint(0,10,(5,5)))\n",
        "S[1,3] = 42\n",
        "print(S)"
      ]
    },
    {
      "cell_type": "markdown",
      "metadata": {
        "id": "ZWLdglVMbYvg"
      },
      "source": [
        "#### 86. Consider a set of p matrices wich shape (n,n) and a set of p vectors with shape (n,1). How to compute the sum of of the p matrix products at once? (result has shape (n,1)) (★★★) \n",
        "(**hint**: np.tensordot)"
      ]
    },
    {
      "cell_type": "code",
      "execution_count": 148,
      "metadata": {
        "colab": {
          "base_uri": "https://localhost:8080/"
        },
        "id": "ooERqDU1bYvg",
        "outputId": "4e76c400-16d8-4ec2-807f-fa38be0351a5"
      },
      "outputs": [
        {
          "output_type": "stream",
          "name": "stdout",
          "text": [
            "[[200.]\n",
            " [200.]\n",
            " [200.]\n",
            " [200.]\n",
            " [200.]\n",
            " [200.]\n",
            " [200.]\n",
            " [200.]\n",
            " [200.]\n",
            " [200.]]\n"
          ]
        }
      ],
      "source": [
        "p, n = 20, 10\n",
        "M = np.ones((p,n,n))\n",
        "V = np.ones((p,n,1))\n",
        "S = np.tensordot(M, V, axes=[[0, 2], [0, 1]])\n",
        "print(S)"
      ]
    },
    {
      "cell_type": "markdown",
      "metadata": {
        "id": "HydrNuxmbYvg"
      },
      "source": [
        "#### 87. Consider a 16x16 array, how to get the block-sum (block size is 4x4)? (★★★) \n",
        "(**hint**: np.add.reduceat)"
      ]
    },
    {
      "cell_type": "code",
      "execution_count": 149,
      "metadata": {
        "colab": {
          "base_uri": "https://localhost:8080/"
        },
        "id": "Oh_R64zUbYvh",
        "outputId": "fd15ea60-093d-4410-9584-e68551c1c3c2"
      },
      "outputs": [
        {
          "output_type": "stream",
          "name": "stdout",
          "text": [
            "[[16. 16. 16. 16.]\n",
            " [16. 16. 16. 16.]\n",
            " [16. 16. 16. 16.]\n",
            " [16. 16. 16. 16.]]\n"
          ]
        }
      ],
      "source": [
        "Z = np.ones((16,16))\n",
        "k = 4\n",
        "S = np.add.reduceat(np.add.reduceat(Z, np.arange(0, Z.shape[0], k), axis=0),\n",
        "                                       np.arange(0, Z.shape[1], k), axis=1)\n",
        "print(S)"
      ]
    },
    {
      "cell_type": "markdown",
      "metadata": {
        "id": "vxbxsBm9bYvh"
      },
      "source": [
        "#### 88. How to implement the Game of Life using numpy arrays? (★★★)"
      ]
    },
    {
      "cell_type": "code",
      "execution_count": 150,
      "metadata": {
        "colab": {
          "base_uri": "https://localhost:8080/"
        },
        "id": "mNZgWC7sbYvh",
        "outputId": "82839662-1be4-408e-d46c-ca8cbf490856"
      },
      "outputs": [
        {
          "output_type": "stream",
          "name": "stdout",
          "text": [
            "[[0 0 0 0 0 0 0 0 0 0 0 0 0 0 0 0 0 0 0 0 0 0 0 0 0 0 0 0 0 0 0 0 0 0 0 0 0 0 0 0 0 0 0 0 0 0 0 0 0 0]\n",
            " [0 0 0 0 0 0 0 0 0 0 0 0 0 0 0 0 0 0 0 0 0 0 0 0 0 0 0 0 0 0 0 0 0 0 0 0 0 0 0 0 0 0 0 0 0 0 0 0 0 0]\n",
            " [0 0 0 0 0 0 0 0 0 0 0 0 0 0 0 0 0 0 0 0 0 0 0 0 0 0 0 0 0 0 0 0 0 0 0 0 0 0 0 0 0 0 0 0 0 0 0 0 0 0]\n",
            " [0 0 0 0 0 0 0 0 0 0 0 0 0 0 0 0 1 1 0 0 0 0 0 0 0 0 0 0 0 0 0 0 0 0 0 0 0 0 0 0 0 0 0 0 0 0 0 0 0 0]\n",
            " [0 0 0 0 0 0 0 0 0 0 0 0 0 0 0 0 1 1 0 0 0 0 0 0 0 0 0 0 0 0 0 0 0 0 0 0 0 0 0 0 0 0 0 0 0 0 0 0 0 0]\n",
            " [0 0 0 0 0 0 0 0 0 0 0 0 0 0 0 0 0 0 0 0 0 0 0 0 0 0 0 0 0 0 0 0 0 0 0 0 0 0 0 0 0 0 0 0 0 0 0 0 0 0]\n",
            " [0 0 0 0 1 1 0 0 1 1 0 0 0 0 0 0 0 0 0 0 0 0 0 0 0 0 0 0 0 0 0 0 0 0 0 0 0 0 0 0 0 0 0 0 0 0 0 0 0 0]\n",
            " [0 0 0 1 1 1 0 0 0 0 1 0 0 0 0 0 0 0 0 0 0 0 0 0 0 0 0 0 0 0 0 0 0 0 0 0 0 0 0 0 0 0 0 0 0 0 0 0 0 0]\n",
            " [0 0 0 0 1 1 0 0 0 0 0 0 0 0 0 0 0 0 0 0 0 0 0 0 0 0 0 0 0 0 0 0 0 0 0 0 0 0 0 0 0 0 0 0 0 0 0 0 0 0]\n",
            " [0 0 0 0 0 1 1 1 1 1 1 0 0 0 0 0 0 0 1 0 0 0 0 0 0 0 0 0 0 0 0 0 0 0 0 0 0 0 0 0 0 0 0 0 0 0 0 0 0 0]\n",
            " [0 0 0 0 0 0 1 1 1 0 0 0 0 0 0 0 0 1 0 1 0 0 0 0 0 0 0 0 0 0 0 0 0 0 0 0 0 0 0 0 0 0 0 0 0 0 0 0 0 0]\n",
            " [0 0 0 0 0 0 0 0 0 0 0 0 0 0 0 0 0 1 0 1 0 0 0 0 0 0 0 0 0 0 0 0 0 0 0 0 0 0 0 0 0 0 0 0 0 1 1 1 0 0]\n",
            " [0 0 0 0 0 0 0 0 0 0 0 0 0 0 0 0 0 0 1 0 0 0 0 0 0 0 0 0 0 0 0 0 0 0 0 0 0 0 0 0 0 0 0 0 0 0 0 0 0 0]\n",
            " [0 0 0 0 0 0 0 0 0 0 0 0 0 0 0 0 0 0 0 0 0 0 0 0 0 0 0 0 0 0 0 0 0 0 0 0 0 0 0 0 0 0 0 0 0 0 0 0 0 0]\n",
            " [0 0 0 0 0 0 0 0 0 0 0 0 0 0 0 0 0 0 0 0 0 0 0 0 0 0 0 0 0 0 0 0 0 0 0 0 0 0 0 0 0 0 0 0 0 0 0 0 0 0]\n",
            " [0 0 0 0 0 0 0 0 0 0 0 0 0 0 0 0 0 0 0 0 0 0 0 0 0 0 0 0 0 0 0 0 0 0 0 0 0 0 0 0 0 0 0 0 0 0 0 0 0 0]\n",
            " [0 0 0 0 0 0 0 0 0 0 0 0 0 0 0 0 0 0 0 0 0 0 0 0 0 0 0 0 0 0 0 0 0 0 0 0 0 0 0 0 0 0 1 1 0 0 0 0 0 0]\n",
            " [0 0 0 0 0 0 0 0 0 0 0 0 0 0 0 0 0 0 0 0 0 0 0 0 0 0 0 0 0 0 0 0 0 0 0 0 0 0 1 1 0 0 1 1 0 0 0 0 0 0]\n",
            " [0 0 0 0 0 0 0 0 0 0 0 0 0 0 0 0 0 0 0 0 0 0 0 0 0 0 0 0 0 0 0 0 0 0 0 0 0 0 1 1 0 0 0 0 0 0 0 0 0 0]\n",
            " [0 0 0 0 0 0 0 0 0 0 0 0 0 0 0 0 0 0 0 0 0 0 0 0 0 0 0 0 0 0 0 0 0 0 0 0 0 0 0 0 0 0 0 0 0 0 0 0 0 0]\n",
            " [0 0 0 0 0 0 0 0 0 0 0 0 0 0 0 0 0 0 0 0 0 0 0 0 0 0 0 0 0 0 0 0 0 0 0 0 0 0 0 0 0 0 0 0 0 0 0 0 0 0]\n",
            " [0 0 0 0 0 0 0 0 0 0 0 0 0 0 0 0 0 0 0 0 0 0 0 0 0 0 0 0 0 0 0 0 0 0 0 0 0 0 0 0 0 0 0 0 0 0 0 0 0 0]\n",
            " [0 0 0 0 0 0 0 0 0 0 0 0 0 0 0 0 0 0 0 0 0 0 0 0 0 0 0 0 0 0 0 0 0 0 0 0 0 0 0 0 0 0 0 0 0 0 0 0 0 0]\n",
            " [0 0 0 0 0 0 0 0 0 0 0 0 0 0 0 0 0 0 0 0 0 0 0 0 0 0 0 0 0 0 0 0 0 0 0 0 0 0 0 0 0 0 0 0 0 0 0 0 0 0]\n",
            " [0 0 0 0 0 0 0 0 0 0 0 1 0 0 0 0 0 0 0 0 0 0 0 0 0 0 0 0 0 0 0 0 0 0 0 0 0 0 0 0 0 0 0 0 0 0 0 0 0 0]\n",
            " [0 0 0 0 0 0 0 0 0 0 1 0 1 0 0 0 0 0 0 0 0 0 0 0 0 0 0 0 0 0 0 0 0 0 0 0 0 0 0 0 0 0 0 0 0 0 0 0 0 0]\n",
            " [0 0 0 0 0 0 0 0 0 0 1 0 1 0 0 0 0 0 0 0 0 0 0 0 0 0 0 0 0 0 0 0 0 0 0 0 0 0 0 0 0 0 0 0 0 0 0 1 1 0]\n",
            " [0 0 0 0 0 0 0 0 0 0 0 1 0 0 0 0 0 0 0 0 0 0 0 0 0 0 0 0 0 0 0 0 0 0 0 0 0 0 0 0 0 0 0 0 0 0 0 1 1 0]\n",
            " [0 0 0 0 0 0 0 0 0 0 0 0 0 0 0 0 0 0 0 0 0 0 0 0 0 0 0 0 0 0 0 0 0 0 0 0 0 0 0 0 0 0 0 0 0 0 0 0 0 0]\n",
            " [0 0 0 0 0 0 0 0 0 0 0 0 0 0 0 0 0 0 1 0 0 0 0 0 0 0 1 0 0 0 0 0 0 0 0 0 0 0 0 0 0 0 0 0 0 0 0 0 0 0]\n",
            " [0 0 0 0 0 0 0 0 0 0 0 0 0 0 0 0 0 0 1 0 0 0 0 0 0 0 1 0 0 0 0 0 0 0 0 0 0 0 0 0 0 0 0 0 0 0 0 0 0 0]\n",
            " [0 1 1 0 0 0 0 0 0 0 0 0 1 0 0 0 0 0 0 1 0 0 0 0 0 0 1 0 0 0 0 0 0 0 0 0 0 0 0 0 0 0 0 0 0 0 0 0 0 0]\n",
            " [0 1 1 0 0 0 0 0 0 0 0 1 0 1 0 0 0 0 0 0 0 0 0 0 0 0 0 0 0 0 0 0 0 0 0 0 0 0 0 0 0 0 0 0 0 0 0 0 0 0]\n",
            " [0 0 0 0 0 0 0 0 0 0 0 1 0 1 0 0 0 0 1 1 1 0 0 0 0 0 0 0 0 0 0 0 0 0 0 0 0 0 0 0 0 0 0 0 0 0 0 0 0 0]\n",
            " [0 0 0 0 0 0 0 0 0 0 0 0 1 0 0 0 0 0 0 0 1 0 0 0 0 0 0 0 0 0 0 0 0 0 0 0 0 0 0 0 0 0 0 0 0 0 0 1 1 0]\n",
            " [0 0 0 0 0 0 0 0 0 0 0 0 0 0 0 1 0 0 0 0 1 0 0 0 0 0 0 0 0 0 0 0 0 0 0 0 0 0 0 0 0 0 0 0 0 0 0 1 1 0]\n",
            " [0 0 0 0 0 0 0 0 0 0 0 0 0 0 0 1 0 1 1 0 1 0 0 0 0 0 0 0 0 0 0 0 0 0 0 0 0 0 0 0 0 0 0 0 0 0 0 0 0 0]\n",
            " [0 0 0 0 0 0 0 0 0 0 0 0 0 0 0 1 0 0 1 0 0 0 0 0 0 0 0 0 0 0 0 0 0 0 0 0 0 0 0 0 0 0 0 0 0 0 0 1 1 0]\n",
            " [0 0 0 0 0 0 0 0 0 0 0 0 0 0 0 0 0 0 0 1 0 0 1 1 0 0 0 0 0 0 0 0 0 0 0 0 0 0 0 0 0 0 0 0 0 0 0 1 1 0]\n",
            " [0 0 0 0 0 0 0 0 0 0 0 0 0 0 0 0 0 0 0 0 0 0 1 1 0 0 0 0 0 0 0 0 0 0 0 0 0 0 0 0 0 0 0 0 0 0 0 0 0 0]\n",
            " [0 0 0 0 0 0 0 0 0 0 0 0 0 0 0 0 0 0 0 1 1 0 1 0 1 0 0 0 0 0 0 0 0 0 0 0 0 0 0 0 0 0 0 0 0 0 0 0 0 0]\n",
            " [0 0 0 0 0 0 0 0 0 0 0 0 0 0 0 0 0 0 0 0 0 0 1 1 0 0 0 0 0 0 0 0 0 0 0 0 1 0 0 0 0 0 0 0 0 0 0 0 0 0]\n",
            " [0 0 0 0 0 0 0 0 0 0 0 0 0 0 0 0 0 0 0 0 1 1 1 0 0 0 0 0 0 0 0 0 0 0 0 1 0 1 0 0 0 0 0 0 0 0 0 0 0 0]\n",
            " [0 0 0 0 0 0 0 0 0 0 0 0 0 0 0 0 0 0 0 0 0 1 0 0 0 0 0 0 0 0 0 0 0 0 0 0 1 0 0 0 0 0 0 0 0 0 0 0 0 0]\n",
            " [0 0 0 0 0 0 0 0 0 0 0 0 0 0 0 0 0 0 0 0 0 0 0 0 0 0 0 0 0 0 0 0 0 0 0 0 0 0 0 0 0 0 0 0 0 0 0 0 0 0]\n",
            " [0 0 0 0 0 0 0 0 0 0 0 0 0 0 0 0 0 0 0 0 0 0 0 0 0 0 0 0 0 0 0 0 0 0 0 0 0 0 0 0 0 0 0 0 0 0 0 0 0 0]\n",
            " [0 0 0 0 0 0 0 0 0 0 0 0 0 0 0 0 0 0 0 0 0 0 0 0 0 0 0 0 0 0 0 0 0 0 0 0 0 0 0 0 0 0 0 0 0 0 0 0 0 0]\n",
            " [0 0 0 0 0 0 0 1 1 0 0 0 0 0 0 0 0 0 0 0 0 0 0 0 0 0 0 0 0 0 0 0 0 0 0 0 0 0 0 0 0 0 0 0 0 0 0 1 1 0]\n",
            " [0 0 0 0 0 0 0 1 1 0 0 0 0 0 0 0 0 0 0 0 0 0 0 0 0 0 0 0 0 0 0 0 0 0 0 0 0 0 0 0 0 0 0 0 0 0 0 1 1 0]\n",
            " [0 0 0 0 0 0 0 0 0 0 0 0 0 0 0 0 0 0 0 0 0 0 0 0 0 0 0 0 0 0 0 0 0 0 0 0 0 0 0 0 0 0 0 0 0 0 0 0 0 0]]\n"
          ]
        }
      ],
      "source": [
        "def iterate(Z):\n",
        "    # Count neighbours\n",
        "    N = (Z[0:-2,0:-2] + Z[0:-2,1:-1] + Z[0:-2,2:] +\n",
        "         Z[1:-1,0:-2]                + Z[1:-1,2:] +\n",
        "         Z[2:  ,0:-2] + Z[2:  ,1:-1] + Z[2:  ,2:])\n",
        "\n",
        "    # Apply rules\n",
        "    birth = (N==3) & (Z[1:-1,1:-1]==0)\n",
        "    survive = ((N==2) | (N==3)) & (Z[1:-1,1:-1]==1)\n",
        "    Z[...] = 0\n",
        "    Z[1:-1,1:-1][birth | survive] = 1\n",
        "    return Z\n",
        "\n",
        "Z = np.random.randint(0,2,(50,50))\n",
        "for i in range(100): Z = iterate(Z)\n",
        "print(Z)"
      ]
    },
    {
      "cell_type": "markdown",
      "metadata": {
        "id": "k-82jVZZbYvi"
      },
      "source": [
        "#### 89. How to get the n largest values of an array (★★★) \n",
        "(**hint**: np.argsort | np.argpartition)"
      ]
    },
    {
      "cell_type": "code",
      "execution_count": 153,
      "metadata": {
        "colab": {
          "base_uri": "https://localhost:8080/"
        },
        "id": "-4vXL0ImbYvi",
        "outputId": "08cd502f-1b9d-49b9-eeeb-42a8bee0eac2"
      },
      "outputs": [
        {
          "output_type": "stream",
          "name": "stdout",
          "text": [
            "[9997 9999 9998 9996]\n"
          ]
        }
      ],
      "source": [
        "x = np.arange(10000)\n",
        "np.random.shuffle(x)\n",
        "n = 4\n",
        "print (x[np.argpartition(-x,n)[:n]]) #(Z[np.argsort(Z)[-n:]])"
      ]
    },
    {
      "cell_type": "markdown",
      "metadata": {
        "id": "pIbK_S5HbYvi"
      },
      "source": [
        "#### 90. Given an arbitrary number of vectors, build the cartesian product (every combinations of every item) (★★★) \n",
        "(**hint**: np.indices)"
      ]
    },
    {
      "cell_type": "code",
      "execution_count": 155,
      "metadata": {
        "scrolled": true,
        "colab": {
          "base_uri": "https://localhost:8080/"
        },
        "id": "9ibBjE4GbYvj",
        "outputId": "9c738000-6bc6-4746-93c3-7e2499db41a2"
      },
      "outputs": [
        {
          "output_type": "stream",
          "name": "stdout",
          "text": [
            "[[ 1  4  6]\n",
            " [ 1  4  7]\n",
            " [ 1  5  6]\n",
            " [ 1  5  7]\n",
            " [11  4  6]\n",
            " [11  4  7]\n",
            " [11  5  6]\n",
            " [11  5  7]\n",
            " [21  4  6]\n",
            " [21  4  7]\n",
            " [21  5  6]\n",
            " [21  5  7]]\n"
          ]
        }
      ],
      "source": [
        "def cartesian(arrays):\n",
        "    arrays = [np.asarray(a) for a in arrays]\n",
        "    shape = (len(x) for x in arrays)\n",
        "\n",
        "    ix = np.indices(shape, dtype=int)\n",
        "    ix = ix.reshape(len(arrays), -1).T\n",
        "\n",
        "    for n, arr in enumerate(arrays):\n",
        "        ix[:, n] = arrays[n][ix[:, n]]\n",
        "\n",
        "    return ix\n",
        "\n",
        "print (cartesian(([1, 11, 21], [4, 5], [6, 7])))"
      ]
    },
    {
      "cell_type": "markdown",
      "metadata": {
        "id": "useeP1WabYvk"
      },
      "source": [
        "#### 91. How to create a record array from a regular array? (★★★) \n",
        "(**hint**: np.core.records.fromarrays)"
      ]
    },
    {
      "cell_type": "code",
      "execution_count": 157,
      "metadata": {
        "colab": {
          "base_uri": "https://localhost:8080/"
        },
        "id": "YoG38kV3bYvk",
        "outputId": "307eadbd-53e5-4010-f960-3670b9ab70ad"
      },
      "outputs": [
        {
          "output_type": "stream",
          "name": "stdout",
          "text": [
            "[(b'Hello', 2.5, 3) (b'World', 3.6, 2)]\n"
          ]
        }
      ],
      "source": [
        "Z = np.array([(\"Hello\", 2.5, 3),\n",
        "              (\"World\", 3.6, 2)])\n",
        "R = np.core.records.fromarrays(Z.T,\n",
        "                               names='col1, col2, col3',\n",
        "                               formats = 'S8, f8, i8')\n",
        "print(R)"
      ]
    },
    {
      "cell_type": "markdown",
      "metadata": {
        "id": "u9Jd5xKVbYvk"
      },
      "source": [
        "#### 92. Consider a large vector Z, compute Z to the power of 3 using 3 different methods (★★★) \n",
        "(**hint**: np.power, \\*, np.einsum)"
      ]
    },
    {
      "cell_type": "code",
      "execution_count": 93,
      "metadata": {
        "id": "3OTFwCktbYvk"
      },
      "outputs": [],
      "source": []
    },
    {
      "cell_type": "markdown",
      "metadata": {
        "id": "q4UyNG_JbYvl"
      },
      "source": [
        "#### 93. Consider two arrays A and B of shape (8,3) and (2,2). How to find rows of A that contain elements of each row of B regardless of the order of the elements in B? (★★★) \n",
        "(**hint**: np.where)"
      ]
    },
    {
      "cell_type": "code",
      "execution_count": 158,
      "metadata": {
        "colab": {
          "base_uri": "https://localhost:8080/"
        },
        "id": "4rjjJlTQbYvl",
        "outputId": "b4ad801e-8f9b-478b-dba5-a33435a23406"
      },
      "outputs": [
        {
          "output_type": "stream",
          "name": "stdout",
          "text": [
            "[3 4 5 7]\n"
          ]
        }
      ],
      "source": [
        "A = np.random.randint(0,5,(8,3))\n",
        "B = np.random.randint(0,5,(2,2))\n",
        "\n",
        "C = (A[..., np.newaxis, np.newaxis] == B)\n",
        "rows = np.where(C.any((3,1)).all(1))[0]\n",
        "print(rows)"
      ]
    },
    {
      "cell_type": "markdown",
      "metadata": {
        "id": "_gDixoycbYvl"
      },
      "source": [
        "#### 94. Considering a 10x3 matrix, extract rows with unequal values (e.g. \\[2,2,3\\]) (★★★)"
      ]
    },
    {
      "cell_type": "code",
      "execution_count": 159,
      "metadata": {
        "colab": {
          "base_uri": "https://localhost:8080/"
        },
        "id": "puZY6RTSbYvm",
        "outputId": "e5bf6548-0dca-45be-e34e-00d707554714"
      },
      "outputs": [
        {
          "output_type": "stream",
          "name": "stdout",
          "text": [
            "[[2 3 1]\n",
            " [2 3 0]\n",
            " [0 4 1]\n",
            " [4 1 2]\n",
            " [3 2 4]\n",
            " [4 1 1]\n",
            " [3 0 0]\n",
            " [1 0 4]\n",
            " [3 4 1]\n",
            " [2 0 1]]\n",
            "[[2 3 1]\n",
            " [2 3 0]\n",
            " [0 4 1]\n",
            " [4 1 2]\n",
            " [3 2 4]\n",
            " [4 1 1]\n",
            " [3 0 0]\n",
            " [1 0 4]\n",
            " [3 4 1]\n",
            " [2 0 1]]\n",
            "[[2 3 1]\n",
            " [2 3 0]\n",
            " [0 4 1]\n",
            " [4 1 2]\n",
            " [3 2 4]\n",
            " [4 1 1]\n",
            " [3 0 0]\n",
            " [1 0 4]\n",
            " [3 4 1]\n",
            " [2 0 1]]\n"
          ]
        }
      ],
      "source": [
        "Z = np.random.randint(0,5,(10,3))\n",
        "print(Z)\n",
        "# solution for arrays of all dtypes (including string arrays and record arrays)\n",
        "E = np.all(Z[:,1:] == Z[:,:-1], axis=1)\n",
        "U = Z[~E]\n",
        "print(U)\n",
        "# soluiton for numerical arrays only, will work for any number of columns in Z\n",
        "U = Z[Z.max(axis=1) != Z.min(axis=1),:]\n",
        "print(U)"
      ]
    },
    {
      "cell_type": "markdown",
      "metadata": {
        "id": "EbNhwLkBbYvm"
      },
      "source": [
        "#### 95. Convert a vector of ints into a matrix binary representation (★★★) \n",
        "(**hint**: np.unpackbits)"
      ]
    },
    {
      "cell_type": "code",
      "execution_count": 160,
      "metadata": {
        "colab": {
          "base_uri": "https://localhost:8080/"
        },
        "id": "E34iXS2CbYvn",
        "outputId": "fcb4e7b1-f802-466a-ffdf-aa4aa39dee9c"
      },
      "outputs": [
        {
          "output_type": "stream",
          "name": "stdout",
          "text": [
            "[[0 0 0 0 0 0 0 0]\n",
            " [0 0 0 0 0 0 0 1]\n",
            " [0 0 0 0 0 0 1 0]\n",
            " [0 0 0 0 0 0 1 1]\n",
            " [0 0 0 0 1 1 1 1]\n",
            " [0 0 0 1 0 0 0 0]\n",
            " [0 0 1 0 0 0 0 0]\n",
            " [0 1 0 0 0 0 0 0]\n",
            " [1 0 0 0 0 0 0 0]]\n"
          ]
        }
      ],
      "source": [
        "I = np.array([0, 1, 2, 3, 15, 16, 32, 64, 128])\n",
        "B = ((I.reshape(-1,1) & (2**np.arange(8))) != 0).astype(int)\n",
        "print(B[:,::-1])"
      ]
    },
    {
      "cell_type": "markdown",
      "metadata": {
        "id": "NVQfgZPrbYvn"
      },
      "source": [
        "#### 96. Given a two dimensional array, how to extract unique rows? (★★★) \n",
        "(**hint**: np.ascontiguousarray)"
      ]
    },
    {
      "cell_type": "code",
      "execution_count": 161,
      "metadata": {
        "colab": {
          "base_uri": "https://localhost:8080/"
        },
        "id": "dcZNMqd9bYvn",
        "outputId": "06f70d79-13ea-49e3-b378-221257a5d676"
      },
      "outputs": [
        {
          "output_type": "stream",
          "name": "stdout",
          "text": [
            "[[0 0 1]\n",
            " [0 1 0]\n",
            " [1 0 0]]\n"
          ]
        }
      ],
      "source": [
        "Z = np.random.randint(0,2,(6,3))\n",
        "T = np.ascontiguousarray(Z).view(np.dtype((np.void, Z.dtype.itemsize * Z.shape[1])))\n",
        "_, idx = np.unique(T, return_index=True)\n",
        "uZ = Z[idx]\n",
        "print(uZ)"
      ]
    },
    {
      "cell_type": "markdown",
      "metadata": {
        "id": "vhIiRq6XbYvo"
      },
      "source": [
        "#### 97. Considering 2 vectors A & B, write the einsum equivalent of inner, outer, sum, and mul function (★★★) \n",
        "(**hint**: np.einsum)"
      ]
    },
    {
      "cell_type": "code",
      "execution_count": 164,
      "metadata": {
        "colab": {
          "base_uri": "https://localhost:8080/"
        },
        "id": "cEvin0xabYvo",
        "outputId": "bd39a33c-736c-49c7-a7bd-5cdddd287fb5"
      },
      "outputs": [
        {
          "output_type": "execute_result",
          "data": {
            "text/plain": [
              "array([[0.46681508, 0.20732933, 0.44789791, 0.47893292, 0.39594291, 0.24932071],\n",
              "       [0.57731182, 0.25640489, 0.55391688, 0.59229798, 0.48966396, 0.30833578],\n",
              "       [0.6521162 , 0.2896282 , 0.62568989, 0.66904417, 0.55311149, 0.34828796],\n",
              "       [0.88844473, 0.39459018, 0.85244146, 0.91150744, 0.75356047, 0.47450838],\n",
              "       [0.33759869, 0.14993969, 0.32391786, 0.34636225, 0.28634423, 0.18030768],\n",
              "       [0.09162374, 0.04069339, 0.08791079, 0.09400216, 0.07771337, 0.04893522]])"
            ]
          },
          "metadata": {},
          "execution_count": 164
        }
      ],
      "source": [
        "m = np.random.uniform(0,1,6)\n",
        "n = np.random.uniform(0,1,6)\n",
        "\n",
        "np.einsum('i->', m)           # np.sum(m)\n",
        "np.einsum('i,i->i', m, n)     # m * n\n",
        "np.einsum('i,i', m, n)        # np.inner(m, n)\n",
        "np.einsum('i,j->ij', m, n)    # np.outer(m, n)"
      ]
    },
    {
      "cell_type": "markdown",
      "metadata": {
        "id": "Fmq61uX2bYvo"
      },
      "source": [
        "#### 98. Considering a path described by two vectors (X,Y), how to sample it using equidistant samples (★★★)? \n",
        "(**hint**: np.cumsum, np.interp)"
      ]
    },
    {
      "cell_type": "code",
      "execution_count": 165,
      "metadata": {
        "collapsed": true,
        "id": "HKyD09_rbYvo"
      },
      "outputs": [],
      "source": [
        "phi = np.arange(0, 10*np.pi, 0.1)\n",
        "a = 1\n",
        "x = a*phi*np.cos(phi)\n",
        "y = a*phi*np.sin(phi)\n",
        "\n",
        "dr = (np.diff(x)**2 + np.diff(y)**2)**.5 # segment lengths\n",
        "r = np.zeros_like(x)\n",
        "r[1:] = np.cumsum(dr)                # integrate path\n",
        "r_int = np.linspace(0, r.max(), 200) # regular spaced path\n",
        "x_int = np.interp(r_int, r, x)       # integrate path\n",
        "y_int = np.interp(r_int, r, y)"
      ]
    },
    {
      "cell_type": "markdown",
      "metadata": {
        "id": "-bhTjQXkbYvp"
      },
      "source": [
        "#### 99. Given an integer n and a 2D array X, select from X the rows which can be interpreted as draws from a multinomial distribution with n degrees, i.e., the rows which only contain integers and which sum to n. (★★★) \n",
        "(**hint**: np.logical\\_and.reduce, np.mod)"
      ]
    },
    {
      "cell_type": "code",
      "execution_count": 166,
      "metadata": {
        "colab": {
          "base_uri": "https://localhost:8080/"
        },
        "id": "gmky-hSkbYvp",
        "outputId": "8c1fdd13-199c-4b57-ddcc-cc9423ac6b8d"
      },
      "outputs": [
        {
          "output_type": "stream",
          "name": "stdout",
          "text": [
            "[[2. 0. 1. 1.]]\n"
          ]
        }
      ],
      "source": [
        "X = np.asarray([[1.0, 0.0, 3.0, 8.0],\n",
        "                [2.0, 0.0, 1.0, 1.0],\n",
        "                [1.5, 2.5, 1.0, 0.0]])\n",
        "n = 4\n",
        "M = np.logical_and.reduce(np.mod(X, 1) == 0, axis=-1)\n",
        "M &= (X.sum(axis=-1) == n)\n",
        "print(X[M])"
      ]
    },
    {
      "cell_type": "markdown",
      "metadata": {
        "id": "6KfQpfZCbYvp"
      },
      "source": [
        "#### 100. Compute bootstrapped 95% confidence intervals for the mean of a 1D array X (i.e., resample the elements of an array with replacement N times, compute the mean of each sample, and then compute percentiles over the means). (★★★) \n",
        "(**hint**: np.percentile)"
      ]
    },
    {
      "cell_type": "code",
      "execution_count": 168,
      "metadata": {
        "colab": {
          "base_uri": "https://localhost:8080/"
        },
        "id": "JukSxi7LbYvp",
        "outputId": "37365813-e0e8-419a-b582-e8f8cc736902"
      },
      "outputs": [
        {
          "output_type": "stream",
          "name": "stdout",
          "text": [
            "[-0.24600197  0.2116081 ]\n"
          ]
        }
      ],
      "source": [
        "X = np.random.randn(100) # random 1D array\n",
        "N = 1000 # number of bootstrap samples\n",
        "idx = np.random.randint(0, X.size, (N, X.size))\n",
        "means = X[idx].mean(axis=1)\n",
        "confint = np.percentile(means, [2.5, 97.5])\n",
        "print(confint)"
      ]
    }
  ],
  "metadata": {
    "kernelspec": {
      "display_name": "Python 3",
      "language": "python",
      "name": "python3"
    },
    "language_info": {
      "codemirror_mode": {
        "name": "ipython",
        "version": 3
      },
      "file_extension": ".py",
      "mimetype": "text/x-python",
      "name": "python",
      "nbconvert_exporter": "python",
      "pygments_lexer": "ipython3",
      "version": "3.8.3"
    },
    "colab": {
      "provenance": []
    }
  },
  "nbformat": 4,
  "nbformat_minor": 0
}